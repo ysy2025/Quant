{
 "cells": [
  {
   "cell_type": "code",
   "execution_count": 1,
   "metadata": {},
   "outputs": [],
   "source": [
    "import numpy as np\n",
    "import scipy.stats as stats\n",
    "import scipy.optimize as opt"
   ]
  },
  {
   "cell_type": "code",
   "execution_count": 2,
   "metadata": {},
   "outputs": [
    {
     "data": {
      "text/plain": [
       "array([0.00799052, 0.96879882, 0.9657342 , 0.13585039, 0.74493787,\n",
       "       0.2300573 , 0.07872845, 0.37811787, 0.68701066, 0.0268473 ])"
      ]
     },
     "execution_count": 2,
     "metadata": {},
     "output_type": "execute_result"
    }
   ],
   "source": [
    "rv_unif = stats.uniform.rvs(size = 10)\n",
    "rv_unif"
   ]
  },
  {
   "cell_type": "code",
   "execution_count": 3,
   "metadata": {
    "scrolled": true
   },
   "outputs": [
    {
     "data": {
      "text/plain": [
       "array([0.43194722, 0.78087186, 0.85903357, 0.88344811, 0.89724661,\n",
       "       0.13652592, 0.77214159, 0.68723883, 0.68957703, 0.56551681])"
      ]
     },
     "execution_count": 3,
     "metadata": {},
     "output_type": "execute_result"
    }
   ],
   "source": [
    "# 这里的a和b是beta函数中的参数\n",
    "rv_beta = stats.beta.rvs(size = 10, a = 4, b = 2)\n",
    "rv_beta"
   ]
  },
  {
   "cell_type": "code",
   "execution_count": 10,
   "metadata": {
    "scrolled": true
   },
   "outputs": [
    {
     "data": {
      "text/plain": [
       "array([0.10611622, 0.41323752, 0.18251284, 0.11845887, 0.13177617,\n",
       "       0.30332205, 0.14895052, 0.11094247, 0.13184648, 0.51039478])"
      ]
     },
     "execution_count": 10,
     "metadata": {},
     "output_type": "execute_result"
    }
   ],
   "source": [
    "rv_beta = stats.beta.rvs(size = 10, a = 1, b = 2)\n",
    "rv_beta"
   ]
  },
  {
   "cell_type": "code",
   "execution_count": 11,
   "metadata": {},
   "outputs": [
    {
     "data": {
      "text/plain": [
       "array([ 2.79098788e+00,  1.03937034e+00,  1.72352690e-01, -1.58301614e+00,\n",
       "        9.18996818e-01, -2.22749050e+00,  7.70609579e-01,  1.50791809e+00,\n",
       "       -5.09164349e-01, -8.46005015e-01,  2.74443956e+00,  2.60847685e-01,\n",
       "        1.02980237e+00, -9.40505138e-01, -1.22283568e+00,  1.42923987e+00,\n",
       "        2.52929311e+00,  3.31566834e+00,  1.22269229e+00,  2.12514481e+00,\n",
       "        1.33511193e+00, -1.92049792e+00,  3.05642652e+00,  3.09131372e-01,\n",
       "        7.30390334e-02,  2.86321523e+00, -2.04682358e+00,  1.10465327e+00,\n",
       "        2.30471230e+00,  3.50631682e-01,  1.32306301e+00,  6.72915421e-01,\n",
       "       -5.18413629e+00,  2.44079267e+00, -5.18474893e-01, -3.73449181e+00,\n",
       "       -1.77535479e-01, -8.59385906e-01,  4.32808322e+00,  8.12095259e-01,\n",
       "       -2.02082920e+00, -4.29890108e-02, -9.54291895e-01, -2.00505786e-01,\n",
       "        1.93765843e+00, -3.85985643e+00,  5.89333936e-02,  3.28023159e+00,\n",
       "        1.74138119e+00,  7.75306842e-01, -2.67764900e+00, -1.27801117e+00,\n",
       "       -8.74658924e-02,  4.10962279e-01,  1.03848567e+00,  7.49183542e-01,\n",
       "        2.85001292e+00, -1.56149863e+00,  9.78986270e-01,  2.19958750e+00,\n",
       "        1.25449892e-01, -2.20332795e+00,  1.30518054e+00,  3.06416403e+00,\n",
       "       -1.58897294e+00, -1.17467276e+00,  1.47056556e+00, -2.47419883e+00,\n",
       "        8.52549472e-01, -3.09329073e-03,  2.52826549e+00, -4.80742864e-01,\n",
       "        3.44529887e+00,  1.16025938e+00,  2.37144128e-01, -1.72207131e-01,\n",
       "        2.47762126e+00,  8.59176820e-01, -3.93400553e-01, -6.04077512e-01,\n",
       "        1.07462015e-01,  1.53210036e+00,  4.22587348e+00, -1.24229643e-01,\n",
       "       -4.60233681e-01, -2.16226500e+00, -2.28191722e+00, -1.07947756e+00,\n",
       "        3.25989565e+00,  1.29816177e+00,  2.14078089e+00,  3.01418915e+00,\n",
       "       -1.84338833e+00, -2.69027946e+00,  9.31556719e-01,  6.34326067e-01,\n",
       "       -2.69382374e+00, -6.57514180e-01,  1.32703498e+00, -2.79943084e+00,\n",
       "       -5.51750808e-01,  1.66882087e+00,  6.17800323e-02,  6.00951460e-01,\n",
       "        2.11422169e+00,  8.17550256e-01,  7.34209038e-01,  5.24630713e-01,\n",
       "       -4.91818411e+00, -1.81528530e+00, -8.31872041e-01,  8.24452107e-01,\n",
       "       -1.55282015e+00,  4.66903576e-01,  7.51787864e-02, -2.99804692e-01,\n",
       "        1.95012600e+00,  1.98914886e+00, -9.60091179e-01,  7.33000815e-01,\n",
       "       -1.82449373e+00,  5.66331103e-01,  1.77357622e+00, -2.33764758e+00,\n",
       "       -1.85411546e+00, -2.51249464e+00,  9.99150971e-01,  6.97725569e-01,\n",
       "        1.88301492e-01,  2.52454215e+00,  2.54479477e+00,  4.86177814e-01,\n",
       "        8.42271198e-01,  1.86685072e+00,  6.57994849e-01,  1.54850396e+00,\n",
       "        2.28975952e+00,  2.27615640e+00, -1.76605037e-01,  3.17959944e+00,\n",
       "        3.64373079e+00,  7.65867464e-01, -5.12554993e-01, -1.92919455e+00,\n",
       "        2.77186944e+00, -7.89967898e-01,  2.65402424e-01,  2.06129796e+00,\n",
       "       -5.39970289e-01,  1.87051051e+00,  5.14733644e-02, -1.77743266e+00,\n",
       "        3.31014442e+00, -1.52859278e+00, -7.16869711e-01,  2.00890574e+00,\n",
       "        1.05143935e+00, -3.84903609e+00, -1.67145334e-01, -7.63918381e-01,\n",
       "        1.37461387e+00,  1.62123865e+00,  2.08382670e+00, -5.48067361e-01,\n",
       "        1.67041292e-01,  3.83277769e+00,  3.73871752e-03, -1.85383812e-01,\n",
       "       -1.89391796e+00,  1.76319978e+00, -3.23423215e+00,  2.20095491e+00,\n",
       "        5.40106581e-02,  1.60632498e+00, -1.07573005e+00,  1.60034503e+00,\n",
       "        2.86569365e+00,  1.64385435e+00,  4.09638589e+00, -1.11204016e+00,\n",
       "        6.32809224e-01,  1.93066581e+00,  1.27692337e+00,  2.00929794e+00,\n",
       "       -1.43181895e+00,  1.85999557e+00,  1.48672700e+00,  2.57343957e+00,\n",
       "       -4.54974980e-01, -8.14596958e-01, -1.08905532e-01, -1.60469241e+00,\n",
       "        2.17022138e-01, -2.91561957e+00, -5.84629963e-01,  1.76645396e+00,\n",
       "        1.15155472e+00, -2.96187386e+00,  3.50870939e+00, -4.41007893e-01])"
      ]
     },
     "execution_count": 11,
     "metadata": {},
     "output_type": "execute_result"
    }
   ],
   "source": [
    "norm_dist = stats.norm(loc = 0.5, scale = 2)\n",
    "n = 200\n",
    "data = norm_dist.rvs(size = n)\n",
    "data"
   ]
  },
  {
   "cell_type": "code",
   "execution_count": 12,
   "metadata": {},
   "outputs": [
    {
     "name": "stdout",
     "output_type": "stream",
     "text": [
      "0.39530962471988956 1.8264106785995375 0.5454809081814961\n"
     ]
    }
   ],
   "source": [
    "print(np.mean(data), np.std(data), np.median(data))"
   ]
  },
  {
   "cell_type": "code",
   "execution_count": 13,
   "metadata": {},
   "outputs": [
    {
     "name": "stdout",
     "output_type": "stream",
     "text": [
      "0.04173112745927843 0.8770283757202693\n"
     ]
    }
   ],
   "source": [
    "mu = np.mean(data)\n",
    "sigma = np.std(data)\n",
    "stat_val, p_val = stats.kstest(data, 'norm', (mu, sigma))\n",
    "print(stat_val, p_val)"
   ]
  },
  {
   "cell_type": "code",
   "execution_count": 14,
   "metadata": {},
   "outputs": [
    {
     "name": "stdout",
     "output_type": "stream",
     "text": [
      "3.0532719565679924 0.0025730327685911866\n"
     ]
    }
   ],
   "source": [
    "stat_val, p_val = stats.ttest_1samp(data, 0)\n",
    "print(stat_val, p_val)"
   ]
  },
  {
   "cell_type": "code",
   "execution_count": 24,
   "metadata": {},
   "outputs": [],
   "source": [
    "norm_dist2 = stats.norm(loc=-0.2, scale=1.2)\n",
    "data2 = norm_dist2.rvs(size=n)"
   ]
  },
  {
   "cell_type": "code",
   "execution_count": 25,
   "metadata": {},
   "outputs": [
    {
     "data": {
      "text/plain": [
       "(200,)"
      ]
     },
     "execution_count": 25,
     "metadata": {},
     "output_type": "execute_result"
    }
   ],
   "source": [
    "data2.shape"
   ]
  },
  {
   "cell_type": "code",
   "execution_count": 26,
   "metadata": {},
   "outputs": [
    {
     "data": {
      "text/plain": [
       "(200,)"
      ]
     },
     "execution_count": 26,
     "metadata": {},
     "output_type": "execute_result"
    }
   ],
   "source": [
    "data.shape"
   ]
  },
  {
   "cell_type": "code",
   "execution_count": 27,
   "metadata": {},
   "outputs": [
    {
     "name": "stdout",
     "output_type": "stream",
     "text": [
      "-4.2372329290741515 2.9044455129801155e-05\n"
     ]
    }
   ],
   "source": [
    "stat_val, p_val = stats.ttest_ind(data2, data, equal_var=False)\n",
    "print(stat_val, p_val)"
   ]
  },
  {
   "cell_type": "code",
   "execution_count": 28,
   "metadata": {},
   "outputs": [
    {
     "data": {
      "text/plain": [
       "array([0.59399415, 0.90842181, 0.95957232])"
      ]
     },
     "execution_count": 28,
     "metadata": {},
     "output_type": "execute_result"
    }
   ],
   "source": [
    "g_dist = stats.gamma(a = 2)\n",
    "g_dist.cdf([2,4,5])"
   ]
  },
  {
   "cell_type": "code",
   "execution_count": 29,
   "metadata": {},
   "outputs": [
    {
     "data": {
      "text/plain": [
       "<scipy.stats._distn_infrastructure.rv_frozen at 0x219fc30c288>"
      ]
     },
     "execution_count": 29,
     "metadata": {},
     "output_type": "execute_result"
    }
   ],
   "source": [
    "g_dist"
   ]
  },
  {
   "cell_type": "code",
   "execution_count": 31,
   "metadata": {},
   "outputs": [
    {
     "data": {
      "text/plain": [
       "scipy.stats._distn_infrastructure.rv_frozen"
      ]
     },
     "execution_count": 31,
     "metadata": {},
     "output_type": "execute_result"
    }
   ],
   "source": [
    "type(g_dist)"
   ]
  },
  {
   "cell_type": "code",
   "execution_count": 32,
   "metadata": {},
   "outputs": [
    {
     "data": {
      "text/plain": [
       "0.0"
      ]
     },
     "execution_count": 32,
     "metadata": {},
     "output_type": "execute_result"
    }
   ],
   "source": [
    "g_dist.a"
   ]
  },
  {
   "cell_type": "code",
   "execution_count": 33,
   "metadata": {},
   "outputs": [
    {
     "data": {
      "text/plain": [
       "'100'"
      ]
     },
     "execution_count": 33,
     "metadata": {},
     "output_type": "execute_result"
    }
   ],
   "source": [
    "norm_dist = stats.norm(loc=0, scale=1.8)\n",
    "dat = norm_dist.rvs(size=100)\n",
    "info = stats.describe(dat)\n",
    "str(info[0])"
   ]
  },
  {
   "cell_type": "code",
   "execution_count": 34,
   "metadata": {
    "scrolled": true
   },
   "outputs": [
    {
     "data": {
      "text/plain": [
       "DescribeResult(nobs=100, minmax=(-4.124906800176572, 3.8696073473769057), mean=-0.2750681463843731, variance=2.733533310351098, skewness=0.15986591492434218, kurtosis=-0.31863338809955444)"
      ]
     },
     "execution_count": 34,
     "metadata": {},
     "output_type": "execute_result"
    }
   ],
   "source": [
    "info"
   ]
  },
  {
   "cell_type": "code",
   "execution_count": 35,
   "metadata": {},
   "outputs": [
    {
     "name": "stdout",
     "output_type": "stream",
     "text": [
      "1.1968299359381585 2.4932263467306144 0.9106244103912621 4.735967920165555e-20 0.07839162332709211\n"
     ]
    }
   ],
   "source": [
    "x = stats.chi2.rvs(3, size=50)\n",
    "y = 2.5 + 1.2 * x + stats.norm.rvs(size=50, loc=0, scale=1.5)\n",
    "slope, intercept, r_value, p_value, std_err = stats.linregress(x, y)\n",
    "print(slope, intercept, r_value, p_value, std_err)"
   ]
  },
  {
   "cell_type": "code",
   "execution_count": null,
   "metadata": {},
   "outputs": [],
   "source": []
  }
 ],
 "metadata": {
  "kernelspec": {
   "display_name": "Python 3",
   "language": "python",
   "name": "python3"
  },
  "language_info": {
   "codemirror_mode": {
    "name": "ipython",
    "version": 3
   },
   "file_extension": ".py",
   "mimetype": "text/x-python",
   "name": "python",
   "nbconvert_exporter": "python",
   "pygments_lexer": "ipython3",
   "version": "3.7.6"
  }
 },
 "nbformat": 4,
 "nbformat_minor": 4
}
