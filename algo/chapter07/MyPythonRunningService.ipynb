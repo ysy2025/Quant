{
 "cells": [
  {
   "cell_type": "code",
   "execution_count": 1,
   "metadata": {
    "collapsed": true
   },
   "outputs": [
    {
     "name": "stdout",
     "output_type": "stream",
     "text": [
      "1\n"
     ]
    }
   ],
   "source": [
    "print(1)"
   ]
  },
  {
   "cell_type": "code",
   "execution_count": 2,
   "metadata": {},
   "outputs": [
    {
     "data": {
      "text/plain": [
       "<module 'atexit' (built-in)>"
      ]
     },
     "execution_count": 2,
     "metadata": {},
     "output_type": "execute_result"
    }
   ],
   "source": [
    "import atexit\n",
    "atexit"
   ]
  },
  {
   "cell_type": "code",
   "execution_count": 7,
   "metadata": {},
   "outputs": [
    {
     "name": "stdout",
     "output_type": "stream",
     "text": [
      "['z', 'h', 'a', 'n', 'g'] \n ['a', 'h', 'a', 'n', 'g'] \n ['z', 'h', 'a', 'n', 'g']\n['z', 'h', 'a', 'n', 'g'] \n ['a', 'h', 'a', 'n', 'g'] \n ['1', 'h', 'a', 'n', 'g']\n[2, 'h', 'a', 'n', 'g'] \n ['a', 'h', 'a', 'n', 'g'] \n ['1', 'h', 'a', 'n', 'g']\n[121, 'h', 'a', 'n', 'g'] \n ['a', 'h', 'a', 'n', 'g'] \n ['1', 'h', 'a', 'n', 'g'] \n [121, 'h', 'a', 'n', 'g']\n"
     ]
    }
   ],
   "source": [
    "a = list(\"zhang\")\n",
    "\n",
    "b = a.copy()\n",
    "\n",
    "from copy import deepcopy\n",
    "c = deepcopy(a)\n",
    "\n",
    "b[0] = 'a'\n",
    "print(a, '\\n', b, '\\n', c)\n",
    "\n",
    "c[0] = '1'\n",
    "\n",
    "print(a, '\\n', b, '\\n', c)\n",
    "\n",
    "a[0] = 2\n",
    "\n",
    "print(a, '\\n', b, '\\n', c)\n",
    "\n",
    "d = a\n",
    "\n",
    "a[0] = 121\n",
    "\n",
    "print(a, '\\n', b, '\\n', c, '\\n', d)"
   ]
  },
  {
   "cell_type": "code",
   "execution_count": 8,
   "metadata": {},
   "outputs": [
    {
     "name": "stdout",
     "output_type": "stream",
     "text": [
      "[11, 'h', 'a', 'n', 'g'] ['z', 'h', 'a', 'n', 'g']\n"
     ]
    }
   ],
   "source": [
    "a = list(\"zhang\")\n",
    "\n",
    "b = a.copy()\n",
    "\n",
    "a[0] = 11\n",
    "\n",
    "print(a, b)"
   ]
  },
  {
   "cell_type": "code",
   "execution_count": null,
   "metadata": {},
   "outputs": [],
   "source": []
  },
  {
   "cell_type": "code",
   "execution_count": null,
   "metadata": {},
   "outputs": [],
   "source": []
  },
  {
   "cell_type": "code",
   "execution_count": null,
   "metadata": {},
   "outputs": [],
   "source": []
  },
  {
   "cell_type": "code",
   "execution_count": null,
   "metadata": {},
   "outputs": [],
   "source": []
  },
  {
   "cell_type": "code",
   "execution_count": null,
   "metadata": {},
   "outputs": [],
   "source": []
  },
  {
   "cell_type": "code",
   "execution_count": null,
   "metadata": {},
   "outputs": [],
   "source": []
  },
  {
   "cell_type": "code",
   "execution_count": null,
   "metadata": {},
   "outputs": [],
   "source": []
  }
 ],
 "metadata": {
  "kernelspec": {
   "display_name": "Python 2",
   "language": "python",
   "name": "python2"
  },
  "language_info": {
   "codemirror_mode": {
    "name": "ipython",
    "version": 2
   },
   "file_extension": ".py",
   "mimetype": "text/x-python",
   "name": "python",
   "nbconvert_exporter": "python",
   "pygments_lexer": "ipython2",
   "version": "2.7.6"
  }
 },
 "nbformat": 4,
 "nbformat_minor": 0
}
