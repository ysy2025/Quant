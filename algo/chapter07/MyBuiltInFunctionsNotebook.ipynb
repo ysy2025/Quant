{
 "cells": [
  {
   "cell_type": "code",
   "execution_count": 1,
   "metadata": {
    "collapsed": true
   },
   "outputs": [
    {
     "data": {
      "text/plain": [
       "100.11"
      ]
     },
     "execution_count": 1,
     "metadata": {},
     "output_type": "execute_result"
    }
   ],
   "source": [
    "abs(-100.11)"
   ]
  },
  {
   "cell_type": "code",
   "execution_count": 2,
   "metadata": {},
   "outputs": [
    {
     "data": {
      "text/plain": [
       "True"
      ]
     },
     "execution_count": 2,
     "metadata": {},
     "output_type": "execute_result"
    }
   ],
   "source": [
    "a = list(\"zhangsan\")\n",
    "\n",
    "all(a)"
   ]
  },
  {
   "cell_type": "code",
   "execution_count": 4,
   "metadata": {},
   "outputs": [
    {
     "data": {
      "text/plain": [
       "[0, 1, 2, 3]"
      ]
     },
     "execution_count": 4,
     "metadata": {},
     "output_type": "execute_result"
    }
   ],
   "source": [
    "b = list(\"0123\")\n",
    "b = [int(each) for each in b]\n",
    "b"
   ]
  },
  {
   "cell_type": "code",
   "execution_count": 5,
   "metadata": {},
   "outputs": [
    {
     "data": {
      "text/plain": [
       "True"
      ]
     },
     "execution_count": 5,
     "metadata": {},
     "output_type": "execute_result"
    }
   ],
   "source": [
    "any(b)"
   ]
  },
  {
   "cell_type": "code",
   "execution_count": 11,
   "metadata": {},
   "outputs": [
    {
     "data": {
      "text/plain": [
       "'0b1101111'"
      ]
     },
     "execution_count": 11,
     "metadata": {},
     "output_type": "execute_result"
    }
   ],
   "source": [
    "bin(111)"
   ]
  },
  {
   "cell_type": "code",
   "execution_count": 12,
   "metadata": {},
   "outputs": [
    {
     "data": {
      "text/plain": [
       "True"
      ]
     },
     "execution_count": 12,
     "metadata": {},
     "output_type": "execute_result"
    }
   ],
   "source": [
    "bool('1')"
   ]
  },
  {
   "cell_type": "code",
   "execution_count": 18,
   "metadata": {},
   "outputs": [
    {
     "data": {
      "text/plain": [
       "bytearray(b'\\x00')"
      ]
     },
     "execution_count": 18,
     "metadata": {},
     "output_type": "execute_result"
    }
   ],
   "source": [
    "bytearray(1)"
   ]
  },
  {
   "cell_type": "code",
   "execution_count": 21,
   "metadata": {},
   "outputs": [
    {
     "data": {
      "text/plain": [
       "bytearray(b'a')"
      ]
     },
     "execution_count": 21,
     "metadata": {},
     "output_type": "execute_result"
    }
   ],
   "source": [
    "bytearray('a', encoding='utf-8')"
   ]
  },
  {
   "cell_type": "code",
   "execution_count": 26,
   "metadata": {},
   "outputs": [
    {
     "data": {
      "text/plain": [
       "b'\\x00\\x00\\x00\\x00\\x00\\x00\\x00\\x00\\x00\\x00'"
      ]
     },
     "execution_count": 26,
     "metadata": {},
     "output_type": "execute_result"
    }
   ],
   "source": [
    "bytes(10)"
   ]
  },
  {
   "cell_type": "code",
   "execution_count": 28,
   "metadata": {},
   "outputs": [
    {
     "data": {
      "text/plain": [
       "'o'"
      ]
     },
     "execution_count": 28,
     "metadata": {},
     "output_type": "execute_result"
    }
   ],
   "source": [
    "chr(111)"
   ]
  },
  {
   "cell_type": "code",
   "execution_count": 30,
   "metadata": {},
   "outputs": [],
   "source": [
    "# cmp(10, 111)\n",
    "# cmp() 函数是Python 2中的一个用于比较两个列表, 数字或字符串等的大小关系的函数, 在Python 3中已经无法使用这个函数了"
   ]
  },
  {
   "cell_type": "code",
   "execution_count": 32,
   "metadata": {},
   "outputs": [
    {
     "data": {
      "text/plain": [
       "<code object <module> at 0x0000019C33E75540, file \"\", line 1>"
      ]
     },
     "execution_count": 32,
     "metadata": {},
     "output_type": "execute_result"
    }
   ],
   "source": [
    "string = \"print('zhangsanniubi')\"\n",
    "c = compile(string,'','exec')   # 编译为字节代码对象\n",
    "c"
   ]
  },
  {
   "cell_type": "code",
   "execution_count": 33,
   "metadata": {},
   "outputs": [
    {
     "name": "stdout",
     "output_type": "stream",
     "text": [
      "zhangsanniubi\n"
     ]
    }
   ],
   "source": [
    "exec(c)"
   ]
  },
  {
   "cell_type": "code",
   "execution_count": 34,
   "metadata": {},
   "outputs": [
    {
     "name": "stdout",
     "output_type": "stream",
     "text": [
      "(10+10j)\n"
     ]
    }
   ],
   "source": [
    "a = complex(10, 10)\n",
    "print(a)"
   ]
  },
  {
   "cell_type": "code",
   "execution_count": 37,
   "metadata": {},
   "outputs": [
    {
     "data": {
      "text/plain": [
       "['__abs__',\n '__add__',\n '__bool__',\n '__class__',\n '__delattr__',\n '__dir__',\n '__divmod__',\n '__doc__',\n '__eq__',\n '__float__',\n '__floordiv__',\n '__format__',\n '__ge__',\n '__getattribute__',\n '__getnewargs__',\n '__gt__',\n '__hash__',\n '__init__',\n '__init_subclass__',\n '__int__',\n '__le__',\n '__lt__',\n '__mod__',\n '__mul__',\n '__ne__',\n '__neg__',\n '__new__',\n '__pos__',\n '__pow__',\n '__radd__',\n '__rdivmod__',\n '__reduce__',\n '__reduce_ex__',\n '__repr__',\n '__rfloordiv__',\n '__rmod__',\n '__rmul__',\n '__rpow__',\n '__rsub__',\n '__rtruediv__',\n '__setattr__',\n '__sizeof__',\n '__str__',\n '__sub__',\n '__subclasshook__',\n '__truediv__',\n 'conjugate',\n 'imag',\n 'real']"
      ]
     },
     "execution_count": 37,
     "metadata": {},
     "output_type": "execute_result"
    }
   ],
   "source": [
    "dir(a)"
   ]
  },
  {
   "cell_type": "code",
   "execution_count": 38,
   "metadata": {},
   "outputs": [
    {
     "data": {
      "text/plain": [
       "(3, 1)"
      ]
     },
     "execution_count": 38,
     "metadata": {},
     "output_type": "execute_result"
    }
   ],
   "source": [
    "a, b = divmod(10, 3)\n",
    "a, b\n"
   ]
  },
  {
   "cell_type": "code",
   "execution_count": 39,
   "metadata": {},
   "outputs": [
    {
     "name": "stdout",
     "output_type": "stream",
     "text": [
      "(0, 0)\n(1, 1)\n(2, 2)\n(3, 3)\n(4, 4)\n(5, 5)\n(6, 6)\n(7, 7)\n(8, 8)\n(9, 9)\n"
     ]
    }
   ],
   "source": [
    "a = enumerate(range(10))\n",
    "for each in a:\n",
    "    print(each)"
   ]
  },
  {
   "cell_type": "code",
   "execution_count": 40,
   "metadata": {},
   "outputs": [
    {
     "data": {
      "text/plain": [
       "17"
      ]
     },
     "execution_count": 40,
     "metadata": {},
     "output_type": "execute_result"
    }
   ],
   "source": [
    "str = \"3 * 4 + 5\"\n",
    "a = compile(str,'','eval')\n",
    "eval(a)"
   ]
  },
  {
   "cell_type": "code",
   "execution_count": 42,
   "metadata": {},
   "outputs": [
    {
     "name": "stdout",
     "output_type": "stream",
     "text": [
      "1\n3\n5\n7\n9\n"
     ]
    }
   ],
   "source": [
    "def is_odd(n):\n",
    "    return n % 2 == 1\n",
    " \n",
    "newlist = filter(is_odd, [1, 2, 3, 4, 5, 6, 7, 8, 9, 10])\n",
    "for each in newlist:\n",
    "    print(each)"
   ]
  },
  {
   "cell_type": "code",
   "execution_count": 44,
   "metadata": {},
   "outputs": [
    {
     "data": {
      "text/plain": [
       "frozenset({'a', 'g', 'h', 'n', 's', 'z'})"
      ]
     },
     "execution_count": 44,
     "metadata": {},
     "output_type": "execute_result"
    }
   ],
   "source": [
    "a = frozenset(list(\"zhangsan\"))\n",
    "a"
   ]
  },
  {
   "cell_type": "code",
   "execution_count": 45,
   "metadata": {
    "collapsed": true
   },
   "outputs": [
    {
     "data": {
      "text/plain": [
       "['__and__',\n '__class__',\n '__contains__',\n '__delattr__',\n '__dir__',\n '__doc__',\n '__eq__',\n '__format__',\n '__ge__',\n '__getattribute__',\n '__gt__',\n '__hash__',\n '__init__',\n '__init_subclass__',\n '__iter__',\n '__le__',\n '__len__',\n '__lt__',\n '__ne__',\n '__new__',\n '__or__',\n '__rand__',\n '__reduce__',\n '__reduce_ex__',\n '__repr__',\n '__ror__',\n '__rsub__',\n '__rxor__',\n '__setattr__',\n '__sizeof__',\n '__str__',\n '__sub__',\n '__subclasshook__',\n '__xor__',\n 'copy',\n 'difference',\n 'intersection',\n 'isdisjoint',\n 'issubset',\n 'issuperset',\n 'symmetric_difference',\n 'union']"
      ]
     },
     "execution_count": 45,
     "metadata": {},
     "output_type": "execute_result"
    }
   ],
   "source": [
    "dir(a)"
   ]
  },
  {
   "cell_type": "code",
   "execution_count": 50,
   "metadata": {},
   "outputs": [
    {
     "name": "stdout",
     "output_type": "stream",
     "text": [
      "10\n"
     ]
    }
   ],
   "source": [
    "print(10) if getattr(a, 'issubset') else print(1)"
   ]
  },
  {
   "cell_type": "code",
   "execution_count": 54,
   "metadata": {},
   "outputs": [
    {
     "data": {
      "text/plain": [
       "632751094232907321"
      ]
     },
     "execution_count": 54,
     "metadata": {},
     "output_type": "execute_result"
    }
   ],
   "source": [
    "hash(\"zhangsan\")"
   ]
  },
  {
   "cell_type": "code",
   "execution_count": 57,
   "metadata": {},
   "outputs": [
    {
     "data": {
      "text/plain": [
       "'0x65'"
      ]
     },
     "execution_count": 57,
     "metadata": {},
     "output_type": "execute_result"
    }
   ],
   "source": [
    "hex(101)"
   ]
  },
  {
   "cell_type": "code",
   "execution_count": 58,
   "metadata": {},
   "outputs": [
    {
     "data": {
      "text/plain": [
       "1770396200296"
      ]
     },
     "execution_count": 58,
     "metadata": {},
     "output_type": "execute_result"
    }
   ],
   "source": [
    "id(a)"
   ]
  },
  {
   "cell_type": "code",
   "execution_count": 72,
   "metadata": {},
   "outputs": [
    {
     "data": {
      "text/plain": [
       "6"
      ]
     },
     "execution_count": 72,
     "metadata": {},
     "output_type": "execute_result"
    }
   ],
   "source": [
    "int('12', 4)"
   ]
  },
  {
   "cell_type": "code",
   "execution_count": 73,
   "metadata": {},
   "outputs": [
    {
     "data": {
      "text/plain": [
       "True"
      ]
     },
     "execution_count": 73,
     "metadata": {},
     "output_type": "execute_result"
    }
   ],
   "source": [
    "issubclass(int, object)"
   ]
  },
  {
   "cell_type": "code",
   "execution_count": 75,
   "metadata": {},
   "outputs": [
    {
     "name": "stdout",
     "output_type": "stream",
     "text": [
      "z\nh\na\nn\ng\ns\na\nn\n"
     ]
    }
   ],
   "source": [
    "a = iter(list(\"zhangsan\"))\n",
    "for each in a:\n",
    "    print(each)"
   ]
  },
  {
   "cell_type": "code",
   "execution_count": 76,
   "metadata": {},
   "outputs": [
    {
     "name": "stdout",
     "output_type": "stream",
     "text": [
      "(0, 'z')\n(1, 'h')\n(2, 'a')\n(3, 'n')\n(4, 'g')\n(5, 's')\n(6, 'a')\n(7, 'n')\n"
     ]
    }
   ],
   "source": [
    "b = enumerate(\"zhangsan\")\n",
    "for each in b:\n",
    "    print(each)"
   ]
  },
  {
   "cell_type": "code",
   "execution_count": 77,
   "metadata": {
    "collapsed": true
   },
   "outputs": [
    {
     "data": {
      "text/plain": [
       "{'__name__': '__main__',\n '__doc__': 'Automatically created module for IPython interactive environment',\n '__package__': None,\n '__loader__': None,\n '__spec__': None,\n '__builtin__': <module 'builtins' (built-in)>,\n '__builtins__': <module 'builtins' (built-in)>,\n '_ih': ['',\n  'abs(-100.11)',\n  'a = list(\"zhangsan\")\\n\\nall(a)',\n  'b = list(\"0123\")\\nb',\n  'b = list(\"0123\")\\nb = [int(each) for each in b]\\nb',\n  'any(b)',\n  'ascii(\"z\")',\n  'ascii(\"1\")',\n  'ascii(\"001\")',\n  \"ascii('\\\\'')\",\n  \"bin('a')\",\n  'bin(111)',\n  \"bool('1')\",\n  'bytearray(list(\"zhang\"))',\n  'bytearray(111)',\n  'bytearray(1)',\n  \"bytearray('a')\",\n  \"bytearray('1')\",\n  'bytearray(1)',\n  \"bytearray(1, encoding='utf-8')\",\n  \"bytearray('1', encoding='utf-8')\",\n  \"bytearray('a', encoding='utf-8')\",\n  'bytes(11)',\n  \"bytes('a')\",\n  'bytes(111)',\n  'bytes(0)',\n  'bytes(10)',\n  'chr(11)',\n  'chr(111)',\n  'cmp(10, 111)',\n  '# cmp(10, 111)\\n# cmp() 函数是Python 2中的一个用于比较两个列表, 数字或字符串等的大小关系的函数, 在Python 3中已经无法使用这个函数了',\n  'compile(\"print(1+2\", \"a.txt\")',\n  'string = \"print(\\'zhangsanniubi\\')\"\\nc = compile(string,\\'\\',\\'exec\\')   # 编译为字节代码对象\\nc',\n  'exec(c)',\n  'a = complex(10, 10)\\nprint(a)',\n  'dir(\".\")',\n  'dir()',\n  'dir(a)',\n  'a, b = divmod(10, 3)\\na, b',\n  'a = enumerate(range(10))\\nfor each in a:\\n    print(each)',\n  'str = \"3 * 4 + 5\"\\na = compile(str,\\'\\',\\'eval\\')\\neval(a)',\n  'def is_odd(n):\\n    return n % 2 == 1\\n \\nnewlist = filter(is_odd, [1, 2, 3, 4, 5, 6, 7, 8, 9, 10])\\nprint(newlist)',\n  'def is_odd(n):\\n    return n % 2 == 1\\n \\nnewlist = filter(is_odd, [1, 2, 3, 4, 5, 6, 7, 8, 9, 10])\\nfor each in newlist:\\n    print(each)',\n  'a = frozenset(1, 2, 3)\\na',\n  'a = frozenset(list(\"zhangsan\"))\\na',\n  'dir(a)',\n  \"getattr(a, '__dir__')\",\n  \"getattr(a, 'issubset')\",\n  \"print(10) if getattr(a, 'issubset') else print(1)\",\n  \"print(10) if getattr(a, 'hhh') else print(1)\",\n  \"print(10) if getattr(a, 'issubset') else print(1)\",\n  'hash(\"zhangsan\")',\n  'hash(\"zhangsan\")',\n  'hash(\"zhangsan \")',\n  'hash(\"zhangsan\")',\n  'hex(a)',\n  'hex(111)',\n  'hex(101)',\n  'id(a)',\n  'a = input()',\n  'int(111, 2)',\n  'int(111, base=2)',\n  'int(b011, base=2)',\n  \"int('111', base=10)\",\n  \"int('12',16)\",\n  \"int('12',3)\",\n  \"int('12',8)\",\n  \"int('12',12)\",\n  \"int('12',7)\",\n  \"int('12',0.1)\",\n  \"int('12',1)\",\n  \"int('12', 0)\",\n  \"int('12', 4)\",\n  'issubclass(int, object)',\n  'a = iter(list(\"zhangsan\"))\\na',\n  'a = iter(list(\"zhangsan\"))\\nfor each in a:\\n    print(each)',\n  'b = enumerate(\"zhangsan\")\\nfor each in b:\\n    print(each)',\n  'locals()'],\n '_oh': {1: 100.11,\n  2: True,\n  3: ['0', '1', '2', '3'],\n  4: [0, 1, 2, 3],\n  5: True,\n  6: \"'z'\",\n  7: \"'1'\",\n  8: \"'001'\",\n  9: '\"\\'\"',\n  11: '0b1101111',\n  12: True,\n  14: bytearray(b'\\x00\\x00\\x00\\x00\\x00\\x00\\x00\\x00\\x00\\x00\\x00\\x00\\x00\\x00\\x00\\x00\\x00\\x00\\x00\\x00\\x00\\x00\\x00\\x00\\x00\\x00\\x00\\x00\\x00\\x00\\x00\\x00\\x00\\x00\\x00\\x00\\x00\\x00\\x00\\x00\\x00\\x00\\x00\\x00\\x00\\x00\\x00\\x00\\x00\\x00\\x00\\x00\\x00\\x00\\x00\\x00\\x00\\x00\\x00\\x00\\x00\\x00\\x00\\x00\\x00\\x00\\x00\\x00\\x00\\x00\\x00\\x00\\x00\\x00\\x00\\x00\\x00\\x00\\x00\\x00\\x00\\x00\\x00\\x00\\x00\\x00\\x00\\x00\\x00\\x00\\x00\\x00\\x00\\x00\\x00\\x00\\x00\\x00\\x00\\x00\\x00\\x00\\x00\\x00\\x00\\x00\\x00\\x00\\x00\\x00\\x00'),\n  15: bytearray(b'\\x00'),\n  18: bytearray(b'\\x00'),\n  20: bytearray(b'1'),\n  21: bytearray(b'a'),\n  22: b'\\x00\\x00\\x00\\x00\\x00\\x00\\x00\\x00\\x00\\x00\\x00',\n  24: b'\\x00\\x00\\x00\\x00\\x00\\x00\\x00\\x00\\x00\\x00\\x00\\x00\\x00\\x00\\x00\\x00\\x00\\x00\\x00\\x00\\x00\\x00\\x00\\x00\\x00\\x00\\x00\\x00\\x00\\x00\\x00\\x00\\x00\\x00\\x00\\x00\\x00\\x00\\x00\\x00\\x00\\x00\\x00\\x00\\x00\\x00\\x00\\x00\\x00\\x00\\x00\\x00\\x00\\x00\\x00\\x00\\x00\\x00\\x00\\x00\\x00\\x00\\x00\\x00\\x00\\x00\\x00\\x00\\x00\\x00\\x00\\x00\\x00\\x00\\x00\\x00\\x00\\x00\\x00\\x00\\x00\\x00\\x00\\x00\\x00\\x00\\x00\\x00\\x00\\x00\\x00\\x00\\x00\\x00\\x00\\x00\\x00\\x00\\x00\\x00\\x00\\x00\\x00\\x00\\x00\\x00\\x00\\x00\\x00\\x00\\x00',\n  25: b'',\n  26: b'\\x00\\x00\\x00\\x00\\x00\\x00\\x00\\x00\\x00\\x00',\n  27: '\\x0b',\n  28: 'o',\n  32: <code object <module> at 0x0000019C33E75540, file \"\", line 1>,\n  35: ['__add__',\n   '__class__',\n   '__contains__',\n   '__delattr__',\n   '__dir__',\n   '__doc__',\n   '__eq__',\n   '__format__',\n   '__ge__',\n   '__getattribute__',\n   '__getitem__',\n   '__getnewargs__',\n   '__gt__',\n   '__hash__',\n   '__init__',\n   '__init_subclass__',\n   '__iter__',\n   '__le__',\n   '__len__',\n   '__lt__',\n   '__mod__',\n   '__mul__',\n   '__ne__',\n   '__new__',\n   '__reduce__',\n   '__reduce_ex__',\n   '__repr__',\n   '__rmod__',\n   '__rmul__',\n   '__setattr__',\n   '__sizeof__',\n   '__str__',\n   '__subclasshook__',\n   'capitalize',\n   'casefold',\n   'center',\n   'count',\n   'encode',\n   'endswith',\n   'expandtabs',\n   'find',\n   'format',\n   'format_map',\n   'index',\n   'isalnum',\n   'isalpha',\n   'isascii',\n   'isdecimal',\n   'isdigit',\n   'isidentifier',\n   'islower',\n   'isnumeric',\n   'isprintable',\n   'isspace',\n   'istitle',\n   'isupper',\n   'join',\n   'ljust',\n   'lower',\n   'lstrip',\n   'maketrans',\n   'partition',\n   'replace',\n   'rfind',\n   'rindex',\n   'rjust',\n   'rpartition',\n   'rsplit',\n   'rstrip',\n   'split',\n   'splitlines',\n   'startswith',\n   'strip',\n   'swapcase',\n   'title',\n   'translate',\n   'upper',\n   'zfill'],\n  36: ['In',\n   'Out',\n   '_',\n   '_1',\n   '_11',\n   '_12',\n   '_14',\n   '_15',\n   '_18',\n   '_2',\n   '_20',\n   '_21',\n   '_22',\n   '_24',\n   '_25',\n   '_26',\n   '_27',\n   '_28',\n   '_3',\n   '_32',\n   '_35',\n   '_4',\n   '_5',\n   '_6',\n   '_7',\n   '_8',\n   '_9',\n   '__',\n   '___',\n   '__builtin__',\n   '__builtins__',\n   '__doc__',\n   '__loader__',\n   '__name__',\n   '__package__',\n   '__spec__',\n   '_dh',\n   '_i',\n   '_i1',\n   '_i10',\n   '_i11',\n   '_i12',\n   '_i13',\n   '_i14',\n   '_i15',\n   '_i16',\n   '_i17',\n   '_i18',\n   '_i19',\n   '_i2',\n   '_i20',\n   '_i21',\n   '_i22',\n   '_i23',\n   '_i24',\n   '_i25',\n   '_i26',\n   '_i27',\n   '_i28',\n   '_i29',\n   '_i3',\n   '_i30',\n   '_i31',\n   '_i32',\n   '_i33',\n   '_i34',\n   '_i35',\n   '_i36',\n   '_i4',\n   '_i5',\n   '_i6',\n   '_i7',\n   '_i8',\n   '_i9',\n   '_ih',\n   '_ii',\n   '_iii',\n   '_oh',\n   'a',\n   'b',\n   'c',\n   'exit',\n   'get_ipython',\n   'quit',\n   'string'],\n  37: ['__abs__',\n   '__add__',\n   '__bool__',\n   '__class__',\n   '__delattr__',\n   '__dir__',\n   '__divmod__',\n   '__doc__',\n   '__eq__',\n   '__float__',\n   '__floordiv__',\n   '__format__',\n   '__ge__',\n   '__getattribute__',\n   '__getnewargs__',\n   '__gt__',\n   '__hash__',\n   '__init__',\n   '__init_subclass__',\n   '__int__',\n   '__le__',\n   '__lt__',\n   '__mod__',\n   '__mul__',\n   '__ne__',\n   '__neg__',\n   '__new__',\n   '__pos__',\n   '__pow__',\n   '__radd__',\n   '__rdivmod__',\n   '__reduce__',\n   '__reduce_ex__',\n   '__repr__',\n   '__rfloordiv__',\n   '__rmod__',\n   '__rmul__',\n   '__rpow__',\n   '__rsub__',\n   '__rtruediv__',\n   '__setattr__',\n   '__sizeof__',\n   '__str__',\n   '__sub__',\n   '__subclasshook__',\n   '__truediv__',\n   'conjugate',\n   'imag',\n   'real'],\n  38: (3, 1),\n  40: 17,\n  44: frozenset({'a', 'g', 'h', 'n', 's', 'z'}),\n  45: ['__and__',\n   '__class__',\n   '__contains__',\n   '__delattr__',\n   '__dir__',\n   '__doc__',\n   '__eq__',\n   '__format__',\n   '__ge__',\n   '__getattribute__',\n   '__gt__',\n   '__hash__',\n   '__init__',\n   '__init_subclass__',\n   '__iter__',\n   '__le__',\n   '__len__',\n   '__lt__',\n   '__ne__',\n   '__new__',\n   '__or__',\n   '__rand__',\n   '__reduce__',\n   '__reduce_ex__',\n   '__repr__',\n   '__ror__',\n   '__rsub__',\n   '__rxor__',\n   '__setattr__',\n   '__sizeof__',\n   '__str__',\n   '__sub__',\n   '__subclasshook__',\n   '__xor__',\n   'copy',\n   'difference',\n   'intersection',\n   'isdisjoint',\n   'issubset',\n   'issuperset',\n   'symmetric_difference',\n   'union'],\n  46: <function frozenset.__dir__()>,\n  47: <function frozenset.issubset>,\n  51: 632751094232907321,\n  52: 632751094232907321,\n  53: -5455773871725074162,\n  54: 632751094232907321,\n  56: '0x6f',\n  57: '0x65',\n  58: 1770396200296,\n  63: 111,\n  64: 18,\n  65: 5,\n  66: 10,\n  67: 14,\n  68: 9,\n  71: 12,\n  72: 6,\n  73: True,\n  74: <list_iterator at 0x19c33eb6e08>},\n '_dh': ['C:\\\\Users\\\\yangsy-c'],\n 'In': ['',\n  'abs(-100.11)',\n  'a = list(\"zhangsan\")\\n\\nall(a)',\n  'b = list(\"0123\")\\nb',\n  'b = list(\"0123\")\\nb = [int(each) for each in b]\\nb',\n  'any(b)',\n  'ascii(\"z\")',\n  'ascii(\"1\")',\n  'ascii(\"001\")',\n  \"ascii('\\\\'')\",\n  \"bin('a')\",\n  'bin(111)',\n  \"bool('1')\",\n  'bytearray(list(\"zhang\"))',\n  'bytearray(111)',\n  'bytearray(1)',\n  \"bytearray('a')\",\n  \"bytearray('1')\",\n  'bytearray(1)',\n  \"bytearray(1, encoding='utf-8')\",\n  \"bytearray('1', encoding='utf-8')\",\n  \"bytearray('a', encoding='utf-8')\",\n  'bytes(11)',\n  \"bytes('a')\",\n  'bytes(111)',\n  'bytes(0)',\n  'bytes(10)',\n  'chr(11)',\n  'chr(111)',\n  'cmp(10, 111)',\n  '# cmp(10, 111)\\n# cmp() 函数是Python 2中的一个用于比较两个列表, 数字或字符串等的大小关系的函数, 在Python 3中已经无法使用这个函数了',\n  'compile(\"print(1+2\", \"a.txt\")',\n  'string = \"print(\\'zhangsanniubi\\')\"\\nc = compile(string,\\'\\',\\'exec\\')   # 编译为字节代码对象\\nc',\n  'exec(c)',\n  'a = complex(10, 10)\\nprint(a)',\n  'dir(\".\")',\n  'dir()',\n  'dir(a)',\n  'a, b = divmod(10, 3)\\na, b',\n  'a = enumerate(range(10))\\nfor each in a:\\n    print(each)',\n  'str = \"3 * 4 + 5\"\\na = compile(str,\\'\\',\\'eval\\')\\neval(a)',\n  'def is_odd(n):\\n    return n % 2 == 1\\n \\nnewlist = filter(is_odd, [1, 2, 3, 4, 5, 6, 7, 8, 9, 10])\\nprint(newlist)',\n  'def is_odd(n):\\n    return n % 2 == 1\\n \\nnewlist = filter(is_odd, [1, 2, 3, 4, 5, 6, 7, 8, 9, 10])\\nfor each in newlist:\\n    print(each)',\n  'a = frozenset(1, 2, 3)\\na',\n  'a = frozenset(list(\"zhangsan\"))\\na',\n  'dir(a)',\n  \"getattr(a, '__dir__')\",\n  \"getattr(a, 'issubset')\",\n  \"print(10) if getattr(a, 'issubset') else print(1)\",\n  \"print(10) if getattr(a, 'hhh') else print(1)\",\n  \"print(10) if getattr(a, 'issubset') else print(1)\",\n  'hash(\"zhangsan\")',\n  'hash(\"zhangsan\")',\n  'hash(\"zhangsan \")',\n  'hash(\"zhangsan\")',\n  'hex(a)',\n  'hex(111)',\n  'hex(101)',\n  'id(a)',\n  'a = input()',\n  'int(111, 2)',\n  'int(111, base=2)',\n  'int(b011, base=2)',\n  \"int('111', base=10)\",\n  \"int('12',16)\",\n  \"int('12',3)\",\n  \"int('12',8)\",\n  \"int('12',12)\",\n  \"int('12',7)\",\n  \"int('12',0.1)\",\n  \"int('12',1)\",\n  \"int('12', 0)\",\n  \"int('12', 4)\",\n  'issubclass(int, object)',\n  'a = iter(list(\"zhangsan\"))\\na',\n  'a = iter(list(\"zhangsan\"))\\nfor each in a:\\n    print(each)',\n  'b = enumerate(\"zhangsan\")\\nfor each in b:\\n    print(each)',\n  'locals()'],\n 'Out': {1: 100.11,\n  2: True,\n  3: ['0', '1', '2', '3'],\n  4: [0, 1, 2, 3],\n  5: True,\n  6: \"'z'\",\n  7: \"'1'\",\n  8: \"'001'\",\n  9: '\"\\'\"',\n  11: '0b1101111',\n  12: True,\n  14: bytearray(b'\\x00\\x00\\x00\\x00\\x00\\x00\\x00\\x00\\x00\\x00\\x00\\x00\\x00\\x00\\x00\\x00\\x00\\x00\\x00\\x00\\x00\\x00\\x00\\x00\\x00\\x00\\x00\\x00\\x00\\x00\\x00\\x00\\x00\\x00\\x00\\x00\\x00\\x00\\x00\\x00\\x00\\x00\\x00\\x00\\x00\\x00\\x00\\x00\\x00\\x00\\x00\\x00\\x00\\x00\\x00\\x00\\x00\\x00\\x00\\x00\\x00\\x00\\x00\\x00\\x00\\x00\\x00\\x00\\x00\\x00\\x00\\x00\\x00\\x00\\x00\\x00\\x00\\x00\\x00\\x00\\x00\\x00\\x00\\x00\\x00\\x00\\x00\\x00\\x00\\x00\\x00\\x00\\x00\\x00\\x00\\x00\\x00\\x00\\x00\\x00\\x00\\x00\\x00\\x00\\x00\\x00\\x00\\x00\\x00\\x00\\x00'),\n  15: bytearray(b'\\x00'),\n  18: bytearray(b'\\x00'),\n  20: bytearray(b'1'),\n  21: bytearray(b'a'),\n  22: b'\\x00\\x00\\x00\\x00\\x00\\x00\\x00\\x00\\x00\\x00\\x00',\n  24: b'\\x00\\x00\\x00\\x00\\x00\\x00\\x00\\x00\\x00\\x00\\x00\\x00\\x00\\x00\\x00\\x00\\x00\\x00\\x00\\x00\\x00\\x00\\x00\\x00\\x00\\x00\\x00\\x00\\x00\\x00\\x00\\x00\\x00\\x00\\x00\\x00\\x00\\x00\\x00\\x00\\x00\\x00\\x00\\x00\\x00\\x00\\x00\\x00\\x00\\x00\\x00\\x00\\x00\\x00\\x00\\x00\\x00\\x00\\x00\\x00\\x00\\x00\\x00\\x00\\x00\\x00\\x00\\x00\\x00\\x00\\x00\\x00\\x00\\x00\\x00\\x00\\x00\\x00\\x00\\x00\\x00\\x00\\x00\\x00\\x00\\x00\\x00\\x00\\x00\\x00\\x00\\x00\\x00\\x00\\x00\\x00\\x00\\x00\\x00\\x00\\x00\\x00\\x00\\x00\\x00\\x00\\x00\\x00\\x00\\x00\\x00',\n  25: b'',\n  26: b'\\x00\\x00\\x00\\x00\\x00\\x00\\x00\\x00\\x00\\x00',\n  27: '\\x0b',\n  28: 'o',\n  32: <code object <module> at 0x0000019C33E75540, file \"\", line 1>,\n  35: ['__add__',\n   '__class__',\n   '__contains__',\n   '__delattr__',\n   '__dir__',\n   '__doc__',\n   '__eq__',\n   '__format__',\n   '__ge__',\n   '__getattribute__',\n   '__getitem__',\n   '__getnewargs__',\n   '__gt__',\n   '__hash__',\n   '__init__',\n   '__init_subclass__',\n   '__iter__',\n   '__le__',\n   '__len__',\n   '__lt__',\n   '__mod__',\n   '__mul__',\n   '__ne__',\n   '__new__',\n   '__reduce__',\n   '__reduce_ex__',\n   '__repr__',\n   '__rmod__',\n   '__rmul__',\n   '__setattr__',\n   '__sizeof__',\n   '__str__',\n   '__subclasshook__',\n   'capitalize',\n   'casefold',\n   'center',\n   'count',\n   'encode',\n   'endswith',\n   'expandtabs',\n   'find',\n   'format',\n   'format_map',\n   'index',\n   'isalnum',\n   'isalpha',\n   'isascii',\n   'isdecimal',\n   'isdigit',\n   'isidentifier',\n   'islower',\n   'isnumeric',\n   'isprintable',\n   'isspace',\n   'istitle',\n   'isupper',\n   'join',\n   'ljust',\n   'lower',\n   'lstrip',\n   'maketrans',\n   'partition',\n   'replace',\n   'rfind',\n   'rindex',\n   'rjust',\n   'rpartition',\n   'rsplit',\n   'rstrip',\n   'split',\n   'splitlines',\n   'startswith',\n   'strip',\n   'swapcase',\n   'title',\n   'translate',\n   'upper',\n   'zfill'],\n  36: ['In',\n   'Out',\n   '_',\n   '_1',\n   '_11',\n   '_12',\n   '_14',\n   '_15',\n   '_18',\n   '_2',\n   '_20',\n   '_21',\n   '_22',\n   '_24',\n   '_25',\n   '_26',\n   '_27',\n   '_28',\n   '_3',\n   '_32',\n   '_35',\n   '_4',\n   '_5',\n   '_6',\n   '_7',\n   '_8',\n   '_9',\n   '__',\n   '___',\n   '__builtin__',\n   '__builtins__',\n   '__doc__',\n   '__loader__',\n   '__name__',\n   '__package__',\n   '__spec__',\n   '_dh',\n   '_i',\n   '_i1',\n   '_i10',\n   '_i11',\n   '_i12',\n   '_i13',\n   '_i14',\n   '_i15',\n   '_i16',\n   '_i17',\n   '_i18',\n   '_i19',\n   '_i2',\n   '_i20',\n   '_i21',\n   '_i22',\n   '_i23',\n   '_i24',\n   '_i25',\n   '_i26',\n   '_i27',\n   '_i28',\n   '_i29',\n   '_i3',\n   '_i30',\n   '_i31',\n   '_i32',\n   '_i33',\n   '_i34',\n   '_i35',\n   '_i36',\n   '_i4',\n   '_i5',\n   '_i6',\n   '_i7',\n   '_i8',\n   '_i9',\n   '_ih',\n   '_ii',\n   '_iii',\n   '_oh',\n   'a',\n   'b',\n   'c',\n   'exit',\n   'get_ipython',\n   'quit',\n   'string'],\n  37: ['__abs__',\n   '__add__',\n   '__bool__',\n   '__class__',\n   '__delattr__',\n   '__dir__',\n   '__divmod__',\n   '__doc__',\n   '__eq__',\n   '__float__',\n   '__floordiv__',\n   '__format__',\n   '__ge__',\n   '__getattribute__',\n   '__getnewargs__',\n   '__gt__',\n   '__hash__',\n   '__init__',\n   '__init_subclass__',\n   '__int__',\n   '__le__',\n   '__lt__',\n   '__mod__',\n   '__mul__',\n   '__ne__',\n   '__neg__',\n   '__new__',\n   '__pos__',\n   '__pow__',\n   '__radd__',\n   '__rdivmod__',\n   '__reduce__',\n   '__reduce_ex__',\n   '__repr__',\n   '__rfloordiv__',\n   '__rmod__',\n   '__rmul__',\n   '__rpow__',\n   '__rsub__',\n   '__rtruediv__',\n   '__setattr__',\n   '__sizeof__',\n   '__str__',\n   '__sub__',\n   '__subclasshook__',\n   '__truediv__',\n   'conjugate',\n   'imag',\n   'real'],\n  38: (3, 1),\n  40: 17,\n  44: frozenset({'a', 'g', 'h', 'n', 's', 'z'}),\n  45: ['__and__',\n   '__class__',\n   '__contains__',\n   '__delattr__',\n   '__dir__',\n   '__doc__',\n   '__eq__',\n   '__format__',\n   '__ge__',\n   '__getattribute__',\n   '__gt__',\n   '__hash__',\n   '__init__',\n   '__init_subclass__',\n   '__iter__',\n   '__le__',\n   '__len__',\n   '__lt__',\n   '__ne__',\n   '__new__',\n   '__or__',\n   '__rand__',\n   '__reduce__',\n   '__reduce_ex__',\n   '__repr__',\n   '__ror__',\n   '__rsub__',\n   '__rxor__',\n   '__setattr__',\n   '__sizeof__',\n   '__str__',\n   '__sub__',\n   '__subclasshook__',\n   '__xor__',\n   'copy',\n   'difference',\n   'intersection',\n   'isdisjoint',\n   'issubset',\n   'issuperset',\n   'symmetric_difference',\n   'union'],\n  46: <function frozenset.__dir__()>,\n  47: <function frozenset.issubset>,\n  51: 632751094232907321,\n  52: 632751094232907321,\n  53: -5455773871725074162,\n  54: 632751094232907321,\n  56: '0x6f',\n  57: '0x65',\n  58: 1770396200296,\n  63: 111,\n  64: 18,\n  65: 5,\n  66: 10,\n  67: 14,\n  68: 9,\n  71: 12,\n  72: 6,\n  73: True,\n  74: <list_iterator at 0x19c33eb6e08>},\n 'get_ipython': <bound method InteractiveShell.get_ipython of <ipykernel.zmqshell.ZMQInteractiveShell object at 0x0000019C33CC4688>>,\n 'exit': <IPython.core.autocall.ZMQExitAutocall at 0x19c33d70f88>,\n 'quit': <IPython.core.autocall.ZMQExitAutocall at 0x19c33d70f88>,\n '_': <list_iterator at 0x19c33eb6e08>,\n '__': True,\n '___': 6,\n '_i': 'b = enumerate(\"zhangsan\")\\nfor each in b:\\n    print(each)',\n '_ii': 'a = iter(list(\"zhangsan\"))\\nfor each in a:\\n    print(each)',\n '_iii': 'a = iter(list(\"zhangsan\"))\\na',\n '_i1': 'abs(-100.11)',\n '_1': 100.11,\n '_i2': 'a = list(\"zhangsan\")\\n\\nall(a)',\n 'a': <list_iterator at 0x19c33eba548>,\n '_2': True,\n '_i3': 'b = list(\"0123\")\\nb',\n 'b': <enumerate at 0x19c33eb8868>,\n '_3': ['0', '1', '2', '3'],\n '_i4': 'b = list(\"0123\")\\nb = [int(each) for each in b]\\nb',\n '_4': [0, 1, 2, 3],\n '_i5': 'any(b)',\n '_5': True,\n '_i6': 'ascii(\"z\")',\n '_6': \"'z'\",\n '_i7': 'ascii(\"1\")',\n '_7': \"'1'\",\n '_i8': 'ascii(\"001\")',\n '_8': \"'001'\",\n '_i9': \"ascii('\\\\'')\",\n '_9': '\"\\'\"',\n '_i10': \"bin('a')\",\n '_i11': 'bin(111)',\n '_11': '0b1101111',\n '_i12': \"bool('1')\",\n '_12': True,\n '_i13': 'bytearray(list(\"zhang\"))',\n '_i14': 'bytearray(111)',\n '_14': bytearray(b'\\x00\\x00\\x00\\x00\\x00\\x00\\x00\\x00\\x00\\x00\\x00\\x00\\x00\\x00\\x00\\x00\\x00\\x00\\x00\\x00\\x00\\x00\\x00\\x00\\x00\\x00\\x00\\x00\\x00\\x00\\x00\\x00\\x00\\x00\\x00\\x00\\x00\\x00\\x00\\x00\\x00\\x00\\x00\\x00\\x00\\x00\\x00\\x00\\x00\\x00\\x00\\x00\\x00\\x00\\x00\\x00\\x00\\x00\\x00\\x00\\x00\\x00\\x00\\x00\\x00\\x00\\x00\\x00\\x00\\x00\\x00\\x00\\x00\\x00\\x00\\x00\\x00\\x00\\x00\\x00\\x00\\x00\\x00\\x00\\x00\\x00\\x00\\x00\\x00\\x00\\x00\\x00\\x00\\x00\\x00\\x00\\x00\\x00\\x00\\x00\\x00\\x00\\x00\\x00\\x00\\x00\\x00\\x00\\x00\\x00\\x00'),\n '_i15': 'bytearray(1)',\n '_15': bytearray(b'\\x00'),\n '_i16': \"bytearray('a')\",\n '_i17': \"bytearray('1')\",\n '_i18': 'bytearray(1)',\n '_18': bytearray(b'\\x00'),\n '_i19': \"bytearray(1, encoding='utf-8')\",\n '_i20': \"bytearray('1', encoding='utf-8')\",\n '_20': bytearray(b'1'),\n '_i21': \"bytearray('a', encoding='utf-8')\",\n '_21': bytearray(b'a'),\n '_i22': 'bytes(11)',\n '_22': b'\\x00\\x00\\x00\\x00\\x00\\x00\\x00\\x00\\x00\\x00\\x00',\n '_i23': \"bytes('a')\",\n '_i24': 'bytes(111)',\n '_24': b'\\x00\\x00\\x00\\x00\\x00\\x00\\x00\\x00\\x00\\x00\\x00\\x00\\x00\\x00\\x00\\x00\\x00\\x00\\x00\\x00\\x00\\x00\\x00\\x00\\x00\\x00\\x00\\x00\\x00\\x00\\x00\\x00\\x00\\x00\\x00\\x00\\x00\\x00\\x00\\x00\\x00\\x00\\x00\\x00\\x00\\x00\\x00\\x00\\x00\\x00\\x00\\x00\\x00\\x00\\x00\\x00\\x00\\x00\\x00\\x00\\x00\\x00\\x00\\x00\\x00\\x00\\x00\\x00\\x00\\x00\\x00\\x00\\x00\\x00\\x00\\x00\\x00\\x00\\x00\\x00\\x00\\x00\\x00\\x00\\x00\\x00\\x00\\x00\\x00\\x00\\x00\\x00\\x00\\x00\\x00\\x00\\x00\\x00\\x00\\x00\\x00\\x00\\x00\\x00\\x00\\x00\\x00\\x00\\x00\\x00\\x00',\n '_i25': 'bytes(0)',\n '_25': b'',\n '_i26': 'bytes(10)',\n '_26': b'\\x00\\x00\\x00\\x00\\x00\\x00\\x00\\x00\\x00\\x00',\n '_i27': 'chr(11)',\n '_27': '\\x0b',\n '_i28': 'chr(111)',\n '_28': 'o',\n '_i29': 'cmp(10, 111)',\n '_i30': '# cmp(10, 111)\\n# cmp() 函数是Python 2中的一个用于比较两个列表, 数字或字符串等的大小关系的函数, 在Python 3中已经无法使用这个函数了',\n '_i31': 'compile(\"print(1+2\", \"a.txt\")',\n '_i32': 'string = \"print(\\'zhangsanniubi\\')\"\\nc = compile(string,\\'\\',\\'exec\\')   # 编译为字节代码对象\\nc',\n 'string': \"print('zhangsanniubi')\",\n 'c': <code object <module> at 0x0000019C33E75540, file \"\", line 1>,\n '_32': <code object <module> at 0x0000019C33E75540, file \"\", line 1>,\n '_i33': 'exec(c)',\n '_i34': 'a = complex(10, 10)\\nprint(a)',\n '_i35': 'dir(\".\")',\n '_35': ['__add__',\n  '__class__',\n  '__contains__',\n  '__delattr__',\n  '__dir__',\n  '__doc__',\n  '__eq__',\n  '__format__',\n  '__ge__',\n  '__getattribute__',\n  '__getitem__',\n  '__getnewargs__',\n  '__gt__',\n  '__hash__',\n  '__init__',\n  '__init_subclass__',\n  '__iter__',\n  '__le__',\n  '__len__',\n  '__lt__',\n  '__mod__',\n  '__mul__',\n  '__ne__',\n  '__new__',\n  '__reduce__',\n  '__reduce_ex__',\n  '__repr__',\n  '__rmod__',\n  '__rmul__',\n  '__setattr__',\n  '__sizeof__',\n  '__str__',\n  '__subclasshook__',\n  'capitalize',\n  'casefold',\n  'center',\n  'count',\n  'encode',\n  'endswith',\n  'expandtabs',\n  'find',\n  'format',\n  'format_map',\n  'index',\n  'isalnum',\n  'isalpha',\n  'isascii',\n  'isdecimal',\n  'isdigit',\n  'isidentifier',\n  'islower',\n  'isnumeric',\n  'isprintable',\n  'isspace',\n  'istitle',\n  'isupper',\n  'join',\n  'ljust',\n  'lower',\n  'lstrip',\n  'maketrans',\n  'partition',\n  'replace',\n  'rfind',\n  'rindex',\n  'rjust',\n  'rpartition',\n  'rsplit',\n  'rstrip',\n  'split',\n  'splitlines',\n  'startswith',\n  'strip',\n  'swapcase',\n  'title',\n  'translate',\n  'upper',\n  'zfill'],\n '_i36': 'dir()',\n '_36': ['In',\n  'Out',\n  '_',\n  '_1',\n  '_11',\n  '_12',\n  '_14',\n  '_15',\n  '_18',\n  '_2',\n  '_20',\n  '_21',\n  '_22',\n  '_24',\n  '_25',\n  '_26',\n  '_27',\n  '_28',\n  '_3',\n  '_32',\n  '_35',\n  '_4',\n  '_5',\n  '_6',\n  '_7',\n  '_8',\n  '_9',\n  '__',\n  '___',\n  '__builtin__',\n  '__builtins__',\n  '__doc__',\n  '__loader__',\n  '__name__',\n  '__package__',\n  '__spec__',\n  '_dh',\n  '_i',\n  '_i1',\n  '_i10',\n  '_i11',\n  '_i12',\n  '_i13',\n  '_i14',\n  '_i15',\n  '_i16',\n  '_i17',\n  '_i18',\n  '_i19',\n  '_i2',\n  '_i20',\n  '_i21',\n  '_i22',\n  '_i23',\n  '_i24',\n  '_i25',\n  '_i26',\n  '_i27',\n  '_i28',\n  '_i29',\n  '_i3',\n  '_i30',\n  '_i31',\n  '_i32',\n  '_i33',\n  '_i34',\n  '_i35',\n  '_i36',\n  '_i4',\n  '_i5',\n  '_i6',\n  '_i7',\n  '_i8',\n  '_i9',\n  '_ih',\n  '_ii',\n  '_iii',\n  '_oh',\n  'a',\n  'b',\n  'c',\n  'exit',\n  'get_ipython',\n  'quit',\n  'string'],\n '_i37': 'dir(a)',\n '_37': ['__abs__',\n  '__add__',\n  '__bool__',\n  '__class__',\n  '__delattr__',\n  '__dir__',\n  '__divmod__',\n  '__doc__',\n  '__eq__',\n  '__float__',\n  '__floordiv__',\n  '__format__',\n  '__ge__',\n  '__getattribute__',\n  '__getnewargs__',\n  '__gt__',\n  '__hash__',\n  '__init__',\n  '__init_subclass__',\n  '__int__',\n  '__le__',\n  '__lt__',\n  '__mod__',\n  '__mul__',\n  '__ne__',\n  '__neg__',\n  '__new__',\n  '__pos__',\n  '__pow__',\n  '__radd__',\n  '__rdivmod__',\n  '__reduce__',\n  '__reduce_ex__',\n  '__repr__',\n  '__rfloordiv__',\n  '__rmod__',\n  '__rmul__',\n  '__rpow__',\n  '__rsub__',\n  '__rtruediv__',\n  '__setattr__',\n  '__sizeof__',\n  '__str__',\n  '__sub__',\n  '__subclasshook__',\n  '__truediv__',\n  'conjugate',\n  'imag',\n  'real'],\n '_i38': 'a, b = divmod(10, 3)\\na, b',\n '_38': (3, 1),\n '_i39': 'a = enumerate(range(10))\\nfor each in a:\\n    print(each)',\n 'each': (7, 'n'),\n '_i40': 'str = \"3 * 4 + 5\"\\na = compile(str,\\'\\',\\'eval\\')\\neval(a)',\n 'str': '3 * 4 + 5',\n '_40': 17,\n '_i41': 'def is_odd(n):\\n    return n % 2 == 1\\n \\nnewlist = filter(is_odd, [1, 2, 3, 4, 5, 6, 7, 8, 9, 10])\\nprint(newlist)',\n 'is_odd': <function __main__.is_odd(n)>,\n 'newlist': <filter at 0x19c33e95648>,\n '_i42': 'def is_odd(n):\\n    return n % 2 == 1\\n \\nnewlist = filter(is_odd, [1, 2, 3, 4, 5, 6, 7, 8, 9, 10])\\nfor each in newlist:\\n    print(each)',\n '_i43': 'a = frozenset(1, 2, 3)\\na',\n '_i44': 'a = frozenset(list(\"zhangsan\"))\\na',\n '_44': frozenset({'a', 'g', 'h', 'n', 's', 'z'}),\n '_i45': 'dir(a)',\n '_45': ['__and__',\n  '__class__',\n  '__contains__',\n  '__delattr__',\n  '__dir__',\n  '__doc__',\n  '__eq__',\n  '__format__',\n  '__ge__',\n  '__getattribute__',\n  '__gt__',\n  '__hash__',\n  '__init__',\n  '__init_subclass__',\n  '__iter__',\n  '__le__',\n  '__len__',\n  '__lt__',\n  '__ne__',\n  '__new__',\n  '__or__',\n  '__rand__',\n  '__reduce__',\n  '__reduce_ex__',\n  '__repr__',\n  '__ror__',\n  '__rsub__',\n  '__rxor__',\n  '__setattr__',\n  '__sizeof__',\n  '__str__',\n  '__sub__',\n  '__subclasshook__',\n  '__xor__',\n  'copy',\n  'difference',\n  'intersection',\n  'isdisjoint',\n  'issubset',\n  'issuperset',\n  'symmetric_difference',\n  'union'],\n '_i46': \"getattr(a, '__dir__')\",\n '_46': <function frozenset.__dir__()>,\n '_i47': \"getattr(a, 'issubset')\",\n '_47': <function frozenset.issubset>,\n '_i48': \"print(10) if getattr(a, 'issubset') else print(1)\",\n '_i49': \"print(10) if getattr(a, 'hhh') else print(1)\",\n '_i50': \"print(10) if getattr(a, 'issubset') else print(1)\",\n '_i51': 'hash(\"zhangsan\")',\n '_51': 632751094232907321,\n '_i52': 'hash(\"zhangsan\")',\n '_52': 632751094232907321,\n '_i53': 'hash(\"zhangsan \")',\n '_53': -5455773871725074162,\n '_i54': 'hash(\"zhangsan\")',\n '_54': 632751094232907321,\n '_i55': 'hex(a)',\n '_i56': 'hex(111)',\n '_56': '0x6f',\n '_i57': 'hex(101)',\n '_57': '0x65',\n '_i58': 'id(a)',\n '_58': 1770396200296,\n '_i59': 'a = input()',\n '_i60': 'int(111, 2)',\n '_i61': 'int(111, base=2)',\n '_i62': 'int(b011, base=2)',\n '_i63': \"int('111', base=10)\",\n '_63': 111,\n '_i64': \"int('12',16)\",\n '_64': 18,\n '_i65': \"int('12',3)\",\n '_65': 5,\n '_i66': \"int('12',8)\",\n '_66': 10,\n '_i67': \"int('12',12)\",\n '_67': 14,\n '_i68': \"int('12',7)\",\n '_68': 9,\n '_i69': \"int('12',0.1)\",\n '_i70': \"int('12',1)\",\n '_i71': \"int('12', 0)\",\n '_71': 12,\n '_i72': \"int('12', 4)\",\n '_72': 6,\n '_i73': 'issubclass(int, object)',\n '_73': True,\n '_i74': 'a = iter(list(\"zhangsan\"))\\na',\n '_74': <list_iterator at 0x19c33eb6e08>,\n '_i75': 'a = iter(list(\"zhangsan\"))\\nfor each in a:\\n    print(each)',\n '_i76': 'b = enumerate(\"zhangsan\")\\nfor each in b:\\n    print(each)',\n '_i77': 'locals()'}"
      ]
     },
     "execution_count": 77,
     "metadata": {},
     "output_type": "execute_result"
    }
   ],
   "source": [
    "locals()"
   ]
  },
  {
   "cell_type": "code",
   "execution_count": 82,
   "metadata": {},
   "outputs": [
    {
     "name": "stdout",
     "output_type": "stream",
     "text": [
      "1\n4\n9\n16\n25\n"
     ]
    }
   ],
   "source": [
    "a = map(lambda x: x ** 2, [1, 2, 3, 4, 5])\n",
    "for each in a:\n",
    "    print(each)"
   ]
  },
  {
   "cell_type": "code",
   "execution_count": 86,
   "metadata": {},
   "outputs": [
    {
     "name": "stdout",
     "output_type": "stream",
     "text": [
      "4\n8\n12\n"
     ]
    }
   ],
   "source": [
    "def quarter(n):\n",
    "    return int(n) * 4\n",
    "\n",
    "a = map(quarter, list(\"123\"))\n",
    "for each in a:\n",
    "    print(each)"
   ]
  },
  {
   "cell_type": "code",
   "execution_count": 92,
   "metadata": {},
   "outputs": [
    {
     "data": {
      "text/plain": [
       "12"
      ]
     },
     "execution_count": 92,
     "metadata": {},
     "output_type": "execute_result"
    }
   ],
   "source": [
    "a = list(map(quarter, list(\"123\")))\n",
    "max(a)"
   ]
  },
  {
   "cell_type": "code",
   "execution_count": 93,
   "metadata": {},
   "outputs": [
    {
     "data": {
      "text/plain": [
       "4"
      ]
     },
     "execution_count": 93,
     "metadata": {},
     "output_type": "execute_result"
    }
   ],
   "source": [
    "a = map(quarter, list(\"123\"))\n",
    "next(a)"
   ]
  },
  {
   "cell_type": "code",
   "execution_count": 94,
   "metadata": {},
   "outputs": [
    {
     "data": {
      "text/plain": [
       "<map at 0x19c33eb6c48>"
      ]
     },
     "execution_count": 94,
     "metadata": {},
     "output_type": "execute_result"
    }
   ],
   "source": [
    "a"
   ]
  },
  {
   "cell_type": "code",
   "execution_count": 96,
   "metadata": {},
   "outputs": [
    {
     "data": {
      "text/plain": [
       "(0, 'z')"
      ]
     },
     "execution_count": 96,
     "metadata": {},
     "output_type": "execute_result"
    }
   ],
   "source": [
    "a = enumerate(list(\"zhangsan\"))\n",
    "next(a)"
   ]
  },
  {
   "cell_type": "code",
   "execution_count": 98,
   "metadata": {},
   "outputs": [
    {
     "data": {
      "text/plain": [
       "'z'"
      ]
     },
     "execution_count": 98,
     "metadata": {},
     "output_type": "execute_result"
    }
   ],
   "source": [
    "a = iter(list(\"zhangsan\"))\n",
    "next(a)"
   ]
  },
  {
   "cell_type": "code",
   "execution_count": 99,
   "metadata": {},
   "outputs": [
    {
     "data": {
      "text/plain": [
       "'0o12'"
      ]
     },
     "execution_count": 99,
     "metadata": {},
     "output_type": "execute_result"
    }
   ],
   "source": [
    "oct(10)"
   ]
  },
  {
   "cell_type": "code",
   "execution_count": 104,
   "metadata": {},
   "outputs": [
    {
     "data": {
      "text/plain": [
       "'C:\\\\Users\\\\yangsy-c'"
      ]
     },
     "execution_count": 104,
     "metadata": {},
     "output_type": "execute_result"
    }
   ],
   "source": [
    "import os\n",
    "os.getcwd()"
   ]
  },
  {
   "cell_type": "code",
   "execution_count": 127,
   "metadata": {
    "collapsed": true
   },
   "outputs": [
    {
     "data": {
      "text/plain": [
       "['[INFO] 2022-12-01 05:27:02.449  - [taskAppId=TASK-44-304161-1974982]:[115] - create dir success /tmp/dolphinscheduler/exec/process/11/44/304161/1974982\\n',\n '[INFO] 2022-12-01 05:27:02.451  - [taskAppId=TASK-44-304161-1974982]:[85] - shell task params {\"rawScript\":\"python ${dm.project.dir}/device/dm_query_device_lock.py ${etl.date}\",\"localParams\":[],\"resourceList\":[]}\\n',\n '[INFO] 2022-12-01 05:27:02.451  - [taskAppId=TASK-44-304161-1974982]:[160] - raw script : python /data/gtair/dm/device/dm_query_device_lock.py 20221201\\n',\n '[INFO] 2022-12-01 05:27:02.451  - [taskAppId=TASK-44-304161-1974982]:[161] - task execute path : /tmp/dolphinscheduler/exec/process/11/44/304161/1974982\\n',\n '[INFO] 2022-12-01 05:27:02.451  - [taskAppId=TASK-44-304161-1974982]:[87] - tenantCode user:gtair, task dir:44_304161_1974982\\n',\n '[INFO] 2022-12-01 05:27:02.451  - [taskAppId=TASK-44-304161-1974982]:[92] - create command file:/tmp/dolphinscheduler/exec/process/11/44/304161/1974982/44_304161_1974982.command\\n',\n '[INFO] 2022-12-01 05:27:02.452  - [taskAppId=TASK-44-304161-1974982]:[111] - command : #!/bin/sh\\n',\n 'BASEDIR=$(cd `dirname $0`; pwd)\\n',\n 'cd $BASEDIR\\n',\n 'source /opt/dolphinscheduler/conf/env/dolphinscheduler_env.sh\\n',\n '/tmp/dolphinscheduler/exec/process/11/44/304161/1974982/44_304161_1974982_node.sh\\n',\n '[INFO] 2022-12-01 05:27:02.455  - [taskAppId=TASK-44-304161-1974982]:[324] - task run command:\\n',\n 'sudo -u gtair sh /tmp/dolphinscheduler/exec/process/11/44/304161/1974982/44_304161_1974982.command\\n',\n '[INFO] 2022-12-01 05:27:02.455  - [taskAppId=TASK-44-304161-1974982]:[205] - process start, process id is: 47565\\n',\n '[INFO] 2022-12-01 05:27:03.577  - [taskAppId=TASK-44-304161-1974982]:[127] -  -> 2022-12-01 05:27:02 INFO 日志位置：/tmp/gtair_LOG/20221201\\n',\n '\\t2022-12-01 05:27:02 INFO 脚本最后修改为：2021-01-25 17:36 Version 1.0\\n',\n '\\t2022-12-01 05:27:02 INFO spark-sql                    --master yarn                   --name dm_query_device_lock                   --queue aecore                   --num-executors 10                   --executor-cores 3                   --executor-memory 9g                   --driver-memory 6g                   --driver-cores 4                   --conf spark.dynamicAllocation.enabled=false                   --conf spark.shuffle.service.enabled=false                                --conf spark.isLoadHivercFile=true                   --conf spark.sql.tempudf.ignoreIfExists=true                   --conf spark.sql.shuffle.partitions=500                   --conf spark.sql.crossJoin.enabled=true                   --conf spark.sql.hive.mergeFiles=true                   --conf spark.hadoop.mapreduce.input.fileinputformat.input.dir.recursive=true                   --conf spark.hive.mapred.supports.subdirectories=true                   --conf mapreduce.input.fileinputformat.input.dir.recursive=true                   --conf spark.sql.hive.convertMetastoreParquet=false                   --conf spark.sql.autoBroadcastJoinThreshold=52428800                   --conf spark.sql.parser.quotedRegexColumnNames=true                   --conf spark.sql.adaptive.enabled=true                   --conf spark.sql.adaptiveBroadcastJoinThreshold=524288000                   --conf spark.sql.adaptive.allowAdditionalShuffle=true                   --conf spark.sql.adaptive.join.enabled=true                   --conf spark.sql.adaptive.skewedJoin.enabled=true                   --conf spark.sql.adaptive.minNumPostShufflePartitions=1                   --conf spark.sql.adaptive.maxNumPostShufflePartitions=5000                   --conf spark.broadcast.compress=true                   --conf spark.rdd.compress=true                   --conf spark.shuffle.file.buffer=128k                   --conf spark.reducer.maxSizeInFlight=96M                   --conf spark.shuffle.io.maxRetries=9                   --conf spark.shuffle.io.retryWait=60s                   --conf spark.resource.level=medium                   --conf spark.sql.source=SparkTask                   --conf spark.yarn.executor.memoryOverhead=4G                   --conf spark.yarn.executor.memoryOverhead=3G --conf \"spark.executor.extraJavaOptions=-XX:MaxDirectMemorySize=1024m\"                   -e \"\\n',\n '\\tset hive.exec.dynamic.partition=true;\\n',\n '\\tset hive.exec.dynamic.partition.mode=nonstrict;\\n',\n '\\t                      set hive.exec.compress.output=true;\\n',\n '\\t                      set mapred.output.compression.codec=org.apache.hadoop.io.compress.SnappyCodec;\\n',\n '\\t                   USE dm;\\n',\n '\\t\\n',\n '\\tset hive.exec.parallel=true;\\n',\n '\\tset parquet.compression=snappy;\\n',\n '\\tset hive.merge.mapfiles = true;\\n',\n '\\tset hive.merge.mapredfiles = true;\\n',\n '\\tset hive.merge.size.per.task = 256000000;\\n',\n '\\tset hive.merge.smallfiles.avgsize=16000000;\\n',\n '\\tset mapred.reduce.tasks=50;\\n',\n '\\tset hive.exec.dynamic.partition=true;  \\n',\n '\\tset hive.exec.dynamic.partition.mode=nonstrict; \\n',\n '\\tset hive.tez.container.size=20480;\\n',\n '\\tset hive.tez.java.opts=-Xmx16384m;\\n',\n '\\tinsert  overwrite table dm.dm_query_device_lock partition(pid,spid)\\n',\n '\\tselect \\n',\n '\\t  unix_timestamp() as etl_time,\\n',\n '\\t  b.name as pid_name,\\n',\n '\\t  b.sname as spid_name,\\n',\n '\\t  a.region_rule,\\n',\n '\\t  a.app_version,\\n',\n '\\t  a.device_id,\\n',\n '\\t  a.lock_id,\\n',\n '\\t  min(a.first_use_time) first_relation_time,\\n',\n '\\t  max(a.last_use_time) last_relation_time,\\n',\n '\\t  b.pid,\\n',\n '\\t  a.spid\\n',\n '\\t  from dim.dim_behavior_base_dgd_full a\\n',\n '\\t  join dim.dim_ops_product b\\n',\n '\\t  on a.spid=b.spid\\n',\n '\\t  where a.pdate=20221130 and a.lock_id is not null and a.device_id is not null\\n',\n '\\t  group by b.pid,a.spid,b.name,b.sname,a.region_rule,a.app_version,a.lock_id,a.device_id\\n',\n '\\tdistribute by rand();\\n',\n '\\t\"\\n',\n '\\t2022-12-01 05:27:03 INFO Warning: Ignoring non-spark config property: mapreduce.input.fileinputformat.input.dir.recursive=true\\n',\n \"[INFO] 2022-12-01 05:27:04.743  - [taskAppId=TASK-44-304161-1974982]:[127] -  -> 2022-12-01 05:27:03 INFO 22/12/01 05:27:03 WARN SparkConf: The configuration key 'spark.yarn.executor.memoryOverhead' has been deprecated as of Spark 2.3 and may be removed in the future. Please use the new key 'spark.executor.memoryOverhead' instead.\\n\",\n \"\\t2022-12-01 05:27:04 INFO 22/12/01 05:27:04 WARN SparkConf: The configuration key 'spark.yarn.executor.memoryOverhead' has been deprecated as of Spark 2.3 and may be removed in the future. Please use the new key 'spark.executor.memoryOverhead' instead.\\n\",\n '\\t2022-12-01 05:27:04 INFO 22/12/01 05:27:04 INFO metastore: Trying to connect to metastore with URI thrift://gnamenode02:9083\\n',\n '[INFO] 2022-12-01 05:27:06.387  - [taskAppId=TASK-44-304161-1974982]:[127] -  -> 2022-12-01 05:27:04 INFO 22/12/01 05:27:04 INFO metastore: Connected to metastore.\\n',\n '\\t2022-12-01 05:27:06 INFO 22/12/01 05:27:06 INFO SessionState: Created local directory: /tmp/fdbe1940-922f-4b09-9de3-fb61f6214434_resources\\n',\n '[INFO] 2022-12-01 05:27:07.468  - [taskAppId=TASK-44-304161-1974982]:[127] -  -> 2022-12-01 05:27:06 INFO 22/12/01 05:27:06 INFO SessionState: Created HDFS directory: /tmp/spark/gtair/fdbe1940-922f-4b09-9de3-fb61f6214434\\n',\n '\\t2022-12-01 05:27:06 INFO 22/12/01 05:27:06 INFO SessionState: Created local directory: /tmp/gtair/fdbe1940-922f-4b09-9de3-fb61f6214434\\n',\n '\\t2022-12-01 05:27:06 INFO 22/12/01 05:27:06 INFO SessionState: Created HDFS directory: /tmp/spark/gtair/fdbe1940-922f-4b09-9de3-fb61f6214434/_tmp_space.db\\n',\n \"\\t2022-12-01 05:27:06 INFO 22/12/01 05:27:06 WARN SparkConf: The configuration key 'spark.yarn.executor.memoryOverhead' has been deprecated as of Spark 2.3 and may be removed in the future. Please use the new key 'spark.executor.memoryOverhead' instead.\\n\",\n \"\\t2022-12-01 05:27:06 INFO 22/12/01 05:27:06 WARN SparkConf: The configuration key 'spark.yarn.executor.memoryOverhead' has been deprecated as of Spark 2.3 and may be removed in the future. Please use the new key 'spark.executor.memoryOverhead' instead.\\n\",\n \"\\t2022-12-01 05:27:06 INFO 22/12/01 05:27:06 WARN SparkConf: The configuration key 'spark.yarn.executor.memoryOverhead' has been deprecated as of Spark 2.3 and may be removed in the future. Please use the new key 'spark.executor.memoryOverhead' instead.\\n\",\n '\\t2022-12-01 05:27:06 INFO 22/12/01 05:27:06 INFO SparkContext: Running Spark version 2.3.2.3.1.4.0-315\\n',\n '\\t2022-12-01 05:27:06 INFO 22/12/01 05:27:06 INFO SparkContext: Submitted application: dm_query_device_lock\\n',\n '\\t2022-12-01 05:27:06 INFO 22/12/01 05:27:06 INFO SecurityManager: Changing view acls to: gtair\\n',\n '\\t2022-12-01 05:27:06 INFO 22/12/01 05:27:06 INFO SecurityManager: Changing modify acls to: gtair\\n',\n '\\t2022-12-01 05:27:06 INFO 22/12/01 05:27:06 INFO SecurityManager: Changing view acls groups to:\\n',\n '\\t2022-12-01 05:27:06 INFO 22/12/01 05:27:06 INFO SecurityManager: Changing modify acls groups to:\\n',\n '\\t2022-12-01 05:27:06 INFO 22/12/01 05:27:06 INFO SecurityManager: SecurityManager: authentication disabled; ui acls disabled; users  with view permissions: Set(gtair); groups with view permissions: Set(); users  with modify permissions: Set(gtair); groups with modify permissions: Set()\\n',\n \"\\t2022-12-01 05:27:06 INFO 22/12/01 05:27:06 INFO Utils: Successfully started service 'sparkDriver' on port 42242.\\n\",\n '\\t2022-12-01 05:27:06 INFO 22/12/01 05:27:06 INFO SparkEnv: Registering MapOutputTracker\\n',\n '\\t2022-12-01 05:27:06 INFO 22/12/01 05:27:06 INFO SparkEnv: Registering BlockManagerMaster\\n',\n '\\t2022-12-01 05:27:06 INFO 22/12/01 05:27:06 INFO BlockManagerMasterEndpoint: Using org.apache.spark.storage.DefaultTopologyMapper for getting topology information\\n',\n '\\t2022-12-01 05:27:06 INFO 22/12/01 05:27:06 INFO BlockManagerMasterEndpoint: BlockManagerMasterEndpoint up\\n',\n '\\t2022-12-01 05:27:06 INFO 22/12/01 05:27:06 INFO DiskBlockManager: Created local directory at /tmp/blockmgr-70d86966-480c-4fc8-a089-a6f281901dfb\\n',\n '\\t2022-12-01 05:27:06 INFO 22/12/01 05:27:06 INFO MemoryStore: MemoryStore started with capacity 3.0 GB\\n',\n '\\t2022-12-01 05:27:06 INFO 22/12/01 05:27:06 INFO SparkEnv: Registering OutputCommitCoordinator\\n',\n '\\t2022-12-01 05:27:07 INFO 22/12/01 05:27:07 INFO log: Logging initialized @4174ms\\n',\n '\\t2022-12-01 05:27:07 INFO 22/12/01 05:27:07 INFO Server: jetty-9.3.z-SNAPSHOT, build timestamp: 2018-06-06T01:11:56+08:00, git hash: 84205aa28f11a4f31f2a3b86d1bba2cc8ab69827\\n',\n '\\t2022-12-01 05:27:07 INFO 22/12/01 05:27:07 INFO Server: Started @4261ms\\n',\n \"\\t2022-12-01 05:27:07 INFO 22/12/01 05:27:07 WARN Utils: Service 'SparkUI' could not bind on port 4040. Attempting port 4041.\\n\",\n \"\\t2022-12-01 05:27:07 INFO 22/12/01 05:27:07 WARN Utils: Service 'SparkUI' could not bind on port 4041. Attempting port 4042.\\n\",\n \"\\t2022-12-01 05:27:07 INFO 22/12/01 05:27:07 WARN Utils: Service 'SparkUI' could not bind on port 4042. Attempting port 4043.\\n\",\n '\\t2022-12-01 05:27:07 INFO 22/12/01 05:27:07 INFO AbstractConnector: Started ServerConnector@27329d2a{HTTP/1.1,[http/1.1]}{0.0.0.0:4043}\\n',\n \"\\t2022-12-01 05:27:07 INFO 22/12/01 05:27:07 INFO Utils: Successfully started service 'SparkUI' on port 4043.\\n\",\n '\\t2022-12-01 05:27:07 INFO 22/12/01 05:27:07 INFO ContextHandler: Started o.s.j.s.ServletContextHandler@3e906375{/jobs,null,AVAILABLE,@Spark}\\n',\n '\\t2022-12-01 05:27:07 INFO 22/12/01 05:27:07 INFO ContextHandler: Started o.s.j.s.ServletContextHandler@3976ebfa{/jobs/json,null,AVAILABLE,@Spark}\\n',\n '\\t2022-12-01 05:27:07 INFO 22/12/01 05:27:07 INFO ContextHandler: Started o.s.j.s.ServletContextHandler@2676dc05{/jobs/job,null,AVAILABLE,@Spark}\\n',\n '\\t2022-12-01 05:27:07 INFO 22/12/01 05:27:07 INFO ContextHandler: Started o.s.j.s.ServletContextHandler@4833eff3{/jobs/job/json,null,AVAILABLE,@Spark}\\n',\n '\\t2022-12-01 05:27:07 INFO 22/12/01 05:27:07 INFO ContextHandler: Started o.s.j.s.ServletContextHandler@4694f434{/stages,null,AVAILABLE,@Spark}\\n',\n '\\t2022-12-01 05:27:07 INFO 22/12/01 05:27:07 INFO ContextHandler: Started o.s.j.s.ServletContextHandler@56928e17{/stages/json,null,AVAILABLE,@Spark}\\n',\n '\\t2022-12-01 05:27:07 INFO 22/12/01 05:27:07 INFO ContextHandler: Started o.s.j.s.ServletContextHandler@dd2856e{/stages/stage,null,AVAILABLE,@Spark}\\n',\n '\\t2022-12-01 05:27:07 INFO 22/12/01 05:27:07 INFO ContextHandler: Started o.s.j.s.ServletContextHandler@793d163b{/stages/stage/json,null,AVAILABLE,@Spark}\\n',\n '\\t2022-12-01 05:27:07 INFO 22/12/01 05:27:07 INFO ContextHandler: Started o.s.j.s.ServletContextHandler@60dd0587{/stages/pool,null,AVAILABLE,@Spark}\\n',\n '\\t2022-12-01 05:27:07 INFO 22/12/01 05:27:07 INFO ContextHandler: Started o.s.j.s.ServletContextHandler@77f905e3{/stages/pool/json,null,AVAILABLE,@Spark}\\n',\n '\\t2022-12-01 05:27:07 INFO 22/12/01 05:27:07 INFO ContextHandler: Started o.s.j.s.ServletContextHandler@221a2068{/storage,null,AVAILABLE,@Spark}\\n',\n '\\t2022-12-01 05:27:07 INFO 22/12/01 05:27:07 INFO ContextHandler: Started o.s.j.s.ServletContextHandler@338766de{/storage/json,null,AVAILABLE,@Spark}\\n',\n '\\t2022-12-01 05:27:07 INFO 22/12/01 05:27:07 INFO ContextHandler: Started o.s.j.s.ServletContextHandler@3b7eac14{/storage/rdd,null,AVAILABLE,@Spark}\\n',\n '\\t2022-12-01 05:27:07 INFO 22/12/01 05:27:07 INFO ContextHandler: Started o.s.j.s.ServletContextHandler@4976085{/storage/rdd/json,null,AVAILABLE,@Spark}\\n',\n '\\t2022-12-01 05:27:07 INFO 22/12/01 05:27:07 INFO ContextHandler: Started o.s.j.s.ServletContextHandler@777d191f{/environment,null,AVAILABLE,@Spark}\\n',\n '\\t2022-12-01 05:27:07 INFO 22/12/01 05:27:07 INFO ContextHandler: Started o.s.j.s.ServletContextHandler@7fc420b8{/environment/json,null,AVAILABLE,@Spark}\\n',\n '\\t2022-12-01 05:27:07 INFO 22/12/01 05:27:07 INFO ContextHandler: Started o.s.j.s.ServletContextHandler@31142d58{/executors,null,AVAILABLE,@Spark}\\n',\n '\\t2022-12-01 05:27:07 INFO 22/12/01 05:27:07 INFO ContextHandler: Started o.s.j.s.ServletContextHandler@e38f0b7{/executors/json,null,AVAILABLE,@Spark}\\n',\n '\\t2022-12-01 05:27:07 INFO 22/12/01 05:27:07 INFO ContextHandler: Started o.s.j.s.ServletContextHandler@1192b58e{/executors/threadDump,null,AVAILABLE,@Spark}\\n',\n '\\t2022-12-01 05:27:07 INFO 22/12/01 05:27:07 INFO ContextHandler: Started o.s.j.s.ServletContextHandler@4f8d86e4{/executors/threadDump/json,null,AVAILABLE,@Spark}\\n',\n '\\t2022-12-01 05:27:07 INFO 22/12/01 05:27:07 INFO ContextHandler: Started o.s.j.s.ServletContextHandler@5f631ca0{/static,null,AVAILABLE,@Spark}\\n',\n '\\t2022-12-01 05:27:07 INFO 22/12/01 05:27:07 INFO ContextHandler: Started o.s.j.s.ServletContextHandler@4232b34a{/,null,AVAILABLE,@Spark}\\n',\n '\\t2022-12-01 05:27:07 INFO 22/12/01 05:27:07 INFO ContextHandler: Started o.s.j.s.ServletContextHandler@2da16263{/api,null,AVAILABLE,@Spark}\\n',\n '\\t2022-12-01 05:27:07 INFO 22/12/01 05:27:07 INFO ContextHandler: Started o.s.j.s.ServletContextHandler@360e9c06{/jobs/job/kill,null,AVAILABLE,@Spark}\\n',\n '\\t2022-12-01 05:27:07 INFO 22/12/01 05:27:07 INFO ContextHandler: Started o.s.j.s.ServletContextHandler@5ebffb44{/stages/stage/kill,null,AVAILABLE,@Spark}\\n',\n '\\t2022-12-01 05:27:07 INFO 22/12/01 05:27:07 INFO SparkUI: Bound SparkUI to 0.0.0.0, and started at http://gnnode:4043\\n',\n '\\t2022-12-01 05:27:07 INFO 22/12/01 05:27:07 INFO Client: Requesting a new application from cluster with 34 NodeManagers\\n',\n '[INFO] 2022-12-01 05:27:08.623  - [taskAppId=TASK-44-304161-1974982]:[127] -  -> 2022-12-01 05:27:07 INFO 22/12/01 05:27:07 INFO Configuration: found resource resource-types.xml at file:/etc/hadoop/3.1.4.0-315/0/resource-types.xml\\n',\n '\\t2022-12-01 05:27:07 INFO 22/12/01 05:27:07 INFO Client: Verifying our application has not requested more than the maximum memory capability of the cluster (208896 MB per container)\\n',\n '\\t2022-12-01 05:27:07 INFO 22/12/01 05:27:07 INFO Client: Will allocate AM container, with 896 MB memory including 384 MB overhead\\n',\n '\\t2022-12-01 05:27:07 INFO 22/12/01 05:27:07 INFO Client: Setting up container launch context for our AM\\n',\n '\\t2022-12-01 05:27:07 INFO 22/12/01 05:27:07 INFO Client: Setting up the launch environment for our AM container\\n',\n '\\t2022-12-01 05:27:07 INFO 22/12/01 05:27:07 INFO Client: Preparing resources for our AM container\\n',\n '\\t2022-12-01 05:27:08 INFO 22/12/01 05:27:08 INFO Client: Use hdfs cache file as spark.yarn.archive for HDP, hdfsCacheFile:hdfs://gbigdata/hdp/apps/3.1.4.0-315/spark2/spark2-hdp-yarn-archive.tar.gz\\n',\n '[INFO] 2022-12-01 05:27:10.172  - [taskAppId=TASK-44-304161-1974982]:[127] -  -> 2022-12-01 05:27:08 INFO 22/12/01 05:27:08 INFO Client: Source and destination file systems are the same. Not copying hdfs://gbigdata/hdp/apps/3.1.4.0-315/spark2/spark2-hdp-yarn-archive.tar.gz\\n',\n '\\t2022-12-01 05:27:08 INFO 22/12/01 05:27:08 INFO Client: Distribute hdfs cache file as spark.sql.hive.metastore.jars for HDP, hdfsCacheFile:hdfs://gbigdata/hdp/apps/3.1.4.0-315/spark2/spark2-hdp-hive-archive.tar.gz\\n',\n '\\t2022-12-01 05:27:08 INFO 22/12/01 05:27:08 INFO Client: Source and destination file systems are the same. Not copying hdfs://gbigdata/hdp/apps/3.1.4.0-315/spark2/spark2-hdp-hive-archive.tar.gz\\n',\n '\\t2022-12-01 05:27:08 INFO 22/12/01 05:27:08 INFO Client: Uploading resource file:/tmp/spark-bf47ee80-8d2f-4e38-ab5b-7a356b30779f/__spark_conf__8529608488835091990.zip -> hdfs://gbigdata/user/gtair/.sparkStaging/application_1667144718054_72786/__spark_conf__.zip\\n',\n '\\t2022-12-01 05:27:09 INFO 22/12/01 05:27:09 INFO SecurityManager: Changing view acls to: gtair\\n',\n '\\t2022-12-01 05:27:09 INFO 22/12/01 05:27:09 INFO SecurityManager: Changing modify acls to: gtair\\n',\n '\\t2022-12-01 05:27:09 INFO 22/12/01 05:27:09 INFO SecurityManager: Changing view acls groups to:\\n',\n '\\t2022-12-01 05:27:09 INFO 22/12/01 05:27:09 INFO SecurityManager: Changing modify acls groups to:\\n',\n '\\t2022-12-01 05:27:09 INFO 22/12/01 05:27:09 INFO SecurityManager: SecurityManager: authentication disabled; ui acls disabled; users  with view permissions: Set(gtair); groups with view permissions: Set(); users  with modify permissions: Set(gtair); groups with modify permissions: Set()\\n',\n '\\t2022-12-01 05:27:09 INFO 22/12/01 05:27:09 INFO Client: Submitting application application_1667144718054_72786 to ResourceManager\\n',\n '\\t2022-12-01 05:27:09 INFO 22/12/01 05:27:09 INFO YarnClientImpl: Submitted application application_1667144718054_72786\\n',\n '\\t2022-12-01 05:27:09 INFO 22/12/01 05:27:09 INFO SchedulerExtensionServices: Starting Yarn extension services with app application_1667144718054_72786 and attemptId None\\n',\n '\\t2022-12-01 05:27:10 INFO 22/12/01 05:27:10 INFO Client: Application report for application_1667144718054_72786 (state: ACCEPTED)\\n',\n '[INFO] 2022-12-01 05:27:11.178  - [taskAppId=TASK-44-304161-1974982]:[127] -  -> 2022-12-01 05:27:10 INFO 22/12/01 05:27:10 INFO Client:\\n',\n '\\t2022-12-01 05:27:10 INFO client token: N/A\\n',\n '\\t2022-12-01 05:27:10 INFO diagnostics: AM container is launched, waiting for AM container to Register with RM\\n',\n '\\t2022-12-01 05:27:10 INFO ApplicationMaster host: N/A\\n',\n '\\t2022-12-01 05:27:10 INFO ApplicationMaster RPC port: -1\\n',\n '\\t2022-12-01 05:27:10 INFO queue: aecore\\n',\n '\\t2022-12-01 05:27:10 INFO start time: 1669843629143\\n',\n '\\t2022-12-01 05:27:10 INFO final status: UNDEFINED\\n',\n '\\t2022-12-01 05:27:10 INFO tracking URL: http://gnamenode02:8088/proxy/application_1667144718054_72786/\\n',\n '\\t2022-12-01 05:27:10 INFO user: gtair\\n',\n '\\t2022-12-01 05:27:11 INFO 22/12/01 05:27:11 INFO Client: Application report for application_1667144718054_72786 (state: ACCEPTED)\\n',\n '[INFO] 2022-12-01 05:27:12.180  - [taskAppId=TASK-44-304161-1974982]:[127] -  -> 2022-12-01 05:27:12 INFO 22/12/01 05:27:12 INFO Client: Application report for application_1667144718054_72786 (state: ACCEPTED)\\n',\n '[INFO] 2022-12-01 05:27:13.183  - [taskAppId=TASK-44-304161-1974982]:[127] -  -> 2022-12-01 05:27:12 INFO 22/12/01 05:27:12 INFO YarnClientSchedulerBackend: Add WebUI Filter. org.apache.hadoop.yarn.server.webproxy.amfilter.AmIpFilter, Map(PROXY_HOSTS -> gnamenode02,gnamenode01, PROXY_URI_BASES -> http://gnamenode02:8088/proxy/application_1667144718054_72786,http://gnamenode01:8088/proxy/application_1667144718054_72786, RM_HA_URLS -> gnamenode02:8088,gnamenode01:8088), /proxy/application_1667144718054_72786\\n',\n '\\t2022-12-01 05:27:12 INFO 22/12/01 05:27:12 INFO JettyUtils: Adding filter org.apache.hadoop.yarn.server.webproxy.amfilter.AmIpFilter to /jobs, /jobs/json, /jobs/job, /jobs/job/json, /stages, /stages/json, /stages/stage, /stages/stage/json, /stages/pool, /stages/pool/json, /storage, /storage/json, /storage/rdd, /storage/rdd/json, /environment, /environment/json, /executors, /executors/json, /executors/threadDump, /executors/threadDump/json, /static, /, /api, /jobs/job/kill, /stages/stage/kill.\\n',\n '\\t2022-12-01 05:27:13 INFO 22/12/01 05:27:13 INFO YarnSchedulerBackend$YarnSchedulerEndpoint: ApplicationMaster registered as NettyRpcEndpointRef(spark-client://YarnAM)\\n',\n '\\t2022-12-01 05:27:13 INFO 22/12/01 05:27:13 INFO Client: Application report for application_1667144718054_72786 (state: RUNNING)\\n',\n '[INFO] 2022-12-01 05:27:15.719  - [taskAppId=TASK-44-304161-1974982]:[127] -  -> 2022-12-01 05:27:13 INFO 22/12/01 05:27:13 INFO Client:\\n',\n '\\t2022-12-01 05:27:13 INFO client token: N/A\\n',\n '\\t2022-12-01 05:27:13 INFO diagnostics: N/A\\n',\n '\\t2022-12-01 05:27:13 INFO ApplicationMaster host: 10.127.90.82\\n',\n '\\t2022-12-01 05:27:13 INFO ApplicationMaster RPC port: 0\\n',\n '\\t2022-12-01 05:27:13 INFO queue: aecore\\n',\n '\\t2022-12-01 05:27:13 INFO start time: 1669843629143\\n',\n '\\t2022-12-01 05:27:13 INFO final status: UNDEFINED\\n',\n '\\t2022-12-01 05:27:13 INFO tracking URL: http://gnamenode02:8088/proxy/application_1667144718054_72786/\\n',\n '\\t2022-12-01 05:27:13 INFO user: gtair\\n',\n '\\t2022-12-01 05:27:13 INFO 22/12/01 05:27:13 INFO YarnClientSchedulerBackend: Application application_1667144718054_72786 has started running.\\n',\n \"\\t2022-12-01 05:27:13 INFO 22/12/01 05:27:13 INFO Utils: Successfully started service 'org.apache.spark.network.netty.NettyBlockTransferService' on port 42540.\\n\",\n '\\t2022-12-01 05:27:13 INFO 22/12/01 05:27:13 INFO NettyBlockTransferService: Server created on gnnode:42540\\n',\n '\\t2022-12-01 05:27:13 INFO 22/12/01 05:27:13 INFO BlockManager: Using org.apache.spark.storage.RandomBlockReplicationPolicy for block replication policy\\n',\n '\\t2022-12-01 05:27:13 INFO 22/12/01 05:27:13 INFO BlockManagerMaster: Registering BlockManager BlockManagerId(driver, gnnode, 42540, None)\\n',\n '\\t2022-12-01 05:27:13 INFO 22/12/01 05:27:13 INFO BlockManagerMasterEndpoint: Registering block manager gnnode:42540 with 3.0 GB RAM, BlockManagerId(driver, gnnode, 42540, None)\\n',\n '\\t2022-12-01 05:27:13 INFO 22/12/01 05:27:13 INFO BlockManagerMaster: Registered BlockManager BlockManagerId(driver, gnnode, 42540, None)\\n',\n '\\t2022-12-01 05:27:13 INFO 22/12/01 05:27:13 INFO BlockManager: Initialized BlockManager: BlockManagerId(driver, gnnode, 42540, None)\\n',\n '\\t2022-12-01 05:27:13 INFO 22/12/01 05:27:13 INFO JettyUtils: Adding filter org.apache.hadoop.yarn.server.webproxy.amfilter.AmIpFilter to /metrics/json.\\n',\n '\\t2022-12-01 05:27:13 INFO 22/12/01 05:27:13 INFO ContextHandler: Started o.s.j.s.ServletContextHandler@39374689{/metrics/json,null,AVAILABLE,@Spark}\\n',\n '\\t2022-12-01 05:27:13 INFO 22/12/01 05:27:13 INFO EventLoggingListener: Logging events to hdfs:/spark2-history/application_1667144718054_72786\\n',\n '\\t2022-12-01 05:27:15 INFO 22/12/01 05:27:15 INFO YarnSchedulerBackend$YarnDriverEndpoint: Registered executor NettyRpcEndpointRef(spark-client://Executor) (10.127.90.112:36140) with ID 9\\n',\n '[INFO] 2022-12-01 05:27:16.857  - [taskAppId=TASK-44-304161-1974982]:[127] -  -> 2022-12-01 05:27:15 INFO 22/12/01 05:27:15 INFO BlockManagerMasterEndpoint: Registering block manager gdatanode30:33160 with 4.6 GB RAM, BlockManagerId(9, gdatanode30, 33160, None)\\n',\n '\\t2022-12-01 05:27:15 INFO 22/12/01 05:27:15 INFO YarnSchedulerBackend$YarnDriverEndpoint: Registered executor NettyRpcEndpointRef(spark-client://Executor) (10.127.90.99:51570) with ID 4\\n',\n '\\t2022-12-01 05:27:15 INFO 22/12/01 05:27:15 INFO BlockManagerMasterEndpoint: Registering block manager gdatanode17:38012 with 4.6 GB RAM, BlockManagerId(4, gdatanode17, 38012, None)\\n',\n '\\t2022-12-01 05:27:16 INFO 22/12/01 05:27:16 INFO YarnSchedulerBackend$YarnDriverEndpoint: Registered executor NettyRpcEndpointRef(spark-client://Executor) (10.127.90.107:44174) with ID 2\\n',\n '\\t2022-12-01 05:27:16 INFO 22/12/01 05:27:16 INFO YarnSchedulerBackend$YarnDriverEndpoint: Registered executor NettyRpcEndpointRef(spark-client://Executor) (10.127.90.90:42040) with ID 8\\n',\n '\\t2022-12-01 05:27:16 INFO 22/12/01 05:27:16 INFO YarnSchedulerBackend$YarnDriverEndpoint: Registered executor NettyRpcEndpointRef(spark-client://Executor) (10.127.90.101:49898) with ID 6\\n',\n '\\t2022-12-01 05:27:16 INFO 22/12/01 05:27:16 INFO BlockManagerMasterEndpoint: Registering block manager gdatanode25:44782 with 4.6 GB RAM, BlockManagerId(2, gdatanode25, 44782, None)\\n',\n '\\t2022-12-01 05:27:16 INFO 22/12/01 05:27:16 INFO YarnSchedulerBackend$YarnDriverEndpoint: Registered executor NettyRpcEndpointRef(spark-client://Executor) (10.127.90.89:58980) with ID 1\\n',\n '\\t2022-12-01 05:27:16 INFO 22/12/01 05:27:16 INFO BlockManagerMasterEndpoint: Registering block manager gdatanode08:35715 with 4.6 GB RAM, BlockManagerId(8, gdatanode08, 35715, None)\\n',\n '\\t2022-12-01 05:27:16 INFO 22/12/01 05:27:16 INFO BlockManagerMasterEndpoint: Registering block manager gdatanode19:39111 with 4.6 GB RAM, BlockManagerId(6, gdatanode19, 39111, None)\\n',\n '\\t2022-12-01 05:27:16 INFO 22/12/01 05:27:16 INFO BlockManagerMasterEndpoint: Registering block manager gdatanode07:40341 with 4.6 GB RAM, BlockManagerId(1, gdatanode07, 40341, None)\\n',\n '\\t2022-12-01 05:27:16 INFO 22/12/01 05:27:16 INFO YarnSchedulerBackend$YarnDriverEndpoint: Registered executor NettyRpcEndpointRef(spark-client://Executor) (10.127.90.97:36304) with ID 10\\n',\n '\\t2022-12-01 05:27:16 INFO 22/12/01 05:27:16 INFO BlockManagerMasterEndpoint: Registering block manager gdatanode15:33339 with 4.6 GB RAM, BlockManagerId(10, gdatanode15, 33339, None)\\n',\n '\\t2022-12-01 05:27:16 INFO 22/12/01 05:27:16 INFO YarnSchedulerBackend$YarnDriverEndpoint: Registered executor NettyRpcEndpointRef(spark-client://Executor) (10.127.90.113:55144) with ID 5\\n',\n '[INFO] 2022-12-01 05:27:18.078  - [taskAppId=TASK-44-304161-1974982]:[127] -  -> 2022-12-01 05:27:16 INFO 22/12/01 05:27:16 INFO YarnClientSchedulerBackend: SchedulerBackend is ready for scheduling beginning after reached minRegisteredResourcesRatio: 0.8\\n',\n '\\t2022-12-01 05:27:16 INFO 22/12/01 05:27:16 INFO SharedState: loading hive config file: file:/usr/hdp/3.1.4.0-315/spark2/conf/hive-site.xml\\n',\n '\\t2022-12-01 05:27:16 INFO 22/12/01 05:27:16 INFO BlockManagerMasterEndpoint: Registering block manager gdatanode31:34764 with 4.6 GB RAM, BlockManagerId(5, gdatanode31, 34764, None)\\n',\n \"\\t2022-12-01 05:27:16 INFO 22/12/01 05:27:16 INFO SharedState: Setting hive.metastore.warehouse.dir ('null') to the value of spark.sql.warehouse.dir ('/apps/spark/warehouse').\\n\",\n \"\\t2022-12-01 05:27:16 INFO 22/12/01 05:27:16 INFO SharedState: Warehouse path is '/apps/spark/warehouse'.\\n\",\n '\\t2022-12-01 05:27:16 INFO 22/12/01 05:27:16 INFO JettyUtils: Adding filter org.apache.hadoop.yarn.server.webproxy.amfilter.AmIpFilter to /SQL.\\n',\n '\\t2022-12-01 05:27:16 INFO 22/12/01 05:27:16 INFO ContextHandler: Started o.s.j.s.ServletContextHandler@1ad1be5d{/SQL,null,AVAILABLE,@Spark}\\n',\n '\\t2022-12-01 05:27:16 INFO 22/12/01 05:27:16 INFO JettyUtils: Adding filter org.apache.hadoop.yarn.server.webproxy.amfilter.AmIpFilter to /SQL/json.\\n',\n '\\t2022-12-01 05:27:16 INFO 22/12/01 05:27:16 INFO ContextHandler: Started o.s.j.s.ServletContextHandler@702f4124{/SQL/json,null,AVAILABLE,@Spark}\\n',\n '\\t2022-12-01 05:27:16 INFO 22/12/01 05:27:16 INFO JettyUtils: Adding filter org.apache.hadoop.yarn.server.webproxy.amfilter.AmIpFilter to /SQL/execution.\\n',\n '\\t2022-12-01 05:27:16 INFO 22/12/01 05:27:16 INFO ContextHandler: Started o.s.j.s.ServletContextHandler@22ff1372{/SQL/execution,null,AVAILABLE,@Spark}\\n',\n '\\t2022-12-01 05:27:16 INFO 22/12/01 05:27:16 INFO JettyUtils: Adding filter org.apache.hadoop.yarn.server.webproxy.amfilter.AmIpFilter to /SQL/execution/json.\\n',\n '\\t2022-12-01 05:27:16 INFO 22/12/01 05:27:16 INFO ContextHandler: Started o.s.j.s.ServletContextHandler@3a70575{/SQL/execution/json,null,AVAILABLE,@Spark}\\n',\n '\\t2022-12-01 05:27:16 INFO 22/12/01 05:27:16 INFO JettyUtils: Adding filter org.apache.hadoop.yarn.server.webproxy.amfilter.AmIpFilter to /static/sql.\\n',\n '\\t2022-12-01 05:27:16 INFO 22/12/01 05:27:16 INFO ContextHandler: Started o.s.j.s.ServletContextHandler@3e2c4d4b{/static/sql,null,AVAILABLE,@Spark}\\n',\n '\\t2022-12-01 05:27:17 INFO 22/12/01 05:27:17 INFO HiveUtils: Initializing HiveMetastoreConnection version 3.0 using file:/usr/hdp/current/spark2-client/standalone-metastore/standalone-metastore-1.21.2.3.1.4.0-315-hive3.jar:file:/usr/hdp/current/spark2-client/standalone-metastore/standalone-metastore-1.21.2.3.1.4.0-315-hive3.jar\\n',\n '\\t2022-12-01 05:27:17 INFO 22/12/01 05:27:17 INFO HiveConf: Found configuration file file:/usr/hdp/3.1.4.0-315/hive/conf/hive-site.xml\\n',\n '\\t2022-12-01 05:27:17 INFO 22/12/01 05:27:17 WARN HiveConf: HiveConf of name hive.heapsize does not exist\\n',\n '\\t2022-12-01 05:27:17 INFO 22/12/01 05:27:17 WARN HiveConf: HiveConf of name hive.stats.fetch.partition.stats does not exist\\n',\n '\\t2022-12-01 05:27:17 INFO Hive Session ID = 9000e06a-b2c3-4ed7-a16c-e2c9f4198b15\\n',\n '\\t2022-12-01 05:27:17 INFO 22/12/01 05:27:17 INFO SessionState: Hive Session ID = 9000e06a-b2c3-4ed7-a16c-e2c9f4198b15\\n',\n '\\t2022-12-01 05:27:17 INFO 22/12/01 05:27:17 INFO YarnSchedulerBackend$YarnDriverEndpoint: Registered executor NettyRpcEndpointRef(spark-client://Executor) (10.127.90.92:52684) with ID 3\\n',\n '\\t2022-12-01 05:27:17 INFO 22/12/01 05:27:17 INFO SessionState: Created HDFS directory: /tmp/spark/gtair/9000e06a-b2c3-4ed7-a16c-e2c9f4198b15\\n',\n '\\t2022-12-01 05:27:17 INFO 22/12/01 05:27:17 INFO SessionState: Created local directory: /tmp/gtair/9000e06a-b2c3-4ed7-a16c-e2c9f4198b15\\n',\n '\\t2022-12-01 05:27:17 INFO 22/12/01 05:27:17 INFO SessionState: Created HDFS directory: /tmp/spark/gtair/9000e06a-b2c3-4ed7-a16c-e2c9f4198b15/_tmp_space.db\\n',\n '\\t2022-12-01 05:27:17 INFO 22/12/01 05:27:17 INFO HiveClientImpl: Warehouse location for Hive client (version 3.0.0) is /apps/spark/warehouse\\n',\n '\\t2022-12-01 05:27:17 INFO 22/12/01 05:27:17 INFO BlockManagerMasterEndpoint: Registering block manager gdatanode10:36095 with 4.6 GB RAM, BlockManagerId(3, gdatanode10, 36095, None)\\n',\n '\\t2022-12-01 05:27:17 INFO 22/12/01 05:27:17 INFO YarnSchedulerBackend$YarnDriverEndpoint: Registered executor NettyRpcEndpointRef(spark-client://Executor) (10.127.90.82:55454) with ID 7\\n',\n '\\t2022-12-01 05:27:17 INFO 22/12/01 05:27:17 INFO HiveMetaStoreClient: Trying to connect to metastore with URI thrift://gnamenode02:9083\\n',\n '\\t2022-12-01 05:27:17 INFO 22/12/01 05:27:17 INFO HiveMetaStoreClient: Opened a connection to metastore, current connections: 1\\n',\n '\\t2022-12-01 05:27:17 INFO 22/12/01 05:27:17 INFO HiveMetaStoreClient: Connected to metastore.\\n',\n '\\t2022-12-01 05:27:17 INFO 22/12/01 05:27:17 INFO RetryingMetaStoreClient: RetryingMetaStoreClient proxy=class org.apache.hadoop.hive.ql.metadata.SessionHiveMetaStoreClient ugi=gtair (auth:SIMPLE) retries=24 delay=5 lifetime=0\\n',\n '\\t2022-12-01 05:27:17 INFO 22/12/01 05:27:17 INFO BlockManagerMasterEndpoint: Registering block manager gdatanode02:36294 with 4.6 GB RAM, BlockManagerId(7, gdatanode02, 36294, None)\\n',\n '\\t2022-12-01 05:27:18 INFO 22/12/01 05:27:18 INFO Hive: Registering function yearweek io.zhuge.etl.impalaUDF.WeekYearUDF\\n',\n '[INFO] 2022-12-01 05:27:19.123  - [taskAppId=TASK-44-304161-1974982]:[127] -  -> 2022-12-01 05:27:18 INFO 22/12/01 05:27:18 INFO Hive: Registering function get_pdate com.glodon.gbigdata.hive.udf.getPdate\\n',\n '\\t2022-12-01 05:27:18 INFO 22/12/01 05:27:18 INFO Hive: Registering function sysdate com.glodon.gbigdata.hive.udf.DateCollect\\n',\n '\\t2022-12-01 05:27:18 INFO 22/12/01 05:27:18 INFO Hive: Registering function getenterpriseid com.glodon.gbigdata.hive.udf.getEnterpriseid\\n',\n '\\t2022-12-01 05:27:18 INFO 22/12/01 05:27:18 INFO Hive: Registering function getenterpriseid com.glodon.gbigdata.hive.udf.getEnterpriseid\\n',\n '\\t2022-12-01 05:27:18 INFO 22/12/01 05:27:18 INFO Hive: Registering function sysdate com.glodon.gbigdata.hive.udf.DateCollect\\n',\n '\\t2022-12-01 05:27:18 INFO 22/12/01 05:27:18 INFO Hive: Registering function parse_ip com.glodon.gbigdata.hive.udf.IpParseUDF\\n',\n '\\t2022-12-01 05:27:18 INFO 22/12/01 05:27:18 INFO Hive: Registering function parse_ip com.glodon.gbigdata.hive.udf.IpParseUDF\\n',\n '\\t2022-12-01 05:27:18 INFO 22/12/01 05:27:18 INFO Hive: Registering function get_partition com.glodon.gbigdata.hive.udf.PartitionsUDF\\n',\n '\\t2022-12-01 05:27:18 INFO 22/12/01 05:27:18 INFO Hive: Registering function check_partition com.glodon.gbigdata.hive.udf.PartitionsUDTF\\n',\n '\\t2022-12-01 05:27:18 INFO 22/12/01 05:27:18 INFO Hive: Registering function parse_ip com.glodon.gbigdata.hive.udf.IpParseUDF\\n',\n '\\t2022-12-01 05:27:18 INFO 22/12/01 05:27:18 INFO Hive: Registering function get_pdate_spark com.glodon.gbigdata.hive.udf.getPdate\\n',\n '\\t2022-12-01 05:27:18 INFO 22/12/01 05:27:18 INFO Hive: Registering function path_ops com.glodon.hive_func_udf_path.OpsPathUDF\\n',\n '\\t2022-12-01 05:27:18 INFO 22/12/01 05:27:18 INFO Hive: Registering function fntime_udaf com.glodon.hive.udaf.FntimeUDAF\\n',\n '\\t2022-12-01 05:27:18 INFO 22/12/01 05:27:18 INFO Hive: Registering function date_format com.glodon.hive.func.udf.AutoDateFormat\\n',\n '\\t2022-12-01 05:27:18 INFO 22/12/01 05:27:18 INFO Hive: Registering function date_standard com.glodon.hive.func.udf.AutoDateFormat\\n',\n '\\t2022-12-01 05:27:18 INFO 22/12/01 05:27:18 INFO Hive: Registering function is_number com.glodon.hive.func.udf.IsNumber\\n',\n '\\t2022-12-01 05:27:18 INFO 22/12/01 05:27:18 INFO Hive: Registering function concatudaf com.glodon.hive.udaf.ConcatUDAF\\n',\n '\\t2022-12-01 05:27:18 INFO 22/12/01 05:27:18 INFO Hive: Registering function date_standard com.glodon.hive.func.udf.AutoDateFormat\\n',\n '\\t2022-12-01 05:27:18 INFO 22/12/01 05:27:18 INFO StateStoreCoordinatorRef: Registered StateStoreCoordinator endpoint\\n',\n \"\\t2022-12-01 05:27:19 INFO 22/12/01 05:27:19 WARN SetCommand: 'SET hive.exec.dynamic.partition=true' might not work, since Spark doesn't support changing the Hive config dynamically. Please pass the Hive-specific config by adding the prefix spark.hadoop (e.g. spark.hadoop.hive.exec.dynamic.partition) when starting a Spark application. For details, see the link: https://spark.apache.org/docs/latest/configuration.html#dynamically-loading-spark-properties.\\n\",\n '[INFO] 2022-12-01 05:27:20.244  - [taskAppId=TASK-44-304161-1974982]:[127] -  -> 2022-12-01 05:27:19 INFO 22/12/01 05:27:19 INFO CodeGenerator: Code generated in 245.379768 ms\\n',\n '\\t2022-12-01 05:27:19 INFO hive.exec.dynamic.partition\\ttrue\\n',\n '\\t2022-12-01 05:27:19 INFO Time taken: 1.021 seconds, Fetched 1 row(s)\\n',\n '\\t2022-12-01 05:27:19 INFO 22/12/01 05:27:19 INFO SparkSQLCLIDriver: Time taken: 1.021 seconds, Fetched 1 row(s)\\n',\n \"\\t2022-12-01 05:27:19 INFO 22/12/01 05:27:19 WARN SetCommand: 'SET hive.exec.dynamic.partition.mode=nonstrict' might not work, since Spark doesn't support changing the Hive config dynamically. Please pass the Hive-specific config by adding the prefix spark.hadoop (e.g. spark.hadoop.hive.exec.dynamic.partition.mode) when starting a Spark application. For details, see the link: https://spark.apache.org/docs/latest/configuration.html#dynamically-loading-spark-properties.\\n\",\n '\\t2022-12-01 05:27:19 INFO hive.exec.dynamic.partition.mode\\tnonstrict\\n',\n '\\t2022-12-01 05:27:19 INFO Time taken: 0.032 seconds, Fetched 1 row(s)\\n',\n '\\t2022-12-01 05:27:19 INFO 22/12/01 05:27:19 INFO SparkSQLCLIDriver: Time taken: 0.032 seconds, Fetched 1 row(s)\\n',\n \"\\t2022-12-01 05:27:19 INFO 22/12/01 05:27:19 WARN SetCommand: 'SET hive.exec.compress.output=true' might not work, since Spark doesn't support changing the Hive config dynamically. Please pass the Hive-specific config by adding the prefix spark.hadoop (e.g. spark.hadoop.hive.exec.compress.output) when starting a Spark application. For details, see the link: https://spark.apache.org/docs/latest/configuration.html#dynamically-loading-spark-properties.\\n\",\n '\\t2022-12-01 05:27:19 INFO hive.exec.compress.output\\ttrue\\n',\n '\\t2022-12-01 05:27:19 INFO Time taken: 0.027 seconds, Fetched 1 row(s)\\n',\n '\\t2022-12-01 05:27:19 INFO 22/12/01 05:27:19 INFO SparkSQLCLIDriver: Time taken: 0.027 seconds, Fetched 1 row(s)\\n',\n '\\t2022-12-01 05:27:19 INFO mapred.output.compression.codec\\torg.apache.hadoop.io.compress.SnappyCodec\\n',\n '\\t2022-12-01 05:27:19 INFO Time taken: 0.018 seconds, Fetched 1 row(s)\\n',\n '\\t2022-12-01 05:27:19 INFO 22/12/01 05:27:19 INFO SparkSQLCLIDriver: Time taken: 0.018 seconds, Fetched 1 row(s)\\n',\n '\\t2022-12-01 05:27:19 INFO Time taken: 0.032 seconds\\n',\n '\\t2022-12-01 05:27:19 INFO 22/12/01 05:27:19 INFO SparkSQLCLIDriver: Time taken: 0.032 seconds\\n',\n \"\\t2022-12-01 05:27:19 INFO 22/12/01 05:27:19 WARN SetCommand: 'SET hive.exec.parallel=true' might not work, since Spark doesn't support changing the Hive config dynamically. Please pass the Hive-specific config by adding the prefix spark.hadoop (e.g. spark.hadoop.hive.exec.parallel) when starting a Spark application. For details, see the link: https://spark.apache.org/docs/latest/configuration.html#dynamically-loading-spark-properties.\\n\",\n '\\t2022-12-01 05:27:19 INFO hive.exec.parallel\\ttrue\\n',\n '\\t2022-12-01 05:27:19 INFO Time taken: 0.015 seconds, Fetched 1 row(s)\\n',\n '\\t2022-12-01 05:27:19 INFO 22/12/01 05:27:19 INFO SparkSQLCLIDriver: Time taken: 0.015 seconds, Fetched 1 row(s)\\n',\n '\\t2022-12-01 05:27:19 INFO parquet.compression\\tsnappy\\n',\n '\\t2022-12-01 05:27:19 INFO Time taken: 0.013 seconds, Fetched 1 row(s)\\n',\n '\\t2022-12-01 05:27:19 INFO 22/12/01 05:27:19 INFO SparkSQLCLIDriver: Time taken: 0.013 seconds, Fetched 1 row(s)\\n',\n \"\\t2022-12-01 05:27:19 INFO 22/12/01 05:27:19 WARN SetCommand: 'SET hive.merge.mapfiles=true' might not work, since Spark doesn't support changing the Hive config dynamically. Please pass the Hive-specific config by adding the prefix spark.hadoop (e.g. spark.hadoop.hive.merge.mapfiles) when starting a Spark application. For details, see the link: https://spark.apache.org/docs/latest/configuration.html#dynamically-loading-spark-properties.\\n\",\n '\\t2022-12-01 05:27:19 INFO hive.merge.mapfiles\\ttrue\\n',\n '\\t2022-12-01 05:27:19 INFO Time taken: 0.014 seconds, Fetched 1 row(s)\\n',\n '\\t2022-12-01 05:27:19 INFO 22/12/01 05:27:19 INFO SparkSQLCLIDriver: Time taken: 0.014 seconds, Fetched 1 row(s)\\n',\n \"\\t2022-12-01 05:27:19 INFO 22/12/01 05:27:19 WARN SetCommand: 'SET hive.merge.mapredfiles=true' might not work, since Spark doesn't support changing the Hive config dynamically. Please pass the Hive-specific config by adding the prefix spark.hadoop (e.g. spark.hadoop.hive.merge.mapredfiles) when starting a Spark application. For details, see the link: https://spark.apache.org/docs/latest/configuration.html#dynamically-loading-spark-properties.\\n\",\n '\\t2022-12-01 05:27:19 INFO hive.merge.mapredfiles\\ttrue\\n',\n '\\t2022-12-01 05:27:19 INFO Time taken: 0.013 seconds, Fetched 1 row(s)\\n',\n '\\t2022-12-01 05:27:19 INFO 22/12/01 05:27:19 INFO SparkSQLCLIDriver: Time taken: 0.013 seconds, Fetched 1 row(s)\\n',\n \"\\t2022-12-01 05:27:19 INFO 22/12/01 05:27:19 WARN SetCommand: 'SET hive.merge.size.per.task=256000000' might not work, since Spark doesn't support changing the Hive config dynamically. Please pass the Hive-specific config by adding the prefix spark.hadoop (e.g. spark.hadoop.hive.merge.size.per.task) when starting a Spark application. For details, see the link: https://spark.apache.org/docs/latest/configuration.html#dynamically-loading-spark-properties.\\n\",\n '\\t2022-12-01 05:27:19 INFO hive.merge.size.per.task\\t256000000\\n',\n '\\t2022-12-01 05:27:19 INFO Time taken: 0.014 seconds, Fetched 1 row(s)\\n',\n '\\t2022-12-01 05:27:19 INFO 22/12/01 05:27:19 INFO SparkSQLCLIDriver: Time taken: 0.014 seconds, Fetched 1 row(s)\\n',\n \"\\t2022-12-01 05:27:19 INFO 22/12/01 05:27:19 WARN SetCommand: 'SET hive.merge.smallfiles.avgsize=16000000' might not work, since Spark doesn't support changing the Hive config dynamically. Please pass the Hive-specific config by adding the prefix spark.hadoop (e.g. spark.hadoop.hive.merge.smallfiles.avgsize) when starting a Spark application. For details, see the link: https://spark.apache.org/docs/latest/configuration.html#dynamically-loading-spark-properties.\\n\",\n '\\t2022-12-01 05:27:19 INFO hive.merge.smallfiles.avgsize\\t16000000\\n',\n '\\t2022-12-01 05:27:19 INFO Time taken: 0.013 seconds, Fetched 1 row(s)\\n',\n '\\t2022-12-01 05:27:19 INFO 22/12/01 05:27:19 INFO SparkSQLCLIDriver: Time taken: 0.013 seconds, Fetched 1 row(s)\\n',\n '\\t2022-12-01 05:27:19 INFO 22/12/01 05:27:19 WARN SetCommand: Property mapred.reduce.tasks is deprecated, automatically converted to spark.sql.shuffle.partitions instead.\\n',\n '\\t2022-12-01 05:27:19 INFO spark.sql.shuffle.partitions\\t50\\n',\n '\\t2022-12-01 05:27:19 INFO Time taken: 0.015 seconds, Fetched 1 row(s)\\n',\n '\\t2022-12-01 05:27:19 INFO 22/12/01 05:27:19 INFO SparkSQLCLIDriver: Time taken: 0.015 seconds, Fetched 1 row(s)\\n',\n \"\\t2022-12-01 05:27:19 INFO 22/12/01 05:27:19 WARN SetCommand: 'SET hive.exec.dynamic.partition=true' might not work, since Spark doesn't support changing the Hive config dynamically. Please pass the Hive-specific config by adding the prefix spark.hadoop (e.g. spark.hadoop.hive.exec.dynamic.partition) when starting a Spark application. For details, see the link: https://spark.apache.org/docs/latest/configuration.html#dynamically-loading-spark-properties.\\n\",\n '\\t2022-12-01 05:27:19 INFO hive.exec.dynamic.partition\\ttrue\\n',\n '\\t2022-12-01 05:27:19 INFO Time taken: 0.013 seconds, Fetched 1 row(s)\\n',\n '\\t2022-12-01 05:27:19 INFO 22/12/01 05:27:19 INFO SparkSQLCLIDriver: Time taken: 0.013 seconds, Fetched 1 row(s)\\n',\n \"\\t2022-12-01 05:27:19 INFO 22/12/01 05:27:19 WARN SetCommand: 'SET hive.exec.dynamic.partition.mode=nonstrict' might not work, since Spark doesn't support changing the Hive config dynamically. Please pass the Hive-specific config by adding the prefix spark.hadoop (e.g. spark.hadoop.hive.exec.dynamic.partition.mode) when starting a Spark application. For details, see the link: https://spark.apache.org/docs/latest/configuration.html#dynamically-loading-spark-properties.\\n\",\n '\\t2022-12-01 05:27:19 INFO hive.exec.dynamic.partition.mode\\tnonstrict\\n',\n '\\t2022-12-01 05:27:19 INFO Time taken: 0.012 seconds, Fetched 1 row(s)\\n',\n '\\t2022-12-01 05:27:19 INFO 22/12/01 05:27:19 INFO SparkSQLCLIDriver: Time taken: 0.012 seconds, Fetched 1 row(s)\\n',\n \"\\t2022-12-01 05:27:19 INFO 22/12/01 05:27:19 WARN SetCommand: 'SET hive.tez.container.size=20480' might not work, since Spark doesn't support changing the Hive config dynamically. Please pass the Hive-specific config by adding the prefix spark.hadoop (e.g. spark.hadoop.hive.tez.container.size) when starting a Spark application. For details, see the link: https://spark.apache.org/docs/latest/configuration.html#dynamically-loading-spark-properties.\\n\",\n '\\t2022-12-01 05:27:19 INFO hive.tez.container.size\\t20480\\n',\n '\\t2022-12-01 05:27:19 INFO Time taken: 0.012 seconds, Fetched 1 row(s)\\n',\n '\\t2022-12-01 05:27:19 INFO 22/12/01 05:27:19 INFO SparkSQLCLIDriver: Time taken: 0.012 seconds, Fetched 1 row(s)\\n',\n \"\\t2022-12-01 05:27:19 INFO 22/12/01 05:27:19 WARN SetCommand: 'SET hive.tez.java.opts=-Xmx16384m' might not work, since Spark doesn't support changing the Hive config dynamically. Please pass the Hive-specific config by adding the prefix spark.hadoop (e.g. spark.hadoop.hive.tez.java.opts) when starting a Spark application. For details, see the link: https://spark.apache.org/docs/latest/configuration.html#dynamically-loading-spark-properties.\\n\",\n '\\t2022-12-01 05:27:19 INFO hive.tez.java.opts\\t-Xmx16384m\\n',\n '\\t2022-12-01 05:27:19 INFO Time taken: 0.012 seconds, Fetched 1 row(s)\\n',\n '\\t2022-12-01 05:27:19 INFO 22/12/01 05:27:19 INFO SparkSQLCLIDriver: Time taken: 0.012 seconds, Fetched 1 row(s)\\n',\n '\\t2022-12-01 05:27:20 INFO 22/12/01 05:27:20 INFO deprecation: mapred.output.compression.codec is deprecated. Instead, use mapreduce.output.fileoutputformat.compress.codec\\n',\n '[INFO] 2022-12-01 05:27:21.312  - [taskAppId=TASK-44-304161-1974982]:[127] -  -> 2022-12-01 05:27:20 INFO 22/12/01 05:27:20 INFO ContextCleaner: Cleaned accumulator 3\\n',\n '\\t2022-12-01 05:27:20 INFO 22/12/01 05:27:20 INFO ContextCleaner: Cleaned accumulator 11\\n',\n '\\t2022-12-01 05:27:20 INFO 22/12/01 05:27:20 INFO ContextCleaner: Cleaned accumulator 0\\n',\n '\\t2022-12-01 05:27:20 INFO 22/12/01 05:27:20 INFO ContextCleaner: Cleaned accumulator 4\\n',\n '\\t2022-12-01 05:27:20 INFO 22/12/01 05:27:20 INFO ContextCleaner: Cleaned accumulator 5\\n',\n '\\t2022-12-01 05:27:20 INFO 22/12/01 05:27:20 INFO ContextCleaner: Cleaned accumulator 7\\n',\n '\\t2022-12-01 05:27:20 INFO 22/12/01 05:27:20 INFO ContextCleaner: Cleaned accumulator 15\\n',\n '\\t2022-12-01 05:27:20 INFO 22/12/01 05:27:20 INFO ContextCleaner: Cleaned accumulator 8\\n',\n '\\t2022-12-01 05:27:20 INFO 22/12/01 05:27:20 INFO ContextCleaner: Cleaned accumulator 9\\n',\n '\\t2022-12-01 05:27:20 INFO 22/12/01 05:27:20 INFO ContextCleaner: Cleaned accumulator 13\\n',\n '\\t2022-12-01 05:27:20 INFO 22/12/01 05:27:20 INFO ContextCleaner: Cleaned accumulator 6\\n',\n '\\t2022-12-01 05:27:20 INFO 22/12/01 05:27:20 INFO ContextCleaner: Cleaned accumulator 10\\n',\n '\\t2022-12-01 05:27:20 INFO 22/12/01 05:27:20 INFO ContextCleaner: Cleaned accumulator 1\\n',\n '\\t2022-12-01 05:27:20 INFO 22/12/01 05:27:20 INFO ContextCleaner: Cleaned accumulator 14\\n',\n '\\t2022-12-01 05:27:20 INFO 22/12/01 05:27:20 INFO ContextCleaner: Cleaned accumulator 12\\n',\n '\\t2022-12-01 05:27:20 INFO 22/12/01 05:27:20 INFO ContextCleaner: Cleaned accumulator 2\\n',\n \"\\t2022-12-01 05:27:20 INFO 22/12/01 05:27:20 INFO FileUtils: Creating directory if it doesn't exist: hdfs://gbigdata/warehouse/dm.db/dm_query_device_lock/.hive-staging_hive_2022-12-01_05-27-20_795_8195954279214332027-1\\n\",\n '\\t2022-12-01 05:27:20 INFO 22/12/01 05:27:20 INFO FileOutputCommitter: File Output Committer Algorithm version is 2\\n',\n '\\t2022-12-01 05:27:20 INFO 22/12/01 05:27:20 INFO FileOutputCommitter: FileOutputCommitter skip cleanup _temporary folders under output directory:false, ignore cleanup failures: false\\n',\n '\\t2022-12-01 05:27:20 INFO 22/12/01 05:27:20 INFO SQLHadoopMapReduceCommitProtocol: Using output committer class org.apache.hadoop.mapreduce.lib.output.FileOutputCommitter\\n',\n '\\t2022-12-01 05:27:21 INFO 22/12/01 05:27:21 INFO CodeGenerator: Code generated in 35.208622 ms\\n',\n '\\t2022-12-01 05:27:21 INFO 22/12/01 05:27:21 INFO CodeGenerator: Code generated in 35.659013 ms\\n',\n '\\t2022-12-01 05:27:21 INFO 22/12/01 05:27:21 INFO MemoryStore: Block broadcast_0 stored as values in memory (estimated size 433.1 KB, free 3.0 GB)\\n',\n '[INFO] 2022-12-01 05:27:24.602  - [taskAppId=TASK-44-304161-1974982]:[127] -  -> 2022-12-01 05:27:21 INFO 22/12/01 05:27:21 INFO MemoryStore: Block broadcast_0_piece0 stored as bytes in memory (estimated size 34.8 KB, free 3.0 GB)\\n',\n '\\t2022-12-01 05:27:21 INFO 22/12/01 05:27:21 INFO BlockManagerInfo: Added broadcast_0_piece0 in memory on gnnode:42540 (size: 34.8 KB, free: 3.0 GB)\\n',\n '\\t2022-12-01 05:27:21 INFO 22/12/01 05:27:21 INFO SparkContext: Created broadcast 0 from\\n',\n '\\t2022-12-01 05:27:21 INFO 22/12/01 05:27:21 INFO CodeGenerator: Code generated in 35.913649 ms\\n',\n '\\t2022-12-01 05:27:21 INFO 22/12/01 05:27:21 INFO FileInputFormat: Total input files to process : 1\\n',\n '\\t2022-12-01 05:27:21 INFO 22/12/01 05:27:21 INFO SparkContext: Starting job: run at ThreadPoolExecutor.java:1149\\n',\n '\\t2022-12-01 05:27:21 INFO 22/12/01 05:27:21 INFO DAGScheduler: Got job 0 (run at ThreadPoolExecutor.java:1149) with 1 output partitions\\n',\n '\\t2022-12-01 05:27:21 INFO 22/12/01 05:27:21 INFO DAGScheduler: Final stage: ResultStage 0 (run at ThreadPoolExecutor.java:1149)\\n',\n '\\t2022-12-01 05:27:21 INFO 22/12/01 05:27:21 INFO DAGScheduler: Parents of final stage: List()\\n',\n '\\t2022-12-01 05:27:21 INFO 22/12/01 05:27:21 INFO DAGScheduler: Missing parents: List()\\n',\n '\\t2022-12-01 05:27:21 INFO 22/12/01 05:27:21 INFO DAGScheduler: Submitting ResultStage 0 (MapPartitionsRDD[5] at run at ThreadPoolExecutor.java:1149), which has no missing parents\\n',\n '\\t2022-12-01 05:27:21 INFO 22/12/01 05:27:21 INFO MemoryStore: Block broadcast_1 stored as values in memory (estimated size 12.6 KB, free 3.0 GB)\\n',\n '\\t2022-12-01 05:27:21 INFO 22/12/01 05:27:21 INFO MemoryStore: Block broadcast_1_piece0 stored as bytes in memory (estimated size 6.2 KB, free 3.0 GB)\\n',\n '\\t2022-12-01 05:27:21 INFO 22/12/01 05:27:21 INFO BlockManagerInfo: Added broadcast_1_piece0 in memory on gnnode:42540 (size: 6.2 KB, free: 3.0 GB)\\n',\n '\\t2022-12-01 05:27:21 INFO 22/12/01 05:27:21 INFO SparkContext: Created broadcast 1 from broadcast at DAGScheduler.scala:1039\\n',\n '\\t2022-12-01 05:27:21 INFO 22/12/01 05:27:21 INFO DAGScheduler: Submitting 1 missing tasks from ResultStage 0 (MapPartitionsRDD[5] at run at ThreadPoolExecutor.java:1149) (first 15 tasks are for partitions Vector(0))\\n',\n '\\t2022-12-01 05:27:21 INFO 22/12/01 05:27:21 INFO YarnScheduler: Adding task set 0.0 with 1 tasks\\n',\n '\\t2022-12-01 05:27:21 INFO 22/12/01 05:27:21 INFO TaskSetManager: Starting task 0.0 in stage 0.0 (TID 0, gdatanode10, executor 3, partition 0, NODE_LOCAL, 7967 bytes)\\n',\n '\\t2022-12-01 05:27:22 INFO 22/12/01 05:27:22 INFO BlockManagerInfo: Added broadcast_1_piece0 in memory on gdatanode10:36095 (size: 6.2 KB, free: 4.6 GB)\\n',\n '\\t2022-12-01 05:27:22 INFO 22/12/01 05:27:22 INFO BlockManagerInfo: Added broadcast_0_piece0 in memory on gdatanode10:36095 (size: 34.8 KB, free: 4.6 GB)\\n',\n '\\t2022-12-01 05:27:24 INFO 22/12/01 05:27:24 INFO TaskSetManager: Finished task 0.0 in stage 0.0 (TID 0) in 2828 ms on gdatanode10 (executor 3) (1/1)\\n',\n '[INFO] 2022-12-01 05:27:26.146  - [taskAppId=TASK-44-304161-1974982]:[127] -  -> 2022-12-01 05:27:24 INFO 22/12/01 05:27:24 INFO YarnScheduler: Removed TaskSet 0.0, whose tasks have all completed, from pool\\n',\n '\\t2022-12-01 05:27:24 INFO 22/12/01 05:27:24 INFO DAGScheduler: ResultStage 0 (run at ThreadPoolExecutor.java:1149) finished in 2.934 s\\n',\n '\\t2022-12-01 05:27:24 INFO 22/12/01 05:27:24 INFO DAGScheduler: Job 0 finished: run at ThreadPoolExecutor.java:1149, took 2.999524 s\\n',\n \"\\t2022-12-01 05:27:24 INFO 22/12/01 05:27:24 WARN SparkConf: The configuration key 'spark.yarn.executor.memoryOverhead' has been deprecated as of Spark 2.3 and may be removed in the future. Please use the new key 'spark.executor.memoryOverhead' instead.\\n\",\n '\\t2022-12-01 05:27:24 INFO 22/12/01 05:27:24 INFO CodeGenerator: Code generated in 9.312434 ms\\n',\n '\\t2022-12-01 05:27:24 INFO 22/12/01 05:27:24 INFO MemoryStore: Block broadcast_2 stored as values in memory (estimated size 4.0 MB, free 3.0 GB)\\n',\n '\\t2022-12-01 05:27:24 INFO 22/12/01 05:27:24 INFO MemoryStore: Block broadcast_2_piece0 stored as bytes in memory (estimated size 23.8 KB, free 3.0 GB)\\n',\n '\\t2022-12-01 05:27:24 INFO 22/12/01 05:27:24 INFO BlockManagerInfo: Added broadcast_2_piece0 in memory on gnnode:42540 (size: 23.8 KB, free: 3.0 GB)\\n',\n '\\t2022-12-01 05:27:24 INFO 22/12/01 05:27:24 INFO SparkContext: Created broadcast 2 from run at ThreadPoolExecutor.java:1149\\n',\n '\\t2022-12-01 05:27:24 INFO 22/12/01 05:27:24 INFO CodeGenerator: Code generated in 50.593728 ms\\n',\n '\\t2022-12-01 05:27:24 INFO 22/12/01 05:27:24 INFO MemoryStore: Block broadcast_3 stored as values in memory (estimated size 433.6 KB, free 3.0 GB)\\n',\n '\\t2022-12-01 05:27:24 INFO 22/12/01 05:27:24 INFO MemoryStore: Block broadcast_3_piece0 stored as bytes in memory (estimated size 34.9 KB, free 3.0 GB)\\n',\n '\\t2022-12-01 05:27:24 INFO 22/12/01 05:27:24 INFO BlockManagerInfo: Added broadcast_3_piece0 in memory on gnnode:42540 (size: 34.9 KB, free: 3.0 GB)\\n',\n '\\t2022-12-01 05:27:24 INFO 22/12/01 05:27:24 INFO SparkContext: Created broadcast 3 from\\n',\n '\\t2022-12-01 05:27:24 INFO 22/12/01 05:27:24 INFO SQLStdHiveAccessController: Created SQLStdHiveAccessController for session context : HiveAuthzSessionContext [sessionString=9000e06a-b2c3-4ed7-a16c-e2c9f4198b15, clientType=HIVECLI]\\n',\n '\\t2022-12-01 05:27:24 INFO 22/12/01 05:27:24 WARN SessionState: METASTORE_FILTER_HOOK will be ignored, since hive.security.authorization.manager is set to instance of HiveAuthorizerFactory.\\n',\n '\\t2022-12-01 05:27:24 INFO 22/12/01 05:27:24 INFO HiveMetaStoreClient: Mestastore configuration metastore.filter.hook changed from org.apache.hadoop.hive.metastore.DefaultMetaStoreFilterHookImpl to org.apache.hadoop.hive.ql.security.authorization.plugin.AuthorizationMetaStoreFilterHook\\n',\n '\\t2022-12-01 05:27:24 INFO 22/12/01 05:27:24 INFO HiveMetaStoreClient: Closed a connection to metastore, current connections: 0\\n',\n '\\t2022-12-01 05:27:24 INFO 22/12/01 05:27:24 INFO HiveMetaStoreClient: Trying to connect to metastore with URI thrift://gnamenode01:9083\\n',\n '\\t2022-12-01 05:27:24 INFO 22/12/01 05:27:24 INFO HiveMetaStoreClient: Opened a connection to metastore, current connections: 1\\n',\n '\\t2022-12-01 05:27:24 INFO 22/12/01 05:27:24 INFO HiveMetaStoreClient: Connected to metastore.\\n',\n '\\t2022-12-01 05:27:24 INFO 22/12/01 05:27:24 INFO RetryingMetaStoreClient: RetryingMetaStoreClient proxy=class org.apache.hadoop.hive.ql.metadata.SessionHiveMetaStoreClient ugi=gtair (auth:SIMPLE) retries=24 delay=5 lifetime=0\\n',\n '\\t2022-12-01 05:27:24 INFO 22/12/01 05:27:24 INFO HiveMetaStoreClient: Trying to connect to metastore with URI thrift://gnamenode01:9083\\n',\n '\\t2022-12-01 05:27:24 INFO 22/12/01 05:27:24 INFO HiveMetaStoreClient: Opened a connection to metastore, current connections: 2\\n',\n '\\t2022-12-01 05:27:24 INFO 22/12/01 05:27:24 INFO HiveMetaStoreClient: Connected to metastore.\\n',\n '\\t2022-12-01 05:27:24 INFO 22/12/01 05:27:24 INFO RetryingMetaStoreClient: RetryingMetaStoreClient proxy=class org.apache.hadoop.hive.ql.metadata.SessionHiveMetaStoreClient ugi=gtair (auth:SIMPLE) retries=24 delay=5 lifetime=0\\n',\n '\\t2022-12-01 05:27:25 INFO 22/12/01 05:27:25 INFO FileInputFormat: Total input files to process : 200\\n',\n '\\t2022-12-01 05:27:25 INFO 22/12/01 05:27:25 INFO DAGScheduler: Registering RDD 13 (processCmd at CliDriver.java:376)\\n',\n '\\t2022-12-01 05:27:25 INFO 22/12/01 05:27:25 INFO DAGScheduler: Got map stage job 1 (processCmd at CliDriver.java:376) with 600 output partitions\\n',\n '\\t2022-12-01 05:27:25 INFO 22/12/01 05:27:25 INFO DAGScheduler: Final stage: ShuffleMapStage 1 (processCmd at CliDriver.java:376)\\n',\n '\\t2022-12-01 05:27:25 INFO 22/12/01 05:27:25 INFO DAGScheduler: Parents of final stage: List()\\n',\n '\\t2022-12-01 05:27:25 INFO 22/12/01 05:27:25 INFO DAGScheduler: Missing parents: List()\\n',\n '\\t2022-12-01 05:27:25 INFO 22/12/01 05:27:25 INFO DAGScheduler: Submitting ShuffleMapStage 1 (MapPartitionsRDD[13] at processCmd at CliDriver.java:376), which has no missing parents\\n',\n '\\t2022-12-01 05:27:25 INFO 22/12/01 05:27:25 INFO MemoryStore: Block broadcast_4 stored as values in memory (estimated size 36.9 KB, free 3.0 GB)\\n',\n '\\t2022-12-01 05:27:25 INFO 22/12/01 05:27:25 INFO MemoryStore: Block broadcast_4_piece0 stored as bytes in memory (estimated size 15.9 KB, free 3.0 GB)\\n',\n '\\t2022-12-01 05:27:25 INFO 22/12/01 05:27:25 INFO BlockManagerInfo: Added broadcast_4_piece0 in memory on gnnode:42540 (size: 15.9 KB, free: 3.0 GB)\\n',\n '\\t2022-12-01 05:27:25 INFO 22/12/01 05:27:25 INFO SparkContext: Created broadcast 4 from broadcast at DAGScheduler.scala:1039\\n',\n '\\t2022-12-01 05:27:25 INFO 22/12/01 05:27:25 INFO DAGScheduler: Submitting 600 missing tasks from ShuffleMapStage 1 (MapPartitionsRDD[13] at processCmd at CliDriver.java:376) (first 15 tasks are for partitions Vector(0, 1, 2, 3, 4, 5, 6, 7, 8, 9, 10, 11, 12, 13, 14))\\n',\n '\\t2022-12-01 05:27:25 INFO 22/12/01 05:27:25 INFO YarnScheduler: Adding task set 1.0 with 600 tasks\\n',\n '\\t2022-12-01 05:27:26 INFO 22/12/01 05:27:26 INFO TaskSetManager: Starting task 15.0 in stage 1.0 (TID 1, gdatanode08, executor 8, partition 15, NODE_LOCAL, 8100 bytes)\\n',\n '[INFO] 2022-12-01 05:27:27.185  - [taskAppId=TASK-44-304161-1974982]:[127] -  -> 2022-12-01 05:27:26 INFO 22/12/01 05:27:26 INFO TaskSetManager: Starting task 10.0 in stage 1.0 (TID 2, gdatanode10, executor 3, partition 10, NODE_LOCAL, 8100 bytes)\\n',\n '\\t2022-12-01 05:27:26 INFO 22/12/01 05:27:26 INFO TaskSetManager: Starting task 0.0 in stage 1.0 (TID 3, gdatanode25, executor 2, partition 0, NODE_LOCAL, 8100 bytes)\\n',\n '\\t2022-12-01 05:27:26 INFO 22/12/01 05:27:26 INFO TaskSetManager: Starting task 1.0 in stage 1.0 (TID 4, gdatanode17, executor 4, partition 1, NODE_LOCAL, 8100 bytes)\\n',\n '\\t2022-12-01 05:27:26 INFO 22/12/01 05:27:26 INFO TaskSetManager: Starting task 3.0 in stage 1.0 (TID 5, gdatanode15, executor 10, partition 3, NODE_LOCAL, 8100 bytes)\\n',\n '\\t2022-12-01 05:27:26 INFO 22/12/01 05:27:26 INFO TaskSetManager: Starting task 42.0 in stage 1.0 (TID 6, gdatanode31, executor 5, partition 42, NODE_LOCAL, 8100 bytes)\\n',\n '\\t2022-12-01 05:27:26 INFO 22/12/01 05:27:26 INFO TaskSetManager: Starting task 48.0 in stage 1.0 (TID 7, gdatanode30, executor 9, partition 48, NODE_LOCAL, 8100 bytes)\\n',\n '\\t2022-12-01 05:27:26 INFO 22/12/01 05:27:26 INFO TaskSetManager: Starting task 21.0 in stage 1.0 (TID 8, gdatanode07, executor 1, partition 21, NODE_LOCAL, 8100 bytes)\\n',\n '\\t2022-12-01 05:27:26 INFO 22/12/01 05:27:26 INFO TaskSetManager: Starting task 7.0 in stage 1.0 (TID 9, gdatanode19, executor 6, partition 7, NODE_LOCAL, 8100 bytes)\\n',\n '\\t2022-12-01 05:27:26 INFO 22/12/01 05:27:26 INFO TaskSetManager: Starting task 14.0 in stage 1.0 (TID 10, gdatanode02, executor 7, partition 14, NODE_LOCAL, 8100 bytes)\\n',\n '\\t2022-12-01 05:27:26 INFO 22/12/01 05:27:26 INFO TaskSetManager: Starting task 18.0 in stage 1.0 (TID 11, gdatanode08, executor 8, partition 18, NODE_LOCAL, 8100 bytes)\\n',\n '\\t2022-12-01 05:27:26 INFO 22/12/01 05:27:26 INFO TaskSetManager: Starting task 24.0 in stage 1.0 (TID 12, gdatanode10, executor 3, partition 24, NODE_LOCAL, 8100 bytes)\\n',\n '\\t2022-12-01 05:27:26 INFO 22/12/01 05:27:26 INFO TaskSetManager: Starting task 9.0 in stage 1.0 (TID 13, gdatanode25, executor 2, partition 9, NODE_LOCAL, 8100 bytes)\\n',\n '\\t2022-12-01 05:27:26 INFO 22/12/01 05:27:26 INFO TaskSetManager: Starting task 23.0 in stage 1.0 (TID 14, gdatanode17, executor 4, partition 23, NODE_LOCAL, 8100 bytes)\\n',\n '\\t2022-12-01 05:27:26 INFO 22/12/01 05:27:26 INFO TaskSetManager: Starting task 4.0 in stage 1.0 (TID 15, gdatanode15, executor 10, partition 4, NODE_LOCAL, 8100 bytes)\\n',\n '\\t2022-12-01 05:27:26 INFO 22/12/01 05:27:26 INFO TaskSetManager: Starting task 55.0 in stage 1.0 (TID 16, gdatanode31, executor 5, partition 55, NODE_LOCAL, 8100 bytes)\\n',\n '\\t2022-12-01 05:27:26 INFO 22/12/01 05:27:26 INFO TaskSetManager: Starting task 76.0 in stage 1.0 (TID 17, gdatanode30, executor 9, partition 76, NODE_LOCAL, 8100 bytes)\\n',\n '\\t2022-12-01 05:27:26 INFO 22/12/01 05:27:26 INFO TaskSetManager: Starting task 35.0 in stage 1.0 (TID 18, gdatanode07, executor 1, partition 35, NODE_LOCAL, 8100 bytes)\\n',\n '\\t2022-12-01 05:27:26 INFO 22/12/01 05:27:26 INFO TaskSetManager: Starting task 12.0 in stage 1.0 (TID 19, gdatanode19, executor 6, partition 12, NODE_LOCAL, 8100 bytes)\\n',\n '\\t2022-12-01 05:27:26 INFO 22/12/01 05:27:26 INFO TaskSetManager: Starting task 59.0 in stage 1.0 (TID 20, gdatanode02, executor 7, partition 59, NODE_LOCAL, 8100 bytes)\\n',\n '\\t2022-12-01 05:27:26 INFO 22/12/01 05:27:26 INFO TaskSetManager: Starting task 95.0 in stage 1.0 (TID 21, gdatanode08, executor 8, partition 95, NODE_LOCAL, 8100 bytes)\\n',\n '\\t2022-12-01 05:27:26 INFO 22/12/01 05:27:26 INFO TaskSetManager: Starting task 30.0 in stage 1.0 (TID 22, gdatanode10, executor 3, partition 30, NODE_LOCAL, 8100 bytes)\\n',\n '\\t2022-12-01 05:27:26 INFO 22/12/01 05:27:26 INFO TaskSetManager: Starting task 25.0 in stage 1.0 (TID 23, gdatanode25, executor 2, partition 25, NODE_LOCAL, 8100 bytes)\\n',\n '\\t2022-12-01 05:27:26 INFO 22/12/01 05:27:26 INFO TaskSetManager: Starting task 38.0 in stage 1.0 (TID 24, gdatanode17, executor 4, partition 38, NODE_LOCAL, 8100 bytes)\\n',\n '\\t2022-12-01 05:27:26 INFO 22/12/01 05:27:26 INFO TaskSetManager: Starting task 5.0 in stage 1.0 (TID 25, gdatanode15, executor 10, partition 5, NODE_LOCAL, 8100 bytes)\\n',\n '\\t2022-12-01 05:27:26 INFO 22/12/01 05:27:26 INFO TaskSetManager: Starting task 80.0 in stage 1.0 (TID 26, gdatanode31, executor 5, partition 80, NODE_LOCAL, 8100 bytes)\\n',\n '\\t2022-12-01 05:27:26 INFO 22/12/01 05:27:26 INFO TaskSetManager: Starting task 87.0 in stage 1.0 (TID 27, gdatanode30, executor 9, partition 87, NODE_LOCAL, 8100 bytes)\\n',\n '\\t2022-12-01 05:27:26 INFO 22/12/01 05:27:26 INFO TaskSetManager: Starting task 69.0 in stage 1.0 (TID 28, gdatanode07, executor 1, partition 69, NODE_LOCAL, 8100 bytes)\\n',\n '\\t2022-12-01 05:27:26 INFO 22/12/01 05:27:26 INFO TaskSetManager: Starting task 13.0 in stage 1.0 (TID 29, gdatanode19, executor 6, partition 13, NODE_LOCAL, 8100 bytes)\\n',\n '\\t2022-12-01 05:27:26 INFO 22/12/01 05:27:26 INFO TaskSetManager: Starting task 62.0 in stage 1.0 (TID 30, gdatanode02, executor 7, partition 62, NODE_LOCAL, 8100 bytes)\\n',\n '\\t2022-12-01 05:27:26 INFO 22/12/01 05:27:26 INFO BlockManagerInfo: Added broadcast_4_piece0 in memory on gdatanode10:36095 (size: 15.9 KB, free: 4.6 GB)\\n',\n '\\t2022-12-01 05:27:26 INFO 22/12/01 05:27:26 INFO BlockManagerInfo: Added broadcast_3_piece0 in memory on gdatanode10:36095 (size: 34.9 KB, free: 4.6 GB)\\n',\n '\\t2022-12-01 05:27:26 INFO 22/12/01 05:27:26 INFO BlockManagerInfo: Added broadcast_4_piece0 in memory on gdatanode17:38012 (size: 15.9 KB, free: 4.6 GB)\\n',\n '\\t2022-12-01 05:27:26 INFO 22/12/01 05:27:26 INFO BlockManagerInfo: Added broadcast_4_piece0 in memory on gdatanode15:33339 (size: 15.9 KB, free: 4.6 GB)\\n',\n '\\t2022-12-01 05:27:26 INFO 22/12/01 05:27:26 INFO BlockManagerInfo: Added broadcast_4_piece0 in memory on gdatanode08:35715 (size: 15.9 KB, free: 4.6 GB)\\n',\n '\\t2022-12-01 05:27:26 INFO 22/12/01 05:27:26 INFO BlockManagerInfo: Added broadcast_4_piece0 in memory on gdatanode25:44782 (size: 15.9 KB, free: 4.6 GB)\\n',\n '\\t2022-12-01 05:27:26 INFO 22/12/01 05:27:26 INFO BlockManagerInfo: Added broadcast_4_piece0 in memory on gdatanode30:33160 (size: 15.9 KB, free: 4.6 GB)\\n',\n '\\t2022-12-01 05:27:26 INFO 22/12/01 05:27:26 INFO BlockManagerInfo: Added broadcast_4_piece0 in memory on gdatanode19:39111 (size: 15.9 KB, free: 4.6 GB)\\n',\n '\\t2022-12-01 05:27:26 INFO 22/12/01 05:27:26 INFO BlockManagerInfo: Added broadcast_4_piece0 in memory on gdatanode02:36294 (size: 15.9 KB, free: 4.6 GB)\\n',\n '\\t2022-12-01 05:27:26 INFO 22/12/01 05:27:26 INFO BlockManagerInfo: Added broadcast_4_piece0 in memory on gdatanode31:34764 (size: 15.9 KB, free: 4.6 GB)\\n',\n '\\t2022-12-01 05:27:26 INFO 22/12/01 05:27:26 INFO BlockManagerInfo: Added broadcast_4_piece0 in memory on gdatanode07:40341 (size: 15.9 KB, free: 4.6 GB)\\n',\n '\\t2022-12-01 05:27:26 INFO 22/12/01 05:27:26 INFO BlockManagerInfo: Added broadcast_3_piece0 in memory on gdatanode17:38012 (size: 34.9 KB, free: 4.6 GB)\\n',\n '\\t2022-12-01 05:27:26 INFO 22/12/01 05:27:26 INFO BlockManagerInfo: Added broadcast_3_piece0 in memory on gdatanode25:44782 (size: 34.9 KB, free: 4.6 GB)\\n',\n '\\t2022-12-01 05:27:26 INFO 22/12/01 05:27:26 INFO BlockManagerInfo: Added broadcast_3_piece0 in memory on gdatanode30:33160 (size: 34.9 KB, free: 4.6 GB)\\n',\n '\\t2022-12-01 05:27:26 INFO 22/12/01 05:27:26 INFO BlockManagerInfo: Added broadcast_3_piece0 in memory on gdatanode15:33339 (size: 34.9 KB, free: 4.6 GB)\\n',\n '\\t2022-12-01 05:27:26 INFO 22/12/01 05:27:26 INFO BlockManagerInfo: Added broadcast_3_piece0 in memory on gdatanode19:39111 (size: 34.9 KB, free: 4.6 GB)\\n',\n '\\t2022-12-01 05:27:27 INFO 22/12/01 05:27:27 INFO BlockManagerInfo: Added broadcast_3_piece0 in memory on gdatanode31:34764 (size: 34.9 KB, free: 4.6 GB)\\n',\n '\\t2022-12-01 05:27:27 INFO 22/12/01 05:27:27 INFO BlockManagerInfo: Added broadcast_3_piece0 in memory on gdatanode08:35715 (size: 34.9 KB, free: 4.6 GB)\\n',\n '\\t2022-12-01 05:27:27 INFO 22/12/01 05:27:27 INFO BlockManagerInfo: Added broadcast_3_piece0 in memory on gdatanode07:40341 (size: 34.9 KB, free: 4.6 GB)\\n',\n '[INFO] 2022-12-01 05:27:28.548  - [taskAppId=TASK-44-304161-1974982]:[127] -  -> 2022-12-01 05:27:27 INFO 22/12/01 05:27:27 INFO BlockManagerInfo: Added broadcast_3_piece0 in memory on gdatanode02:36294 (size: 34.9 KB, free: 4.6 GB)\\n',\n '\\t2022-12-01 05:27:28 INFO 22/12/01 05:27:28 INFO BlockManagerInfo: Added broadcast_2_piece0 in memory on gdatanode10:36095 (size: 23.8 KB, free: 4.6 GB)\\n',\n '[INFO] 2022-12-01 05:27:29.660  - [taskAppId=TASK-44-304161-1974982]:[127] -  -> 2022-12-01 05:27:28 INFO 22/12/01 05:27:28 INFO BlockManagerInfo: Added broadcast_2_piece0 in memory on gdatanode30:33160 (size: 23.8 KB, free: 4.6 GB)\\n',\n '\\t2022-12-01 05:27:29 INFO 22/12/01 05:27:29 INFO BlockManagerInfo: Added broadcast_2_piece0 in memory on gdatanode15:33339 (size: 23.8 KB, free: 4.6 GB)\\n',\n '\\t2022-12-01 05:27:29 INFO 22/12/01 05:27:29 INFO BlockManagerInfo: Added broadcast_2_piece0 in memory on gdatanode17:38012 (size: 23.8 KB, free: 4.6 GB)\\n',\n '\\t2022-12-01 05:27:29 INFO 22/12/01 05:27:29 INFO BlockManagerInfo: Added broadcast_2_piece0 in memory on gdatanode25:44782 (size: 23.8 KB, free: 4.6 GB)\\n',\n '\\t2022-12-01 05:27:29 INFO 22/12/01 05:27:29 INFO BlockManagerInfo: Added broadcast_2_piece0 in memory on gdatanode08:35715 (size: 23.8 KB, free: 4.6 GB)\\n',\n '[INFO] 2022-12-01 05:27:31.015  - [taskAppId=TASK-44-304161-1974982]:[127] -  -> 2022-12-01 05:27:29 INFO 22/12/01 05:27:29 INFO TaskSetManager: Starting task 40.0 in stage 1.0 (TID 31, gdatanode17, executor 4, partition 40, NODE_LOCAL, 8100 bytes)\\n',\n '\\t2022-12-01 05:27:29 INFO 22/12/01 05:27:29 INFO TaskSetManager: Starting task 81.0 in stage 1.0 (TID 32, gdatanode17, executor 4, partition 81, NODE_LOCAL, 8100 bytes)\\n',\n '\\t2022-12-01 05:27:29 INFO 22/12/01 05:27:29 INFO TaskSetManager: Finished task 23.0 in stage 1.0 (TID 14) in 3746 ms on gdatanode17 (executor 4) (1/600)\\n',\n '\\t2022-12-01 05:27:29 INFO 22/12/01 05:27:29 INFO TaskSetManager: Finished task 38.0 in stage 1.0 (TID 24) in 3741 ms on gdatanode17 (executor 4) (2/600)\\n',\n '\\t2022-12-01 05:27:30 INFO 22/12/01 05:27:30 INFO BlockManagerInfo: Added broadcast_2_piece0 in memory on gdatanode19:39111 (size: 23.8 KB, free: 4.6 GB)\\n',\n '\\t2022-12-01 05:27:30 INFO 22/12/01 05:27:30 INFO TaskSetManager: Starting task 107.0 in stage 1.0 (TID 33, gdatanode08, executor 8, partition 107, NODE_LOCAL, 8100 bytes)\\n',\n '\\t2022-12-01 05:27:30 INFO 22/12/01 05:27:30 INFO TaskSetManager: Finished task 95.0 in stage 1.0 (TID 21) in 4254 ms on gdatanode08 (executor 8) (3/600)\\n',\n '\\t2022-12-01 05:27:30 INFO 22/12/01 05:27:30 INFO TaskSetManager: Starting task 126.0 in stage 1.0 (TID 34, gdatanode08, executor 8, partition 126, NODE_LOCAL, 8100 bytes)\\n',\n '\\t2022-12-01 05:27:30 INFO 22/12/01 05:27:30 INFO TaskSetManager: Finished task 107.0 in stage 1.0 (TID 33) in 62 ms on gdatanode08 (executor 8) (4/600)\\n',\n '\\t2022-12-01 05:27:30 INFO 22/12/01 05:27:30 INFO TaskSetManager: Starting task 45.0 in stage 1.0 (TID 35, gdatanode15, executor 10, partition 45, NODE_LOCAL, 8100 bytes)\\n',\n '\\t2022-12-01 05:27:30 INFO 22/12/01 05:27:30 INFO TaskSetManager: Finished task 5.0 in stage 1.0 (TID 25) in 4318 ms on gdatanode15 (executor 10) (5/600)\\n',\n '\\t2022-12-01 05:27:31 INFO 22/12/01 05:27:31 INFO BlockManagerInfo: Added broadcast_2_piece0 in memory on gdatanode02:36294 (size: 23.8 KB, free: 4.6 GB)\\n',\n '[INFO] 2022-12-01 05:27:32.268  - [taskAppId=TASK-44-304161-1974982]:[127] -  -> 2022-12-01 05:27:31 INFO 22/12/01 05:27:31 INFO TaskSetManager: Starting task 110.0 in stage 1.0 (TID 36, gdatanode02, executor 7, partition 110, NODE_LOCAL, 8100 bytes)\\n',\n '\\t2022-12-01 05:27:31 INFO 22/12/01 05:27:31 INFO TaskSetManager: Finished task 62.0 in stage 1.0 (TID 30) in 5274 ms on gdatanode02 (executor 7) (6/600)\\n',\n '\\t2022-12-01 05:27:31 INFO 22/12/01 05:27:31 INFO TaskSetManager: Starting task 122.0 in stage 1.0 (TID 37, gdatanode02, executor 7, partition 122, NODE_LOCAL, 8100 bytes)\\n',\n '\\t2022-12-01 05:27:31 INFO 22/12/01 05:27:31 INFO TaskSetManager: Finished task 14.0 in stage 1.0 (TID 10) in 5295 ms on gdatanode02 (executor 7) (7/600)\\n',\n '\\t2022-12-01 05:27:31 INFO 22/12/01 05:27:31 INFO TaskSetManager: Starting task 150.0 in stage 1.0 (TID 38, gdatanode02, executor 7, partition 150, NODE_LOCAL, 8100 bytes)\\n',\n '\\t2022-12-01 05:27:31 INFO 22/12/01 05:27:31 INFO TaskSetManager: Finished task 59.0 in stage 1.0 (TID 20) in 5289 ms on gdatanode02 (executor 7) (8/600)\\n',\n '\\t2022-12-01 05:27:31 INFO 22/12/01 05:27:31 INFO TaskSetManager: Starting task 151.0 in stage 1.0 (TID 39, gdatanode02, executor 7, partition 151, NODE_LOCAL, 8100 bytes)\\n',\n '\\t2022-12-01 05:27:31 INFO 22/12/01 05:27:31 INFO TaskSetManager: Finished task 110.0 in stage 1.0 (TID 36) in 310 ms on gdatanode02 (executor 7) (9/600)\\n',\n '\\t2022-12-01 05:27:31 INFO 22/12/01 05:27:31 INFO BlockManagerInfo: Added broadcast_2_piece0 in memory on gdatanode31:34764 (size: 23.8 KB, free: 4.6 GB)\\n',\n '\\t2022-12-01 05:27:32 INFO 22/12/01 05:27:32 INFO BlockManagerInfo: Added broadcast_2_piece0 in memory on gdatanode07:40341 (size: 23.8 KB, free: 4.6 GB)\\n',\n '[INFO] 2022-12-01 05:27:34.429  - [taskAppId=TASK-44-304161-1974982]:[127] -  -> 2022-12-01 05:27:32 INFO 22/12/01 05:27:32 INFO TaskSetManager: Starting task 94.0 in stage 1.0 (TID 40, gdatanode31, executor 5, partition 94, NODE_LOCAL, 8100 bytes)\\n',\n '\\t2022-12-01 05:27:32 INFO 22/12/01 05:27:32 INFO TaskSetManager: Finished task 80.0 in stage 1.0 (TID 26) in 6167 ms on gdatanode31 (executor 5) (10/600)\\n',\n '\\t2022-12-01 05:27:34 INFO 22/12/01 05:27:34 INFO TaskSetManager: Starting task 152.0 in stage 1.0 (TID 41, gdatanode02, executor 7, partition 152, NODE_LOCAL, 8100 bytes)\\n',\n '[INFO] 2022-12-01 05:27:39.040  - [taskAppId=TASK-44-304161-1974982]:[127] -  -> 2022-12-01 05:27:34 INFO 22/12/01 05:27:34 INFO TaskSetManager: Finished task 122.0 in stage 1.0 (TID 37) in 2983 ms on gdatanode02 (executor 7) (11/600)\\n',\n '\\t2022-12-01 05:27:34 INFO 22/12/01 05:27:34 INFO TaskSetManager: Starting task 170.0 in stage 1.0 (TID 42, gdatanode02, executor 7, partition 170, NODE_LOCAL, 8100 bytes)\\n',\n '\\t2022-12-01 05:27:34 INFO 22/12/01 05:27:34 INFO TaskSetManager: Finished task 152.0 in stage 1.0 (TID 41) in 254 ms on gdatanode02 (executor 7) (12/600)\\n',\n '\\t2022-12-01 05:27:34 INFO 22/12/01 05:27:34 INFO TaskSetManager: Starting task 181.0 in stage 1.0 (TID 43, gdatanode02, executor 7, partition 181, NODE_LOCAL, 8100 bytes)\\n',\n '\\t2022-12-01 05:27:34 INFO 22/12/01 05:27:34 INFO TaskSetManager: Finished task 170.0 in stage 1.0 (TID 42) in 75 ms on gdatanode02 (executor 7) (13/600)\\n',\n '\\t2022-12-01 05:27:35 INFO 22/12/01 05:27:35 INFO TaskSetManager: Starting task 83.0 in stage 1.0 (TID 44, gdatanode07, executor 1, partition 83, NODE_LOCAL, 8100 bytes)\\n',\n '\\t2022-12-01 05:27:35 INFO 22/12/01 05:27:35 INFO TaskSetManager: Finished task 35.0 in stage 1.0 (TID 18) in 8988 ms on gdatanode07 (executor 1) (14/600)\\n',\n '\\t2022-12-01 05:27:35 INFO 22/12/01 05:27:35 INFO TaskSetManager: Starting task 90.0 in stage 1.0 (TID 45, gdatanode07, executor 1, partition 90, NODE_LOCAL, 8100 bytes)\\n',\n '\\t2022-12-01 05:27:35 INFO 22/12/01 05:27:35 INFO TaskSetManager: Finished task 83.0 in stage 1.0 (TID 44) in 177 ms on gdatanode07 (executor 1) (15/600)\\n',\n '\\t2022-12-01 05:27:39 INFO 22/12/01 05:27:39 INFO TaskSetManager: Starting task 17.0 in stage 1.0 (TID 46, gdatanode19, executor 6, partition 17, NODE_LOCAL, 8100 bytes)\\n',\n '[INFO] 2022-12-01 05:27:40.416  - [taskAppId=TASK-44-304161-1974982]:[127] -  -> 2022-12-01 05:27:39 INFO 22/12/01 05:27:39 INFO TaskSetManager: Finished task 7.0 in stage 1.0 (TID 9) in 12890 ms on gdatanode19 (executor 6) (16/600)\\n',\n '\\t2022-12-01 05:27:39 INFO 22/12/01 05:27:39 INFO TaskSetManager: Starting task 31.0 in stage 1.0 (TID 47, gdatanode19, executor 6, partition 31, NODE_LOCAL, 8100 bytes)\\n',\n '\\t2022-12-01 05:27:39 INFO 22/12/01 05:27:39 INFO TaskSetManager: Finished task 17.0 in stage 1.0 (TID 46) in 84 ms on gdatanode19 (executor 6) (17/600)\\n',\n '\\t2022-12-01 05:27:40 INFO 22/12/01 05:27:40 INFO TaskSetManager: Starting task 32.0 in stage 1.0 (TID 48, gdatanode19, executor 6, partition 32, NODE_LOCAL, 8100 bytes)\\n',\n '[INFO] 2022-12-01 05:27:42.148  - [taskAppId=TASK-44-304161-1974982]:[127] -  -> 2022-12-01 05:27:40 INFO 22/12/01 05:27:40 INFO TaskSetManager: Finished task 13.0 in stage 1.0 (TID 29) in 14251 ms on gdatanode19 (executor 6) (18/600)\\n',\n '\\t2022-12-01 05:27:40 INFO 22/12/01 05:27:40 INFO TaskSetManager: Starting task 36.0 in stage 1.0 (TID 49, gdatanode19, executor 6, partition 36, NODE_LOCAL, 8100 bytes)\\n',\n '\\t2022-12-01 05:27:40 INFO 22/12/01 05:27:40 INFO TaskSetManager: Finished task 32.0 in stage 1.0 (TID 48) in 46 ms on gdatanode19 (executor 6) (19/600)\\n',\n '\\t2022-12-01 05:27:40 INFO 22/12/01 05:27:40 INFO TaskSetManager: Starting task 68.0 in stage 1.0 (TID 50, gdatanode10, executor 3, partition 68, NODE_LOCAL, 8100 bytes)\\n',\n '\\t2022-12-01 05:27:40 INFO 22/12/01 05:27:40 INFO TaskSetManager: Finished task 10.0 in stage 1.0 (TID 2) in 14403 ms on gdatanode10 (executor 3) (20/600)\\n',\n '\\t2022-12-01 05:27:40 INFO 22/12/01 05:27:40 INFO TaskSetManager: Starting task 78.0 in stage 1.0 (TID 51, gdatanode10, executor 3, partition 78, NODE_LOCAL, 8100 bytes)\\n',\n '\\t2022-12-01 05:27:40 INFO 22/12/01 05:27:40 INFO TaskSetManager: Finished task 68.0 in stage 1.0 (TID 50) in 60 ms on gdatanode10 (executor 3) (21/600)\\n',\n '\\t2022-12-01 05:27:40 INFO 22/12/01 05:27:40 INFO TaskSetManager: Starting task 111.0 in stage 1.0 (TID 52, gdatanode30, executor 9, partition 111, NODE_LOCAL, 8100 bytes)\\n',\n '\\t2022-12-01 05:27:40 INFO 22/12/01 05:27:40 INFO TaskSetManager: Finished task 76.0 in stage 1.0 (TID 17) in 14589 ms on gdatanode30 (executor 9) (22/600)\\n',\n '\\t2022-12-01 05:27:40 INFO 22/12/01 05:27:40 INFO TaskSetManager: Starting task 91.0 in stage 1.0 (TID 53, gdatanode17, executor 4, partition 91, NODE_LOCAL, 8100 bytes)\\n',\n '\\t2022-12-01 05:27:40 INFO 22/12/01 05:27:40 INFO TaskSetManager: Finished task 1.0 in stage 1.0 (TID 4) in 14704 ms on gdatanode17 (executor 4) (23/600)\\n',\n '\\t2022-12-01 05:27:41 INFO 22/12/01 05:27:41 INFO TaskSetManager: Starting task 104.0 in stage 1.0 (TID 54, gdatanode17, executor 4, partition 104, NODE_LOCAL, 8100 bytes)\\n',\n '\\t2022-12-01 05:27:41 INFO 22/12/01 05:27:41 INFO TaskSetManager: Finished task 40.0 in stage 1.0 (TID 31) in 11182 ms on gdatanode17 (executor 4) (24/600)\\n',\n '\\t2022-12-01 05:27:41 INFO 22/12/01 05:27:41 INFO TaskSetManager: Starting task 133.0 in stage 1.0 (TID 55, gdatanode17, executor 4, partition 133, NODE_LOCAL, 8100 bytes)\\n',\n '\\t2022-12-01 05:27:41 INFO 22/12/01 05:27:41 INFO TaskSetManager: Finished task 104.0 in stage 1.0 (TID 54) in 130 ms on gdatanode17 (executor 4) (25/600)\\n',\n '\\t2022-12-01 05:27:42 INFO 22/12/01 05:27:42 INFO TaskSetManager: Starting task 33.0 in stage 1.0 (TID 56, gdatanode25, executor 2, partition 33, NODE_LOCAL, 8100 bytes)\\n',\n '[INFO] 2022-12-01 05:27:43.732  - [taskAppId=TASK-44-304161-1974982]:[127] -  -> 2022-12-01 05:27:42 INFO 22/12/01 05:27:42 INFO TaskSetManager: Finished task 25.0 in stage 1.0 (TID 23) in 15988 ms on gdatanode25 (executor 2) (26/600)\\n',\n '\\t2022-12-01 05:27:43 INFO 22/12/01 05:27:43 INFO TaskSetManager: Starting task 63.0 in stage 1.0 (TID 57, gdatanode15, executor 10, partition 63, NODE_LOCAL, 8100 bytes)\\n',\n '[INFO] 2022-12-01 05:27:46.470  - [taskAppId=TASK-44-304161-1974982]:[127] -  -> 2022-12-01 05:27:43 INFO 22/12/01 05:27:43 INFO TaskSetManager: Finished task 4.0 in stage 1.0 (TID 15) in 17578 ms on gdatanode15 (executor 10) (27/600)\\n',\n '\\t2022-12-01 05:27:46 INFO 22/12/01 05:27:46 INFO TaskSetManager: Starting task 98.0 in stage 1.0 (TID 58, gdatanode31, executor 5, partition 98, NODE_LOCAL, 8100 bytes)\\n',\n '[INFO] 2022-12-01 05:27:47.535  - [taskAppId=TASK-44-304161-1974982]:[127] -  -> 2022-12-01 05:27:46 INFO 22/12/01 05:27:46 INFO TaskSetManager: Finished task 55.0 in stage 1.0 (TID 16) in 20315 ms on gdatanode31 (executor 5) (28/600)\\n',\n '\\t2022-12-01 05:27:46 INFO 22/12/01 05:27:46 INFO TaskSetManager: Starting task 119.0 in stage 1.0 (TID 59, gdatanode31, executor 5, partition 119, NODE_LOCAL, 8100 bytes)\\n',\n '\\t2022-12-01 05:27:46 INFO 22/12/01 05:27:46 INFO TaskSetManager: Finished task 98.0 in stage 1.0 (TID 58) in 106 ms on gdatanode31 (executor 5) (29/600)\\n',\n '\\t2022-12-01 05:27:46 INFO 22/12/01 05:27:46 INFO TaskSetManager: Starting task 187.0 in stage 1.0 (TID 60, gdatanode02, executor 7, partition 187, NODE_LOCAL, 8100 bytes)\\n',\n '\\t2022-12-01 05:27:46 INFO 22/12/01 05:27:46 INFO TaskSetManager: Finished task 181.0 in stage 1.0 (TID 43) in 11891 ms on gdatanode02 (executor 7) (30/600)\\n',\n '\\t2022-12-01 05:27:46 INFO 22/12/01 05:27:46 INFO TaskSetManager: Starting task 120.0 in stage 1.0 (TID 61, gdatanode31, executor 5, partition 120, NODE_LOCAL, 8100 bytes)\\n',\n '\\t2022-12-01 05:27:46 INFO 22/12/01 05:27:46 INFO TaskSetManager: Finished task 94.0 in stage 1.0 (TID 40) in 14408 ms on gdatanode31 (executor 5) (31/600)\\n',\n '\\t2022-12-01 05:27:47 INFO 22/12/01 05:27:47 INFO TaskSetManager: Starting task 121.0 in stage 1.0 (TID 62, gdatanode31, executor 5, partition 121, NODE_LOCAL, 8100 bytes)\\n',\n '\\t2022-12-01 05:27:47 INFO 22/12/01 05:27:47 INFO TaskSetManager: Finished task 119.0 in stage 1.0 (TID 59) in 463 ms on gdatanode31 (executor 5) (32/600)\\n',\n '\\t2022-12-01 05:27:47 INFO 22/12/01 05:27:47 INFO TaskSetManager: Starting task 129.0 in stage 1.0 (TID 63, gdatanode30, executor 9, partition 129, NODE_LOCAL, 8100 bytes)\\n',\n '[INFO] 2022-12-01 05:27:54.434  - [taskAppId=TASK-44-304161-1974982]:[127] -  -> 2022-12-01 05:27:47 INFO 22/12/01 05:27:47 INFO TaskSetManager: Finished task 48.0 in stage 1.0 (TID 7) in 21386 ms on gdatanode30 (executor 9) (33/600)\\n',\n '\\t2022-12-01 05:27:47 INFO 22/12/01 05:27:47 INFO TaskSetManager: Starting task 53.0 in stage 1.0 (TID 64, gdatanode19, executor 6, partition 53, NODE_LOCAL, 8100 bytes)\\n',\n '\\t2022-12-01 05:27:47 INFO 22/12/01 05:27:47 INFO TaskSetManager: Finished task 31.0 in stage 1.0 (TID 47) in 8545 ms on gdatanode19 (executor 6) (34/600)\\n',\n '\\t2022-12-01 05:27:47 INFO 22/12/01 05:27:47 INFO TaskSetManager: Starting task 189.0 in stage 1.0 (TID 65, gdatanode17, executor 4, partition 189, NODE_LOCAL, 8100 bytes)\\n',\n '\\t2022-12-01 05:27:47 INFO 22/12/01 05:27:47 INFO TaskSetManager: Finished task 91.0 in stage 1.0 (TID 53) in 6824 ms on gdatanode17 (executor 4) (35/600)\\n',\n '\\t2022-12-01 05:27:47 INFO 22/12/01 05:27:47 INFO TaskSetManager: Starting task 140.0 in stage 1.0 (TID 66, gdatanode30, executor 9, partition 140, NODE_LOCAL, 8100 bytes)\\n',\n '\\t2022-12-01 05:27:47 INFO 22/12/01 05:27:47 INFO TaskSetManager: Finished task 87.0 in stage 1.0 (TID 27) in 21522 ms on gdatanode30 (executor 9) (36/600)\\n',\n '\\t2022-12-01 05:27:47 INFO 22/12/01 05:27:47 INFO TaskSetManager: Starting task 162.0 in stage 1.0 (TID 67, gdatanode30, executor 9, partition 162, NODE_LOCAL, 8100 bytes)\\n',\n '\\t2022-12-01 05:27:47 INFO 22/12/01 05:27:47 INFO TaskSetManager: Finished task 140.0 in stage 1.0 (TID 66) in 34 ms on gdatanode30 (executor 9) (37/600)\\n',\n '\\t2022-12-01 05:27:47 INFO 22/12/01 05:27:47 INFO TaskSetManager: Starting task 58.0 in stage 1.0 (TID 68, gdatanode19, executor 6, partition 58, NODE_LOCAL, 8100 bytes)\\n',\n '\\t2022-12-01 05:27:47 INFO 22/12/01 05:27:47 INFO TaskSetManager: Finished task 53.0 in stage 1.0 (TID 64) in 55 ms on gdatanode19 (executor 6) (38/600)\\n',\n '\\t2022-12-01 05:27:47 INFO 22/12/01 05:27:47 INFO TaskSetManager: Starting task 191.0 in stage 1.0 (TID 69, gdatanode17, executor 4, partition 191, NODE_LOCAL, 8100 bytes)\\n',\n '\\t2022-12-01 05:27:47 INFO 22/12/01 05:27:47 INFO TaskSetManager: Finished task 133.0 in stage 1.0 (TID 55) in 6545 ms on gdatanode17 (executor 4) (39/600)\\n',\n '\\t2022-12-01 05:27:47 INFO 22/12/01 05:27:47 INFO TaskSetManager: Starting task 228.0 in stage 1.0 (TID 70, gdatanode17, executor 4, partition 228, NODE_LOCAL, 8100 bytes)\\n',\n '\\t2022-12-01 05:27:47 INFO 22/12/01 05:27:47 INFO TaskSetManager: Finished task 191.0 in stage 1.0 (TID 69) in 36 ms on gdatanode17 (executor 4) (40/600)\\n',\n '\\t2022-12-01 05:27:47 INFO 22/12/01 05:27:47 INFO TaskSetManager: Starting task 194.0 in stage 1.0 (TID 71, gdatanode02, executor 7, partition 194, NODE_LOCAL, 8100 bytes)\\n',\n '\\t2022-12-01 05:27:47 INFO 22/12/01 05:27:47 INFO TaskSetManager: Finished task 151.0 in stage 1.0 (TID 39) in 16076 ms on gdatanode02 (executor 7) (41/600)\\n',\n '\\t2022-12-01 05:27:48 INFO 22/12/01 05:27:48 INFO TaskSetManager: Starting task 225.0 in stage 1.0 (TID 72, gdatanode02, executor 7, partition 225, NODE_LOCAL, 8100 bytes)\\n',\n '\\t2022-12-01 05:27:48 INFO 22/12/01 05:27:48 INFO TaskSetManager: Finished task 194.0 in stage 1.0 (TID 71) in 263 ms on gdatanode02 (executor 7) (42/600)\\n',\n '\\t2022-12-01 05:27:48 INFO 22/12/01 05:27:48 INFO TaskSetManager: Starting task 72.0 in stage 1.0 (TID 73, gdatanode19, executor 6, partition 72, NODE_LOCAL, 8100 bytes)\\n',\n '\\t2022-12-01 05:27:48 INFO 22/12/01 05:27:48 INFO TaskSetManager: Finished task 12.0 in stage 1.0 (TID 19) in 22237 ms on gdatanode19 (executor 6) (43/600)\\n',\n '\\t2022-12-01 05:27:54 INFO 22/12/01 05:27:54 INFO TaskSetManager: Starting task 195.0 in stage 1.0 (TID 74, gdatanode30, executor 9, partition 195, NODE_LOCAL, 8100 bytes)\\n',\n '[INFO] 2022-12-01 05:27:55.447  - [taskAppId=TASK-44-304161-1974982]:[127] -  -> 2022-12-01 05:27:54 INFO 22/12/01 05:27:54 INFO TaskSetManager: Finished task 111.0 in stage 1.0 (TID 52) in 13690 ms on gdatanode30 (executor 9) (44/600)\\n',\n '\\t2022-12-01 05:27:54 INFO 22/12/01 05:27:54 INFO TaskSetManager: Starting task 230.0 in stage 1.0 (TID 75, gdatanode17, executor 4, partition 230, NODE_LOCAL, 8100 bytes)\\n',\n '\\t2022-12-01 05:27:54 INFO 22/12/01 05:27:54 INFO TaskSetManager: Finished task 81.0 in stage 1.0 (TID 32) in 24620 ms on gdatanode17 (executor 4) (45/600)\\n',\n '\\t2022-12-01 05:27:54 INFO 22/12/01 05:27:54 INFO TaskSetManager: Starting task 233.0 in stage 1.0 (TID 76, gdatanode17, executor 4, partition 233, NODE_LOCAL, 8100 bytes)\\n',\n '\\t2022-12-01 05:27:54 INFO 22/12/01 05:27:54 INFO TaskSetManager: Finished task 230.0 in stage 1.0 (TID 75) in 26 ms on gdatanode17 (executor 4) (46/600)\\n',\n '\\t2022-12-01 05:27:54 INFO 22/12/01 05:27:54 INFO TaskSetManager: Starting task 242.0 in stage 1.0 (TID 77, gdatanode17, executor 4, partition 242, NODE_LOCAL, 8100 bytes)\\n',\n '\\t2022-12-01 05:27:54 INFO 22/12/01 05:27:54 INFO TaskSetManager: Finished task 233.0 in stage 1.0 (TID 76) in 35 ms on gdatanode17 (executor 4) (47/600)\\n',\n '\\t2022-12-01 05:27:54 INFO 22/12/01 05:27:54 INFO TaskSetManager: Starting task 73.0 in stage 1.0 (TID 78, gdatanode19, executor 6, partition 73, NODE_LOCAL, 8100 bytes)\\n',\n '\\t2022-12-01 05:27:54 INFO 22/12/01 05:27:54 INFO TaskSetManager: Finished task 58.0 in stage 1.0 (TID 68) in 6857 ms on gdatanode19 (executor 6) (48/600)\\n',\n '\\t2022-12-01 05:27:54 INFO 22/12/01 05:27:54 INFO TaskSetManager: Starting task 280.0 in stage 1.0 (TID 79, gdatanode17, executor 4, partition 280, NODE_LOCAL, 8100 bytes)\\n',\n '\\t2022-12-01 05:27:54 INFO 22/12/01 05:27:54 INFO TaskSetManager: Finished task 242.0 in stage 1.0 (TID 77) in 27 ms on gdatanode17 (executor 4) (49/600)\\n',\n '\\t2022-12-01 05:27:54 INFO 22/12/01 05:27:54 INFO TaskSetManager: Starting task 39.0 in stage 1.0 (TID 80, gdatanode25, executor 2, partition 39, NODE_LOCAL, 8100 bytes)\\n',\n '\\t2022-12-01 05:27:54 INFO 22/12/01 05:27:54 INFO TaskSetManager: Finished task 9.0 in stage 1.0 (TID 13) in 28734 ms on gdatanode25 (executor 2) (50/600)\\n',\n '\\t2022-12-01 05:27:55 INFO 22/12/01 05:27:55 INFO TaskSetManager: Starting task 128.0 in stage 1.0 (TID 81, gdatanode08, executor 8, partition 128, NODE_LOCAL, 8100 bytes)\\n',\n '\\t2022-12-01 05:27:55 INFO 22/12/01 05:27:55 INFO TaskSetManager: Finished task 18.0 in stage 1.0 (TID 11) in 28986 ms on gdatanode08 (executor 8) (51/600)\\n',\n '\\t2022-12-01 05:27:55 INFO 22/12/01 05:27:55 INFO TaskSetManager: Starting task 156.0 in stage 1.0 (TID 82, gdatanode08, executor 8, partition 156, NODE_LOCAL, 8100 bytes)\\n',\n '\\t2022-12-01 05:27:55 INFO 22/12/01 05:27:55 INFO TaskSetManager: Finished task 15.0 in stage 1.0 (TID 1) in 29038 ms on gdatanode08 (executor 8) (52/600)\\n',\n '\\t2022-12-01 05:27:55 INFO 22/12/01 05:27:55 INFO TaskSetManager: Starting task 161.0 in stage 1.0 (TID 83, gdatanode08, executor 8, partition 161, NODE_LOCAL, 8100 bytes)\\n',\n '\\t2022-12-01 05:27:55 INFO 22/12/01 05:27:55 INFO TaskSetManager: Finished task 128.0 in stage 1.0 (TID 81) in 41 ms on gdatanode08 (executor 8) (53/600)\\n',\n '\\t2022-12-01 05:27:55 INFO 22/12/01 05:27:55 INFO TaskSetManager: Starting task 173.0 in stage 1.0 (TID 84, gdatanode08, executor 8, partition 173, NODE_LOCAL, 8100 bytes)\\n',\n '\\t2022-12-01 05:27:55 INFO 22/12/01 05:27:55 INFO TaskSetManager: Finished task 161.0 in stage 1.0 (TID 83) in 39 ms on gdatanode08 (executor 8) (54/600)\\n',\n '\\t2022-12-01 05:27:55 INFO 22/12/01 05:27:55 INFO TaskSetManager: Starting task 203.0 in stage 1.0 (TID 85, gdatanode08, executor 8, partition 203, NODE_LOCAL, 8100 bytes)\\n',\n '\\t2022-12-01 05:27:55 INFO 22/12/01 05:27:55 INFO TaskSetManager: Finished task 173.0 in stage 1.0 (TID 84) in 47 ms on gdatanode08 (executor 8) (55/600)\\n',\n '\\t2022-12-01 05:27:55 INFO 22/12/01 05:27:55 INFO TaskSetManager: Starting task 208.0 in stage 1.0 (TID 86, gdatanode08, executor 8, partition 208, NODE_LOCAL, 8100 bytes)\\n',\n '[INFO] 2022-12-01 05:27:56.502  - [taskAppId=TASK-44-304161-1974982]:[127] -  -> 2022-12-01 05:27:55 INFO 22/12/01 05:27:55 INFO TaskSetManager: Finished task 203.0 in stage 1.0 (TID 85) in 186 ms on gdatanode08 (executor 8) (56/600)\\n',\n '\\t2022-12-01 05:27:55 INFO 22/12/01 05:27:55 INFO TaskSetManager: Starting task 237.0 in stage 1.0 (TID 87, gdatanode08, executor 8, partition 237, NODE_LOCAL, 8100 bytes)\\n',\n '\\t2022-12-01 05:27:55 INFO 22/12/01 05:27:55 INFO TaskSetManager: Finished task 126.0 in stage 1.0 (TID 34) in 25014 ms on gdatanode08 (executor 8) (57/600)\\n',\n '\\t2022-12-01 05:27:55 INFO 22/12/01 05:27:55 INFO TaskSetManager: Starting task 64.0 in stage 1.0 (TID 88, gdatanode15, executor 10, partition 64, NODE_LOCAL, 8100 bytes)\\n',\n '\\t2022-12-01 05:27:55 INFO 22/12/01 05:27:55 INFO TaskSetManager: Finished task 3.0 in stage 1.0 (TID 5) in 29693 ms on gdatanode15 (executor 10) (58/600)\\n',\n '\\t2022-12-01 05:27:55 INFO 22/12/01 05:27:55 INFO TaskSetManager: Starting task 57.0 in stage 1.0 (TID 89, gdatanode25, executor 2, partition 57, NODE_LOCAL, 8100 bytes)\\n',\n '\\t2022-12-01 05:27:55 INFO 22/12/01 05:27:55 INFO TaskSetManager: Finished task 0.0 in stage 1.0 (TID 3) in 29833 ms on gdatanode25 (executor 2) (59/600)\\n',\n '\\t2022-12-01 05:27:56 INFO 22/12/01 05:27:56 INFO TaskSetManager: Starting task 112.0 in stage 1.0 (TID 90, gdatanode10, executor 3, partition 112, NODE_LOCAL, 8100 bytes)\\n',\n '\\t2022-12-01 05:27:56 INFO 22/12/01 05:27:56 INFO TaskSetManager: Finished task 24.0 in stage 1.0 (TID 12) in 30067 ms on gdatanode10 (executor 3) (60/600)\\n',\n '\\t2022-12-01 05:27:56 INFO 22/12/01 05:27:56 INFO TaskSetManager: Starting task 155.0 in stage 1.0 (TID 91, gdatanode10, executor 3, partition 155, NODE_LOCAL, 8100 bytes)\\n',\n '[INFO] 2022-12-01 05:27:58.601  - [taskAppId=TASK-44-304161-1974982]:[127] -  -> 2022-12-01 05:27:56 INFO 22/12/01 05:27:56 INFO TaskSetManager: Finished task 30.0 in stage 1.0 (TID 22) in 30343 ms on gdatanode10 (executor 3) (61/600)\\n',\n '\\t2022-12-01 05:27:56 INFO 22/12/01 05:27:56 INFO TaskSetManager: Starting task 159.0 in stage 1.0 (TID 92, gdatanode10, executor 3, partition 159, NODE_LOCAL, 8100 bytes)\\n',\n '\\t2022-12-01 05:27:56 INFO 22/12/01 05:27:56 INFO TaskSetManager: Finished task 155.0 in stage 1.0 (TID 91) in 35 ms on gdatanode10 (executor 3) (62/600)\\n',\n '\\t2022-12-01 05:27:56 INFO 22/12/01 05:27:56 INFO TaskSetManager: Starting task 65.0 in stage 1.0 (TID 93, gdatanode15, executor 10, partition 65, NODE_LOCAL, 8100 bytes)\\n',\n '\\t2022-12-01 05:27:56 INFO 22/12/01 05:27:56 INFO TaskSetManager: Finished task 45.0 in stage 1.0 (TID 35) in 26241 ms on gdatanode15 (executor 10) (63/600)\\n',\n '\\t2022-12-01 05:27:56 INFO 22/12/01 05:27:56 INFO TaskSetManager: Starting task 97.0 in stage 1.0 (TID 94, gdatanode15, executor 10, partition 97, NODE_LOCAL, 8100 bytes)\\n',\n '\\t2022-12-01 05:27:56 INFO 22/12/01 05:27:56 INFO TaskSetManager: Finished task 65.0 in stage 1.0 (TID 93) in 28 ms on gdatanode15 (executor 10) (64/600)\\n',\n '\\t2022-12-01 05:27:58 INFO 22/12/01 05:27:58 INFO TaskSetManager: Starting task 252.0 in stage 1.0 (TID 95, gdatanode02, executor 7, partition 252, NODE_LOCAL, 8100 bytes)\\n',\n '[INFO] 2022-12-01 05:28:00.865  - [taskAppId=TASK-44-304161-1974982]:[127] -  -> 2022-12-01 05:27:58 INFO 22/12/01 05:27:58 INFO TaskSetManager: Finished task 187.0 in stage 1.0 (TID 60) in 11956 ms on gdatanode02 (executor 7) (65/600)\\n',\n '\\t2022-12-01 05:27:58 INFO 22/12/01 05:27:58 INFO TaskSetManager: Starting task 74.0 in stage 1.0 (TID 96, gdatanode19, executor 6, partition 74, NODE_LOCAL, 8100 bytes)\\n',\n '\\t2022-12-01 05:27:58 INFO 22/12/01 05:27:58 INFO TaskSetManager: Finished task 36.0 in stage 1.0 (TID 49) in 18321 ms on gdatanode19 (executor 6) (66/600)\\n',\n '\\t2022-12-01 05:27:58 INFO 22/12/01 05:27:58 INFO TaskSetManager: Starting task 82.0 in stage 1.0 (TID 97, gdatanode19, executor 6, partition 82, NODE_LOCAL, 8100 bytes)\\n',\n '\\t2022-12-01 05:27:58 INFO 22/12/01 05:27:58 INFO TaskSetManager: Finished task 74.0 in stage 1.0 (TID 96) in 24 ms on gdatanode19 (executor 6) (67/600)\\n',\n '\\t2022-12-01 05:27:59 INFO 22/12/01 05:27:59 INFO TaskSetManager: Starting task 139.0 in stage 1.0 (TID 98, gdatanode07, executor 1, partition 139, NODE_LOCAL, 8100 bytes)\\n',\n '\\t2022-12-01 05:27:59 INFO 22/12/01 05:27:59 INFO TaskSetManager: Finished task 21.0 in stage 1.0 (TID 8) in 32860 ms on gdatanode07 (executor 1) (68/600)\\n',\n '\\t2022-12-01 05:27:59 INFO 22/12/01 05:27:59 INFO TaskSetManager: Starting task 171.0 in stage 1.0 (TID 99, gdatanode07, executor 1, partition 171, NODE_LOCAL, 8100 bytes)\\n',\n '\\t2022-12-01 05:27:59 INFO 22/12/01 05:27:59 INFO TaskSetManager: Finished task 90.0 in stage 1.0 (TID 45) in 23835 ms on gdatanode07 (executor 1) (69/600)\\n',\n '\\t2022-12-01 05:27:59 INFO 22/12/01 05:27:59 INFO TaskSetManager: Starting task 172.0 in stage 1.0 (TID 100, gdatanode07, executor 1, partition 172, NODE_LOCAL, 8100 bytes)\\n',\n '\\t2022-12-01 05:27:59 INFO 22/12/01 05:27:59 INFO TaskSetManager: Finished task 69.0 in stage 1.0 (TID 28) in 33081 ms on gdatanode07 (executor 1) (70/600)\\n',\n '\\t2022-12-01 05:28:00 INFO 22/12/01 05:28:00 INFO TaskSetManager: Starting task 293.0 in stage 1.0 (TID 101, gdatanode17, executor 4, partition 293, NODE_LOCAL, 8100 bytes)\\n',\n '[INFO] 2022-12-01 05:28:02.154  - [taskAppId=TASK-44-304161-1974982]:[127] -  -> 2022-12-01 05:28:00 INFO 22/12/01 05:28:00 INFO TaskSetManager: Finished task 280.0 in stage 1.0 (TID 79) in 6264 ms on gdatanode17 (executor 4) (71/600)\\n',\n '\\t2022-12-01 05:28:00 INFO 22/12/01 05:28:00 INFO TaskSetManager: Starting task 294.0 in stage 1.0 (TID 102, gdatanode17, executor 4, partition 294, NODE_LOCAL, 8100 bytes)\\n',\n '\\t2022-12-01 05:28:00 INFO 22/12/01 05:28:00 INFO TaskSetManager: Finished task 293.0 in stage 1.0 (TID 101) in 35 ms on gdatanode17 (executor 4) (72/600)\\n',\n '\\t2022-12-01 05:28:01 INFO 22/12/01 05:28:01 INFO TaskSetManager: Starting task 137.0 in stage 1.0 (TID 103, gdatanode31, executor 5, partition 137, NODE_LOCAL, 8100 bytes)\\n',\n '\\t2022-12-01 05:28:01 INFO 22/12/01 05:28:01 INFO TaskSetManager: Finished task 121.0 in stage 1.0 (TID 62) in 14086 ms on gdatanode31 (executor 5) (73/600)\\n',\n '\\t2022-12-01 05:28:01 INFO 22/12/01 05:28:01 INFO TaskSetManager: Starting task 153.0 in stage 1.0 (TID 104, gdatanode31, executor 5, partition 153, NODE_LOCAL, 8100 bytes)\\n',\n '\\t2022-12-01 05:28:01 INFO 22/12/01 05:28:01 INFO TaskSetManager: Finished task 137.0 in stage 1.0 (TID 103) in 50 ms on gdatanode31 (executor 5) (74/600)\\n',\n '\\t2022-12-01 05:28:01 INFO 22/12/01 05:28:01 INFO TaskSetManager: Starting task 253.0 in stage 1.0 (TID 105, gdatanode02, executor 7, partition 253, NODE_LOCAL, 8100 bytes)\\n',\n '\\t2022-12-01 05:28:01 INFO 22/12/01 05:28:01 INFO TaskSetManager: Finished task 150.0 in stage 1.0 (TID 38) in 30346 ms on gdatanode02 (executor 7) (75/600)\\n',\n '\\t2022-12-01 05:28:02 INFO 22/12/01 05:28:02 INFO TaskSetManager: Starting task 282.0 in stage 1.0 (TID 106, gdatanode08, executor 8, partition 282, NODE_LOCAL, 8100 bytes)\\n',\n '[INFO] 2022-12-01 05:28:03.171  - [taskAppId=TASK-44-304161-1974982]:[127] -  -> 2022-12-01 05:28:02 INFO 22/12/01 05:28:02 INFO TaskSetManager: Finished task 208.0 in stage 1.0 (TID 86) in 6708 ms on gdatanode08 (executor 8) (76/600)\\n',\n '\\t2022-12-01 05:28:03 INFO 22/12/01 05:28:03 INFO TaskSetManager: Starting task 106.0 in stage 1.0 (TID 107, gdatanode15, executor 10, partition 106, NODE_LOCAL, 8100 bytes)\\n',\n '\\t2022-12-01 05:28:03 INFO 22/12/01 05:28:03 INFO TaskSetManager: Finished task 64.0 in stage 1.0 (TID 88) in 7181 ms on gdatanode15 (executor 10) (77/600)\\n',\n '\\t2022-12-01 05:28:03 INFO 22/12/01 05:28:03 INFO TaskSetManager: Starting task 123.0 in stage 1.0 (TID 108, gdatanode15, executor 10, partition 123, NODE_LOCAL, 8100 bytes)\\n',\n '\\t2022-12-01 05:28:03 INFO 22/12/01 05:28:03 INFO TaskSetManager: Finished task 63.0 in stage 1.0 (TID 57) in 19411 ms on gdatanode15 (executor 10) (78/600)\\n',\n '\\t2022-12-01 05:28:03 INFO 22/12/01 05:28:03 INFO TaskSetManager: Starting task 103.0 in stage 1.0 (TID 109, gdatanode19, executor 6, partition 103, NODE_LOCAL, 8100 bytes)\\n',\n '[INFO] 2022-12-01 05:28:05.708  - [taskAppId=TASK-44-304161-1974982]:[127] -  -> 2022-12-01 05:28:03 INFO 22/12/01 05:28:03 INFO TaskSetManager: Finished task 73.0 in stage 1.0 (TID 78) in 8595 ms on gdatanode19 (executor 6) (79/600)\\n',\n '\\t2022-12-01 05:28:03 INFO 22/12/01 05:28:03 INFO TaskSetManager: Starting task 70.0 in stage 1.0 (TID 110, gdatanode25, executor 2, partition 70, NODE_LOCAL, 8100 bytes)\\n',\n '\\t2022-12-01 05:28:03 INFO 22/12/01 05:28:03 INFO TaskSetManager: Finished task 33.0 in stage 1.0 (TID 56) in 21126 ms on gdatanode25 (executor 2) (80/600)\\n',\n '\\t2022-12-01 05:28:03 INFO 22/12/01 05:28:03 INFO TaskSetManager: Starting task 199.0 in stage 1.0 (TID 111, gdatanode30, executor 9, partition 199, NODE_LOCAL, 8100 bytes)\\n',\n '\\t2022-12-01 05:28:03 INFO 22/12/01 05:28:03 INFO TaskSetManager: Finished task 162.0 in stage 1.0 (TID 67) in 15568 ms on gdatanode30 (executor 9) (81/600)\\n',\n '\\t2022-12-01 05:28:03 INFO 22/12/01 05:28:03 INFO TaskSetManager: Starting task 164.0 in stage 1.0 (TID 112, gdatanode10, executor 3, partition 164, NODE_LOCAL, 8100 bytes)\\n',\n '\\t2022-12-01 05:28:03 INFO 22/12/01 05:28:03 INFO TaskSetManager: Finished task 78.0 in stage 1.0 (TID 51) in 22828 ms on gdatanode10 (executor 3) (82/600)\\n',\n '\\t2022-12-01 05:28:03 INFO 22/12/01 05:28:03 INFO TaskSetManager: Starting task 222.0 in stage 1.0 (TID 113, gdatanode30, executor 9, partition 222, NODE_LOCAL, 8100 bytes)\\n',\n '\\t2022-12-01 05:28:03 INFO 22/12/01 05:28:03 INFO TaskSetManager: Finished task 129.0 in stage 1.0 (TID 63) in 15946 ms on gdatanode30 (executor 9) (83/600)\\n',\n '\\t2022-12-01 05:28:03 INFO 22/12/01 05:28:03 INFO TaskSetManager: Starting task 165.0 in stage 1.0 (TID 114, gdatanode10, executor 3, partition 165, NODE_LOCAL, 8100 bytes)\\n',\n '\\t2022-12-01 05:28:03 INFO 22/12/01 05:28:03 INFO TaskSetManager: Finished task 164.0 in stage 1.0 (TID 112) in 48 ms on gdatanode10 (executor 3) (84/600)\\n',\n '\\t2022-12-01 05:28:03 INFO 22/12/01 05:28:03 INFO TaskSetManager: Starting task 124.0 in stage 1.0 (TID 115, gdatanode15, executor 10, partition 124, NODE_LOCAL, 8100 bytes)\\n',\n '\\t2022-12-01 05:28:03 INFO 22/12/01 05:28:03 INFO TaskSetManager: Finished task 97.0 in stage 1.0 (TID 94) in 7210 ms on gdatanode15 (executor 10) (85/600)\\n',\n '\\t2022-12-01 05:28:04 INFO 22/12/01 05:28:04 INFO TaskSetManager: Starting task 157.0 in stage 1.0 (TID 116, gdatanode31, executor 5, partition 157, NODE_LOCAL, 8100 bytes)\\n',\n '\\t2022-12-01 05:28:04 INFO 22/12/01 05:28:04 INFO TaskSetManager: Finished task 42.0 in stage 1.0 (TID 6) in 37969 ms on gdatanode31 (executor 5) (86/600)\\n',\n '\\t2022-12-01 05:28:05 INFO 22/12/01 05:28:05 INFO TaskSetManager: Starting task 132.0 in stage 1.0 (TID 117, gdatanode19, executor 6, partition 132, NODE_LOCAL, 8100 bytes)\\n',\n '[INFO] 2022-12-01 05:28:06.757  - [taskAppId=TASK-44-304161-1974982]:[127] -  -> 2022-12-01 05:28:05 INFO 22/12/01 05:28:05 INFO TaskSetManager: Finished task 72.0 in stage 1.0 (TID 73) in 17315 ms on gdatanode19 (executor 6) (87/600)\\n',\n '\\t2022-12-01 05:28:05 INFO 22/12/01 05:28:05 INFO TaskSetManager: Starting task 192.0 in stage 1.0 (TID 118, gdatanode10, executor 3, partition 192, NODE_LOCAL, 8100 bytes)\\n',\n '\\t2022-12-01 05:28:05 INFO 22/12/01 05:28:05 INFO TaskSetManager: Finished task 112.0 in stage 1.0 (TID 90) in 9601 ms on gdatanode10 (executor 3) (88/600)\\n',\n '\\t2022-12-01 05:28:05 INFO 22/12/01 05:28:05 INFO TaskSetManager: Starting task 134.0 in stage 1.0 (TID 119, gdatanode19, executor 6, partition 134, NODE_LOCAL, 8100 bytes)\\n',\n '\\t2022-12-01 05:28:05 INFO 22/12/01 05:28:05 INFO TaskSetManager: Finished task 82.0 in stage 1.0 (TID 97) in 7126 ms on gdatanode19 (executor 6) (89/600)\\n',\n '\\t2022-12-01 05:28:05 INFO 22/12/01 05:28:05 INFO TaskSetManager: Starting task 143.0 in stage 1.0 (TID 120, gdatanode19, executor 6, partition 143, NODE_LOCAL, 8100 bytes)\\n',\n '\\t2022-12-01 05:28:05 INFO 22/12/01 05:28:05 INFO TaskSetManager: Finished task 134.0 in stage 1.0 (TID 119) in 29 ms on gdatanode19 (executor 6) (90/600)\\n',\n '\\t2022-12-01 05:28:06 INFO 22/12/01 05:28:06 INFO TaskSetManager: Starting task 296.0 in stage 1.0 (TID 121, gdatanode17, executor 4, partition 296, NODE_LOCAL, 8100 bytes)\\n',\n '\\t2022-12-01 05:28:06 INFO 22/12/01 05:28:06 INFO TaskSetManager: Finished task 189.0 in stage 1.0 (TID 65) in 18611 ms on gdatanode17 (executor 4) (91/600)\\n',\n '\\t2022-12-01 05:28:06 INFO 22/12/01 05:28:06 INFO TaskSetManager: Starting task 166.0 in stage 1.0 (TID 122, gdatanode19, executor 6, partition 166, NODE_LOCAL, 8100 bytes)\\n',\n '\\t2022-12-01 05:28:06 INFO 22/12/01 05:28:06 INFO TaskSetManager: Finished task 143.0 in stage 1.0 (TID 120) in 340 ms on gdatanode19 (executor 6) (92/600)\\n',\n '\\t2022-12-01 05:28:06 INFO 22/12/01 05:28:06 INFO TaskSetManager: Starting task 320.0 in stage 1.0 (TID 123, gdatanode17, executor 4, partition 320, NODE_LOCAL, 8100 bytes)\\n',\n '\\t2022-12-01 05:28:06 INFO 22/12/01 05:28:06 INFO TaskSetManager: Finished task 296.0 in stage 1.0 (TID 121) in 25 ms on gdatanode17 (executor 4) (93/600)\\n',\n '\\t2022-12-01 05:28:06 INFO 22/12/01 05:28:06 INFO TaskSetManager: Starting task 341.0 in stage 1.0 (TID 124, gdatanode17, executor 4, partition 341, NODE_LOCAL, 8100 bytes)\\n',\n '\\t2022-12-01 05:28:06 INFO 22/12/01 05:28:06 INFO TaskSetManager: Finished task 320.0 in stage 1.0 (TID 123) in 19 ms on gdatanode17 (executor 4) (94/600)\\n',\n '\\t2022-12-01 05:28:06 INFO 22/12/01 05:28:06 INFO TaskSetManager: Starting task 371.0 in stage 1.0 (TID 125, gdatanode17, executor 4, partition 371, NODE_LOCAL, 8100 bytes)\\n',\n '\\t2022-12-01 05:28:06 INFO 22/12/01 05:28:06 INFO TaskSetManager: Finished task 341.0 in stage 1.0 (TID 124) in 22 ms on gdatanode17 (executor 4) (95/600)\\n',\n '\\t2022-12-01 05:28:06 INFO 22/12/01 05:28:06 INFO TaskSetManager: Starting task 398.0 in stage 1.0 (TID 126, gdatanode17, executor 4, partition 398, NODE_LOCAL, 8100 bytes)\\n',\n '\\t2022-12-01 05:28:06 INFO 22/12/01 05:28:06 INFO TaskSetManager: Finished task 371.0 in stage 1.0 (TID 125) in 21 ms on gdatanode17 (executor 4) (96/600)\\n',\n '\\t2022-12-01 05:28:06 INFO 22/12/01 05:28:06 INFO TaskSetManager: Starting task 405.0 in stage 1.0 (TID 127, gdatanode17, executor 4, partition 405, NODE_LOCAL, 8100 bytes)\\n',\n '\\t2022-12-01 05:28:06 INFO 22/12/01 05:28:06 INFO TaskSetManager: Finished task 398.0 in stage 1.0 (TID 126) in 22 ms on gdatanode17 (executor 4) (97/600)\\n',\n '\\t2022-12-01 05:28:06 INFO 22/12/01 05:28:06 INFO TaskSetManager: Starting task 425.0 in stage 1.0 (TID 128, gdatanode17, executor 4, partition 425, NODE_LOCAL, 8100 bytes)\\n',\n '[INFO] 2022-12-01 05:28:08.676  - [taskAppId=TASK-44-304161-1974982]:[127] -  -> 2022-12-01 05:28:06 INFO 22/12/01 05:28:06 INFO TaskSetManager: Finished task 228.0 in stage 1.0 (TID 70) in 18974 ms on gdatanode17 (executor 4) (98/600)\\n',\n '\\t2022-12-01 05:28:06 INFO 22/12/01 05:28:06 INFO TaskSetManager: Starting task 185.0 in stage 1.0 (TID 129, gdatanode07, executor 1, partition 185, NODE_LOCAL, 8100 bytes)\\n',\n '\\t2022-12-01 05:28:06 INFO 22/12/01 05:28:06 INFO TaskSetManager: Finished task 139.0 in stage 1.0 (TID 98) in 7763 ms on gdatanode07 (executor 1) (99/600)\\n',\n '\\t2022-12-01 05:28:06 INFO 22/12/01 05:28:06 INFO TaskSetManager: Starting task 441.0 in stage 1.0 (TID 130, gdatanode17, executor 4, partition 441, NODE_LOCAL, 8100 bytes)\\n',\n '\\t2022-12-01 05:28:06 INFO 22/12/01 05:28:06 INFO TaskSetManager: Finished task 425.0 in stage 1.0 (TID 128) in 20 ms on gdatanode17 (executor 4) (100/600)\\n',\n '\\t2022-12-01 05:28:06 INFO 22/12/01 05:28:06 INFO TaskSetManager: Starting task 205.0 in stage 1.0 (TID 131, gdatanode07, executor 1, partition 205, NODE_LOCAL, 8100 bytes)\\n',\n '\\t2022-12-01 05:28:06 INFO 22/12/01 05:28:06 INFO TaskSetManager: Finished task 185.0 in stage 1.0 (TID 129) in 38 ms on gdatanode07 (executor 1) (101/600)\\n',\n '\\t2022-12-01 05:28:07 INFO 22/12/01 05:28:07 INFO TaskSetManager: Starting task 234.0 in stage 1.0 (TID 132, gdatanode07, executor 1, partition 234, NODE_LOCAL, 8100 bytes)\\n',\n '\\t2022-12-01 05:28:07 INFO 22/12/01 05:28:07 INFO TaskSetManager: Finished task 172.0 in stage 1.0 (TID 100) in 7769 ms on gdatanode07 (executor 1) (102/600)\\n',\n '\\t2022-12-01 05:28:07 INFO 22/12/01 05:28:07 INFO TaskSetManager: Starting task 168.0 in stage 1.0 (TID 133, gdatanode31, executor 5, partition 168, NODE_LOCAL, 8100 bytes)\\n',\n '\\t2022-12-01 05:28:07 INFO 22/12/01 05:28:07 INFO TaskSetManager: Finished task 120.0 in stage 1.0 (TID 61) in 20465 ms on gdatanode31 (executor 5) (103/600)\\n',\n '\\t2022-12-01 05:28:08 INFO 22/12/01 05:28:08 INFO TaskSetManager: Starting task 84.0 in stage 1.0 (TID 134, gdatanode25, executor 2, partition 84, NODE_LOCAL, 8100 bytes)\\n',\n '[INFO] 2022-12-01 05:28:10.229  - [taskAppId=TASK-44-304161-1974982]:[127] -  -> 2022-12-01 05:28:08 INFO 22/12/01 05:28:08 INFO TaskSetManager: Finished task 70.0 in stage 1.0 (TID 110) in 5404 ms on gdatanode25 (executor 2) (104/600)\\n',\n '\\t2022-12-01 05:28:08 INFO 22/12/01 05:28:08 INFO TaskSetManager: Starting task 299.0 in stage 1.0 (TID 135, gdatanode30, executor 9, partition 299, NODE_LOCAL, 8100 bytes)\\n',\n '\\t2022-12-01 05:28:08 INFO 22/12/01 05:28:08 INFO TaskSetManager: Finished task 199.0 in stage 1.0 (TID 111) in 5699 ms on gdatanode30 (executor 9) (105/600)\\n',\n '\\t2022-12-01 05:28:09 INFO 22/12/01 05:28:09 INFO TaskSetManager: Starting task 346.0 in stage 1.0 (TID 136, gdatanode30, executor 9, partition 346, NODE_LOCAL, 8100 bytes)\\n',\n '\\t2022-12-01 05:28:09 INFO 22/12/01 05:28:09 INFO TaskSetManager: Finished task 299.0 in stage 1.0 (TID 135) in 22 ms on gdatanode30 (executor 9) (106/600)\\n',\n '\\t2022-12-01 05:28:09 INFO 22/12/01 05:28:09 INFO TaskSetManager: Starting task 367.0 in stage 1.0 (TID 137, gdatanode30, executor 9, partition 367, NODE_LOCAL, 8100 bytes)\\n',\n '\\t2022-12-01 05:28:09 INFO 22/12/01 05:28:09 INFO TaskSetManager: Finished task 195.0 in stage 1.0 (TID 74) in 14678 ms on gdatanode30 (executor 9) (107/600)\\n',\n '\\t2022-12-01 05:28:10 INFO 22/12/01 05:28:10 INFO TaskSetManager: Starting task 125.0 in stage 1.0 (TID 138, gdatanode15, executor 10, partition 125, NODE_LOCAL, 8100 bytes)\\n',\n '[INFO] 2022-12-01 05:28:12.125  - [taskAppId=TASK-44-304161-1974982]:[127] -  -> 2022-12-01 05:28:10 INFO 22/12/01 05:28:10 INFO TaskSetManager: Finished task 106.0 in stage 1.0 (TID 107) in 7209 ms on gdatanode15 (executor 10) (108/600)\\n',\n '\\t2022-12-01 05:28:10 INFO 22/12/01 05:28:10 INFO TaskSetManager: Starting task 309.0 in stage 1.0 (TID 139, gdatanode08, executor 8, partition 309, NODE_LOCAL, 8100 bytes)\\n',\n '\\t2022-12-01 05:28:10 INFO 22/12/01 05:28:10 INFO TaskSetManager: Finished task 237.0 in stage 1.0 (TID 87) in 14873 ms on gdatanode08 (executor 8) (109/600)\\n',\n '\\t2022-12-01 05:28:10 INFO 22/12/01 05:28:10 INFO TaskSetManager: Starting task 130.0 in stage 1.0 (TID 140, gdatanode15, executor 10, partition 130, NODE_LOCAL, 8100 bytes)\\n',\n '\\t2022-12-01 05:28:10 INFO 22/12/01 05:28:10 INFO TaskSetManager: Finished task 125.0 in stage 1.0 (TID 138) in 244 ms on gdatanode15 (executor 10) (110/600)\\n',\n '\\t2022-12-01 05:28:12 INFO 22/12/01 05:28:12 INFO TaskSetManager: Starting task 184.0 in stage 1.0 (TID 141, gdatanode31, executor 5, partition 184, NODE_LOCAL, 8100 bytes)\\n',\n '[INFO] 2022-12-01 05:28:13.676  - [taskAppId=TASK-44-304161-1974982]:[127] -  -> 2022-12-01 05:28:12 INFO 22/12/01 05:28:12 INFO TaskSetManager: Finished task 157.0 in stage 1.0 (TID 116) in 8008 ms on gdatanode31 (executor 5) (111/600)\\n',\n '\\t2022-12-01 05:28:12 INFO 22/12/01 05:28:12 INFO TaskSetManager: Starting task 254.0 in stage 1.0 (TID 142, gdatanode02, executor 7, partition 254, NODE_LOCAL, 8100 bytes)\\n',\n '\\t2022-12-01 05:28:12 INFO 22/12/01 05:28:12 INFO TaskSetManager: Finished task 253.0 in stage 1.0 (TID 105) in 10375 ms on gdatanode02 (executor 7) (112/600)\\n',\n '\\t2022-12-01 05:28:12 INFO 22/12/01 05:28:12 INFO TaskSetManager: Starting task 264.0 in stage 1.0 (TID 143, gdatanode02, executor 7, partition 264, NODE_LOCAL, 8100 bytes)\\n',\n '\\t2022-12-01 05:28:12 INFO 22/12/01 05:28:12 INFO TaskSetManager: Finished task 254.0 in stage 1.0 (TID 142) in 82 ms on gdatanode02 (executor 7) (113/600)\\n',\n '\\t2022-12-01 05:28:12 INFO 22/12/01 05:28:12 INFO TaskSetManager: Starting task 318.0 in stage 1.0 (TID 144, gdatanode08, executor 8, partition 318, NODE_LOCAL, 8100 bytes)\\n',\n '\\t2022-12-01 05:28:12 INFO 22/12/01 05:28:12 INFO TaskSetManager: Finished task 156.0 in stage 1.0 (TID 82) in 17597 ms on gdatanode08 (executor 8) (114/600)\\n',\n '\\t2022-12-01 05:28:12 INFO 22/12/01 05:28:12 INFO TaskSetManager: Starting task 178.0 in stage 1.0 (TID 145, gdatanode19, executor 6, partition 178, NODE_LOCAL, 8100 bytes)\\n',\n '\\t2022-12-01 05:28:12 INFO 22/12/01 05:28:12 INFO TaskSetManager: Finished task 103.0 in stage 1.0 (TID 109) in 9644 ms on gdatanode19 (executor 6) (115/600)\\n',\n '\\t2022-12-01 05:28:12 INFO 22/12/01 05:28:12 INFO TaskSetManager: Starting task 86.0 in stage 1.0 (TID 146, gdatanode25, executor 2, partition 86, NODE_LOCAL, 8100 bytes)\\n',\n '\\t2022-12-01 05:28:12 INFO 22/12/01 05:28:12 INFO TaskSetManager: Finished task 39.0 in stage 1.0 (TID 80) in 18086 ms on gdatanode25 (executor 2) (116/600)\\n',\n '\\t2022-12-01 05:28:13 INFO 22/12/01 05:28:13 INFO TaskSetManager: Starting task 101.0 in stage 1.0 (TID 147, gdatanode25, executor 2, partition 101, NODE_LOCAL, 8100 bytes)\\n',\n '\\t2022-12-01 05:28:13 INFO 22/12/01 05:28:13 INFO TaskSetManager: Finished task 86.0 in stage 1.0 (TID 146) in 35 ms on gdatanode25 (executor 2) (117/600)\\n',\n '\\t2022-12-01 05:28:13 INFO 22/12/01 05:28:13 INFO TaskSetManager: Starting task 138.0 in stage 1.0 (TID 148, gdatanode25, executor 2, partition 138, NODE_LOCAL, 8100 bytes)\\n',\n '\\t2022-12-01 05:28:13 INFO 22/12/01 05:28:13 INFO TaskSetManager: Finished task 101.0 in stage 1.0 (TID 147) in 24 ms on gdatanode25 (executor 2) (118/600)\\n',\n '\\t2022-12-01 05:28:13 INFO 22/12/01 05:28:13 INFO TaskSetManager: Starting task 136.0 in stage 1.0 (TID 149, gdatanode15, executor 10, partition 136, NODE_LOCAL, 8100 bytes)\\n',\n '[INFO] 2022-12-01 05:28:14.758  - [taskAppId=TASK-44-304161-1974982]:[127] -  -> 2022-12-01 05:28:13 INFO 22/12/01 05:28:13 INFO TaskSetManager: Finished task 124.0 in stage 1.0 (TID 115) in 9721 ms on gdatanode15 (executor 10) (119/600)\\n',\n '\\t2022-12-01 05:28:13 INFO 22/12/01 05:28:13 INFO TaskSetManager: Starting task 369.0 in stage 1.0 (TID 150, gdatanode30, executor 9, partition 369, NODE_LOCAL, 8100 bytes)\\n',\n '\\t2022-12-01 05:28:13 INFO 22/12/01 05:28:13 INFO TaskSetManager: Finished task 346.0 in stage 1.0 (TID 136) in 4693 ms on gdatanode30 (executor 9) (120/600)\\n',\n '\\t2022-12-01 05:28:14 INFO 22/12/01 05:28:14 INFO TaskSetManager: Starting task 451.0 in stage 1.0 (TID 151, gdatanode30, executor 9, partition 451, NODE_LOCAL, 8100 bytes)\\n',\n '\\t2022-12-01 05:28:14 INFO 22/12/01 05:28:14 INFO TaskSetManager: Finished task 367.0 in stage 1.0 (TID 137) in 5017 ms on gdatanode30 (executor 9) (121/600)\\n',\n '\\t2022-12-01 05:28:14 INFO 22/12/01 05:28:14 INFO TaskSetManager: Starting task 246.0 in stage 1.0 (TID 152, gdatanode19, executor 6, partition 246, NODE_LOCAL, 8100 bytes)\\n',\n '\\t2022-12-01 05:28:14 INFO 22/12/01 05:28:14 INFO TaskSetManager: Finished task 166.0 in stage 1.0 (TID 122) in 8273 ms on gdatanode19 (executor 6) (122/600)\\n',\n '\\t2022-12-01 05:28:14 INFO 22/12/01 05:28:14 INFO TaskSetManager: Starting task 142.0 in stage 1.0 (TID 153, gdatanode25, executor 2, partition 142, NODE_LOCAL, 8100 bytes)\\n',\n '[INFO] 2022-12-01 05:28:15.906  - [taskAppId=TASK-44-304161-1974982]:[127] -  -> 2022-12-01 05:28:14 INFO 22/12/01 05:28:14 INFO TaskSetManager: Finished task 57.0 in stage 1.0 (TID 89) in 18779 ms on gdatanode25 (executor 2) (123/600)\\n',\n '\\t2022-12-01 05:28:14 INFO 22/12/01 05:28:14 INFO TaskSetManager: Starting task 271.0 in stage 1.0 (TID 154, gdatanode02, executor 7, partition 271, NODE_LOCAL, 8100 bytes)\\n',\n '\\t2022-12-01 05:28:14 INFO 22/12/01 05:28:14 INFO TaskSetManager: Finished task 225.0 in stage 1.0 (TID 72) in 26754 ms on gdatanode02 (executor 7) (124/600)\\n',\n '\\t2022-12-01 05:28:15 INFO 22/12/01 05:28:15 INFO TaskSetManager: Starting task 235.0 in stage 1.0 (TID 155, gdatanode07, executor 1, partition 235, NODE_LOCAL, 8100 bytes)\\n',\n '[INFO] 2022-12-01 05:28:17.627  - [taskAppId=TASK-44-304161-1974982]:[127] -  -> 2022-12-01 05:28:15 INFO 22/12/01 05:28:15 INFO TaskSetManager: Finished task 205.0 in stage 1.0 (TID 131) in 9098 ms on gdatanode07 (executor 1) (125/600)\\n',\n '\\t2022-12-01 05:28:17 INFO 22/12/01 05:28:17 INFO TaskSetManager: Starting task 201.0 in stage 1.0 (TID 156, gdatanode15, executor 10, partition 201, NODE_LOCAL, 8100 bytes)\\n',\n '[INFO] 2022-12-01 05:28:18.688  - [taskAppId=TASK-44-304161-1974982]:[127] -  -> 2022-12-01 05:28:17 INFO 22/12/01 05:28:17 INFO TaskSetManager: Finished task 130.0 in stage 1.0 (TID 140) in 7156 ms on gdatanode15 (executor 10) (126/600)\\n',\n '\\t2022-12-01 05:28:17 INFO 22/12/01 05:28:17 INFO TaskSetManager: Starting task 459.0 in stage 1.0 (TID 157, gdatanode17, executor 4, partition 459, NODE_LOCAL, 8100 bytes)\\n',\n '\\t2022-12-01 05:28:17 INFO 22/12/01 05:28:17 INFO TaskSetManager: Finished task 294.0 in stage 1.0 (TID 102) in 16865 ms on gdatanode17 (executor 4) (127/600)\\n',\n '\\t2022-12-01 05:28:17 INFO 22/12/01 05:28:17 INFO TaskSetManager: Starting task 465.0 in stage 1.0 (TID 158, gdatanode30, executor 9, partition 465, NODE_LOCAL, 8100 bytes)\\n',\n '\\t2022-12-01 05:28:17 INFO 22/12/01 05:28:17 INFO TaskSetManager: Finished task 222.0 in stage 1.0 (TID 113) in 14448 ms on gdatanode30 (executor 9) (128/600)\\n',\n '\\t2022-12-01 05:28:18 INFO 22/12/01 05:28:18 INFO TaskSetManager: Starting task 198.0 in stage 1.0 (TID 159, gdatanode10, executor 3, partition 198, NODE_LOCAL, 8100 bytes)\\n',\n '\\t2022-12-01 05:28:18 INFO 22/12/01 05:28:18 INFO TaskSetManager: Finished task 159.0 in stage 1.0 (TID 92) in 21984 ms on gdatanode10 (executor 3) (129/600)\\n',\n '\\t2022-12-01 05:28:18 INFO 22/12/01 05:28:18 INFO TaskSetManager: Starting task 197.0 in stage 1.0 (TID 160, gdatanode31, executor 5, partition 197, NODE_LOCAL, 8100 bytes)\\n',\n '[INFO] 2022-12-01 05:28:20.354  - [taskAppId=TASK-44-304161-1974982]:[127] -  -> 2022-12-01 05:28:18 INFO 22/12/01 05:28:18 INFO TaskSetManager: Finished task 153.0 in stage 1.0 (TID 104) in 17516 ms on gdatanode31 (executor 5) (130/600)\\n',\n '\\t2022-12-01 05:28:18 INFO 22/12/01 05:28:18 INFO TaskSetManager: Starting task 202.0 in stage 1.0 (TID 161, gdatanode31, executor 5, partition 202, NODE_LOCAL, 8100 bytes)\\n',\n '\\t2022-12-01 05:28:18 INFO 22/12/01 05:28:18 INFO TaskSetManager: Finished task 197.0 in stage 1.0 (TID 160) in 40 ms on gdatanode31 (executor 5) (131/600)\\n',\n '\\t2022-12-01 05:28:18 INFO 22/12/01 05:28:18 INFO TaskSetManager: Starting task 219.0 in stage 1.0 (TID 162, gdatanode31, executor 5, partition 219, NODE_LOCAL, 8100 bytes)\\n',\n '\\t2022-12-01 05:28:18 INFO 22/12/01 05:28:18 INFO TaskSetManager: Finished task 184.0 in stage 1.0 (TID 141) in 6707 ms on gdatanode31 (executor 5) (132/600)\\n',\n '\\t2022-12-01 05:28:18 INFO 22/12/01 05:28:18 INFO TaskSetManager: Starting task 358.0 in stage 1.0 (TID 163, gdatanode08, executor 8, partition 358, NODE_LOCAL, 8100 bytes)\\n',\n '\\t2022-12-01 05:28:18 INFO 22/12/01 05:28:18 INFO TaskSetManager: Finished task 282.0 in stage 1.0 (TID 106) in 16732 ms on gdatanode08 (executor 8) (133/600)\\n',\n '\\t2022-12-01 05:28:19 INFO 22/12/01 05:28:19 INFO TaskSetManager: Starting task 247.0 in stage 1.0 (TID 164, gdatanode19, executor 6, partition 247, NODE_LOCAL, 8100 bytes)\\n',\n '\\t2022-12-01 05:28:19 INFO 22/12/01 05:28:19 INFO TaskSetManager: Finished task 178.0 in stage 1.0 (TID 145) in 6373 ms on gdatanode19 (executor 6) (134/600)\\n',\n '\\t2022-12-01 05:28:20 INFO 22/12/01 05:28:20 INFO TaskSetManager: Starting task 215.0 in stage 1.0 (TID 165, gdatanode15, executor 10, partition 215, NODE_LOCAL, 8100 bytes)\\n',\n '[INFO] 2022-12-01 05:28:21.610  - [taskAppId=TASK-44-304161-1974982]:[127] -  -> 2022-12-01 05:28:20 INFO 22/12/01 05:28:20 INFO TaskSetManager: Finished task 136.0 in stage 1.0 (TID 149) in 6679 ms on gdatanode15 (executor 10) (135/600)\\n',\n '\\t2022-12-01 05:28:20 INFO 22/12/01 05:28:20 INFO TaskSetManager: Starting task 236.0 in stage 1.0 (TID 166, gdatanode15, executor 10, partition 236, NODE_LOCAL, 8100 bytes)\\n',\n '\\t2022-12-01 05:28:20 INFO 22/12/01 05:28:20 INFO TaskSetManager: Finished task 215.0 in stage 1.0 (TID 165) in 38 ms on gdatanode15 (executor 10) (136/600)\\n',\n '\\t2022-12-01 05:28:20 INFO 22/12/01 05:28:20 INFO TaskSetManager: Starting task 174.0 in stage 1.0 (TID 167, gdatanode25, executor 2, partition 174, NODE_LOCAL, 8100 bytes)\\n',\n '\\t2022-12-01 05:28:20 INFO 22/12/01 05:28:20 INFO TaskSetManager: Finished task 142.0 in stage 1.0 (TID 153) in 5654 ms on gdatanode25 (executor 2) (137/600)\\n',\n '\\t2022-12-01 05:28:20 INFO 22/12/01 05:28:20 INFO TaskSetManager: Starting task 240.0 in stage 1.0 (TID 168, gdatanode15, executor 10, partition 240, NODE_LOCAL, 8100 bytes)\\n',\n '\\t2022-12-01 05:28:20 INFO 22/12/01 05:28:20 INFO TaskSetManager: Finished task 236.0 in stage 1.0 (TID 166) in 22 ms on gdatanode15 (executor 10) (138/600)\\n',\n '\\t2022-12-01 05:28:20 INFO 22/12/01 05:28:20 INFO TaskSetManager: Starting task 272.0 in stage 1.0 (TID 169, gdatanode02, executor 7, partition 272, NODE_LOCAL, 8100 bytes)\\n',\n '\\t2022-12-01 05:28:20 INFO 22/12/01 05:28:20 INFO TaskSetManager: Finished task 271.0 in stage 1.0 (TID 154) in 5609 ms on gdatanode02 (executor 7) (139/600)\\n',\n '\\t2022-12-01 05:28:20 INFO 22/12/01 05:28:20 INFO TaskSetManager: Starting task 287.0 in stage 1.0 (TID 170, gdatanode02, executor 7, partition 287, NODE_LOCAL, 8100 bytes)\\n',\n '\\t2022-12-01 05:28:20 INFO 22/12/01 05:28:20 INFO TaskSetManager: Finished task 272.0 in stage 1.0 (TID 169) in 18 ms on gdatanode02 (executor 7) (140/600)\\n',\n '\\t2022-12-01 05:28:20 INFO 22/12/01 05:28:20 INFO TaskSetManager: Starting task 300.0 in stage 1.0 (TID 171, gdatanode02, executor 7, partition 300, NODE_LOCAL, 8100 bytes)\\n',\n '\\t2022-12-01 05:28:20 INFO 22/12/01 05:28:20 INFO TaskSetManager: Finished task 287.0 in stage 1.0 (TID 170) in 19 ms on gdatanode02 (executor 7) (141/600)\\n',\n '\\t2022-12-01 05:28:20 INFO 22/12/01 05:28:20 INFO TaskSetManager: Starting task 478.0 in stage 1.0 (TID 172, gdatanode30, executor 9, partition 478, NODE_LOCAL, 8100 bytes)\\n',\n '\\t2022-12-01 05:28:20 INFO 22/12/01 05:28:20 INFO TaskSetManager: Finished task 451.0 in stage 1.0 (TID 151) in 6774 ms on gdatanode30 (executor 9) (142/600)\\n',\n '\\t2022-12-01 05:28:21 INFO 22/12/01 05:28:21 INFO TaskSetManager: Starting task 241.0 in stage 1.0 (TID 173, gdatanode15, executor 10, partition 241, NODE_LOCAL, 8100 bytes)\\n',\n '\\t2022-12-01 05:28:21 INFO 22/12/01 05:28:21 INFO TaskSetManager: Finished task 123.0 in stage 1.0 (TID 108) in 18083 ms on gdatanode15 (executor 10) (143/600)\\n',\n '\\t2022-12-01 05:28:21 INFO 22/12/01 05:28:21 INFO TaskSetManager: Starting task 312.0 in stage 1.0 (TID 174, gdatanode02, executor 7, partition 312, NODE_LOCAL, 8100 bytes)\\n',\n '[INFO] 2022-12-01 05:28:23.093  - [taskAppId=TASK-44-304161-1974982]:[127] -  -> 2022-12-01 05:28:21 INFO 22/12/01 05:28:21 INFO TaskSetManager: Finished task 252.0 in stage 1.0 (TID 95) in 23010 ms on gdatanode02 (executor 7) (144/600)\\n',\n '\\t2022-12-01 05:28:22 INFO 22/12/01 05:28:22 INFO TaskSetManager: Starting task 244.0 in stage 1.0 (TID 175, gdatanode07, executor 1, partition 244, NODE_LOCAL, 8100 bytes)\\n',\n '\\t2022-12-01 05:28:22 INFO 22/12/01 05:28:22 INFO TaskSetManager: Finished task 171.0 in stage 1.0 (TID 99) in 22940 ms on gdatanode07 (executor 1) (145/600)\\n',\n '\\t2022-12-01 05:28:23 INFO 22/12/01 05:28:23 INFO TaskSetManager: Starting task 460.0 in stage 1.0 (TID 176, gdatanode17, executor 4, partition 460, NODE_LOCAL, 8100 bytes)\\n',\n '[INFO] 2022-12-01 05:28:24.718  - [taskAppId=TASK-44-304161-1974982]:[127] -  -> 2022-12-01 05:28:23 INFO 22/12/01 05:28:23 INFO TaskSetManager: Finished task 405.0 in stage 1.0 (TID 127) in 16703 ms on gdatanode17 (executor 4) (146/600)\\n',\n '\\t2022-12-01 05:28:23 INFO 22/12/01 05:28:23 INFO TaskSetManager: Starting task 466.0 in stage 1.0 (TID 177, gdatanode17, executor 4, partition 466, NODE_LOCAL, 8100 bytes)\\n',\n '\\t2022-12-01 05:28:23 INFO 22/12/01 05:28:23 INFO TaskSetManager: Finished task 441.0 in stage 1.0 (TID 130) in 16427 ms on gdatanode17 (executor 4) (147/600)\\n',\n '\\t2022-12-01 05:28:23 INFO 22/12/01 05:28:23 INFO TaskSetManager: Starting task 250.0 in stage 1.0 (TID 178, gdatanode07, executor 1, partition 250, NODE_LOCAL, 8100 bytes)\\n',\n '\\t2022-12-01 05:28:23 INFO 22/12/01 05:28:23 INFO TaskSetManager: Finished task 235.0 in stage 1.0 (TID 155) in 7532 ms on gdatanode07 (executor 1) (148/600)\\n',\n '\\t2022-12-01 05:28:24 INFO 22/12/01 05:28:24 INFO TaskSetManager: Starting task 388.0 in stage 1.0 (TID 179, gdatanode08, executor 8, partition 388, NODE_LOCAL, 8100 bytes)\\n',\n '[INFO] 2022-12-01 05:28:25.864  - [taskAppId=TASK-44-304161-1974982]:[127] -  -> 2022-12-01 05:28:24 INFO 22/12/01 05:28:24 INFO TaskSetManager: Finished task 358.0 in stage 1.0 (TID 163) in 5834 ms on gdatanode08 (executor 8) (149/600)\\n',\n '\\t2022-12-01 05:28:24 INFO 22/12/01 05:28:24 INFO TaskSetManager: Starting task 232.0 in stage 1.0 (TID 180, gdatanode31, executor 5, partition 232, NODE_LOCAL, 8100 bytes)\\n',\n '\\t2022-12-01 05:28:24 INFO 22/12/01 05:28:24 INFO TaskSetManager: Finished task 202.0 in stage 1.0 (TID 161) in 6111 ms on gdatanode31 (executor 5) (150/600)\\n',\n '\\t2022-12-01 05:28:24 INFO 22/12/01 05:28:24 INFO TaskSetManager: Starting task 200.0 in stage 1.0 (TID 181, gdatanode25, executor 2, partition 200, NODE_LOCAL, 8100 bytes)\\n',\n '\\t2022-12-01 05:28:24 INFO 22/12/01 05:28:24 INFO TaskSetManager: Finished task 84.0 in stage 1.0 (TID 134) in 16200 ms on gdatanode25 (executor 2) (151/600)\\n',\n '\\t2022-12-01 05:28:24 INFO 22/12/01 05:28:24 INFO TaskSetManager: Starting task 211.0 in stage 1.0 (TID 182, gdatanode25, executor 2, partition 211, NODE_LOCAL, 8100 bytes)\\n',\n '\\t2022-12-01 05:28:24 INFO 22/12/01 05:28:24 INFO TaskSetManager: Finished task 200.0 in stage 1.0 (TID 181) in 32 ms on gdatanode25 (executor 2) (152/600)\\n',\n '\\t2022-12-01 05:28:25 INFO 22/12/01 05:28:25 INFO TaskSetManager: Starting task 248.0 in stage 1.0 (TID 183, gdatanode19, executor 6, partition 248, NODE_LOCAL, 8100 bytes)\\n',\n '\\t2022-12-01 05:28:25 INFO 22/12/01 05:28:25 INFO TaskSetManager: Finished task 132.0 in stage 1.0 (TID 117) in 19885 ms on gdatanode19 (executor 6) (153/600)\\n',\n '\\t2022-12-01 05:28:25 INFO 22/12/01 05:28:25 INFO TaskSetManager: Starting task 255.0 in stage 1.0 (TID 184, gdatanode19, executor 6, partition 255, NODE_LOCAL, 8100 bytes)\\n',\n '\\t2022-12-01 05:28:25 INFO 22/12/01 05:28:25 INFO TaskSetManager: Finished task 248.0 in stage 1.0 (TID 183) in 31 ms on gdatanode19 (executor 6) (154/600)\\n',\n '\\t2022-12-01 05:28:25 INFO 22/12/01 05:28:25 INFO TaskSetManager: Starting task 483.0 in stage 1.0 (TID 185, gdatanode30, executor 9, partition 483, NODE_LOCAL, 8100 bytes)\\n',\n '[INFO] 2022-12-01 05:28:27.378  - [taskAppId=TASK-44-304161-1974982]:[127] -  -> 2022-12-01 05:28:25 INFO 22/12/01 05:28:25 INFO TaskSetManager: Finished task 478.0 in stage 1.0 (TID 172) in 4966 ms on gdatanode30 (executor 9) (155/600)\\n',\n '\\t2022-12-01 05:28:26 INFO 22/12/01 05:28:26 INFO TaskSetManager: Starting task 212.0 in stage 1.0 (TID 186, gdatanode10, executor 3, partition 212, NODE_LOCAL, 8100 bytes)\\n',\n '\\t2022-12-01 05:28:26 INFO 22/12/01 05:28:26 INFO TaskSetManager: Finished task 165.0 in stage 1.0 (TID 114) in 22737 ms on gdatanode10 (executor 3) (156/600)\\n',\n '\\t2022-12-01 05:28:26 INFO 22/12/01 05:28:26 INFO TaskSetManager: Starting task 213.0 in stage 1.0 (TID 187, gdatanode10, executor 3, partition 213, NODE_LOCAL, 8100 bytes)\\n',\n '\\t2022-12-01 05:28:26 INFO 22/12/01 05:28:26 INFO TaskSetManager: Finished task 212.0 in stage 1.0 (TID 186) in 36 ms on gdatanode10 (executor 3) (157/600)\\n',\n '\\t2022-12-01 05:28:26 INFO 22/12/01 05:28:26 INFO TaskSetManager: Starting task 471.0 in stage 1.0 (TID 188, gdatanode08, executor 8, partition 471, NODE_LOCAL, 8100 bytes)\\n',\n '\\t2022-12-01 05:28:26 INFO 22/12/01 05:28:26 INFO TaskSetManager: Finished task 309.0 in stage 1.0 (TID 139) in 16491 ms on gdatanode08 (executor 8) (158/600)\\n',\n '\\t2022-12-01 05:28:27 INFO 22/12/01 05:28:27 INFO TaskSetManager: Starting task 238.0 in stage 1.0 (TID 189, gdatanode31, executor 5, partition 238, NODE_LOCAL, 8100 bytes)\\n',\n '[INFO] 2022-12-01 05:28:28.380  - [taskAppId=TASK-44-304161-1974982]:[127] -  -> 2022-12-01 05:28:27 INFO 22/12/01 05:28:27 INFO TaskSetManager: Finished task 168.0 in stage 1.0 (TID 133) in 20179 ms on gdatanode31 (executor 5) (159/600)\\n',\n '\\t2022-12-01 05:28:27 INFO 22/12/01 05:28:27 INFO TaskSetManager: Starting task 229.0 in stage 1.0 (TID 190, gdatanode10, executor 3, partition 229, NODE_LOCAL, 8100 bytes)\\n',\n '\\t2022-12-01 05:28:27 INFO 22/12/01 05:28:27 INFO TaskSetManager: Finished task 192.0 in stage 1.0 (TID 118) in 21650 ms on gdatanode10 (executor 3) (160/600)\\n',\n '\\t2022-12-01 05:28:27 INFO 22/12/01 05:28:27 INFO TaskSetManager: Starting task 274.0 in stage 1.0 (TID 191, gdatanode19, executor 6, partition 274, NODE_LOCAL, 8100 bytes)\\n',\n '\\t2022-12-01 05:28:27 INFO 22/12/01 05:28:27 INFO TaskSetManager: Finished task 247.0 in stage 1.0 (TID 164) in 8302 ms on gdatanode19 (executor 6) (161/600)\\n',\n '\\t2022-12-01 05:28:27 INFO 22/12/01 05:28:27 INFO TaskSetManager: Starting task 257.0 in stage 1.0 (TID 192, gdatanode15, executor 10, partition 257, NODE_LOCAL, 8100 bytes)\\n',\n '\\t2022-12-01 05:28:27 INFO 22/12/01 05:28:27 INFO TaskSetManager: Finished task 241.0 in stage 1.0 (TID 173) in 6550 ms on gdatanode15 (executor 10) (162/600)\\n',\n '\\t2022-12-01 05:28:27 INFO 22/12/01 05:28:27 INFO TaskSetManager: Starting task 485.0 in stage 1.0 (TID 193, gdatanode30, executor 9, partition 485, NODE_LOCAL, 8100 bytes)\\n',\n '\\t2022-12-01 05:28:27 INFO 22/12/01 05:28:27 INFO TaskSetManager: Finished task 369.0 in stage 1.0 (TID 150) in 14086 ms on gdatanode30 (executor 9) (163/600)\\n',\n '\\t2022-12-01 05:28:28 INFO 22/12/01 05:28:28 INFO TaskSetManager: Starting task 544.0 in stage 1.0 (TID 194, gdatanode30, executor 9, partition 544, NODE_LOCAL, 8100 bytes)\\n',\n '\\t2022-12-01 05:28:28 INFO 22/12/01 05:28:28 INFO TaskSetManager: Finished task 485.0 in stage 1.0 (TID 193) in 375 ms on gdatanode30 (executor 9) (164/600)\\n',\n '\\t2022-12-01 05:28:28 INFO 22/12/01 05:28:28 INFO TaskSetManager: Starting task 261.0 in stage 1.0 (TID 195, gdatanode15, executor 10, partition 261, NODE_LOCAL, 8100 bytes)\\n',\n '\\t2022-12-01 05:28:28 INFO 22/12/01 05:28:28 INFO TaskSetManager: Finished task 257.0 in stage 1.0 (TID 192) in 389 ms on gdatanode15 (executor 10) (165/600)\\n',\n '\\t2022-12-01 05:28:28 INFO 22/12/01 05:28:28 INFO TaskSetManager: Starting task 239.0 in stage 1.0 (TID 196, gdatanode25, executor 2, partition 239, NODE_LOCAL, 8100 bytes)\\n',\n '\\t2022-12-01 05:28:28 INFO 22/12/01 05:28:28 INFO TaskSetManager: Finished task 138.0 in stage 1.0 (TID 148) in 15317 ms on gdatanode25 (executor 2) (166/600)\\n',\n '\\t2022-12-01 05:28:28 INFO 22/12/01 05:28:28 INFO TaskSetManager: Starting task 243.0 in stage 1.0 (TID 197, gdatanode25, executor 2, partition 243, NODE_LOCAL, 8100 bytes)\\n',\n '\\t2022-12-01 05:28:28 INFO 22/12/01 05:28:28 INFO TaskSetManager: Finished task 239.0 in stage 1.0 (TID 196) in 23 ms on gdatanode25 (executor 2) (167/600)\\n',\n '\\t2022-12-01 05:28:28 INFO 22/12/01 05:28:28 INFO TaskSetManager: Starting task 472.0 in stage 1.0 (TID 198, gdatanode17, executor 4, partition 472, NODE_LOCAL, 8100 bytes)\\n',\n '[INFO] 2022-12-01 05:28:29.900  - [taskAppId=TASK-44-304161-1974982]:[127] -  -> 2022-12-01 05:28:28 INFO 22/12/01 05:28:28 INFO TaskSetManager: Finished task 460.0 in stage 1.0 (TID 176) in 5288 ms on gdatanode17 (executor 4) (168/600)\\n',\n '\\t2022-12-01 05:28:28 INFO 22/12/01 05:28:28 INFO TaskSetManager: Starting task 258.0 in stage 1.0 (TID 199, gdatanode07, executor 1, partition 258, NODE_LOCAL, 8100 bytes)\\n',\n '\\t2022-12-01 05:28:28 INFO 22/12/01 05:28:28 INFO TaskSetManager: Finished task 234.0 in stage 1.0 (TID 132) in 21522 ms on gdatanode07 (executor 1) (169/600)\\n',\n '\\t2022-12-01 05:28:29 INFO 22/12/01 05:28:29 INFO TaskSetManager: Starting task 292.0 in stage 1.0 (TID 200, gdatanode07, executor 1, partition 292, NODE_LOCAL, 8100 bytes)\\n',\n '\\t2022-12-01 05:28:29 INFO 22/12/01 05:28:29 INFO TaskSetManager: Finished task 244.0 in stage 1.0 (TID 175) in 6915 ms on gdatanode07 (executor 1) (170/600)\\n',\n '\\t2022-12-01 05:28:29 INFO 22/12/01 05:28:29 INFO TaskSetManager: Starting task 486.0 in stage 1.0 (TID 201, gdatanode08, executor 8, partition 486, NODE_LOCAL, 8100 bytes)\\n',\n '\\t2022-12-01 05:28:29 INFO 22/12/01 05:28:29 INFO TaskSetManager: Finished task 318.0 in stage 1.0 (TID 144) in 16359 ms on gdatanode08 (executor 8) (171/600)\\n',\n '\\t2022-12-01 05:28:29 INFO 22/12/01 05:28:29 INFO TaskSetManager: Starting task 251.0 in stage 1.0 (TID 202, gdatanode25, executor 2, partition 251, NODE_LOCAL, 8100 bytes)\\n',\n '[INFO] 2022-12-01 05:28:32.454  - [taskAppId=TASK-44-304161-1974982]:[127] -  -> 2022-12-01 05:28:29 INFO 22/12/01 05:28:29 INFO TaskSetManager: Finished task 211.0 in stage 1.0 (TID 182) in 4994 ms on gdatanode25 (executor 2) (172/600)\\n',\n '\\t2022-12-01 05:28:29 INFO 22/12/01 05:28:29 INFO TaskSetManager: Starting task 273.0 in stage 1.0 (TID 203, gdatanode25, executor 2, partition 273, NODE_LOCAL, 8100 bytes)\\n',\n '\\t2022-12-01 05:28:29 INFO 22/12/01 05:28:29 INFO TaskSetManager: Finished task 251.0 in stage 1.0 (TID 202) in 22 ms on gdatanode25 (executor 2) (173/600)\\n',\n '\\t2022-12-01 05:28:29 INFO 22/12/01 05:28:29 INFO TaskSetManager: Starting task 474.0 in stage 1.0 (TID 204, gdatanode17, executor 4, partition 474, NODE_LOCAL, 8100 bytes)\\n',\n '\\t2022-12-01 05:28:29 INFO 22/12/01 05:28:29 INFO TaskSetManager: Finished task 466.0 in stage 1.0 (TID 177) in 6786 ms on gdatanode17 (executor 4) (174/600)\\n',\n '\\t2022-12-01 05:28:30 INFO 22/12/01 05:28:30 INFO TaskSetManager: Starting task 302.0 in stage 1.0 (TID 205, gdatanode07, executor 1, partition 302, NODE_LOCAL, 8100 bytes)\\n',\n '\\t2022-12-01 05:28:30 INFO 22/12/01 05:28:30 INFO TaskSetManager: Finished task 250.0 in stage 1.0 (TID 178) in 6613 ms on gdatanode07 (executor 1) (175/600)\\n',\n '\\t2022-12-01 05:28:30 INFO 22/12/01 05:28:30 INFO TaskSetManager: Starting task 307.0 in stage 1.0 (TID 206, gdatanode07, executor 1, partition 307, NODE_LOCAL, 8100 bytes)\\n',\n '\\t2022-12-01 05:28:30 INFO 22/12/01 05:28:30 INFO TaskSetManager: Finished task 302.0 in stage 1.0 (TID 205) in 21 ms on gdatanode07 (executor 1) (176/600)\\n',\n '\\t2022-12-01 05:28:30 INFO 22/12/01 05:28:30 INFO TaskSetManager: Starting task 265.0 in stage 1.0 (TID 207, gdatanode31, executor 5, partition 265, NODE_LOCAL, 8100 bytes)\\n',\n '\\t2022-12-01 05:28:30 INFO 22/12/01 05:28:30 INFO TaskSetManager: Finished task 232.0 in stage 1.0 (TID 180) in 5372 ms on gdatanode31 (executor 5) (177/600)\\n',\n '\\t2022-12-01 05:28:30 INFO 22/12/01 05:28:30 INFO TaskSetManager: Starting task 560.0 in stage 1.0 (TID 208, gdatanode30, executor 9, partition 560, NODE_LOCAL, 8100 bytes)\\n',\n '\\t2022-12-01 05:28:30 INFO 22/12/01 05:28:30 INFO TaskSetManager: Finished task 465.0 in stage 1.0 (TID 158) in 12422 ms on gdatanode30 (executor 9) (178/600)\\n',\n '\\t2022-12-01 05:28:30 INFO 22/12/01 05:28:30 INFO TaskSetManager: Starting task 575.0 in stage 1.0 (TID 209, gdatanode30, executor 9, partition 575, NODE_LOCAL, 8100 bytes)\\n',\n '\\t2022-12-01 05:28:30 INFO 22/12/01 05:28:30 INFO TaskSetManager: Finished task 560.0 in stage 1.0 (TID 208) in 16 ms on gdatanode30 (executor 9) (179/600)\\n',\n '\\t2022-12-01 05:28:30 INFO 22/12/01 05:28:30 INFO TaskSetManager: Starting task 597.0 in stage 1.0 (TID 210, gdatanode30, executor 9, partition 597, NODE_LOCAL, 8100 bytes)\\n',\n '\\t2022-12-01 05:28:30 INFO 22/12/01 05:28:30 INFO TaskSetManager: Finished task 575.0 in stage 1.0 (TID 209) in 15 ms on gdatanode30 (executor 9) (180/600)\\n',\n '\\t2022-12-01 05:28:30 INFO 22/12/01 05:28:30 INFO TaskSetManager: Starting task 492.0 in stage 1.0 (TID 211, gdatanode08, executor 8, partition 492, NODE_LOCAL, 8100 bytes)\\n',\n '\\t2022-12-01 05:28:30 INFO 22/12/01 05:28:30 INFO TaskSetManager: Finished task 388.0 in stage 1.0 (TID 179) in 5706 ms on gdatanode08 (executor 8) (181/600)\\n',\n '\\t2022-12-01 05:28:30 INFO 22/12/01 05:28:30 INFO TaskSetManager: Starting task 306.0 in stage 1.0 (TID 212, gdatanode19, executor 6, partition 306, NODE_LOCAL, 8100 bytes)\\n',\n '\\t2022-12-01 05:28:30 INFO 22/12/01 05:28:30 INFO TaskSetManager: Finished task 246.0 in stage 1.0 (TID 152) in 15870 ms on gdatanode19 (executor 6) (182/600)\\n',\n '\\t2022-12-01 05:28:30 INFO 22/12/01 05:28:30 INFO TaskSetManager: Starting task 313.0 in stage 1.0 (TID 213, gdatanode02, executor 7, partition 313, NODE_LOCAL, 8100 bytes)\\n',\n '\\t2022-12-01 05:28:30 INFO 22/12/01 05:28:30 INFO TaskSetManager: Finished task 264.0 in stage 1.0 (TID 143) in 18318 ms on gdatanode02 (executor 7) (183/600)\\n',\n '\\t2022-12-01 05:28:32 INFO 22/12/01 05:28:32 INFO TaskSetManager: Starting task 503.0 in stage 1.0 (TID 214, gdatanode17, executor 4, partition 503, NODE_LOCAL, 8100 bytes)\\n',\n '[INFO] 2022-12-01 05:28:33.671  - [taskAppId=TASK-44-304161-1974982]:[127] -  -> 2022-12-01 05:28:32 INFO 22/12/01 05:28:32 INFO TaskSetManager: Finished task 459.0 in stage 1.0 (TID 157) in 14691 ms on gdatanode17 (executor 4) (184/600)\\n',\n '\\t2022-12-01 05:28:32 INFO 22/12/01 05:28:32 INFO TaskSetManager: Starting task 511.0 in stage 1.0 (TID 215, gdatanode17, executor 4, partition 511, NODE_LOCAL, 8100 bytes)\\n',\n '\\t2022-12-01 05:28:32 INFO 22/12/01 05:28:32 INFO TaskSetManager: Finished task 503.0 in stage 1.0 (TID 214) in 23 ms on gdatanode17 (executor 4) (185/600)\\n',\n '\\t2022-12-01 05:28:33 INFO 22/12/01 05:28:33 INFO TaskSetManager: Finished task 544.0 in stage 1.0 (TID 194) in 5049 ms on gdatanode30 (executor 9) (186/600)\\n',\n '\\t2022-12-01 05:28:33 INFO 22/12/01 05:28:33 INFO TaskSetManager: Starting task 275.0 in stage 1.0 (TID 216, gdatanode25, executor 2, partition 275, NODE_LOCAL, 8100 bytes)\\n',\n '\\t2022-12-01 05:28:33 INFO 22/12/01 05:28:33 INFO TaskSetManager: Finished task 174.0 in stage 1.0 (TID 167) in 12912 ms on gdatanode25 (executor 2) (187/600)\\n',\n '\\t2022-12-01 05:28:33 INFO 22/12/01 05:28:33 INFO TaskSetManager: Starting task 290.0 in stage 1.0 (TID 217, gdatanode25, executor 2, partition 290, NODE_LOCAL, 8100 bytes)\\n',\n '\\t2022-12-01 05:28:33 INFO 22/12/01 05:28:33 INFO TaskSetManager: Finished task 275.0 in stage 1.0 (TID 216) in 18 ms on gdatanode25 (executor 2) (188/600)\\n',\n '\\t2022-12-01 05:28:33 INFO 22/12/01 05:28:33 INFO TaskSetManager: Starting task 303.0 in stage 1.0 (TID 218, gdatanode25, executor 2, partition 303, NODE_LOCAL, 8100 bytes)\\n',\n '\\t2022-12-01 05:28:33 INFO 22/12/01 05:28:33 INFO TaskSetManager: Finished task 290.0 in stage 1.0 (TID 217) in 16 ms on gdatanode25 (executor 2) (189/600)\\n',\n '\\t2022-12-01 05:28:33 INFO 22/12/01 05:28:33 INFO TaskSetManager: Starting task 259.0 in stage 1.0 (TID 219, gdatanode10, executor 3, partition 259, NODE_LOCAL, 8100 bytes)\\n',\n '[INFO] 2022-12-01 05:28:35.245  - [taskAppId=TASK-44-304161-1974982]:[127] -  -> 2022-12-01 05:28:33 INFO 22/12/01 05:28:33 INFO TaskSetManager: Finished task 229.0 in stage 1.0 (TID 190) in 6201 ms on gdatanode10 (executor 3) (190/600)\\n',\n '\\t2022-12-01 05:28:33 INFO 22/12/01 05:28:33 INFO TaskSetManager: Starting task 521.0 in stage 1.0 (TID 220, gdatanode17, executor 4, partition 521, NODE_LOCAL, 8100 bytes)\\n',\n '\\t2022-12-01 05:28:33 INFO 22/12/01 05:28:33 INFO TaskSetManager: Finished task 472.0 in stage 1.0 (TID 198) in 5364 ms on gdatanode17 (executor 4) (191/600)\\n',\n '\\t2022-12-01 05:28:33 INFO 22/12/01 05:28:33 INFO TaskSetManager: Starting task 526.0 in stage 1.0 (TID 221, gdatanode17, executor 4, partition 526, NODE_LOCAL, 8100 bytes)\\n',\n '\\t2022-12-01 05:28:33 INFO 22/12/01 05:28:33 INFO TaskSetManager: Finished task 521.0 in stage 1.0 (TID 220) in 19 ms on gdatanode17 (executor 4) (192/600)\\n',\n '\\t2022-12-01 05:28:34 INFO 22/12/01 05:28:34 INFO TaskSetManager: Starting task 270.0 in stage 1.0 (TID 222, gdatanode31, executor 5, partition 270, NODE_LOCAL, 8100 bytes)\\n',\n '\\t2022-12-01 05:28:34 INFO 22/12/01 05:28:34 INFO TaskSetManager: Finished task 238.0 in stage 1.0 (TID 189) in 7031 ms on gdatanode31 (executor 5) (193/600)\\n',\n '\\t2022-12-01 05:28:35 INFO 22/12/01 05:28:35 INFO TaskSetManager: Starting task 262.0 in stage 1.0 (TID 223, gdatanode15, executor 10, partition 262, NODE_LOCAL, 8100 bytes)\\n',\n '[INFO] 2022-12-01 05:28:36.289  - [taskAppId=TASK-44-304161-1974982]:[127] -  -> 2022-12-01 05:28:35 INFO 22/12/01 05:28:35 INFO TaskSetManager: Finished task 201.0 in stage 1.0 (TID 156) in 17617 ms on gdatanode15 (executor 10) (194/600)\\n',\n '\\t2022-12-01 05:28:35 INFO 22/12/01 05:28:35 INFO TaskSetManager: Starting task 338.0 in stage 1.0 (TID 224, gdatanode07, executor 1, partition 338, NODE_LOCAL, 8100 bytes)\\n',\n '\\t2022-12-01 05:28:35 INFO 22/12/01 05:28:35 INFO TaskSetManager: Finished task 292.0 in stage 1.0 (TID 200) in 6367 ms on gdatanode07 (executor 1) (195/600)\\n',\n '\\t2022-12-01 05:28:35 INFO 22/12/01 05:28:35 INFO TaskSetManager: Starting task 308.0 in stage 1.0 (TID 225, gdatanode19, executor 6, partition 308, NODE_LOCAL, 8100 bytes)\\n',\n '\\t2022-12-01 05:28:35 INFO 22/12/01 05:28:35 INFO TaskSetManager: Finished task 274.0 in stage 1.0 (TID 191) in 7918 ms on gdatanode19 (executor 6) (196/600)\\n',\n '\\t2022-12-01 05:28:35 INFO 22/12/01 05:28:35 INFO TaskSetManager: Starting task 339.0 in stage 1.0 (TID 226, gdatanode07, executor 1, partition 339, NODE_LOCAL, 8100 bytes)\\n',\n '\\t2022-12-01 05:28:35 INFO 22/12/01 05:28:35 INFO TaskSetManager: Finished task 338.0 in stage 1.0 (TID 224) in 139 ms on gdatanode07 (executor 1) (197/600)\\n',\n '\\t2022-12-01 05:28:35 INFO 22/12/01 05:28:35 INFO TaskSetManager: Starting task 321.0 in stage 1.0 (TID 227, gdatanode19, executor 6, partition 321, NODE_LOCAL, 8100 bytes)\\n',\n '\\t2022-12-01 05:28:35 INFO 22/12/01 05:28:35 INFO TaskSetManager: Finished task 308.0 in stage 1.0 (TID 225) in 208 ms on gdatanode19 (executor 6) (198/600)\\n',\n '\\t2022-12-01 05:28:35 INFO 22/12/01 05:28:35 INFO TaskSetManager: Starting task 288.0 in stage 1.0 (TID 228, gdatanode31, executor 5, partition 288, NODE_LOCAL, 8100 bytes)\\n',\n '\\t2022-12-01 05:28:35 INFO 22/12/01 05:28:35 INFO TaskSetManager: Finished task 265.0 in stage 1.0 (TID 207) in 5506 ms on gdatanode31 (executor 5) (199/600)\\n',\n '\\t2022-12-01 05:28:35 INFO 22/12/01 05:28:35 INFO TaskSetManager: Starting task 301.0 in stage 1.0 (TID 229, gdatanode31, executor 5, partition 301, NODE_LOCAL, 8100 bytes)\\n',\n '\\t2022-12-01 05:28:35 INFO 22/12/01 05:28:35 INFO TaskSetManager: Finished task 219.0 in stage 1.0 (TID 162) in 17042 ms on gdatanode31 (executor 5) (200/600)\\n',\n '\\t2022-12-01 05:28:36 INFO 22/12/01 05:28:36 INFO TaskSetManager: Starting task 283.0 in stage 1.0 (TID 230, gdatanode10, executor 3, partition 283, NODE_LOCAL, 8100 bytes)\\n',\n '[INFO] 2022-12-01 05:28:37.871  - [taskAppId=TASK-44-304161-1974982]:[127] -  -> 2022-12-01 05:28:36 INFO 22/12/01 05:28:36 INFO TaskSetManager: Finished task 198.0 in stage 1.0 (TID 159) in 17769 ms on gdatanode10 (executor 3) (201/600)\\n',\n '\\t2022-12-01 05:28:36 INFO 22/12/01 05:28:36 INFO TaskSetManager: Starting task 284.0 in stage 1.0 (TID 231, gdatanode15, executor 10, partition 284, NODE_LOCAL, 8100 bytes)\\n',\n '\\t2022-12-01 05:28:36 INFO 22/12/01 05:28:36 INFO TaskSetManager: Finished task 240.0 in stage 1.0 (TID 168) in 16293 ms on gdatanode15 (executor 10) (202/600)\\n',\n '\\t2022-12-01 05:28:36 INFO 22/12/01 05:28:36 INFO TaskSetManager: Starting task 286.0 in stage 1.0 (TID 232, gdatanode15, executor 10, partition 286, NODE_LOCAL, 8100 bytes)\\n',\n '\\t2022-12-01 05:28:36 INFO 22/12/01 05:28:36 INFO TaskSetManager: Finished task 284.0 in stage 1.0 (TID 231) in 19 ms on gdatanode15 (executor 10) (203/600)\\n',\n '\\t2022-12-01 05:28:36 INFO 22/12/01 05:28:36 INFO TaskSetManager: Starting task 314.0 in stage 1.0 (TID 233, gdatanode02, executor 7, partition 314, NODE_LOCAL, 8100 bytes)\\n',\n '\\t2022-12-01 05:28:36 INFO 22/12/01 05:28:36 INFO TaskSetManager: Finished task 313.0 in stage 1.0 (TID 213) in 6161 ms on gdatanode02 (executor 7) (204/600)\\n',\n '\\t2022-12-01 05:28:36 INFO 22/12/01 05:28:36 INFO TaskSetManager: Starting task 319.0 in stage 1.0 (TID 234, gdatanode02, executor 7, partition 319, NODE_LOCAL, 8100 bytes)\\n',\n '\\t2022-12-01 05:28:36 INFO 22/12/01 05:28:36 INFO TaskSetManager: Finished task 314.0 in stage 1.0 (TID 233) in 16 ms on gdatanode02 (executor 7) (205/600)\\n',\n '\\t2022-12-01 05:28:37 INFO 22/12/01 05:28:37 INFO TaskSetManager: Starting task 344.0 in stage 1.0 (TID 235, gdatanode07, executor 1, partition 344, NODE_LOCAL, 8100 bytes)\\n',\n '[INFO] 2022-12-01 05:28:39.017  - [taskAppId=TASK-44-304161-1974982]:[127] -  -> 2022-12-01 05:28:37 INFO 22/12/01 05:28:37 INFO TaskSetManager: Finished task 307.0 in stage 1.0 (TID 206) in 7801 ms on gdatanode07 (executor 1) (206/600)\\n',\n '\\t2022-12-01 05:28:37 INFO 22/12/01 05:28:37 INFO TaskSetManager: Starting task 355.0 in stage 1.0 (TID 236, gdatanode07, executor 1, partition 355, NODE_LOCAL, 8100 bytes)\\n',\n '\\t2022-12-01 05:28:37 INFO 22/12/01 05:28:37 INFO TaskSetManager: Finished task 344.0 in stage 1.0 (TID 235) in 19 ms on gdatanode07 (executor 1) (207/600)\\n',\n '\\t2022-12-01 05:28:38 INFO 22/12/01 05:28:38 INFO TaskSetManager: Starting task 537.0 in stage 1.0 (TID 237, gdatanode17, executor 4, partition 537, NODE_LOCAL, 8100 bytes)\\n',\n '\\t2022-12-01 05:28:38 INFO 22/12/01 05:28:38 INFO TaskSetManager: Finished task 511.0 in stage 1.0 (TID 215) in 5567 ms on gdatanode17 (executor 4) (208/600)\\n',\n '\\t2022-12-01 05:28:39 INFO 22/12/01 05:28:39 INFO TaskSetManager: Finished task 483.0 in stage 1.0 (TID 185) in 13153 ms on gdatanode30 (executor 9) (209/600)\\n',\n '[INFO] 2022-12-01 05:28:40.630  - [taskAppId=TASK-44-304161-1974982]:[127] -  -> 2022-12-01 05:28:39 INFO 22/12/01 05:28:39 INFO TaskSetManager: Starting task 328.0 in stage 1.0 (TID 238, gdatanode02, executor 7, partition 328, NODE_LOCAL, 8100 bytes)\\n',\n '\\t2022-12-01 05:28:39 INFO 22/12/01 05:28:39 INFO TaskSetManager: Finished task 312.0 in stage 1.0 (TID 174) in 17534 ms on gdatanode02 (executor 7) (210/600)\\n',\n '\\t2022-12-01 05:28:39 INFO 22/12/01 05:28:39 INFO TaskSetManager: Starting task 347.0 in stage 1.0 (TID 239, gdatanode02, executor 7, partition 347, NODE_LOCAL, 8100 bytes)\\n',\n '\\t2022-12-01 05:28:39 INFO 22/12/01 05:28:39 INFO TaskSetManager: Finished task 300.0 in stage 1.0 (TID 171) in 18698 ms on gdatanode02 (executor 7) (211/600)\\n',\n '\\t2022-12-01 05:28:39 INFO 22/12/01 05:28:39 INFO TaskSetManager: Starting task 391.0 in stage 1.0 (TID 240, gdatanode02, executor 7, partition 391, NODE_LOCAL, 8100 bytes)\\n',\n '\\t2022-12-01 05:28:39 INFO 22/12/01 05:28:39 INFO TaskSetManager: Finished task 347.0 in stage 1.0 (TID 239) in 23 ms on gdatanode02 (executor 7) (212/600)\\n',\n '\\t2022-12-01 05:28:39 INFO 22/12/01 05:28:39 INFO TaskSetManager: Starting task 553.0 in stage 1.0 (TID 241, gdatanode17, executor 4, partition 553, NODE_LOCAL, 8100 bytes)\\n',\n '\\t2022-12-01 05:28:39 INFO 22/12/01 05:28:39 INFO TaskSetManager: Finished task 526.0 in stage 1.0 (TID 221) in 5808 ms on gdatanode17 (executor 4) (213/600)\\n',\n '\\t2022-12-01 05:28:39 INFO 22/12/01 05:28:39 INFO TaskSetManager: Starting task 297.0 in stage 1.0 (TID 242, gdatanode10, executor 3, partition 297, NODE_LOCAL, 8100 bytes)\\n',\n '\\t2022-12-01 05:28:39 INFO 22/12/01 05:28:39 INFO TaskSetManager: Finished task 259.0 in stage 1.0 (TID 219) in 5963 ms on gdatanode10 (executor 3) (214/600)\\n',\n '\\t2022-12-01 05:28:40 INFO 22/12/01 05:28:40 INFO TaskSetManager: Starting task 304.0 in stage 1.0 (TID 243, gdatanode15, executor 10, partition 304, NODE_LOCAL, 8100 bytes)\\n',\n '[INFO] 2022-12-01 05:28:41.680  - [taskAppId=TASK-44-304161-1974982]:[127] -  -> 2022-12-01 05:28:40 INFO 22/12/01 05:28:40 INFO TaskSetManager: Finished task 262.0 in stage 1.0 (TID 223) in 5385 ms on gdatanode15 (executor 10) (215/600)\\n',\n '\\t2022-12-01 05:28:41 INFO 22/12/01 05:28:41 INFO TaskSetManager: Starting task 323.0 in stage 1.0 (TID 244, gdatanode10, executor 3, partition 323, NODE_LOCAL, 8100 bytes)\\n',\n '\\t2022-12-01 05:28:41 INFO 22/12/01 05:28:41 INFO TaskSetManager: Finished task 283.0 in stage 1.0 (TID 230) in 5300 ms on gdatanode10 (executor 3) (216/600)\\n',\n '\\t2022-12-01 05:28:41 INFO 22/12/01 05:28:41 INFO TaskSetManager: Starting task 390.0 in stage 1.0 (TID 245, gdatanode10, executor 3, partition 390, NODE_LOCAL, 8100 bytes)\\n',\n '\\t2022-12-01 05:28:41 INFO 22/12/01 05:28:41 INFO TaskSetManager: Finished task 323.0 in stage 1.0 (TID 244) in 20 ms on gdatanode10 (executor 3) (217/600)\\n',\n '\\t2022-12-01 05:28:41 INFO 22/12/01 05:28:41 INFO TaskSetManager: Starting task 311.0 in stage 1.0 (TID 246, gdatanode31, executor 5, partition 311, NODE_LOCAL, 8100 bytes)\\n',\n '[INFO] 2022-12-01 05:28:42.833  - [taskAppId=TASK-44-304161-1974982]:[127] -  -> 2022-12-01 05:28:41 INFO 22/12/01 05:28:41 INFO TaskSetManager: Finished task 301.0 in stage 1.0 (TID 229) in 5806 ms on gdatanode31 (executor 5) (218/600)\\n',\n '\\t2022-12-01 05:28:41 INFO 22/12/01 05:28:41 INFO TaskSetManager: Starting task 353.0 in stage 1.0 (TID 247, gdatanode31, executor 5, partition 353, NODE_LOCAL, 8100 bytes)\\n',\n '\\t2022-12-01 05:28:41 INFO 22/12/01 05:28:41 INFO TaskSetManager: Finished task 311.0 in stage 1.0 (TID 246) in 29 ms on gdatanode31 (executor 5) (219/600)\\n',\n '\\t2022-12-01 05:28:41 INFO 22/12/01 05:28:41 INFO TaskSetManager: Starting task 370.0 in stage 1.0 (TID 248, gdatanode31, executor 5, partition 370, NODE_LOCAL, 8100 bytes)\\n',\n '\\t2022-12-01 05:28:41 INFO 22/12/01 05:28:41 INFO TaskSetManager: Finished task 353.0 in stage 1.0 (TID 247) in 20 ms on gdatanode31 (executor 5) (220/600)\\n',\n '\\t2022-12-01 05:28:41 INFO 22/12/01 05:28:41 INFO TaskSetManager: Finished task 597.0 in stage 1.0 (TID 210) in 11595 ms on gdatanode30 (executor 9) (221/600)\\n',\n '\\t2022-12-01 05:28:42 INFO 22/12/01 05:28:42 INFO TaskSetManager: Starting task 392.0 in stage 1.0 (TID 249, gdatanode10, executor 3, partition 392, NODE_LOCAL, 8100 bytes)\\n',\n '\\t2022-12-01 05:28:42 INFO 22/12/01 05:28:42 INFO TaskSetManager: Finished task 213.0 in stage 1.0 (TID 187) in 16162 ms on gdatanode10 (executor 3) (222/600)\\n',\n '\\t2022-12-01 05:28:42 INFO 22/12/01 05:28:42 INFO TaskSetManager: Starting task 394.0 in stage 1.0 (TID 250, gdatanode10, executor 3, partition 394, NODE_LOCAL, 8100 bytes)\\n',\n '\\t2022-12-01 05:28:42 INFO 22/12/01 05:28:42 INFO TaskSetManager: Finished task 392.0 in stage 1.0 (TID 249) in 21 ms on gdatanode10 (executor 3) (223/600)\\n',\n '\\t2022-12-01 05:28:42 INFO 22/12/01 05:28:42 INFO TaskSetManager: Starting task 515.0 in stage 1.0 (TID 251, gdatanode08, executor 8, partition 515, NODE_LOCAL, 8100 bytes)\\n',\n '[INFO] 2022-12-01 05:28:44.734  - [taskAppId=TASK-44-304161-1974982]:[127] -  -> 2022-12-01 05:28:42 INFO 22/12/01 05:28:42 INFO TaskSetManager: Finished task 471.0 in stage 1.0 (TID 188) in 15985 ms on gdatanode08 (executor 8) (224/600)\\n',\n '\\t2022-12-01 05:28:42 INFO 22/12/01 05:28:42 INFO TaskSetManager: Starting task 566.0 in stage 1.0 (TID 252, gdatanode08, executor 8, partition 566, NODE_LOCAL, 8100 bytes)\\n',\n '\\t2022-12-01 05:28:42 INFO 22/12/01 05:28:42 INFO TaskSetManager: Finished task 515.0 in stage 1.0 (TID 251) in 26 ms on gdatanode08 (executor 8) (225/600)\\n',\n '\\t2022-12-01 05:28:42 INFO 22/12/01 05:28:42 INFO TaskSetManager: Starting task 577.0 in stage 1.0 (TID 253, gdatanode08, executor 8, partition 577, NODE_LOCAL, 8100 bytes)\\n',\n '\\t2022-12-01 05:28:42 INFO 22/12/01 05:28:42 INFO TaskSetManager: Finished task 566.0 in stage 1.0 (TID 252) in 20 ms on gdatanode08 (executor 8) (226/600)\\n',\n '\\t2022-12-01 05:28:42 INFO 22/12/01 05:28:42 INFO TaskSetManager: Starting task 316.0 in stage 1.0 (TID 254, gdatanode15, executor 10, partition 316, NODE_LOCAL, 8100 bytes)\\n',\n '\\t2022-12-01 05:28:42 INFO 22/12/01 05:28:42 INFO TaskSetManager: Finished task 286.0 in stage 1.0 (TID 232) in 6254 ms on gdatanode15 (executor 10) (227/600)\\n',\n '\\t2022-12-01 05:28:43 INFO 22/12/01 05:28:43 INFO TaskSetManager: Starting task 393.0 in stage 1.0 (TID 255, gdatanode02, executor 7, partition 393, NODE_LOCAL, 8100 bytes)\\n',\n '\\t2022-12-01 05:28:43 INFO 22/12/01 05:28:43 INFO TaskSetManager: Finished task 319.0 in stage 1.0 (TID 234) in 6520 ms on gdatanode02 (executor 7) (228/600)\\n',\n '\\t2022-12-01 05:28:43 INFO 22/12/01 05:28:43 INFO TaskSetManager: Starting task 327.0 in stage 1.0 (TID 256, gdatanode19, executor 6, partition 327, NODE_LOCAL, 8100 bytes)\\n',\n '\\t2022-12-01 05:28:43 INFO 22/12/01 05:28:43 INFO TaskSetManager: Finished task 255.0 in stage 1.0 (TID 184) in 17899 ms on gdatanode19 (executor 6) (229/600)\\n',\n '\\t2022-12-01 05:28:43 INFO 22/12/01 05:28:43 INFO TaskSetManager: Starting task 332.0 in stage 1.0 (TID 257, gdatanode25, executor 2, partition 332, NODE_LOCAL, 8100 bytes)\\n',\n '\\t2022-12-01 05:28:43 INFO 22/12/01 05:28:43 INFO TaskSetManager: Finished task 243.0 in stage 1.0 (TID 197) in 15413 ms on gdatanode25 (executor 2) (230/600)\\n',\n '\\t2022-12-01 05:28:43 INFO 22/12/01 05:28:43 INFO TaskSetManager: Starting task 361.0 in stage 1.0 (TID 258, gdatanode25, executor 2, partition 361, NODE_LOCAL, 8100 bytes)\\n',\n '\\t2022-12-01 05:28:43 INFO 22/12/01 05:28:43 INFO TaskSetManager: Finished task 332.0 in stage 1.0 (TID 257) in 34 ms on gdatanode25 (executor 2) (231/600)\\n',\n '\\t2022-12-01 05:28:43 INFO 22/12/01 05:28:43 INFO TaskSetManager: Starting task 337.0 in stage 1.0 (TID 259, gdatanode15, executor 10, partition 337, NODE_LOCAL, 8100 bytes)\\n',\n '\\t2022-12-01 05:28:43 INFO 22/12/01 05:28:43 INFO TaskSetManager: Finished task 261.0 in stage 1.0 (TID 195) in 15658 ms on gdatanode15 (executor 10) (232/600)\\n',\n '\\t2022-12-01 05:28:44 INFO 22/12/01 05:28:44 INFO TaskSetManager: Starting task 570.0 in stage 1.0 (TID 260, gdatanode17, executor 4, partition 570, NODE_LOCAL, 8100 bytes)\\n',\n '[INFO] 2022-12-01 05:28:46.103  - [taskAppId=TASK-44-304161-1974982]:[127] -  -> 2022-12-01 05:28:44 INFO 22/12/01 05:28:44 INFO TaskSetManager: Finished task 474.0 in stage 1.0 (TID 204) in 14747 ms on gdatanode17 (executor 4) (233/600)\\n',\n '\\t2022-12-01 05:28:45 INFO 22/12/01 05:28:45 INFO TaskSetManager: Starting task 582.0 in stage 1.0 (TID 261, gdatanode17, executor 4, partition 582, NODE_LOCAL, 8100 bytes)\\n',\n '\\t2022-12-01 05:28:45 INFO 22/12/01 05:28:45 INFO TaskSetManager: Finished task 553.0 in stage 1.0 (TID 241) in 5659 ms on gdatanode17 (executor 4) (234/600)\\n',\n '\\t2022-12-01 05:28:45 INFO 22/12/01 05:28:45 INFO TaskSetManager: Starting task 366.0 in stage 1.0 (TID 262, gdatanode07, executor 1, partition 366, NODE_LOCAL, 8100 bytes)\\n',\n '\\t2022-12-01 05:28:45 INFO 22/12/01 05:28:45 INFO TaskSetManager: Finished task 355.0 in stage 1.0 (TID 236) in 7388 ms on gdatanode07 (executor 1) (235/600)\\n',\n '\\t2022-12-01 05:28:45 INFO 22/12/01 05:28:45 INFO TaskSetManager: Starting task 580.0 in stage 1.0 (TID 263, gdatanode08, executor 8, partition 580, NODE_LOCAL, 8100 bytes)\\n',\n '\\t2022-12-01 05:28:45 INFO 22/12/01 05:28:45 INFO TaskSetManager: Finished task 486.0 in stage 1.0 (TID 201) in 16191 ms on gdatanode08 (executor 8) (236/600)\\n',\n '\\t2022-12-01 05:28:45 INFO 22/12/01 05:28:45 INFO TaskSetManager: Starting task 386.0 in stage 1.0 (TID 264, gdatanode07, executor 1, partition 386, NODE_LOCAL, 8100 bytes)\\n',\n '\\t2022-12-01 05:28:45 INFO 22/12/01 05:28:45 INFO TaskSetManager: Finished task 258.0 in stage 1.0 (TID 199) in 16806 ms on gdatanode07 (executor 1) (237/600)\\n',\n '\\t2022-12-01 05:28:45 INFO 22/12/01 05:28:45 INFO TaskSetManager: Starting task 389.0 in stage 1.0 (TID 265, gdatanode07, executor 1, partition 389, NODE_LOCAL, 8100 bytes)\\n',\n '\\t2022-12-01 05:28:45 INFO 22/12/01 05:28:45 INFO TaskSetManager: Finished task 386.0 in stage 1.0 (TID 264) in 18 ms on gdatanode07 (executor 1) (238/600)\\n',\n '\\t2022-12-01 05:28:45 INFO 22/12/01 05:28:45 INFO TaskSetManager: Starting task 406.0 in stage 1.0 (TID 266, gdatanode07, executor 1, partition 406, NODE_LOCAL, 8100 bytes)\\n',\n '\\t2022-12-01 05:28:45 INFO 22/12/01 05:28:45 INFO TaskSetManager: Finished task 389.0 in stage 1.0 (TID 265) in 16 ms on gdatanode07 (executor 1) (239/600)\\n',\n '\\t2022-12-01 05:28:45 INFO 22/12/01 05:28:45 INFO TaskSetManager: Starting task 368.0 in stage 1.0 (TID 267, gdatanode25, executor 2, partition 368, NODE_LOCAL, 8100 bytes)\\n',\n '\\t2022-12-01 05:28:45 INFO 22/12/01 05:28:45 INFO TaskSetManager: Finished task 273.0 in stage 1.0 (TID 203) in 15631 ms on gdatanode25 (executor 2) (240/600)\\n',\n '\\t2022-12-01 05:28:45 INFO 22/12/01 05:28:45 INFO TaskSetManager: Starting task 431.0 in stage 1.0 (TID 268, gdatanode25, executor 2, partition 431, NODE_LOCAL, 8100 bytes)\\n',\n '\\t2022-12-01 05:28:45 INFO 22/12/01 05:28:45 INFO TaskSetManager: Finished task 368.0 in stage 1.0 (TID 267) in 62 ms on gdatanode25 (executor 2) (241/600)\\n',\n '\\t2022-12-01 05:28:45 INFO 22/12/01 05:28:45 INFO TaskSetManager: Starting task 444.0 in stage 1.0 (TID 269, gdatanode25, executor 2, partition 444, NODE_LOCAL, 8100 bytes)\\n',\n '\\t2022-12-01 05:28:45 INFO 22/12/01 05:28:45 INFO TaskSetManager: Finished task 431.0 in stage 1.0 (TID 268) in 73 ms on gdatanode25 (executor 2) (242/600)\\n',\n '\\t2022-12-01 05:28:46 INFO 22/12/01 05:28:46 INFO TaskSetManager: Starting task 395.0 in stage 1.0 (TID 270, gdatanode02, executor 7, partition 395, NODE_LOCAL, 8100 bytes)\\n',\n '[INFO] 2022-12-01 05:28:48.220  - [taskAppId=TASK-44-304161-1974982]:[127] -  -> 2022-12-01 05:28:46 INFO 22/12/01 05:28:46 INFO TaskSetManager: Finished task 328.0 in stage 1.0 (TID 238) in 6959 ms on gdatanode02 (executor 7) (243/600)\\n',\n '\\t2022-12-01 05:28:46 INFO 22/12/01 05:28:46 INFO TaskSetManager: Starting task 412.0 in stage 1.0 (TID 271, gdatanode02, executor 7, partition 412, NODE_LOCAL, 8100 bytes)\\n',\n '\\t2022-12-01 05:28:46 INFO 22/12/01 05:28:46 INFO TaskSetManager: Finished task 395.0 in stage 1.0 (TID 270) in 20 ms on gdatanode02 (executor 7) (244/600)\\n',\n '\\t2022-12-01 05:28:46 INFO 22/12/01 05:28:46 INFO TaskSetManager: Starting task 345.0 in stage 1.0 (TID 272, gdatanode15, executor 10, partition 345, NODE_LOCAL, 8100 bytes)\\n',\n '\\t2022-12-01 05:28:46 INFO 22/12/01 05:28:46 INFO TaskSetManager: Finished task 304.0 in stage 1.0 (TID 243) in 5666 ms on gdatanode15 (executor 10) (245/600)\\n',\n '\\t2022-12-01 05:28:46 INFO 22/12/01 05:28:46 INFO TaskSetManager: Starting task 351.0 in stage 1.0 (TID 273, gdatanode19, executor 6, partition 351, NODE_LOCAL, 8100 bytes)\\n',\n '\\t2022-12-01 05:28:46 INFO 22/12/01 05:28:46 INFO TaskSetManager: Finished task 306.0 in stage 1.0 (TID 212) in 16019 ms on gdatanode19 (executor 6) (246/600)\\n',\n '\\t2022-12-01 05:28:46 INFO 22/12/01 05:28:46 INFO TaskSetManager: Starting task 418.0 in stage 1.0 (TID 274, gdatanode02, executor 7, partition 418, NODE_LOCAL, 8100 bytes)\\n',\n '\\t2022-12-01 05:28:46 INFO 22/12/01 05:28:46 INFO TaskSetManager: Finished task 391.0 in stage 1.0 (TID 240) in 7415 ms on gdatanode02 (executor 7) (247/600)\\n',\n '\\t2022-12-01 05:28:46 INFO 22/12/01 05:28:46 INFO TaskSetManager: Starting task 372.0 in stage 1.0 (TID 275, gdatanode31, executor 5, partition 372, NODE_LOCAL, 8100 bytes)\\n',\n '\\t2022-12-01 05:28:46 INFO 22/12/01 05:28:46 INFO TaskSetManager: Finished task 370.0 in stage 1.0 (TID 248) in 4952 ms on gdatanode31 (executor 5) (248/600)\\n',\n '\\t2022-12-01 05:28:48 INFO 22/12/01 05:28:48 INFO TaskSetManager: Starting task 350.0 in stage 1.0 (TID 276, gdatanode15, executor 10, partition 350, NODE_LOCAL, 8100 bytes)\\n',\n '[INFO] 2022-12-01 05:28:49.403  - [taskAppId=TASK-44-304161-1974982]:[127] -  -> 2022-12-01 05:28:48 INFO 22/12/01 05:28:48 INFO TaskSetManager: Finished task 316.0 in stage 1.0 (TID 254) in 5243 ms on gdatanode15 (executor 10) (249/600)\\n',\n '\\t2022-12-01 05:28:48 INFO 22/12/01 05:28:48 INFO TaskSetManager: Starting task 356.0 in stage 1.0 (TID 277, gdatanode15, executor 10, partition 356, NODE_LOCAL, 8100 bytes)\\n',\n '\\t2022-12-01 05:28:48 INFO 22/12/01 05:28:48 INFO TaskSetManager: Finished task 350.0 in stage 1.0 (TID 276) in 26 ms on gdatanode15 (executor 10) (250/600)\\n',\n '\\t2022-12-01 05:28:48 INFO 22/12/01 05:28:48 INFO TaskSetManager: Starting task 360.0 in stage 1.0 (TID 278, gdatanode15, executor 10, partition 360, NODE_LOCAL, 8100 bytes)\\n',\n '\\t2022-12-01 05:28:48 INFO 22/12/01 05:28:48 INFO TaskSetManager: Finished task 356.0 in stage 1.0 (TID 277) in 198 ms on gdatanode15 (executor 10) (251/600)\\n',\n '\\t2022-12-01 05:28:48 INFO 22/12/01 05:28:48 INFO TaskSetManager: Finished task 492.0 in stage 1.0 (TID 211) in 18453 ms on gdatanode08 (executor 8) (252/600)\\n',\n '\\t2022-12-01 05:28:48 INFO 22/12/01 05:28:48 INFO TaskSetManager: Starting task 433.0 in stage 1.0 (TID 279, gdatanode10, executor 3, partition 433, NODE_LOCAL, 8100 bytes)\\n',\n '\\t2022-12-01 05:28:48 INFO 22/12/01 05:28:48 INFO TaskSetManager: Finished task 394.0 in stage 1.0 (TID 250) in 6463 ms on gdatanode10 (executor 3) (253/600)\\n',\n '\\t2022-12-01 05:28:49 INFO 22/12/01 05:28:49 INFO TaskSetManager: Starting task 407.0 in stage 1.0 (TID 280, gdatanode31, executor 5, partition 407, NODE_LOCAL, 8100 bytes)\\n',\n '\\t2022-12-01 05:28:49 INFO 22/12/01 05:28:49 INFO TaskSetManager: Finished task 288.0 in stage 1.0 (TID 228) in 13308 ms on gdatanode31 (executor 5) (254/600)\\n',\n '\\t2022-12-01 05:28:49 INFO 22/12/01 05:28:49 INFO TaskSetManager: Starting task 469.0 in stage 1.0 (TID 281, gdatanode31, executor 5, partition 469, NODE_LOCAL, 8100 bytes)\\n',\n '\\t2022-12-01 05:28:49 INFO 22/12/01 05:28:49 INFO TaskSetManager: Finished task 407.0 in stage 1.0 (TID 280) in 32 ms on gdatanode31 (executor 5) (255/600)\\n',\n '\\t2022-12-01 05:28:49 INFO 22/12/01 05:28:49 INFO TaskSetManager: Starting task 452.0 in stage 1.0 (TID 282, gdatanode25, executor 2, partition 452, NODE_LOCAL, 8100 bytes)\\n',\n '[INFO] 2022-12-01 05:28:51.144  - [taskAppId=TASK-44-304161-1974982]:[127] -  -> 2022-12-01 05:28:49 INFO 22/12/01 05:28:49 INFO TaskSetManager: Finished task 303.0 in stage 1.0 (TID 218) in 16049 ms on gdatanode25 (executor 2) (256/600)\\n',\n '\\t2022-12-01 05:28:49 INFO 22/12/01 05:28:49 INFO TaskSetManager: Starting task 456.0 in stage 1.0 (TID 283, gdatanode25, executor 2, partition 456, NODE_LOCAL, 8100 bytes)\\n',\n '\\t2022-12-01 05:28:49 INFO 22/12/01 05:28:49 INFO TaskSetManager: Finished task 452.0 in stage 1.0 (TID 282) in 28 ms on gdatanode25 (executor 2) (257/600)\\n',\n '\\t2022-12-01 05:28:49 INFO 22/12/01 05:28:49 INFO TaskSetManager: Starting task 487.0 in stage 1.0 (TID 284, gdatanode31, executor 5, partition 487, NODE_LOCAL, 8100 bytes)\\n',\n '\\t2022-12-01 05:28:49 INFO 22/12/01 05:28:49 INFO TaskSetManager: Finished task 270.0 in stage 1.0 (TID 222) in 15048 ms on gdatanode31 (executor 5) (258/600)\\n',\n '\\t2022-12-01 05:28:50 INFO 22/12/01 05:28:50 INFO TaskSetManager: Finished task 577.0 in stage 1.0 (TID 253) in 7233 ms on gdatanode08 (executor 8) (259/600)\\n',\n '\\t2022-12-01 05:28:50 INFO 22/12/01 05:28:50 INFO TaskSetManager: Starting task 458.0 in stage 1.0 (TID 285, gdatanode25, executor 2, partition 458, NODE_LOCAL, 8100 bytes)\\n',\n '\\t2022-12-01 05:28:50 INFO 22/12/01 05:28:50 INFO TaskSetManager: Finished task 361.0 in stage 1.0 (TID 258) in 6513 ms on gdatanode25 (executor 2) (260/600)\\n',\n '\\t2022-12-01 05:28:50 INFO 22/12/01 05:28:50 INFO TaskSetManager: Starting task 463.0 in stage 1.0 (TID 286, gdatanode25, executor 2, partition 463, NODE_LOCAL, 8100 bytes)\\n',\n '\\t2022-12-01 05:28:50 INFO 22/12/01 05:28:50 INFO TaskSetManager: Finished task 458.0 in stage 1.0 (TID 285) in 17 ms on gdatanode25 (executor 2) (261/600)\\n',\n '\\t2022-12-01 05:28:51 INFO 22/12/01 05:28:51 INFO TaskSetManager: Starting task 362.0 in stage 1.0 (TID 287, gdatanode15, executor 10, partition 362, NODE_LOCAL, 8100 bytes)\\n',\n '[INFO] 2022-12-01 05:28:52.274  - [taskAppId=TASK-44-304161-1974982]:[127] -  -> 2022-12-01 05:28:51 INFO 22/12/01 05:28:51 INFO TaskSetManager: Finished task 337.0 in stage 1.0 (TID 259) in 7325 ms on gdatanode15 (executor 10) (262/600)\\n',\n '\\t2022-12-01 05:28:51 INFO 22/12/01 05:28:51 INFO TaskSetManager: Starting task 373.0 in stage 1.0 (TID 288, gdatanode15, executor 10, partition 373, NODE_LOCAL, 8100 bytes)\\n',\n '\\t2022-12-01 05:28:51 INFO 22/12/01 05:28:51 INFO TaskSetManager: Finished task 362.0 in stage 1.0 (TID 287) in 19 ms on gdatanode15 (executor 10) (263/600)\\n',\n '\\t2022-12-01 05:28:51 INFO 22/12/01 05:28:51 INFO TaskSetManager: Finished task 537.0 in stage 1.0 (TID 237) in 13758 ms on gdatanode17 (executor 4) (264/600)\\n',\n '\\t2022-12-01 05:28:51 INFO 22/12/01 05:28:51 INFO TaskSetManager: Starting task 464.0 in stage 1.0 (TID 289, gdatanode02, executor 7, partition 464, NODE_LOCAL, 8100 bytes)\\n',\n '\\t2022-12-01 05:28:51 INFO 22/12/01 05:28:51 INFO TaskSetManager: Finished task 412.0 in stage 1.0 (TID 271) in 5753 ms on gdatanode02 (executor 7) (265/600)\\n',\n '\\t2022-12-01 05:28:51 INFO 22/12/01 05:28:51 INFO TaskSetManager: Starting task 520.0 in stage 1.0 (TID 290, gdatanode02, executor 7, partition 520, NODE_LOCAL, 8100 bytes)\\n',\n '\\t2022-12-01 05:28:51 INFO 22/12/01 05:28:51 INFO TaskSetManager: Finished task 464.0 in stage 1.0 (TID 289) in 65 ms on gdatanode02 (executor 7) (266/600)\\n',\n '\\t2022-12-01 05:28:52 INFO 22/12/01 05:28:52 INFO TaskSetManager: Finished task 580.0 in stage 1.0 (TID 263) in 6952 ms on gdatanode08 (executor 8) (267/600)\\n',\n '[INFO] 2022-12-01 05:28:55.403  - [taskAppId=TASK-44-304161-1974982]:[127] -  -> 2022-12-01 05:28:52 INFO 22/12/01 05:28:52 INFO TaskSetManager: Starting task 379.0 in stage 1.0 (TID 291, gdatanode19, executor 6, partition 379, NODE_LOCAL, 8100 bytes)\\n',\n '\\t2022-12-01 05:28:52 INFO 22/12/01 05:28:52 INFO TaskSetManager: Finished task 321.0 in stage 1.0 (TID 227) in 16690 ms on gdatanode19 (executor 6) (268/600)\\n',\n '\\t2022-12-01 05:28:52 INFO 22/12/01 05:28:52 INFO TaskSetManager: Starting task 535.0 in stage 1.0 (TID 292, gdatanode02, executor 7, partition 535, NODE_LOCAL, 8100 bytes)\\n',\n '\\t2022-12-01 05:28:52 INFO 22/12/01 05:28:52 INFO TaskSetManager: Finished task 418.0 in stage 1.0 (TID 274) in 5718 ms on gdatanode02 (executor 7) (269/600)\\n',\n '\\t2022-12-01 05:28:52 INFO 22/12/01 05:28:52 INFO TaskSetManager: Starting task 427.0 in stage 1.0 (TID 293, gdatanode07, executor 1, partition 427, NODE_LOCAL, 8100 bytes)\\n',\n '\\t2022-12-01 05:28:52 INFO 22/12/01 05:28:52 INFO TaskSetManager: Finished task 406.0 in stage 1.0 (TID 266) in 7062 ms on gdatanode07 (executor 1) (270/600)\\n',\n '\\t2022-12-01 05:28:52 INFO 22/12/01 05:28:52 INFO TaskSetManager: Starting task 443.0 in stage 1.0 (TID 294, gdatanode07, executor 1, partition 443, NODE_LOCAL, 8100 bytes)\\n',\n '\\t2022-12-01 05:28:52 INFO 22/12/01 05:28:52 INFO TaskSetManager: Finished task 339.0 in stage 1.0 (TID 226) in 16951 ms on gdatanode07 (executor 1) (271/600)\\n',\n '\\t2022-12-01 05:28:52 INFO 22/12/01 05:28:52 INFO TaskSetManager: Starting task 480.0 in stage 1.0 (TID 295, gdatanode07, executor 1, partition 480, NODE_LOCAL, 8100 bytes)\\n',\n '\\t2022-12-01 05:28:52 INFO 22/12/01 05:28:52 INFO TaskSetManager: Finished task 443.0 in stage 1.0 (TID 294) in 21 ms on gdatanode07 (executor 1) (272/600)\\n',\n '\\t2022-12-01 05:28:55 INFO 22/12/01 05:28:55 INFO TaskSetManager: Starting task 498.0 in stage 1.0 (TID 296, gdatanode31, executor 5, partition 498, NODE_LOCAL, 8100 bytes)\\n',\n '[INFO] 2022-12-01 05:28:56.938  - [taskAppId=TASK-44-304161-1974982]:[127] -  -> 2022-12-01 05:28:55 INFO 22/12/01 05:28:55 INFO TaskSetManager: Finished task 469.0 in stage 1.0 (TID 281) in 6350 ms on gdatanode31 (executor 5) (273/600)\\n',\n '\\t2022-12-01 05:28:55 INFO 22/12/01 05:28:55 INFO TaskSetManager: Starting task 510.0 in stage 1.0 (TID 297, gdatanode25, executor 2, partition 510, NODE_LOCAL, 8100 bytes)\\n',\n '\\t2022-12-01 05:28:55 INFO 22/12/01 05:28:55 INFO TaskSetManager: Finished task 463.0 in stage 1.0 (TID 286) in 5150 ms on gdatanode25 (executor 2) (274/600)\\n',\n '\\t2022-12-01 05:28:55 INFO 22/12/01 05:28:55 INFO TaskSetManager: Starting task 502.0 in stage 1.0 (TID 298, gdatanode31, executor 5, partition 502, NODE_LOCAL, 8100 bytes)\\n',\n '\\t2022-12-01 05:28:55 INFO 22/12/01 05:28:55 INFO TaskSetManager: Finished task 487.0 in stage 1.0 (TID 284) in 6071 ms on gdatanode31 (executor 5) (275/600)\\n',\n '\\t2022-12-01 05:28:55 INFO 22/12/01 05:28:55 INFO TaskSetManager: Starting task 475.0 in stage 1.0 (TID 299, gdatanode10, executor 3, partition 475, NODE_LOCAL, 8100 bytes)\\n',\n '\\t2022-12-01 05:28:55 INFO 22/12/01 05:28:55 INFO TaskSetManager: Finished task 433.0 in stage 1.0 (TID 279) in 6986 ms on gdatanode10 (executor 3) (276/600)\\n',\n '\\t2022-12-01 05:28:55 INFO 22/12/01 05:28:55 INFO TaskSetManager: Starting task 496.0 in stage 1.0 (TID 300, gdatanode10, executor 3, partition 496, NODE_LOCAL, 8100 bytes)\\n',\n '\\t2022-12-01 05:28:55 INFO 22/12/01 05:28:55 INFO TaskSetManager: Finished task 297.0 in stage 1.0 (TID 242) in 16328 ms on gdatanode10 (executor 3) (277/600)\\n',\n '\\t2022-12-01 05:28:56 INFO 22/12/01 05:28:56 INFO TaskSetManager: Starting task 397.0 in stage 1.0 (TID 301, gdatanode15, executor 10, partition 397, NODE_LOCAL, 8100 bytes)\\n',\n '[INFO] 2022-12-01 05:28:58.327  - [taskAppId=TASK-44-304161-1974982]:[127] -  -> 2022-12-01 05:28:56 INFO 22/12/01 05:28:56 INFO TaskSetManager: Finished task 373.0 in stage 1.0 (TID 288) in 5776 ms on gdatanode15 (executor 10) (278/600)\\n',\n '\\t2022-12-01 05:28:57 INFO 22/12/01 05:28:57 INFO TaskSetManager: Starting task 531.0 in stage 1.0 (TID 302, gdatanode10, executor 3, partition 531, NODE_LOCAL, 8100 bytes)\\n',\n '\\t2022-12-01 05:28:57 INFO 22/12/01 05:28:57 INFO TaskSetManager: Finished task 390.0 in stage 1.0 (TID 245) in 16165 ms on gdatanode10 (executor 3) (279/600)\\n',\n '\\t2022-12-01 05:28:58 INFO 22/12/01 05:28:58 INFO TaskSetManager: Starting task 512.0 in stage 1.0 (TID 303, gdatanode07, executor 1, partition 512, NODE_LOCAL, 8100 bytes)\\n',\n '[INFO] 2022-12-01 05:28:59.710  - [taskAppId=TASK-44-304161-1974982]:[127] -  -> 2022-12-01 05:28:58 INFO 22/12/01 05:28:58 INFO TaskSetManager: Finished task 427.0 in stage 1.0 (TID 293) in 5894 ms on gdatanode07 (executor 1) (280/600)\\n',\n '\\t2022-12-01 05:28:58 INFO 22/12/01 05:28:58 INFO TaskSetManager: Starting task 567.0 in stage 1.0 (TID 304, gdatanode07, executor 1, partition 567, NODE_LOCAL, 8100 bytes)\\n',\n ...]"
      ]
     },
     "execution_count": 127,
     "metadata": {},
     "output_type": "execute_result"
    }
   ],
   "source": [
    "a = open(r\"E:\\Learning\\Git\\myPython\\algo\\chapter07\\dm_query_device_lock.log\", 'r', encoding='utf-8')\n",
    "b = a.readlines()\n",
    "b\n"
   ]
  },
  {
   "cell_type": "code",
   "execution_count": 128,
   "metadata": {},
   "outputs": [
    {
     "data": {
      "text/plain": [
       "'[INFO] 2022-12-01 05:27:02.449  - [taskAppId=TASK-44-304161-1974982]:[115] - create dir success /tmp/dolphinscheduler/exec/process/11/44/304161/1974982\\n'"
      ]
     },
     "execution_count": 128,
     "metadata": {},
     "output_type": "execute_result"
    }
   ],
   "source": [
    "b[0]"
   ]
  },
  {
   "cell_type": "code",
   "execution_count": 129,
   "metadata": {},
   "outputs": [
    {
     "data": {
      "text/plain": [
       "'\\t2022-12-01 05:27:07 INFO 22/12/01 05:27:07 INFO ContextHandler: Started o.s.j.s.ServletContextHandler@338766de{/storage/json,null,AVAILABLE,@Spark}\\n'"
      ]
     },
     "execution_count": 129,
     "metadata": {},
     "output_type": "execute_result"
    }
   ],
   "source": [
    "b[100]"
   ]
  },
  {
   "cell_type": "code",
   "execution_count": 136,
   "metadata": {},
   "outputs": [
    {
     "data": {
      "text/plain": [
       "'[INFO] 2022-12-01 05:27:02.449  - [taskAppId=TASK-44-304161-1974982]:[115] - create dir success /tmp/dolphinscheduler/exec/process/11/44/304161/1974982\\n'"
      ]
     },
     "execution_count": 136,
     "metadata": {},
     "output_type": "execute_result"
    }
   ],
   "source": [
    "c = open(r\"E:\\Learning\\Git\\myPython\\algo\\chapter07\\dm_query_device_lock.log\", 'r', encoding='utf-8')\n",
    "d = c.readline()\n",
    "d"
   ]
  },
  {
   "cell_type": "code",
   "execution_count": 144,
   "metadata": {},
   "outputs": [
    {
     "data": {
      "text/plain": [
       "\"12-01 05:27:07 INFO 22/12/01 05:27:07 WARN Utils: Service 'SparkUI' could not bind on port 4040. Attempting port 4041.\\n\""
      ]
     },
     "execution_count": 144,
     "metadata": {},
     "output_type": "execute_result"
    }
   ],
   "source": [
    "c.seek(10000, 0)\n",
    "c.readline()\n"
   ]
  },
  {
   "cell_type": "code",
   "execution_count": 145,
   "metadata": {},
   "outputs": [
    {
     "data": {
      "text/plain": [
       "'01 05:27:0'"
      ]
     },
     "execution_count": 145,
     "metadata": {},
     "output_type": "execute_result"
    }
   ],
   "source": [
    "e = open(r\"E:\\Learning\\Git\\myPython\\algo\\chapter07\\dm_query_device_lock.log\", 'r', encoding='utf-8')\n",
    "f = e.read()\n",
    "\n",
    "f[10000:10010]"
   ]
  },
  {
   "cell_type": "code",
   "execution_count": 146,
   "metadata": {},
   "outputs": [
    {
     "data": {
      "text/plain": [
       "97"
      ]
     },
     "execution_count": 146,
     "metadata": {},
     "output_type": "execute_result"
    }
   ],
   "source": [
    "ord(\"a\")"
   ]
  },
  {
   "cell_type": "code",
   "execution_count": 151,
   "metadata": {},
   "outputs": [
    {
     "name": "stdout",
     "output_type": "stream",
     "text": [
      "None\nzhangsan\n"
     ]
    }
   ],
   "source": [
    "class C(object):\n",
    "    def __init__(self):\n",
    "        self._x = None\n",
    " \n",
    "    def getx(self):\n",
    "        return self._x\n",
    " \n",
    "    def setx(self, value):\n",
    "        self._x = value\n",
    " \n",
    "    def delx(self):\n",
    "        del self._x\n",
    " \n",
    "    x = property(getx, setx, delx, \"I'm the 'x' property.\")\n",
    "\n",
    "c = C()\n",
    "print(c.x)\n",
    "c.x = \"zhangsan\"\n",
    "print(c.x)\n",
    "\n",
    "del c.x\n",
    "# print(c.x)"
   ]
  },
  {
   "cell_type": "code",
   "execution_count": 153,
   "metadata": {},
   "outputs": [
    {
     "name": "stdout",
     "output_type": "stream",
     "text": [
      "100000\n"
     ]
    }
   ],
   "source": [
    "class Parrot(object):\n",
    "    def __init__(self):\n",
    "        self._voltage = 100000\n",
    " \n",
    "    @property\n",
    "    def voltage(self):\n",
    "        \"\"\"Get the current voltage.\"\"\"\n",
    "        return self._voltage\n",
    "    \n",
    "parrot = Parrot()\n",
    "\n",
    "print(parrot.voltage)\n"
   ]
  },
  {
   "cell_type": "code",
   "execution_count": 154,
   "metadata": {},
   "outputs": [
    {
     "name": "stdout",
     "output_type": "stream",
     "text": [
      "10\n"
     ]
    }
   ],
   "source": [
    "class C(object):\n",
    "    def __init__(self):\n",
    "        self._x = None\n",
    " \n",
    "    @property\n",
    "    def x(self):\n",
    "        \"\"\"I'm the 'x' property.\"\"\"\n",
    "        return self._x\n",
    " \n",
    "    @x.setter\n",
    "    def x(self, value):\n",
    "        self._x = value\n",
    " \n",
    "    @x.deleter\n",
    "    def x(self):\n",
    "        del self._x\n",
    "\n",
    "\n",
    "c = C()\n",
    "c.x = 10\n",
    "print(c.x)\n",
    "del c.x\n"
   ]
  },
  {
   "cell_type": "code",
   "execution_count": 159,
   "metadata": {},
   "outputs": [
    {
     "data": {
      "text/plain": [
       "\"'1+2'\""
      ]
     },
     "execution_count": 159,
     "metadata": {},
     "output_type": "execute_result"
    }
   ],
   "source": [
    "repr('1+2')"
   ]
  },
  {
   "cell_type": "code",
   "execution_count": 161,
   "metadata": {},
   "outputs": [
    {
     "name": "stdout",
     "output_type": "stream",
     "text": [
      "{'3', '1', '2'}\n"
     ]
    }
   ],
   "source": [
    "a = set(list(\"123\"))\n",
    "print(a)"
   ]
  },
  {
   "cell_type": "code",
   "execution_count": 166,
   "metadata": {},
   "outputs": [
    {
     "name": "stdout",
     "output_type": "stream",
     "text": [
      "2nd\n100\n['__class__', '__delattr__', '__dict__', '__dir__', '__doc__', '__eq__', '__format__', '__ge__', '__getattribute__', '__gt__', '__hash__', '__init__', '__init_subclass__', '__le__', '__lt__', '__module__', '__ne__', '__new__', '__reduce__', '__reduce_ex__', '__repr__', '__setattr__', '__sizeof__', '__str__', '__subclasshook__', '__weakref__', 'age', 'clazz', 'name']\n"
     ]
    }
   ],
   "source": [
    "class Student:\n",
    "    clazz = \"1st\"\n",
    "    def __init__(self):\n",
    "        self.age = 18\n",
    "        self.name = \"zhangsan\"\n",
    "\n",
    "stu = Student()\n",
    "setattr(stu, 'clazz', '2nd')\n",
    "print(stu.clazz)\n",
    "\n",
    "setattr(stu, 'age', '100')\n",
    "print(stu.age)\n",
    "\n",
    "print(dir(stu))"
   ]
  },
  {
   "cell_type": "code",
   "execution_count": 171,
   "metadata": {},
   "outputs": [
    {
     "data": {
      "text/plain": [
       "['h', 'n', 's', 'n', 'i', 'i', 'a', 'g', 'u', 'a', 'a', 'a']"
      ]
     },
     "execution_count": 171,
     "metadata": {},
     "output_type": "execute_result"
    }
   ],
   "source": [
    "a = list(\"zhangsanlisiwangwuhahahahahahdafasdfasdfasdfasdfasdfasd\")\n",
    "myslice = slice(1, 25, 2)\n",
    "myslice\n",
    "\n",
    "a[myslice]"
   ]
  },
  {
   "cell_type": "code",
   "execution_count": 172,
   "metadata": {},
   "outputs": [
    {
     "data": {
      "text/plain": [
       "(0, 1, 2, 3, 4, 5, 6, 7, 8, 9)"
      ]
     },
     "execution_count": 172,
     "metadata": {},
     "output_type": "execute_result"
    }
   ],
   "source": [
    "a = tuple(range(10))\n",
    "a"
   ]
  },
  {
   "cell_type": "code",
   "execution_count": 173,
   "metadata": {},
   "outputs": [
    {
     "data": {
      "text/plain": [
       "0"
      ]
     },
     "execution_count": 173,
     "metadata": {},
     "output_type": "execute_result"
    }
   ],
   "source": [
    "a[0]"
   ]
  },
  {
   "cell_type": "code",
   "execution_count": 174,
   "metadata": {},
   "outputs": [
    {
     "data": {
      "text/plain": [
       "<zip at 0x19c33ed5f88>"
      ]
     },
     "execution_count": 174,
     "metadata": {},
     "output_type": "execute_result"
    }
   ],
   "source": [
    "a = list(\"zhang\")\n",
    "b = list(\"lisi\")\n",
    "c = zip(a, b)\n",
    "c"
   ]
  },
  {
   "cell_type": "code",
   "execution_count": 175,
   "metadata": {},
   "outputs": [
    {
     "name": "stdout",
     "output_type": "stream",
     "text": [
      "('z', 'l')\n('h', 'i')\n('a', 's')\n('n', 'i')\n"
     ]
    }
   ],
   "source": [
    "for each in c:\n",
    "    print(each)"
   ]
  },
  {
   "cell_type": "code",
   "execution_count": 176,
   "metadata": {},
   "outputs": [
    {
     "name": "stdout",
     "output_type": "stream",
     "text": [
      "('z', 'h', 'a', 'n') ('l', 'i', 's', 'i')\n"
     ]
    }
   ],
   "source": [
    "a1, a2 = zip(*zip(a,b))\n",
    "print(a1, a2)"
   ]
  },
  {
   "cell_type": "code",
   "execution_count": null,
   "metadata": {},
   "outputs": [],
   "source": []
  }
 ],
 "metadata": {
  "kernelspec": {
   "display_name": "Python 2",
   "language": "python",
   "name": "python2"
  },
  "language_info": {
   "codemirror_mode": {
    "name": "ipython",
    "version": 2
   },
   "file_extension": ".py",
   "mimetype": "text/x-python",
   "name": "python",
   "nbconvert_exporter": "python",
   "pygments_lexer": "ipython2",
   "version": "2.7.6"
  }
 },
 "nbformat": 4,
 "nbformat_minor": 0
}
