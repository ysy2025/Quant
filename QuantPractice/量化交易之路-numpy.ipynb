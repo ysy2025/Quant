{
 "cells": [
  {
   "cell_type": "code",
   "execution_count": 1,
   "metadata": {},
   "outputs": [
    {
     "name": "stdout",
     "output_type": "stream",
     "text": [
      "10.2 µs ± 221 ns per loop (mean ± std. dev. of 7 runs, 100000 loops each)\n"
     ]
    }
   ],
   "source": [
    "import pandas as pd\n",
    "import numpy as np\n",
    "np_list = np.arange(10000)\n",
    "\n",
    "%timeit np_list ** 2"
   ]
  },
  {
   "cell_type": "code",
   "execution_count": 2,
   "metadata": {},
   "outputs": [
    {
     "name": "stdout",
     "output_type": "stream",
     "text": [
      "3.3 ms ± 74.6 µs per loop (mean ± std. dev. of 7 runs, 100 loops each)\n"
     ]
    }
   ],
   "source": [
    "normal_list = range(10000)\n",
    "%timeit [i**2 for i in normal_list]"
   ]
  },
  {
   "cell_type": "code",
   "execution_count": 3,
   "metadata": {},
   "outputs": [
    {
     "data": {
      "text/plain": [
       "'\\nnumpy底层通过使用C语言和Fortran语言的机制分配内存,可以理解为它的输出是一个非常大的连续的并且由同类型数据组成的内存区域\\n所以你可以构造一个比普通列表大得多的数组,并且灵活高效对数组中所有元素进行并行化操作\\n'"
      ]
     },
     "execution_count": 3,
     "metadata": {},
     "output_type": "execute_result"
    }
   ],
   "source": [
    "\"\"\"\n",
    "numpy底层通过使用C语言和Fortran语言的机制分配内存,可以理解为它的输出是一个非常大的连续的并且由同类型数据组成的内存区域\n",
    "所以你可以构造一个比普通列表大得多的数组,并且灵活高效对数组中所有元素进行并行化操作\n",
    "\"\"\""
   ]
  },
  {
   "cell_type": "code",
   "execution_count": 4,
   "metadata": {},
   "outputs": [
    {
     "data": {
      "text/plain": [
       "array([3., 3., 3., 3., 3.])"
      ]
     },
     "execution_count": 4,
     "metadata": {},
     "output_type": "execute_result"
    }
   ],
   "source": [
    "np_list = np.ones(5) * 3\n",
    "np_list"
   ]
  },
  {
   "cell_type": "code",
   "execution_count": 5,
   "metadata": {},
   "outputs": [
    {
     "data": {
      "text/plain": [
       "[1, 1, 1, 1, 1, 1, 1, 1, 1, 1, 1, 1, 1, 1, 1]"
      ]
     },
     "execution_count": 5,
     "metadata": {},
     "output_type": "execute_result"
    }
   ],
   "source": [
    "#普通的列表把*3认为是整体性操作\n",
    "normal_list = [1,1,1,1,1] * 3\n",
    "normal_list"
   ]
  },
  {
   "cell_type": "code",
   "execution_count": 6,
   "metadata": {
    "scrolled": true
   },
   "outputs": [
    {
     "name": "stdout",
     "output_type": "stream",
     "text": [
      "[0. 0. 0. 0. 0. 0. 0. 0. 0. 0. 0. 0. 0. 0. 0. 0. 0. 0. 0. 0. 0. 0. 0. 0.\n",
      " 0. 0. 0. 0. 0. 0. 0. 0. 0. 0. 0. 0. 0. 0. 0. 0. 0. 0. 0. 0. 0. 0. 0. 0.\n",
      " 0. 0. 0. 0. 0. 0. 0. 0. 0. 0. 0. 0. 0. 0. 0. 0. 0. 0. 0. 0. 0. 0. 0. 0.\n",
      " 0. 0. 0. 0. 0. 0. 0. 0. 0. 0. 0. 0. 0. 0. 0. 0. 0. 0. 0. 0. 0. 0. 0. 0.\n",
      " 0. 0. 0. 0.]\n",
      "[[0. 0.]\n",
      " [0. 0.]\n",
      " [0. 0.]]\n",
      "[[1. 1.]\n",
      " [1. 1.]\n",
      " [1. 1.]]\n",
      "[[[6.23042070e-307 4.67296746e-307 1.69121096e-306]\n",
      "  [9.34601641e-307 6.23054972e-307 8.45593934e-307]\n",
      "  [7.56593017e-307 1.11261027e-306 1.11261502e-306]]\n",
      "\n",
      " [[1.42410839e-306 7.56597770e-307 6.23059726e-307]\n",
      "  [8.90104239e-307 8.45590539e-307 6.23054972e-307]\n",
      "  [8.90104239e-307 7.23188050e-308 1.42404727e-306]]]\n",
      "[1. 1. 1. 1. 1.]\n",
      "[0. 0. 0. 0. 0.]\n"
     ]
    }
   ],
   "source": [
    "# 3.1.2 初始化操作\n",
    "a = np.zeros(100)\n",
    "print(a)\n",
    "\n",
    "b = np.zeros((3,2))\n",
    "print(b)\n",
    "\n",
    "c = np.ones((3,2))\n",
    "print(c)\n",
    "\n",
    "d = np.empty((2,3,3))\n",
    "print(d)\n",
    "\n",
    "e = np.ones_like(np_list)\n",
    "print(e)\n",
    "\n",
    "f = np.zeros_like(np_list)\n",
    "print(f)"
   ]
  },
  {
   "cell_type": "code",
   "execution_count": 7,
   "metadata": {},
   "outputs": [
    {
     "name": "stdout",
     "output_type": "stream",
     "text": [
      "[0.         0.05263158 0.10526316 0.15789474 0.21052632 0.26315789\n",
      " 0.31578947 0.36842105 0.42105263 0.47368421 0.52631579 0.57894737\n",
      " 0.63157895 0.68421053 0.73684211 0.78947368 0.84210526 0.89473684\n",
      " 0.94736842 1.        ]\n"
     ]
    }
   ],
   "source": [
    "# linspace,从0到1,取20个数据\n",
    "a = np.linspace(0,1,20)\n",
    "print(a)"
   ]
  },
  {
   "cell_type": "code",
   "execution_count": 8,
   "metadata": {
    "scrolled": true
   },
   "outputs": [
    {
     "name": "stdout",
     "output_type": "stream",
     "text": [
      "(200, 504)\n",
      "[[-0.9098037  -1.54885442  1.32904487 -1.35452603  0.51612396]]\n"
     ]
    }
   ],
   "source": [
    "# 股票数量\n",
    "stock_cnt = 200\n",
    "# 504个交易日\n",
    "view_days = 504\n",
    "# 生成服从正态分布的均值期望=0,标准差=1的序列\n",
    "stock_day_change = np.random.standard_normal((stock_cnt, view_days))\n",
    "# 打印\n",
    "print(stock_day_change.shape)\n",
    "# 打印第一只股票的前5个交易日的涨跌幅情况\n",
    "print(stock_day_change[0:1, :5])"
   ]
  },
  {
   "cell_type": "code",
   "execution_count": 9,
   "metadata": {},
   "outputs": [
    {
     "name": "stdout",
     "output_type": "stream",
     "text": [
      "(504,)\n",
      "[-9.09803699e-01 -1.54885442e+00  1.32904487e+00 -1.35452603e+00\n",
      "  5.16123958e-01  8.15342207e-01 -5.35796508e-01  7.64899723e-01\n",
      "  1.09501649e+00  1.50110023e-01  6.85819382e-01 -8.81829204e-01\n",
      " -1.66124853e+00 -1.00227299e+00  4.24709858e-01 -9.70064077e-01\n",
      "  5.76155871e-02 -1.47697491e-01  7.76029970e-01  3.88075485e-01\n",
      " -5.58051023e-01  2.32262462e+00  9.87082342e-01 -1.98021206e+00\n",
      "  2.14680802e-01  1.19004409e+00 -6.20055210e-01  4.49707609e-01\n",
      " -1.17877831e+00  5.17281694e-01 -3.51504707e-01 -6.54656326e-01\n",
      " -1.88274848e+00 -9.92590676e-01 -6.05777967e-01  1.26688437e+00\n",
      "  1.40147544e-01  2.01944041e+00 -1.56366057e+00 -8.70725910e-01\n",
      "  1.19794587e+00  1.14123009e+00 -1.40845702e+00 -1.83249182e-01\n",
      " -1.13351904e+00 -1.12694680e+00  7.69144209e-02 -1.18939964e+00\n",
      "  4.10760977e-01 -9.39970204e-01 -1.07396550e+00 -6.30365569e-01\n",
      "  1.11482293e+00  3.28905671e-03  2.38675273e-01 -1.15917881e+00\n",
      "  7.75298041e-01  1.14688330e-01  7.69459975e-01 -3.88362135e-02\n",
      "  5.10184433e-01 -4.98320682e-01 -1.19903208e+00 -3.30277027e-01\n",
      " -5.05325790e-01 -2.30669273e-01 -1.91743565e+00  8.85026654e-01\n",
      " -5.39120464e-01 -3.19497595e-01 -1.31348602e+00 -8.67865119e-01\n",
      " -8.41273048e-01 -1.92355081e-01  1.10506355e+00  1.58968887e+00\n",
      " -5.41932261e-01  5.10448175e-01  1.21880675e+00 -7.29441209e-01\n",
      "  9.18192128e-01  1.60229600e-02 -5.76637219e-01 -3.65819332e-01\n",
      "  6.87396785e-01  6.32847221e-01 -8.91296065e-01  2.47648994e+00\n",
      " -9.71091210e-01  6.41475149e-01  1.16160207e-01 -1.73762767e-01\n",
      " -4.78250173e-02 -1.99541670e+00  5.42699784e-01  8.37283556e-01\n",
      " -1.51823496e+00  8.95055197e-02 -1.44422649e-01  4.95189959e-01\n",
      "  8.27755872e-02  9.49434871e-03  1.38932386e+00  1.20953348e+00\n",
      " -2.30207705e-01 -1.42636024e+00 -2.03410720e+00 -1.55142440e+00\n",
      "  2.37189868e+00 -7.35926114e-01  1.47258995e+00  1.77450432e-01\n",
      " -2.75797311e-01  5.93535858e-01 -1.09633618e+00  5.96410374e-01\n",
      "  2.01674360e-01 -2.46971575e-01  5.82868273e-01 -1.31185697e+00\n",
      "  7.48073976e-01  1.03772272e+00  1.48383996e-01 -1.79896653e-01\n",
      "  3.55092749e-01  1.16071932e+00 -7.20948628e-01  7.91500269e-01\n",
      " -1.04123175e+00  6.03572257e-01 -3.38168454e-01  1.90381293e+00\n",
      " -1.49059980e+00 -3.71116049e-01 -9.64873704e-01 -1.47490889e+00\n",
      "  1.47774634e-01 -5.43572742e-01  1.59087082e+00 -6.55151943e-01\n",
      "  9.14859594e-01  9.79596160e-01 -3.21877924e-01 -9.29130899e-01\n",
      "  1.20776648e+00 -7.46768541e-01  1.29846348e+00 -1.08498371e+00\n",
      "  1.30492933e+00  1.22260198e-01 -5.45446652e-01  1.02774159e+00\n",
      "  2.86261136e-01  3.62146437e-01 -9.56667369e-01  1.85673505e+00\n",
      "  1.23716285e+00  2.25369278e-01  2.23886740e-02  2.05743071e-01\n",
      " -1.16796007e+00 -1.98108943e+00  5.88783520e-01 -1.55646242e+00\n",
      "  3.51787612e-01 -3.02507007e-01 -7.94476315e-01 -1.07988050e+00\n",
      "  1.97484860e+00 -5.76963514e-01 -4.97234624e-01  4.17819994e-01\n",
      "  4.05841598e-01 -4.76485115e-01  7.19420050e-01  1.27606743e+00\n",
      "  1.12137296e+00  1.92799155e+00 -3.15858531e-01 -9.32632152e-01\n",
      " -3.83861244e-01 -2.81422112e-01  1.40022603e+00 -1.62537619e+00\n",
      " -2.93010472e-01 -2.51725472e-01 -2.88172860e-01 -2.00549590e+00\n",
      " -2.04699856e+00  7.90518640e-01 -5.68265198e-01 -3.65118621e-01\n",
      "  1.36923990e+00  1.22060930e-01  2.28976434e+00  6.62113292e-01\n",
      " -2.95611869e-01 -3.12438057e-01 -6.87265787e-01 -6.54308500e-01\n",
      " -8.32096989e-01 -1.00403783e+00  5.06014666e-01 -2.13122116e+00\n",
      "  3.85727445e-01  5.48639353e-01 -5.09440611e-01  6.34908490e-01\n",
      "  1.82960946e+00  3.43818212e-01 -1.41836706e+00  5.18506506e-01\n",
      "  3.86916565e-01  3.96308879e-01 -2.04645094e+00 -3.75470821e-01\n",
      "  5.30187621e-01 -5.91130820e-01 -9.21650220e-01  1.83496435e-01\n",
      "  1.60087604e+00  4.76538894e-01 -1.51941604e-01 -3.60632504e-01\n",
      " -1.04794465e+00  6.06593317e-01  7.67239763e-01  4.93495239e-01\n",
      " -7.28332716e-01  2.98787479e-01 -1.11925481e+00  9.16312814e-01\n",
      " -1.97417377e+00  2.83576004e-01 -1.34143885e-02 -1.43539844e+00\n",
      "  4.37402301e-01  1.39346303e+00  3.26361383e-01  8.98552382e-01\n",
      " -4.23264314e-02  1.18536593e+00 -1.63071612e-01 -3.41228716e-01\n",
      " -1.92029153e+00 -6.06740209e-01 -2.43839898e+00 -5.39577714e-01\n",
      " -1.59236066e+00  9.10371982e-01  1.41670649e+00 -5.65499281e-01\n",
      " -1.55827711e-01  3.24889498e-01  6.20326917e-02  4.97843138e-01\n",
      " -1.28362573e+00  3.68101396e-01  1.89621062e+00  1.19174510e+00\n",
      " -3.83953939e-01  9.32163667e-01 -1.25163105e+00 -1.17482769e+00\n",
      "  3.35659749e-01 -1.26509392e+00 -1.22660063e-01 -7.19676986e-01\n",
      "  2.52969844e+00 -1.12481161e+00  2.26913189e-01 -3.05154784e-01\n",
      " -9.18895671e-01  8.46183088e-02 -1.62514834e-01  8.00241486e-02\n",
      "  7.70531772e-01  7.19293299e-01  5.23882848e-01  4.60496431e-01\n",
      "  4.52463937e-01 -9.27104746e-01  1.19339042e+00  3.92010704e-02\n",
      "  1.51031414e-01  3.27679608e-01  1.54974760e-01  2.06169957e+00\n",
      " -6.03690903e-01  5.98479504e-01  4.57440355e-01 -9.40228575e-02\n",
      "  5.91503871e-01 -5.28575278e-02 -6.96571185e-01  2.58375712e-01\n",
      "  1.00623411e+00  1.50922667e-01  1.51031229e+00 -5.00044289e-01\n",
      " -1.70272635e+00  1.91126983e-01  4.82811186e-01  6.58611541e-01\n",
      "  1.38483477e+00  1.41240185e-02 -2.28618505e+00  1.49036747e-01\n",
      " -4.06504340e-01  1.32034790e+00 -2.37254738e-01 -2.30627738e-01\n",
      "  1.35172574e-01 -1.23525282e+00  3.48189245e-01 -6.11237969e-01\n",
      "  1.51672736e+00  1.02833135e+00  7.59853617e-01 -5.33157645e-01\n",
      "  8.58081124e-01 -1.88165767e+00  3.48615804e-01  6.58800593e-01\n",
      "  1.71875487e+00  6.90471335e-01  1.50938909e-01  7.46533989e-01\n",
      "  3.30214659e-01  2.00048677e-01 -6.15071876e-01 -3.07000556e-01\n",
      " -1.10085539e+00 -7.72969225e-01  2.47078279e+00  4.57676713e-01\n",
      " -7.11650484e-03 -9.45367971e-02 -8.52978164e-02 -8.37432555e-01\n",
      "  4.56011921e-01  6.07758269e-01 -1.57808972e-02 -4.17066577e-01\n",
      "  7.33341576e-02  1.11953541e+00  1.07366883e+00  9.76274711e-02\n",
      "  3.66180333e-01  8.73092344e-01  4.61273912e-02 -2.72017534e-02\n",
      " -1.48586932e+00 -2.48105350e+00 -5.01628184e-01  1.16572591e+00\n",
      " -2.42000139e-01  8.56088170e-01  5.60137640e-02 -7.89439676e-01\n",
      "  1.84826850e+00  1.72590921e-01 -1.08926955e+00  1.58789460e+00\n",
      " -8.77800527e-01 -4.27697667e-01 -6.60549101e-01  5.19939092e-01\n",
      "  1.86317337e-01  9.14715841e-01  1.76773323e+00 -3.91618673e-01\n",
      " -1.10017143e-01 -2.65001602e-01  7.35413945e-01 -1.37968139e+00\n",
      "  7.70082364e-01 -2.24428534e-01  6.98452824e-01 -1.61548451e-01\n",
      "  5.95952056e-02 -1.86035879e-01 -1.07527190e-04 -3.90775409e-01\n",
      " -1.57424633e+00  1.89095027e-01  8.05921525e-01  3.22302721e-01\n",
      "  6.24174821e-01 -1.10190213e+00 -6.43759836e-01  1.03393606e+00\n",
      " -1.61755890e+00 -9.74283319e-05  5.17960136e-01 -1.28524680e+00\n",
      " -2.36448214e-01 -6.26401000e-01 -4.67488850e-01  1.39001437e+00\n",
      " -1.61109340e+00 -1.60532492e-01 -2.13156463e+00 -1.06328253e+00\n",
      " -5.88151122e-01  1.18790474e-01 -3.95251589e-01  5.11073458e-01\n",
      "  1.05669506e+00 -6.40970365e-01 -2.02335720e-01  3.77534835e-01\n",
      " -3.25270198e-01  8.82416161e-01 -1.26352337e+00 -3.38411836e-01\n",
      " -5.22164949e-01 -7.12330262e-01  7.22878585e-01 -2.01879648e+00\n",
      "  6.93038260e-01  9.68195594e-02  1.13010425e+00 -9.31072626e-01\n",
      " -1.74172841e+00 -1.27443157e+00 -8.73525458e-01  9.09947527e-01\n",
      " -9.18899537e-01 -1.03782300e+00  7.86404991e-02 -2.61299896e-01\n",
      "  1.70554014e-01  6.78539031e-01  1.00164751e-01 -9.55359365e-01\n",
      "  7.87347281e-01  7.33762392e-02  1.32617560e+00 -8.69368236e-01\n",
      "  3.19664516e-01  1.13045566e+00 -1.44013527e+00 -5.69010260e-01\n",
      " -5.21835317e-01 -1.33487039e+00 -8.19845687e-01  4.41238921e-03\n",
      "  3.26957185e-01  2.93788850e-01  2.81558984e-01  4.02440401e-01\n",
      "  3.12715987e-02  1.84143324e-01  5.73518377e-01  5.39345089e-01\n",
      "  8.43033690e-04  3.19457556e-01  1.18631892e+00 -3.21472402e+00\n",
      "  1.00810463e+00 -4.76914405e-01 -1.43185712e-01 -7.51250978e-01\n",
      " -1.00011604e+00 -2.81781440e-01  4.39647700e-01  1.88867480e+00\n",
      "  1.15110771e+00 -3.19599478e-01  4.48497388e-01  2.64704974e-01\n",
      "  4.28272848e-01  7.51454250e-01  4.36935521e-01  1.09268308e+00\n",
      "  2.28845777e+00 -3.03090207e-02  9.69630085e-01  6.46639632e-01\n",
      "  2.22007061e-01  1.62030402e+00  8.69321608e-01  3.70467983e-01\n",
      "  1.30011918e+00 -7.94541305e-02 -1.63549457e+00 -1.74215468e-01\n",
      " -5.42219825e-01  7.31935092e-01 -1.36142574e-01 -9.23934427e-01\n",
      " -1.20506080e+00 -2.81803582e-01 -2.76408684e-01  1.38736917e+00\n",
      "  3.02790898e-01  4.69266527e-02 -7.69991032e-01  1.55548555e+00\n",
      " -6.43358653e-01  8.61067092e-01  1.15207109e+00 -1.39071216e+00]\n"
     ]
    }
   ],
   "source": [
    "print(stock_day_change[0].shape)\n",
    "print(stock_day_change[0])\n",
    "# 先列,后行"
   ]
  },
  {
   "cell_type": "code",
   "execution_count": 13,
   "metadata": {},
   "outputs": [
    {
     "data": {
      "text/plain": [
       "(200, 504)"
      ]
     },
     "execution_count": 13,
     "metadata": {},
     "output_type": "execute_result"
    }
   ],
   "source": [
    "stock_day_change.shape"
   ]
  },
  {
   "cell_type": "code",
   "execution_count": 14,
   "metadata": {},
   "outputs": [
    {
     "data": {
      "text/plain": [
       "array([[-0.9098037 , -1.54885442,  1.32904487, -1.35452603,  0.51612396],\n",
       "       [-0.68343009,  0.01312945, -1.76523839, -0.25005641, -0.6869153 ]])"
      ]
     },
     "execution_count": 14,
     "metadata": {},
     "output_type": "execute_result"
    }
   ],
   "source": [
    "stock_day_change[:2, :5]"
   ]
  },
  {
   "cell_type": "code",
   "execution_count": 15,
   "metadata": {},
   "outputs": [
    {
     "data": {
      "text/plain": [
       "array([[-1.45246545,  0.80387848, -0.75496915, -1.38238816,  0.62906357],\n",
       "       [ 1.23543977,  1.16422578,  0.29082106,  0.26775417,  1.19775311]])"
      ]
     },
     "execution_count": 15,
     "metadata": {},
     "output_type": "execute_result"
    }
   ],
   "source": [
    "stock_day_change[-2:, -5:]"
   ]
  },
  {
   "cell_type": "code",
   "execution_count": 20,
   "metadata": {
    "scrolled": true
   },
   "outputs": [
    {
     "name": "stdout",
     "output_type": "stream",
     "text": [
      "[[-1  0  0 -1]\n",
      " [ 1  1  0  0]\n",
      " [ 0  1  0  2]]\n"
     ]
    }
   ],
   "source": [
    "# 3.1.4 数据转换&规整\n",
    "stock_day_change = stock_day_change.astype(int)\n",
    "print(stock_day_change[:3, :4])"
   ]
  },
  {
   "cell_type": "code",
   "execution_count": 21,
   "metadata": {},
   "outputs": [
    {
     "data": {
      "text/plain": [
       "array([[-1,  0],\n",
       "       [ 1,  1]])"
      ]
     },
     "execution_count": 21,
     "metadata": {},
     "output_type": "execute_result"
    }
   ],
   "source": [
    "a = stock_day_change[:2, :2]\n",
    "a"
   ]
  },
  {
   "cell_type": "code",
   "execution_count": 24,
   "metadata": {},
   "outputs": [
    {
     "data": {
      "text/plain": [
       "array([[-1.,  0.],\n",
       "       [ 1.,  1.]])"
      ]
     },
     "execution_count": 24,
     "metadata": {},
     "output_type": "execute_result"
    }
   ],
   "source": [
    "a = a.astype(float)\n",
    "a"
   ]
  },
  {
   "cell_type": "code",
   "execution_count": 25,
   "metadata": {},
   "outputs": [
    {
     "data": {
      "text/plain": [
       "array([[nan,  0.],\n",
       "       [ 1.,  1.]])"
      ]
     },
     "execution_count": 25,
     "metadata": {},
     "output_type": "execute_result"
    }
   ],
   "source": [
    "\"\"\"\n",
    "注意,np.nan是float类型,想用np.nan,必须先转化成float\n",
    "\"\"\"\n",
    "a[0][0] = np.nan\n",
    "a"
   ]
  },
  {
   "cell_type": "code",
   "execution_count": 26,
   "metadata": {},
   "outputs": [
    {
     "data": {
      "text/plain": [
       "array([[0., 0.],\n",
       "       [1., 1.]])"
      ]
     },
     "execution_count": 26,
     "metadata": {},
     "output_type": "execute_result"
    }
   ],
   "source": [
    "# np.nan_to_num,将nan转化为整数\n",
    "b = np.nan_to_num(a)\n",
    "b"
   ]
  },
  {
   "cell_type": "code",
   "execution_count": 27,
   "metadata": {},
   "outputs": [
    {
     "data": {
      "text/plain": [
       "array([[-0.16681533,  0.28601307, -0.424953  , -1.18197742],\n",
       "       [-1.47060741,  0.02820228, -1.588368  ,  0.42147288],\n",
       "       [-0.11807829, -1.65873881, -0.65378579, -1.12616257]])"
      ]
     },
     "execution_count": 27,
     "metadata": {},
     "output_type": "execute_result"
    }
   ],
   "source": [
    "\"\"\"\n",
    "另起一个\n",
    "\"\"\"\n",
    "stock_day_change2 = np.random.standard_normal((stock_cnt, view_days))\n",
    "b = stock_day_change2[:3, :4]\n",
    "b"
   ]
  },
  {
   "cell_type": "code",
   "execution_count": 28,
   "metadata": {},
   "outputs": [
    {
     "data": {
      "text/plain": [
       "array([[-0.17,  0.29, -0.42, -1.18],\n",
       "       [-1.47,  0.03, -1.59,  0.42],\n",
       "       [-0.12, -1.66, -0.65, -1.13]])"
      ]
     },
     "execution_count": 28,
     "metadata": {},
     "output_type": "execute_result"
    }
   ],
   "source": [
    "b = np.round(b, 2)\n",
    "b"
   ]
  },
  {
   "cell_type": "code",
   "execution_count": 30,
   "metadata": {},
   "outputs": [
    {
     "data": {
      "text/plain": [
       "array([[False,  True, False, False],\n",
       "       [False, False, False,  True],\n",
       "       [False, False, False, False]])"
      ]
     },
     "execution_count": 30,
     "metadata": {},
     "output_type": "execute_result"
    }
   ],
   "source": [
    "c = b > 0.05\n",
    "c"
   ]
  },
  {
   "cell_type": "code",
   "execution_count": 33,
   "metadata": {},
   "outputs": [
    {
     "data": {
      "text/plain": [
       "array([0.29, 0.42])"
      ]
     },
     "execution_count": 33,
     "metadata": {},
     "output_type": "execute_result"
    }
   ],
   "source": [
    "d = b.copy()\n",
    "d[c]"
   ]
  },
  {
   "cell_type": "code",
   "execution_count": 36,
   "metadata": {
    "scrolled": true
   },
   "outputs": [
    {
     "data": {
      "text/plain": [
       "array([[-0.17, 11.  , -0.42, -1.18],\n",
       "       [-1.47,  0.03, -1.59, 11.  ],\n",
       "       [-0.12, -1.66, -0.65, -1.13]])"
      ]
     },
     "execution_count": 36,
     "metadata": {},
     "output_type": "execute_result"
    }
   ],
   "source": [
    "b[b>0.03] = 11\n",
    "b"
   ]
  },
  {
   "cell_type": "code",
   "execution_count": 39,
   "metadata": {},
   "outputs": [
    {
     "data": {
      "text/plain": [
       "array([-0.17, 11.  , -0.42, -1.18, -1.47,  0.03, -1.59, 11.  , -0.12,\n",
       "       -1.66, -0.65, -1.13])"
      ]
     },
     "execution_count": 39,
     "metadata": {},
     "output_type": "execute_result"
    }
   ],
   "source": [
    "b[(b>0.01)|(b<-0.01)]"
   ]
  },
  {
   "cell_type": "code",
   "execution_count": 40,
   "metadata": {},
   "outputs": [
    {
     "data": {
      "text/plain": [
       "array([[-0.17, 11.  , -0.42, -1.18],\n",
       "       [-1.47,  0.03, -1.59, 11.  ],\n",
       "       [-0.12, -1.66, -0.65, -1.13]])"
      ]
     },
     "execution_count": 40,
     "metadata": {},
     "output_type": "execute_result"
    }
   ],
   "source": [
    "b"
   ]
  },
  {
   "cell_type": "code",
   "execution_count": 41,
   "metadata": {
    "scrolled": true
   },
   "outputs": [
    {
     "name": "stderr",
     "output_type": "stream",
     "text": [
      "<ipython-input-41-d3082a5f3b1a>:1: FutureWarning: Using a non-tuple sequence for multidimensional indexing is deprecated; use `arr[tuple(seq)]` instead of `arr[seq]`. In the future this will be interpreted as an array index, `arr[np.array(seq)]`, which will result either in an error or a different result.\n",
      "  b[[(b>0.01)|(b<-0.01)]]\n"
     ]
    },
    {
     "data": {
      "text/plain": [
       "array([-0.17, 11.  , -0.42, -1.18, -1.47,  0.03, -1.59, 11.  , -0.12,\n",
       "       -1.66, -0.65, -1.13])"
      ]
     },
     "execution_count": 41,
     "metadata": {},
     "output_type": "execute_result"
    }
   ],
   "source": [
    "\"\"\"\n",
    "boolean\n",
    "np.all,全部满足条件\n",
    "np.any,任意一个满足条件\n",
    "np.maximum,两两比较,取大;minimum取小\n",
    "\"\"\""
   ]
  },
  {
   "cell_type": "code",
   "execution_count": 47,
   "metadata": {},
   "outputs": [
    {
     "data": {
      "text/plain": [
       "array([-0.17, 11.  , -0.42, 11.  ])"
      ]
     },
     "execution_count": 47,
     "metadata": {},
     "output_type": "execute_result"
    }
   ],
   "source": [
    "np.maximum(b[0], b[1])"
   ]
  },
  {
   "cell_type": "code",
   "execution_count": 48,
   "metadata": {},
   "outputs": [
    {
     "data": {
      "text/plain": [
       "array([[ 0, 11,  0, -1],\n",
       "       [-1,  0, -1, 11]])"
      ]
     },
     "execution_count": 48,
     "metadata": {},
     "output_type": "execute_result"
    }
   ],
   "source": [
    "change = b[0:2, 0:5].astype(int)\n",
    "change"
   ]
  },
  {
   "cell_type": "code",
   "execution_count": 50,
   "metadata": {},
   "outputs": [
    {
     "name": "stdout",
     "output_type": "stream",
     "text": [
      "[[-0.16681533  0.28601307 -0.424953   -1.18197742  1.1864785 ]\n",
      " [-1.47060741  0.02820228 -1.588368    0.42147288 -0.71160231]]\n",
      "[[-1.81861658 -0.23995861 -1.25165344 -0.74807626 -1.24468844]\n",
      " [ 2.3336319  -0.0818341  -2.15233954 -0.47951138  0.32722775]]\n",
      "[[ 0.45282841 -0.71096608 -0.75702441  2.36845592]\n",
      " [ 1.49880969 -1.61657028  2.00984088 -1.13307519]]\n"
     ]
    }
   ],
   "source": [
    "# np.diff,求差;前后两个临近数值进行减法运算\n",
    "a = stock_day_change2[0:2, 0:5]\n",
    "b = stock_day_change2[-2:, -5:]\n",
    "print(a)\n",
    "print(b)\n",
    "print(np.diff(a))"
   ]
  },
  {
   "cell_type": "code",
   "execution_count": 52,
   "metadata": {
    "scrolled": true
   },
   "outputs": [
    {
     "name": "stdout",
     "output_type": "stream",
     "text": [
      "[[-1.30379208 -0.25781079 -1.16341499  1.6034503  -1.89808081]]\n"
     ]
    }
   ],
   "source": [
    "print(np.diff(a, axis = 0))"
   ]
  },
  {
   "cell_type": "code",
   "execution_count": null,
   "metadata": {},
   "outputs": [],
   "source": [
    "#np.where,数据筛选,改造中有很大作用\n",
    "#np.where,类似三目运算,第一个是条件表达式,if成立,第二个表达式,反之第三个表达式"
   ]
  },
  {
   "cell_type": "code",
   "execution_count": 53,
   "metadata": {},
   "outputs": [],
   "source": [
    "c = np.where(b > 0.05, 1, -1)"
   ]
  },
  {
   "cell_type": "code",
   "execution_count": 54,
   "metadata": {},
   "outputs": [
    {
     "data": {
      "text/plain": [
       "array([[-1, -1, -1, -1, -1],\n",
       "       [ 1, -1, -1, -1,  1]])"
      ]
     },
     "execution_count": 54,
     "metadata": {},
     "output_type": "execute_result"
    }
   ],
   "source": [
    "c"
   ]
  },
  {
   "cell_type": "code",
   "execution_count": null,
   "metadata": {},
   "outputs": [],
   "source": [
    "\"\"\"\n",
    "np.logical_and, np.logical_or,逻辑与,逻辑或\n",
    "\"\"\""
   ]
  },
  {
   "cell_type": "code",
   "execution_count": null,
   "metadata": {},
   "outputs": [],
   "source": [
    "# 3.1.7 数据本地序列化操作\n",
    "# np.save,持久化保存;np.load,加载"
   ]
  },
  {
   "cell_type": "code",
   "execution_count": null,
   "metadata": {},
   "outputs": [],
   "source": [
    "\"\"\"\n",
    "3.2 基础统计概念与函数\n",
    "\"\"\""
   ]
  },
  {
   "cell_type": "code",
   "execution_count": 56,
   "metadata": {},
   "outputs": [
    {
     "data": {
      "text/plain": [
       "array([[-0.17,  0.29, -0.42, -1.18],\n",
       "       [-1.47,  0.03, -1.59,  0.42],\n",
       "       [-0.12, -1.66, -0.65, -1.13],\n",
       "       [-0.59, -0.42,  1.11,  1.29]])"
      ]
     },
     "execution_count": 56,
     "metadata": {},
     "output_type": "execute_result"
    }
   ],
   "source": [
    "four = np.round(stock_day_change2[:4, :4], 2)\n",
    "four"
   ]
  },
  {
   "cell_type": "code",
   "execution_count": 57,
   "metadata": {
    "scrolled": true
   },
   "outputs": [
    {
     "data": {
      "text/plain": [
       "array([ 0.29,  0.42, -0.12,  1.29])"
      ]
     },
     "execution_count": 57,
     "metadata": {},
     "output_type": "execute_result"
    }
   ],
   "source": [
    "np.max(four, axis = 1)"
   ]
  },
  {
   "cell_type": "code",
   "execution_count": 58,
   "metadata": {},
   "outputs": [
    {
     "data": {
      "text/plain": [
       "array([1, 3, 0, 3], dtype=int64)"
      ]
     },
     "execution_count": 58,
     "metadata": {},
     "output_type": "execute_result"
    }
   ],
   "source": [
    "np.argmax(four, axis = 1)"
   ]
  },
  {
   "cell_type": "code",
   "execution_count": 59,
   "metadata": {},
   "outputs": [
    {
     "data": {
      "text/plain": [
       "0.7493109375"
      ]
     },
     "execution_count": 59,
     "metadata": {},
     "output_type": "execute_result"
    }
   ],
   "source": [
    "# 方差;衡量数据离散程度\n",
    "# 标准差,方差的算术平方根\n",
    "np.var(four)"
   ]
  },
  {
   "cell_type": "code",
   "execution_count": 60,
   "metadata": {
    "scrolled": true
   },
   "outputs": [
    {
     "data": {
      "text/plain": [
       "0.8656274819459003"
      ]
     },
     "execution_count": 60,
     "metadata": {},
     "output_type": "execute_result"
    }
   ],
   "source": [
    "np.std(four)"
   ]
  },
  {
   "cell_type": "code",
   "execution_count": 62,
   "metadata": {},
   "outputs": [
    {
     "name": "stdout",
     "output_type": "stream",
     "text": [
      "(100, 1)\n",
      "\n",
      "\n",
      "(100, 1)\n"
     ]
    }
   ],
   "source": [
    "a = np.random.normal(loc = 100, scale = 50, size = (100, 1))\n",
    "b = np.random.normal(loc = 100, scale = 20, size = (100, 1))\n",
    "print(a.shape)\n",
    "print('\\n')\n",
    "print(b.shape)"
   ]
  },
  {
   "cell_type": "code",
   "execution_count": 63,
   "metadata": {},
   "outputs": [
    {
     "name": "stdout",
     "output_type": "stream",
     "text": [
      "109.47698384710499 2858.99344422136 53.46955623737081\n"
     ]
    }
   ],
   "source": [
    "import matplotlib.pyplot as plt\n",
    "a_mean = a.mean()\n",
    "a_var = a.var()\n",
    "a_std = a.std()\n",
    "\n",
    "print(a_mean, a_var, a_std)"
   ]
  },
  {
   "cell_type": "code",
   "execution_count": 64,
   "metadata": {},
   "outputs": [
    {
     "name": "stdout",
     "output_type": "stream",
     "text": [
      "101.94391564380948 286.9846583491497 16.9406215455381\n"
     ]
    }
   ],
   "source": [
    "b_mean = b.mean()\n",
    "b_var = b.var()\n",
    "b_std = b.std()\n",
    "print(b_mean, b_var, b_std)"
   ]
  },
  {
   "cell_type": "code",
   "execution_count": 66,
   "metadata": {},
   "outputs": [],
   "source": [
    "%matplotlib inline"
   ]
  },
  {
   "cell_type": "code",
   "execution_count": 67,
   "metadata": {},
   "outputs": [
    {
     "data": {
      "text/plain": [
       "<matplotlib.lines.Line2D at 0x1ea105dad30>"
      ]
     },
     "execution_count": 67,
     "metadata": {},
     "output_type": "execute_result"
    },
    {
     "data": {
      "image/png": "[encoded data removed]",
      "text/plain": [
       "<Figure size 432x288 with 1 Axes>"
      ]
     },
     "metadata": {
      "needs_background": "light"
     },
     "output_type": "display_data"
    }
   ],
   "source": [
    "# 收益绘制的曲线\n",
    "plt.plot(a)\n",
    "# 平均值+标准差=上线\n",
    "plt.axhline(a_mean + a_std, color = 'r')\n",
    "# 均值\n",
    "plt.axhline(a_mean, color = 'y')\n",
    "# 平均值-标准差=下线\n",
    "plt.axhline(a_mean - a_std, color = 'g')"
   ]
  },
  {
   "cell_type": "code",
   "execution_count": 72,
   "metadata": {},
   "outputs": [
    {
     "data": {
      "text/plain": [
       "[<matplotlib.lines.Line2D at 0x1ea1ab31e50>]"
      ]
     },
     "execution_count": 72,
     "metadata": {},
     "output_type": "execute_result"
    },
    {
     "data": {
      "image/png": "[encoded data removed]",
      "text/plain": [
       "<Figure size 432x288 with 1 Axes>"
      ]
     },
     "metadata": {
      "needs_background": "light"
     },
     "output_type": "display_data"
    }
   ],
   "source": [
    "import scipy.stats as scs\n",
    "# 均值期望\n",
    "stock_mean = stock_day_change2[0].mean()\n",
    "stock_std = stock_day_change2[0].std()\n",
    "# 直方图\n",
    "plt.hist(stock_day_change2[0], bins = 50b)\n",
    "# linspace\n",
    "fit_linspace = np.linspace(stock_day_change2[0].min(), stock_day_change2[0].max())\n",
    "# 概率密度,probability density function,均值,方差描述曲线,用scipy.stats.norm.pdf生成拟合曲线\n",
    "pdf = scs.norm(stock_mean, stock_std).pdf(fit_linspace)\n",
    "plt.plot(fit_linspace, pdf, lw = 2, c = 'r')"
   ]
  },
  {
   "cell_type": "code",
   "execution_count": 73,
   "metadata": {
    "scrolled": true
   },
   "outputs": [
    {
     "data": {
      "text/plain": [
       "array([0.01772458, 0.0231234 , 0.02981187, 0.03798289, 0.04782428,\n",
       "       0.05950731, 0.07317348, 0.08891982, 0.10678369, 0.12672806,\n",
       "       0.14862851, 0.17226339, 0.19730828, 0.22333621, 0.24982418,\n",
       "       0.27616669, 0.30169604, 0.32570874, 0.34749673, 0.36638148,\n",
       "       0.38174891, 0.39308239, 0.39999159, 0.40223479, 0.3997329 ,\n",
       "       0.39257411, 0.38100871, 0.36543459, 0.34637449, 0.3244469 ,\n",
       "       0.30033286, 0.27474106, 0.24837381, 0.22189601, 0.19590914,\n",
       "       0.17093122, 0.14738375, 0.12558544, 0.10575245, 0.08800414,\n",
       "       0.07237312, 0.05881837, 0.04724002, 0.0374946 , 0.02940958,\n",
       "       0.02279662, 0.01746279, 0.0132196 , 0.00988973, 0.00731159])"
      ]
     },
     "execution_count": 73,
     "metadata": {},
     "output_type": "execute_result"
    }
   ],
   "source": [
    "pdf"
   ]
  },
  {
   "cell_type": "code",
   "execution_count": 74,
   "metadata": {},
   "outputs": [
    {
     "data": {
      "text/plain": [
       "9.201944962136565"
      ]
     },
     "execution_count": 74,
     "metadata": {},
     "output_type": "execute_result"
    }
   ],
   "source": [
    "pdf.sum()"
   ]
  }
 ],
 "metadata": {
  "kernelspec": {
   "display_name": "Python 3",
   "language": "python",
   "name": "python3"
  },
  "language_info": {
   "codemirror_mode": {
    "name": "ipython",
    "version": 3
   },
   "file_extension": ".py",
   "mimetype": "text/x-python",
   "name": "python",
   "nbconvert_exporter": "python",
   "pygments_lexer": "ipython3",
   "version": "3.8.3"
  }
 },
 "nbformat": 4,
 "nbformat_minor": 4
}
