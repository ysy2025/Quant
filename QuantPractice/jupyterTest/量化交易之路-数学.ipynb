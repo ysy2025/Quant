{
 "cells": [
  {
   "cell_type": "code",
   "execution_count": 1,
   "metadata": {},
   "outputs": [
    {
     "name": "stderr",
     "output_type": "stream",
     "text": [
      "C:\\Users\\yangsy-c\\Anaconda3\\lib\\importlib\\_bootstrap.py:219: RuntimeWarning: numpy.ufunc size changed, may indicate binary incompatibility. Expected 192 from C header, got 216 from PyObject\n",
      "  return f(*args, **kwds)\n",
      "C:\\Users\\yangsy-c\\Anaconda3\\lib\\importlib\\_bootstrap.py:219: RuntimeWarning: numpy.ufunc size changed, may indicate binary incompatibility. Expected 192 from C header, got 216 from PyObject\n",
      "  return f(*args, **kwds)\n"
     ]
    },
    {
     "name": "stdout",
     "output_type": "stream",
     "text": [
      "login success!\n",
      "login respond error_code:0\n",
      "login respond  error_msg:success\n",
      "         date       code      open      high       low     close  preclose  \\\n",
      "0  2018-01-02  sh.600519  700.0000  710.1600  689.8900  703.8500  697.4900   \n",
      "1  2018-01-03  sh.600519  701.5000  721.4000  699.7400  715.8600  703.8500   \n",
      "2  2018-01-04  sh.600519  721.4000  743.5000  719.3300  737.0700  715.8600   \n",
      "3  2018-01-05  sh.600519  741.0000  746.0300  728.2200  738.3600  737.0700   \n",
      "4  2018-01-08  sh.600519  735.0200  756.5000  735.0200  752.1300  738.3600   \n",
      "\n",
      "    volume           amount      turn    pctChg      peTTM      pbMRQ  \\\n",
      "0  4961248  3482407646.0000  0.394942  0.911839  36.480928  10.481447   \n",
      "1  5201941  3713523701.0000  0.414102  1.706331  37.103413  10.660295   \n",
      "2  7220508  5309890210.0000  0.574791  2.962873  38.202738  10.976145   \n",
      "3  3998907  2946493013.0000  0.318334  0.175014  38.269600  10.995356   \n",
      "4  5220456  3899951720.0000  0.415576  1.864947  38.983306  11.200413   \n",
      "\n",
      "       psTTM  pcfNcfTTM  \n",
      "0  15.482036  50.003406  \n",
      "1  15.746211  50.856629  \n",
      "2  16.212751  52.363444  \n",
      "3  16.241126  52.455090  \n",
      "4  16.544014  53.433348  \n",
      "<class 'pandas.core.frame.DataFrame'>\n",
      "RangeIndex: 849 entries, 0 to 848\n",
      "Data columns (total 15 columns):\n",
      " #   Column     Non-Null Count  Dtype         \n",
      "---  ------     --------------  -----         \n",
      " 0   date       849 non-null    datetime64[ns]\n",
      " 1   code       849 non-null    string        \n",
      " 2   open       849 non-null    float64       \n",
      " 3   high       849 non-null    float64       \n",
      " 4   low        849 non-null    float64       \n",
      " 5   close      849 non-null    float64       \n",
      " 6   preclose   849 non-null    float64       \n",
      " 7   volume     849 non-null    float64       \n",
      " 8   amount     849 non-null    float64       \n",
      " 9   turn       849 non-null    float64       \n",
      " 10  pctChg     849 non-null    float64       \n",
      " 11  peTTM      849 non-null    float64       \n",
      " 12  pbMRQ      849 non-null    float64       \n",
      " 13  psTTM      849 non-null    float64       \n",
      " 14  pcfNcfTTM  849 non-null    float64       \n",
      "dtypes: datetime64[ns](1), float64(13), string(1)\n",
      "memory usage: 99.6 KB\n",
      "None\n"
     ]
    }
   ],
   "source": [
    "# 6.1.3 插值\n",
    "from scipy.interpolate import interp1d, splrep, splev\n",
    "import numpy as np\n",
    "import pandas as pd\n",
    "import matplotlib.pyplot as plt\n",
    "import baostock as bs\n",
    "#### 登陆系统 ####\n",
    "lg = bs.login()\n",
    "# 显示登陆返回信息\n",
    "print('login respond error_code:' + lg.error_code)\n",
    "print('login respond  error_msg:' + lg.error_msg)\n",
    "# 获取茅台的收盘价\n",
    "maotai = bs.query_history_k_data_plus(\"sh.600519\",\"date,code,open,high,low,close,preclose,volume,amount,turn,pctChg,peTTM,pbMRQ,psTTM,pcfNcfTTM\", start_date='2018-01-01', end_date='2021-12-31',frequency=\"d\", adjustflag=\"3\")\n",
    "data_list = []\n",
    "while (maotai.error_code == '0') & maotai.next():\n",
    "    # 获取一条记录，将记录合并在一起\n",
    "    data_list.append(maotai.get_row_data())\n",
    "mt = pd.DataFrame(data_list, columns=maotai.fields)\n",
    "print(mt.head(5))\n",
    "mt['date'] = pd.to_datetime(mt['date'], format = '%Y-%m-%d')\n",
    "mt['code'] = mt['code'].astype('string')\n",
    "for each in ['open', 'high', 'low', 'close', 'preclose', 'volume', 'amount', 'turn', 'pctChg', 'peTTM', 'pbMRQ', 'psTTM', 'pcfNcfTTM']:\n",
    "    mt[each] = mt[each].astype('float')\n",
    "print(mt.info())"
   ]
  },
  {
   "cell_type": "code",
   "execution_count": 2,
   "metadata": {},
   "outputs": [],
   "source": [
    "x = mt.date[:30]\n",
    "y = mt.close[:30]"
   ]
  },
  {
   "cell_type": "code",
   "execution_count": 3,
   "metadata": {},
   "outputs": [
    {
     "name": "stdout",
     "output_type": "stream",
     "text": [
      "0    2018-01-02\n",
      "1    2018-01-03\n",
      "2    2018-01-04\n",
      "3    2018-01-05\n",
      "4    2018-01-08\n",
      "5    2018-01-09\n",
      "6    2018-01-10\n",
      "7    2018-01-11\n",
      "8    2018-01-12\n",
      "9    2018-01-15\n",
      "10   2018-01-16\n",
      "11   2018-01-17\n",
      "12   2018-01-18\n",
      "13   2018-01-19\n",
      "14   2018-01-22\n",
      "15   2018-01-23\n",
      "16   2018-01-24\n",
      "17   2018-01-25\n",
      "18   2018-01-26\n",
      "19   2018-01-29\n",
      "20   2018-01-30\n",
      "21   2018-01-31\n",
      "22   2018-02-01\n",
      "23   2018-02-02\n",
      "24   2018-02-05\n",
      "25   2018-02-06\n",
      "26   2018-02-07\n",
      "27   2018-02-08\n",
      "28   2018-02-09\n",
      "29   2018-02-12\n",
      "Name: date, dtype: datetime64[ns] 0     703.85\n",
      "1     715.86\n",
      "2     737.07\n",
      "3     738.36\n",
      "4     752.13\n",
      "5     782.52\n",
      "6     785.71\n",
      "7     774.81\n",
      "8     788.42\n",
      "9     785.37\n",
      "10    772.94\n",
      "11    747.93\n",
      "12    750.74\n",
      "13    750.18\n",
      "14    773.64\n",
      "15    773.78\n",
      "16    764.46\n",
      "17    769.16\n",
      "18    777.22\n",
      "19    736.32\n",
      "20    742.08\n",
      "21    764.54\n",
      "22    757.73\n",
      "23    740.40\n",
      "24    718.23\n",
      "25    708.86\n",
      "26    683.43\n",
      "27    700.99\n",
      "28    683.43\n",
      "29    697.48\n",
      "Name: close, dtype: float64\n"
     ]
    }
   ],
   "source": [
    "print(x, y)"
   ]
  },
  {
   "cell_type": "code",
   "execution_count": 23,
   "metadata": {},
   "outputs": [
    {
     "ename": "ValueError",
     "evalue": "x and y must have same first dimension, but have shapes (30,) and (34,)",
     "output_type": "error",
     "traceback": [
      "\u001b[1;31m---------------------------------------------------------------------------\u001b[0m",
      "\u001b[1;31mValueError\u001b[0m                                Traceback (most recent call last)",
      "\u001b[1;32m<ipython-input-23-f331e040c1da>\u001b[0m in \u001b[0;36m<module>\u001b[1;34m\u001b[0m\n\u001b[0;32m     12\u001b[0m \u001b[0msplrep_interp\u001b[0m \u001b[1;33m=\u001b[0m \u001b[0msplrep\u001b[0m\u001b[1;33m(\u001b[0m\u001b[0mx\u001b[0m\u001b[1;33m,\u001b[0m \u001b[0my\u001b[0m\u001b[1;33m)\u001b[0m\u001b[1;33m\u001b[0m\u001b[1;33m\u001b[0m\u001b[0m\n\u001b[0;32m     13\u001b[0m \u001b[0maxs\u001b[0m\u001b[1;33m[\u001b[0m\u001b[1;36m1\u001b[0m\u001b[1;33m]\u001b[0m\u001b[1;33m.\u001b[0m\u001b[0mset_title\u001b[0m\u001b[1;33m(\u001b[0m\u001b[1;34m\"bspine\"\u001b[0m\u001b[1;33m)\u001b[0m\u001b[1;33m\u001b[0m\u001b[1;33m\u001b[0m\u001b[0m\n\u001b[1;32m---> 14\u001b[1;33m \u001b[0maxs\u001b[0m\u001b[1;33m[\u001b[0m\u001b[1;36m1\u001b[0m\u001b[1;33m]\u001b[0m\u001b[1;33m.\u001b[0m\u001b[0mplot\u001b[0m\u001b[1;33m(\u001b[0m\u001b[0mx\u001b[0m\u001b[1;33m,\u001b[0m \u001b[0my\u001b[0m\u001b[1;33m,\u001b[0m \u001b[1;34m''\u001b[0m\u001b[1;33m,\u001b[0m \u001b[0mx\u001b[0m\u001b[1;33m,\u001b[0m \u001b[0msplrep_interp\u001b[0m\u001b[1;33m[\u001b[0m\u001b[1;36m1\u001b[0m\u001b[1;33m]\u001b[0m\u001b[1;33m,\u001b[0m \u001b[1;34m'g.'\u001b[0m\u001b[1;33m)\u001b[0m\u001b[1;33m\u001b[0m\u001b[1;33m\u001b[0m\u001b[0m\n\u001b[0m",
      "\u001b[1;32m~\\Anaconda3\\lib\\site-packages\\matplotlib\\axes\\_axes.py\u001b[0m in \u001b[0;36mplot\u001b[1;34m(self, scalex, scaley, data, *args, **kwargs)\u001b[0m\n\u001b[0;32m   1663\u001b[0m         \"\"\"\n\u001b[0;32m   1664\u001b[0m         \u001b[0mkwargs\u001b[0m \u001b[1;33m=\u001b[0m \u001b[0mcbook\u001b[0m\u001b[1;33m.\u001b[0m\u001b[0mnormalize_kwargs\u001b[0m\u001b[1;33m(\u001b[0m\u001b[0mkwargs\u001b[0m\u001b[1;33m,\u001b[0m \u001b[0mmlines\u001b[0m\u001b[1;33m.\u001b[0m\u001b[0mLine2D\u001b[0m\u001b[1;33m.\u001b[0m\u001b[0m_alias_map\u001b[0m\u001b[1;33m)\u001b[0m\u001b[1;33m\u001b[0m\u001b[1;33m\u001b[0m\u001b[0m\n\u001b[1;32m-> 1665\u001b[1;33m         \u001b[0mlines\u001b[0m \u001b[1;33m=\u001b[0m \u001b[1;33m[\u001b[0m\u001b[1;33m*\u001b[0m\u001b[0mself\u001b[0m\u001b[1;33m.\u001b[0m\u001b[0m_get_lines\u001b[0m\u001b[1;33m(\u001b[0m\u001b[1;33m*\u001b[0m\u001b[0margs\u001b[0m\u001b[1;33m,\u001b[0m \u001b[0mdata\u001b[0m\u001b[1;33m=\u001b[0m\u001b[0mdata\u001b[0m\u001b[1;33m,\u001b[0m \u001b[1;33m**\u001b[0m\u001b[0mkwargs\u001b[0m\u001b[1;33m)\u001b[0m\u001b[1;33m]\u001b[0m\u001b[1;33m\u001b[0m\u001b[1;33m\u001b[0m\u001b[0m\n\u001b[0m\u001b[0;32m   1666\u001b[0m         \u001b[1;32mfor\u001b[0m \u001b[0mline\u001b[0m \u001b[1;32min\u001b[0m \u001b[0mlines\u001b[0m\u001b[1;33m:\u001b[0m\u001b[1;33m\u001b[0m\u001b[1;33m\u001b[0m\u001b[0m\n\u001b[0;32m   1667\u001b[0m             \u001b[0mself\u001b[0m\u001b[1;33m.\u001b[0m\u001b[0madd_line\u001b[0m\u001b[1;33m(\u001b[0m\u001b[0mline\u001b[0m\u001b[1;33m)\u001b[0m\u001b[1;33m\u001b[0m\u001b[1;33m\u001b[0m\u001b[0m\n",
      "\u001b[1;32m~\\Anaconda3\\lib\\site-packages\\matplotlib\\axes\\_base.py\u001b[0m in \u001b[0;36m__call__\u001b[1;34m(self, *args, **kwargs)\u001b[0m\n\u001b[0;32m    223\u001b[0m                 \u001b[0mthis\u001b[0m \u001b[1;33m+=\u001b[0m \u001b[0margs\u001b[0m\u001b[1;33m[\u001b[0m\u001b[1;36m0\u001b[0m\u001b[1;33m]\u001b[0m\u001b[1;33m,\u001b[0m\u001b[1;33m\u001b[0m\u001b[1;33m\u001b[0m\u001b[0m\n\u001b[0;32m    224\u001b[0m                 \u001b[0margs\u001b[0m \u001b[1;33m=\u001b[0m \u001b[0margs\u001b[0m\u001b[1;33m[\u001b[0m\u001b[1;36m1\u001b[0m\u001b[1;33m:\u001b[0m\u001b[1;33m]\u001b[0m\u001b[1;33m\u001b[0m\u001b[1;33m\u001b[0m\u001b[0m\n\u001b[1;32m--> 225\u001b[1;33m             \u001b[1;32myield\u001b[0m \u001b[1;32mfrom\u001b[0m \u001b[0mself\u001b[0m\u001b[1;33m.\u001b[0m\u001b[0m_plot_args\u001b[0m\u001b[1;33m(\u001b[0m\u001b[0mthis\u001b[0m\u001b[1;33m,\u001b[0m \u001b[0mkwargs\u001b[0m\u001b[1;33m)\u001b[0m\u001b[1;33m\u001b[0m\u001b[1;33m\u001b[0m\u001b[0m\n\u001b[0m\u001b[0;32m    226\u001b[0m \u001b[1;33m\u001b[0m\u001b[0m\n\u001b[0;32m    227\u001b[0m     \u001b[1;32mdef\u001b[0m \u001b[0mget_next_color\u001b[0m\u001b[1;33m(\u001b[0m\u001b[0mself\u001b[0m\u001b[1;33m)\u001b[0m\u001b[1;33m:\u001b[0m\u001b[1;33m\u001b[0m\u001b[1;33m\u001b[0m\u001b[0m\n",
      "\u001b[1;32m~\\Anaconda3\\lib\\site-packages\\matplotlib\\axes\\_base.py\u001b[0m in \u001b[0;36m_plot_args\u001b[1;34m(self, tup, kwargs)\u001b[0m\n\u001b[0;32m    389\u001b[0m             \u001b[0mx\u001b[0m\u001b[1;33m,\u001b[0m \u001b[0my\u001b[0m \u001b[1;33m=\u001b[0m \u001b[0mindex_of\u001b[0m\u001b[1;33m(\u001b[0m\u001b[0mtup\u001b[0m\u001b[1;33m[\u001b[0m\u001b[1;33m-\u001b[0m\u001b[1;36m1\u001b[0m\u001b[1;33m]\u001b[0m\u001b[1;33m)\u001b[0m\u001b[1;33m\u001b[0m\u001b[1;33m\u001b[0m\u001b[0m\n\u001b[0;32m    390\u001b[0m \u001b[1;33m\u001b[0m\u001b[0m\n\u001b[1;32m--> 391\u001b[1;33m         \u001b[0mx\u001b[0m\u001b[1;33m,\u001b[0m \u001b[0my\u001b[0m \u001b[1;33m=\u001b[0m \u001b[0mself\u001b[0m\u001b[1;33m.\u001b[0m\u001b[0m_xy_from_xy\u001b[0m\u001b[1;33m(\u001b[0m\u001b[0mx\u001b[0m\u001b[1;33m,\u001b[0m \u001b[0my\u001b[0m\u001b[1;33m)\u001b[0m\u001b[1;33m\u001b[0m\u001b[1;33m\u001b[0m\u001b[0m\n\u001b[0m\u001b[0;32m    392\u001b[0m \u001b[1;33m\u001b[0m\u001b[0m\n\u001b[0;32m    393\u001b[0m         \u001b[1;32mif\u001b[0m \u001b[0mself\u001b[0m\u001b[1;33m.\u001b[0m\u001b[0mcommand\u001b[0m \u001b[1;33m==\u001b[0m \u001b[1;34m'plot'\u001b[0m\u001b[1;33m:\u001b[0m\u001b[1;33m\u001b[0m\u001b[1;33m\u001b[0m\u001b[0m\n",
      "\u001b[1;32m~\\Anaconda3\\lib\\site-packages\\matplotlib\\axes\\_base.py\u001b[0m in \u001b[0;36m_xy_from_xy\u001b[1;34m(self, x, y)\u001b[0m\n\u001b[0;32m    268\u001b[0m         \u001b[1;32mif\u001b[0m \u001b[0mx\u001b[0m\u001b[1;33m.\u001b[0m\u001b[0mshape\u001b[0m\u001b[1;33m[\u001b[0m\u001b[1;36m0\u001b[0m\u001b[1;33m]\u001b[0m \u001b[1;33m!=\u001b[0m \u001b[0my\u001b[0m\u001b[1;33m.\u001b[0m\u001b[0mshape\u001b[0m\u001b[1;33m[\u001b[0m\u001b[1;36m0\u001b[0m\u001b[1;33m]\u001b[0m\u001b[1;33m:\u001b[0m\u001b[1;33m\u001b[0m\u001b[1;33m\u001b[0m\u001b[0m\n\u001b[0;32m    269\u001b[0m             raise ValueError(\"x and y must have same first dimension, but \"\n\u001b[1;32m--> 270\u001b[1;33m                              \"have shapes {} and {}\".format(x.shape, y.shape))\n\u001b[0m\u001b[0;32m    271\u001b[0m         \u001b[1;32mif\u001b[0m \u001b[0mx\u001b[0m\u001b[1;33m.\u001b[0m\u001b[0mndim\u001b[0m \u001b[1;33m>\u001b[0m \u001b[1;36m2\u001b[0m \u001b[1;32mor\u001b[0m \u001b[0my\u001b[0m\u001b[1;33m.\u001b[0m\u001b[0mndim\u001b[0m \u001b[1;33m>\u001b[0m \u001b[1;36m2\u001b[0m\u001b[1;33m:\u001b[0m\u001b[1;33m\u001b[0m\u001b[1;33m\u001b[0m\u001b[0m\n\u001b[0;32m    272\u001b[0m             raise ValueError(\"x and y can be no greater than 2-D, but have \"\n",
      "\u001b[1;31mValueError\u001b[0m: x and y must have same first dimension, but have shapes (30,) and (34,)"
     ]
    },
    {
     "data": {
      "image/png": "[encoded data removed]",
      "text/plain": [
       "<Figure size 1080x504 with 2 Axes>"
      ]
     },
     "metadata": {
      "needs_background": "light"
     },
     "output_type": "display_data"
    }
   ],
   "source": [
    "# 示例\n",
    "_, axs = plt.subplots(nrows=1, ncols=2, figsize = (15, 7))\n",
    "\n",
    "# 线性插值\n",
    "linear_interp = interp1d(x, y)\n",
    "# axs[0]左边\n",
    "axs[0].set_title(\"chazhi\")\n",
    "# 相同坐标系下,同样的x,插值的y用红点绘制\n",
    "axs[0].plot(x, y, '', x, linear_interp.y, 'r.')\n",
    "\n",
    "# B-spline 插值\n",
    "splrep_interp = splrep(x, y)\n",
    "axs[1].set_title(\"bspine\")\n",
    "axs[1].plot(x, y, '', x, splrep_interp[1], 'g.')\n"
   ]
  },
  {
   "cell_type": "code",
   "execution_count": 15,
   "metadata": {
    "scrolled": true
   },
   "outputs": [
    {
     "data": {
      "text/plain": [
       "[<matplotlib.lines.Line2D at 0x1e42760c588>]"
      ]
     },
     "execution_count": 15,
     "metadata": {},
     "output_type": "execute_result"
    },
    {
     "data": {
      "image/png": "[encoded data removed]",
      "text/plain": [
       "<Figure size 432x288 with 1 Axes>"
      ]
     },
     "metadata": {
      "needs_background": "light"
     },
     "output_type": "display_data"
    }
   ],
   "source": [
    "plt.plot(x, linear_interp.y)"
   ]
  },
  {
   "cell_type": "code",
   "execution_count": 22,
   "metadata": {},
   "outputs": [
    {
     "data": {
      "text/plain": [
       "array([703.85      , 699.77629078, 743.42741844, 736.64459928,\n",
       "       720.08146997, 789.46007789, 789.44677532, 767.01282085,\n",
       "       807.59468826, 789.33772979, 778.49200154, 738.67255536,\n",
       "       754.39777704, 744.02870947, 773.73291195, 776.82690789,\n",
       "       760.40185812, 768.32565964, 789.87539914, 730.71507188,\n",
       "       736.59709801, 773.02372564, 758.54799942, 726.24179488,\n",
       "       718.65005647, 716.87307116, 667.72845303, 757.85778045,\n",
       "       537.88763489, 697.48      ,   0.        ,   0.        ,\n",
       "         0.        ,   0.        ])"
      ]
     },
     "execution_count": 22,
     "metadata": {},
     "output_type": "execute_result"
    }
   ],
   "source": [
    "splrep_interp = splrep(x, y)\n",
    "splrep_interp[1]"
   ]
  },
  {
   "cell_type": "code",
   "execution_count": 24,
   "metadata": {
    "scrolled": true
   },
   "outputs": [
    {
     "data": {
      "text/plain": [
       "30"
      ]
     },
     "execution_count": 24,
     "metadata": {},
     "output_type": "execute_result"
    }
   ],
   "source": [
    "len(x)"
   ]
  },
  {
   "cell_type": "code",
   "execution_count": 25,
   "metadata": {},
   "outputs": [
    {
     "data": {
      "text/plain": [
       "'\\nMonte Carlo 方法->统计模拟方法,以概率统计理论为指导的数值计算方法;通过使用随机数来解决问题\\n凸优化,是求取最小值的目标函数为凸函数的优化问题\\n量化交易,针对多因子的因子重要程度配比,仓位管理,模型的最优参数选择等\\n'"
      ]
     },
     "execution_count": 25,
     "metadata": {},
     "output_type": "execute_result"
    }
   ],
   "source": [
    "# 蒙特卡洛方法和凸优化\n",
    "\"\"\"\n",
    "Monte Carlo 方法->统计模拟方法,以概率统计理论为指导的数值计算方法;通过使用随机数来解决问题\n",
    "凸优化,是求取最小值的目标函数为凸函数的优化问题\n",
    "量化交易,针对多因子的因子重要程度配比,仓位管理,模型的最优参数选择等\n",
    "\"\"\""
   ]
  },
  {
   "cell_type": "code",
   "execution_count": null,
   "metadata": {},
   "outputs": [],
   "source": [
    "from abc import ABCMeta, abstractmethod\n",
    "import six\n",
    "\n",
    "k_initial_living_days = 27375\n",
    "\n",
    "class Person(object):\n",
    "    def __init__(self):\n",
    "        self.living = k_initial_living_days\n",
    "        self.happiness = 0\n",
    "        self.wealth = 0\n",
    "        self.fame = 0\n",
    "        self.living_days = 0\n",
    "    def living_one_day(self, seek):\n",
    "        \"\"\"\n",
    "        每天追寻的东西,seek,决定你得到什么\n",
    "        \"\"\"\n",
    "        "
   ]
  }
 ],
 "metadata": {
  "kernelspec": {
   "display_name": "Python 3",
   "language": "python",
   "name": "python3"
  },
  "language_info": {
   "codemirror_mode": {
    "name": "ipython",
    "version": 3
   },
   "file_extension": ".py",
   "mimetype": "text/x-python",
   "name": "python",
   "nbconvert_exporter": "python",
   "pygments_lexer": "ipython3",
   "version": "3.7.6"
  }
 },
 "nbformat": 4,
 "nbformat_minor": 4
}
