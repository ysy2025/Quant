{
 "cells": [
  {
   "cell_type": "code",
   "execution_count": 3,
   "metadata": {
    "scrolled": true
   },
   "outputs": [],
   "source": [
    "import akshare as ak"
   ]
  },
  {
   "cell_type": "code",
   "execution_count": 60,
   "metadata": {
    "scrolled": true
   },
   "outputs": [
    {
     "data": {
      "text/html": [
       "<div>\n",
       "<style scoped>\n",
       "    .dataframe tbody tr th:only-of-type {\n",
       "        vertical-align: middle;\n",
       "    }\n",
       "\n",
       "    .dataframe tbody tr th {\n",
       "        vertical-align: top;\n",
       "    }\n",
       "\n",
       "    .dataframe thead th {\n",
       "        text-align: right;\n",
       "    }\n",
       "</style>\n",
       "<table border=\"1\" class=\"dataframe\">\n",
       "  <thead>\n",
       "    <tr style=\"text-align: right;\">\n",
       "      <th></th>\n",
       "      <th>板块</th>\n",
       "      <th>A股代码</th>\n",
       "      <th>A股简称</th>\n",
       "      <th>A股上市日期</th>\n",
       "      <th>A股总股本</th>\n",
       "      <th>A股流通股本</th>\n",
       "      <th>所属行业</th>\n",
       "    </tr>\n",
       "  </thead>\n",
       "  <tbody>\n",
       "    <tr>\n",
       "      <th>0</th>\n",
       "      <td>主板</td>\n",
       "      <td>000001</td>\n",
       "      <td>平安银行</td>\n",
       "      <td>1991-04-03</td>\n",
       "      <td>19,405,918,198</td>\n",
       "      <td>19,405,513,424</td>\n",
       "      <td>J 金融业</td>\n",
       "    </tr>\n",
       "    <tr>\n",
       "      <th>1</th>\n",
       "      <td>主板</td>\n",
       "      <td>000002</td>\n",
       "      <td>万  科Ａ</td>\n",
       "      <td>1991-01-29</td>\n",
       "      <td>9,724,196,533</td>\n",
       "      <td>9,716,935,865</td>\n",
       "      <td>K 房地产</td>\n",
       "    </tr>\n",
       "    <tr>\n",
       "      <th>2</th>\n",
       "      <td>主板</td>\n",
       "      <td>000004</td>\n",
       "      <td>国华网安</td>\n",
       "      <td>1990-12-01</td>\n",
       "      <td>132,380,282</td>\n",
       "      <td>126,288,093</td>\n",
       "      <td>I 信息技术</td>\n",
       "    </tr>\n",
       "  </tbody>\n",
       "</table>\n",
       "</div>"
      ],
      "text/plain": [
       "   板块    A股代码   A股简称      A股上市日期           A股总股本          A股流通股本    所属行业\n",
       "0  主板  000001   平安银行  1991-04-03  19,405,918,198  19,405,513,424   J 金融业\n",
       "1  主板  000002  万  科Ａ  1991-01-29   9,724,196,533   9,716,935,865   K 房地产\n",
       "2  主板  000004   国华网安  1990-12-01     132,380,282     126,288,093  I 信息技术"
      ]
     },
     "execution_count": 60,
     "metadata": {},
     "output_type": "execute_result"
    }
   ],
   "source": [
    "# 深证的\n",
    "sz_code_df = ak.stock_info_sz_name_code(symbol=\"A股列表\")\n",
    "sz_code_df.head(3)"
   ]
  },
  {
   "cell_type": "code",
   "execution_count": 22,
   "metadata": {},
   "outputs": [
    {
     "data": {
      "text/plain": [
       "[['board',\n",
       "  'code',\n",
       "  'name',\n",
       "  'ipo_time',\n",
       "  'sum_share',\n",
       "  'fluent_share',\n",
       "  'industry']]"
      ]
     },
     "execution_count": 22,
     "metadata": {},
     "output_type": "execute_result"
    }
   ],
   "source": [
    "sz_code_df.head"
   ]
  },
  {
   "cell_type": "code",
   "execution_count": 61,
   "metadata": {
    "scrolled": false
   },
   "outputs": [
    {
     "name": "stdout",
     "output_type": "stream",
     "text": [
      "<class 'pandas.core.frame.DataFrame'>\n",
      "RangeIndex: 2842 entries, 0 to 2841\n",
      "Data columns (total 7 columns):\n",
      " #   Column  Non-Null Count  Dtype \n",
      "---  ------  --------------  ----- \n",
      " 0   板块      2842 non-null   object\n",
      " 1   A股代码    2842 non-null   object\n",
      " 2   A股简称    2842 non-null   object\n",
      " 3   A股上市日期  2842 non-null   object\n",
      " 4   A股总股本   2842 non-null   object\n",
      " 5   A股流通股本  2842 non-null   object\n",
      " 6   所属行业    2842 non-null   object\n",
      "dtypes: object(7)\n",
      "memory usage: 155.5+ KB\n"
     ]
    }
   ],
   "source": [
    "import copy\n",
    "sz_code_df2 = copy.deepcopy(sz_code_df)\n",
    "sz_code_df2.info()"
   ]
  },
  {
   "cell_type": "code",
   "execution_count": 76,
   "metadata": {},
   "outputs": [
    {
     "data": {
      "text/html": [
       "<div>\n",
       "<style scoped>\n",
       "    .dataframe tbody tr th:only-of-type {\n",
       "        vertical-align: middle;\n",
       "    }\n",
       "\n",
       "    .dataframe tbody tr th {\n",
       "        vertical-align: top;\n",
       "    }\n",
       "\n",
       "    .dataframe thead th {\n",
       "        text-align: right;\n",
       "    }\n",
       "</style>\n",
       "<table border=\"1\" class=\"dataframe\">\n",
       "  <thead>\n",
       "    <tr style=\"text-align: right;\">\n",
       "      <th></th>\n",
       "      <th>sum_share</th>\n",
       "      <th>fluent_share</th>\n",
       "    </tr>\n",
       "  </thead>\n",
       "  <tbody>\n",
       "    <tr>\n",
       "      <th>count</th>\n",
       "      <td>2842.000000</td>\n",
       "      <td>2842.000000</td>\n",
       "    </tr>\n",
       "    <tr>\n",
       "      <th>mean</th>\n",
       "      <td>9.252520</td>\n",
       "      <td>8.070203</td>\n",
       "    </tr>\n",
       "    <tr>\n",
       "      <th>std</th>\n",
       "      <td>17.958278</td>\n",
       "      <td>17.022742</td>\n",
       "    </tr>\n",
       "    <tr>\n",
       "      <th>min</th>\n",
       "      <td>0.400000</td>\n",
       "      <td>0.077021</td>\n",
       "    </tr>\n",
       "    <tr>\n",
       "      <th>25%</th>\n",
       "      <td>2.047890</td>\n",
       "      <td>1.397707</td>\n",
       "    </tr>\n",
       "    <tr>\n",
       "      <th>50%</th>\n",
       "      <td>4.644573</td>\n",
       "      <td>3.951517</td>\n",
       "    </tr>\n",
       "    <tr>\n",
       "      <th>75%</th>\n",
       "      <td>9.585137</td>\n",
       "      <td>8.532233</td>\n",
       "    </tr>\n",
       "    <tr>\n",
       "      <th>max</th>\n",
       "      <td>393.349861</td>\n",
       "      <td>393.349861</td>\n",
       "    </tr>\n",
       "  </tbody>\n",
       "</table>\n",
       "</div>"
      ],
      "text/plain": [
       "         sum_share  fluent_share\n",
       "count  2842.000000   2842.000000\n",
       "mean      9.252520      8.070203\n",
       "std      17.958278     17.022742\n",
       "min       0.400000      0.077021\n",
       "25%       2.047890      1.397707\n",
       "50%       4.644573      3.951517\n",
       "75%       9.585137      8.532233\n",
       "max     393.349861    393.349861"
      ]
     },
     "execution_count": 76,
     "metadata": {},
     "output_type": "execute_result"
    }
   ],
   "source": [
    "sz_code_df2.describe()"
   ]
  },
  {
   "cell_type": "code",
   "execution_count": 62,
   "metadata": {},
   "outputs": [
    {
     "data": {
      "text/html": [
       "<div>\n",
       "<style scoped>\n",
       "    .dataframe tbody tr th:only-of-type {\n",
       "        vertical-align: middle;\n",
       "    }\n",
       "\n",
       "    .dataframe tbody tr th {\n",
       "        vertical-align: top;\n",
       "    }\n",
       "\n",
       "    .dataframe thead th {\n",
       "        text-align: right;\n",
       "    }\n",
       "</style>\n",
       "<table border=\"1\" class=\"dataframe\">\n",
       "  <thead>\n",
       "    <tr style=\"text-align: right;\">\n",
       "      <th></th>\n",
       "      <th>sum_share</th>\n",
       "    </tr>\n",
       "  </thead>\n",
       "  <tbody>\n",
       "    <tr>\n",
       "      <th>0</th>\n",
       "      <td>19,405,918,198</td>\n",
       "    </tr>\n",
       "    <tr>\n",
       "      <th>1</th>\n",
       "      <td>9,724,196,533</td>\n",
       "    </tr>\n",
       "    <tr>\n",
       "      <th>2</th>\n",
       "      <td>132,380,282</td>\n",
       "    </tr>\n",
       "    <tr>\n",
       "      <th>3</th>\n",
       "      <td>1,058,536,842</td>\n",
       "    </tr>\n",
       "    <tr>\n",
       "      <th>4</th>\n",
       "      <td>1,349,995,046</td>\n",
       "    </tr>\n",
       "    <tr>\n",
       "      <th>...</th>\n",
       "      <td>...</td>\n",
       "    </tr>\n",
       "    <tr>\n",
       "      <th>2837</th>\n",
       "      <td>72,000,000</td>\n",
       "    </tr>\n",
       "    <tr>\n",
       "      <th>2838</th>\n",
       "      <td>103,258,400</td>\n",
       "    </tr>\n",
       "    <tr>\n",
       "      <th>2839</th>\n",
       "      <td>44,260,000</td>\n",
       "    </tr>\n",
       "    <tr>\n",
       "      <th>2840</th>\n",
       "      <td>48,000,000</td>\n",
       "    </tr>\n",
       "    <tr>\n",
       "      <th>2841</th>\n",
       "      <td>51,360,000</td>\n",
       "    </tr>\n",
       "  </tbody>\n",
       "</table>\n",
       "<p>2842 rows × 1 columns</p>\n",
       "</div>"
      ],
      "text/plain": [
       "           sum_share\n",
       "0     19,405,918,198\n",
       "1      9,724,196,533\n",
       "2        132,380,282\n",
       "3      1,058,536,842\n",
       "4      1,349,995,046\n",
       "...              ...\n",
       "2837      72,000,000\n",
       "2838     103,258,400\n",
       "2839      44,260,000\n",
       "2840      48,000,000\n",
       "2841      51,360,000\n",
       "\n",
       "[2842 rows x 1 columns]"
      ]
     },
     "execution_count": 62,
     "metadata": {},
     "output_type": "execute_result"
    }
   ],
   "source": [
    "sz_code_df2.columns = [\"board\", \"code\",\"name\",\"ipo_time\",\"sum_share\",\"fluent_share\",\"industry\"]\n",
    "sz_code_df2[[\"sum_share\"]]"
   ]
  },
  {
   "cell_type": "code",
   "execution_count": 77,
   "metadata": {},
   "outputs": [
    {
     "data": {
      "text/html": [
       "<div>\n",
       "<style scoped>\n",
       "    .dataframe tbody tr th:only-of-type {\n",
       "        vertical-align: middle;\n",
       "    }\n",
       "\n",
       "    .dataframe tbody tr th {\n",
       "        vertical-align: top;\n",
       "    }\n",
       "\n",
       "    .dataframe thead th {\n",
       "        text-align: right;\n",
       "    }\n",
       "</style>\n",
       "<table border=\"1\" class=\"dataframe\">\n",
       "  <thead>\n",
       "    <tr style=\"text-align: right;\">\n",
       "      <th></th>\n",
       "      <th>code</th>\n",
       "      <th>sum_share</th>\n",
       "      <th>fluent_share</th>\n",
       "    </tr>\n",
       "  </thead>\n",
       "  <tbody>\n",
       "    <tr>\n",
       "      <th>count</th>\n",
       "      <td>2842.000000</td>\n",
       "      <td>2842.000000</td>\n",
       "      <td>2842.000000</td>\n",
       "    </tr>\n",
       "    <tr>\n",
       "      <th>mean</th>\n",
       "      <td>142475.999296</td>\n",
       "      <td>9.252520</td>\n",
       "      <td>8.070203</td>\n",
       "    </tr>\n",
       "    <tr>\n",
       "      <th>std</th>\n",
       "      <td>149172.140202</td>\n",
       "      <td>17.958278</td>\n",
       "      <td>17.022742</td>\n",
       "    </tr>\n",
       "    <tr>\n",
       "      <th>min</th>\n",
       "      <td>1.000000</td>\n",
       "      <td>0.400000</td>\n",
       "      <td>0.077021</td>\n",
       "    </tr>\n",
       "    <tr>\n",
       "      <th>25%</th>\n",
       "      <td>2197.250000</td>\n",
       "      <td>2.047890</td>\n",
       "      <td>1.397707</td>\n",
       "    </tr>\n",
       "    <tr>\n",
       "      <th>50%</th>\n",
       "      <td>2954.000000</td>\n",
       "      <td>4.644573</td>\n",
       "      <td>3.951517</td>\n",
       "    </tr>\n",
       "    <tr>\n",
       "      <th>75%</th>\n",
       "      <td>300658.750000</td>\n",
       "      <td>9.585137</td>\n",
       "      <td>8.532233</td>\n",
       "    </tr>\n",
       "    <tr>\n",
       "      <th>max</th>\n",
       "      <td>301589.000000</td>\n",
       "      <td>393.349861</td>\n",
       "      <td>393.349861</td>\n",
       "    </tr>\n",
       "  </tbody>\n",
       "</table>\n",
       "</div>"
      ],
      "text/plain": [
       "                code    sum_share  fluent_share\n",
       "count    2842.000000  2842.000000   2842.000000\n",
       "mean   142475.999296     9.252520      8.070203\n",
       "std    149172.140202    17.958278     17.022742\n",
       "min         1.000000     0.400000      0.077021\n",
       "25%      2197.250000     2.047890      1.397707\n",
       "50%      2954.000000     4.644573      3.951517\n",
       "75%    300658.750000     9.585137      8.532233\n",
       "max    301589.000000   393.349861    393.349861"
      ]
     },
     "execution_count": 77,
     "metadata": {},
     "output_type": "execute_result"
    }
   ],
   "source": [
    "sz_code_df2[\"code\"] = sz_code_df2[\"code\"].astype(float)\n",
    "sz_code_df2.describe()"
   ]
  },
  {
   "cell_type": "code",
   "execution_count": 63,
   "metadata": {},
   "outputs": [],
   "source": [
    "sz_code_df2[\"fluent_share\"] = sz_code_df2[\"fluent_share\"].apply(lambda x: x.replace(\",\", '')).astype(float)\n",
    "sz_code_df2[\"sum_share\"] = sz_code_df2[\"sum_share\"].apply(lambda x: x.replace(\",\", '')).astype(float)"
   ]
  },
  {
   "cell_type": "code",
   "execution_count": 64,
   "metadata": {
    "scrolled": false
   },
   "outputs": [
    {
     "data": {
      "text/html": [
       "<div>\n",
       "<style scoped>\n",
       "    .dataframe tbody tr th:only-of-type {\n",
       "        vertical-align: middle;\n",
       "    }\n",
       "\n",
       "    .dataframe tbody tr th {\n",
       "        vertical-align: top;\n",
       "    }\n",
       "\n",
       "    .dataframe thead th {\n",
       "        text-align: right;\n",
       "    }\n",
       "</style>\n",
       "<table border=\"1\" class=\"dataframe\">\n",
       "  <thead>\n",
       "    <tr style=\"text-align: right;\">\n",
       "      <th></th>\n",
       "      <th>sum_share</th>\n",
       "      <th>fluent_share</th>\n",
       "    </tr>\n",
       "  </thead>\n",
       "  <tbody>\n",
       "    <tr>\n",
       "      <th>0</th>\n",
       "      <td>194.059182</td>\n",
       "      <td>194.055134</td>\n",
       "    </tr>\n",
       "    <tr>\n",
       "      <th>1</th>\n",
       "      <td>97.241965</td>\n",
       "      <td>97.169359</td>\n",
       "    </tr>\n",
       "    <tr>\n",
       "      <th>2</th>\n",
       "      <td>1.323803</td>\n",
       "      <td>1.262881</td>\n",
       "    </tr>\n",
       "    <tr>\n",
       "      <th>3</th>\n",
       "      <td>10.585368</td>\n",
       "      <td>10.578757</td>\n",
       "    </tr>\n",
       "    <tr>\n",
       "      <th>4</th>\n",
       "      <td>13.499950</td>\n",
       "      <td>13.499874</td>\n",
       "    </tr>\n",
       "    <tr>\n",
       "      <th>...</th>\n",
       "      <td>...</td>\n",
       "      <td>...</td>\n",
       "    </tr>\n",
       "    <tr>\n",
       "      <th>2837</th>\n",
       "      <td>0.720000</td>\n",
       "      <td>0.180000</td>\n",
       "    </tr>\n",
       "    <tr>\n",
       "      <th>2838</th>\n",
       "      <td>1.032584</td>\n",
       "      <td>0.244875</td>\n",
       "    </tr>\n",
       "    <tr>\n",
       "      <th>2839</th>\n",
       "      <td>0.442600</td>\n",
       "      <td>0.110951</td>\n",
       "    </tr>\n",
       "    <tr>\n",
       "      <th>2840</th>\n",
       "      <td>0.480000</td>\n",
       "      <td>0.113788</td>\n",
       "    </tr>\n",
       "    <tr>\n",
       "      <th>2841</th>\n",
       "      <td>0.513600</td>\n",
       "      <td>0.077021</td>\n",
       "    </tr>\n",
       "  </tbody>\n",
       "</table>\n",
       "<p>2842 rows × 2 columns</p>\n",
       "</div>"
      ],
      "text/plain": [
       "       sum_share  fluent_share\n",
       "0     194.059182    194.055134\n",
       "1      97.241965     97.169359\n",
       "2       1.323803      1.262881\n",
       "3      10.585368     10.578757\n",
       "4      13.499950     13.499874\n",
       "...          ...           ...\n",
       "2837    0.720000      0.180000\n",
       "2838    1.032584      0.244875\n",
       "2839    0.442600      0.110951\n",
       "2840    0.480000      0.113788\n",
       "2841    0.513600      0.077021\n",
       "\n",
       "[2842 rows x 2 columns]"
      ]
     },
     "execution_count": 64,
     "metadata": {},
     "output_type": "execute_result"
    }
   ],
   "source": [
    "sz_code_df2[\"sum_share\"] = sz_code_df2[\"sum_share\"]/100000000\n",
    "sz_code_df2[\"fluent_share\"] = sz_code_df2[\"fluent_share\"]/100000000\n",
    "sz_code_df2[[\"sum_share\", \"fluent_share\"]]"
   ]
  },
  {
   "cell_type": "code",
   "execution_count": 66,
   "metadata": {},
   "outputs": [
    {
     "data": {
      "text/plain": [
       "5"
      ]
     },
     "execution_count": 66,
     "metadata": {},
     "output_type": "execute_result"
    }
   ],
   "source": [
    "a = sz_code_df2[\"industry\"][0]\n",
    "len(a)"
   ]
  },
  {
   "cell_type": "code",
   "execution_count": 69,
   "metadata": {},
   "outputs": [
    {
     "data": {
      "text/plain": [
       "'金融业'"
      ]
     },
     "execution_count": 69,
     "metadata": {},
     "output_type": "execute_result"
    }
   ],
   "source": [
    "a[2:]"
   ]
  },
  {
   "cell_type": "code",
   "execution_count": 70,
   "metadata": {},
   "outputs": [
    {
     "data": {
      "text/plain": [
       "0        金融业\n",
       "1        房地产\n",
       "2       信息技术\n",
       "3       公共环保\n",
       "4        房地产\n",
       "        ... \n",
       "2837     制造业\n",
       "2838     制造业\n",
       "2839     制造业\n",
       "2840     制造业\n",
       "2841     制造业\n",
       "Name: industry, Length: 2842, dtype: object"
      ]
     },
     "execution_count": 70,
     "metadata": {},
     "output_type": "execute_result"
    }
   ],
   "source": [
    "sz_code_df2[\"industry\"] = sz_code_df2[\"industry\"].apply(lambda x: x[2:])\n",
    "sz_code_df2[\"industry\"]"
   ]
  },
  {
   "cell_type": "code",
   "execution_count": 84,
   "metadata": {},
   "outputs": [],
   "source": [
    "sz_code_df2[\"city\"] = [\"深圳\" for i in range(len(sz_code_df2))]"
   ]
  },
  {
   "cell_type": "code",
   "execution_count": 85,
   "metadata": {},
   "outputs": [
    {
     "data": {
      "text/html": [
       "<div>\n",
       "<style scoped>\n",
       "    .dataframe tbody tr th:only-of-type {\n",
       "        vertical-align: middle;\n",
       "    }\n",
       "\n",
       "    .dataframe tbody tr th {\n",
       "        vertical-align: top;\n",
       "    }\n",
       "\n",
       "    .dataframe thead th {\n",
       "        text-align: right;\n",
       "    }\n",
       "</style>\n",
       "<table border=\"1\" class=\"dataframe\">\n",
       "  <thead>\n",
       "    <tr style=\"text-align: right;\">\n",
       "      <th></th>\n",
       "      <th>board</th>\n",
       "      <th>code</th>\n",
       "      <th>name</th>\n",
       "      <th>ipo_time</th>\n",
       "      <th>sum_share</th>\n",
       "      <th>fluent_share</th>\n",
       "      <th>industry</th>\n",
       "      <th>city</th>\n",
       "    </tr>\n",
       "  </thead>\n",
       "  <tbody>\n",
       "    <tr>\n",
       "      <th>0</th>\n",
       "      <td>主板</td>\n",
       "      <td>1.0</td>\n",
       "      <td>平安银行</td>\n",
       "      <td>1991-04-03</td>\n",
       "      <td>194.059182</td>\n",
       "      <td>194.055134</td>\n",
       "      <td>金融业</td>\n",
       "      <td>深圳</td>\n",
       "    </tr>\n",
       "    <tr>\n",
       "      <th>1</th>\n",
       "      <td>主板</td>\n",
       "      <td>2.0</td>\n",
       "      <td>万  科Ａ</td>\n",
       "      <td>1991-01-29</td>\n",
       "      <td>97.241965</td>\n",
       "      <td>97.169359</td>\n",
       "      <td>房地产</td>\n",
       "      <td>深圳</td>\n",
       "    </tr>\n",
       "    <tr>\n",
       "      <th>2</th>\n",
       "      <td>主板</td>\n",
       "      <td>4.0</td>\n",
       "      <td>国华网安</td>\n",
       "      <td>1990-12-01</td>\n",
       "      <td>1.323803</td>\n",
       "      <td>1.262881</td>\n",
       "      <td>信息技术</td>\n",
       "      <td>深圳</td>\n",
       "    </tr>\n",
       "    <tr>\n",
       "      <th>3</th>\n",
       "      <td>主板</td>\n",
       "      <td>5.0</td>\n",
       "      <td>ST星源</td>\n",
       "      <td>1990-12-10</td>\n",
       "      <td>10.585368</td>\n",
       "      <td>10.578757</td>\n",
       "      <td>公共环保</td>\n",
       "      <td>深圳</td>\n",
       "    </tr>\n",
       "    <tr>\n",
       "      <th>4</th>\n",
       "      <td>主板</td>\n",
       "      <td>6.0</td>\n",
       "      <td>深振业Ａ</td>\n",
       "      <td>1992-04-27</td>\n",
       "      <td>13.499950</td>\n",
       "      <td>13.499874</td>\n",
       "      <td>房地产</td>\n",
       "      <td>深圳</td>\n",
       "    </tr>\n",
       "  </tbody>\n",
       "</table>\n",
       "</div>"
      ],
      "text/plain": [
       "  board  code   name    ipo_time   sum_share  fluent_share industry city\n",
       "0    主板   1.0   平安银行  1991-04-03  194.059182    194.055134      金融业   深圳\n",
       "1    主板   2.0  万  科Ａ  1991-01-29   97.241965     97.169359      房地产   深圳\n",
       "2    主板   4.0   国华网安  1990-12-01    1.323803      1.262881     信息技术   深圳\n",
       "3    主板   5.0   ST星源  1990-12-10   10.585368     10.578757     公共环保   深圳\n",
       "4    主板   6.0   深振业Ａ  1992-04-27   13.499950     13.499874      房地产   深圳"
      ]
     },
     "execution_count": 85,
     "metadata": {},
     "output_type": "execute_result"
    }
   ],
   "source": [
    "sz_code_df2.head()"
   ]
  },
  {
   "cell_type": "code",
   "execution_count": 72,
   "metadata": {},
   "outputs": [
    {
     "name": "stdout",
     "output_type": "stream",
     "text": [
      "        证券代码  证券简称                公司全称        上市日期\n",
      "0     600000  浦发银行      上海浦东发展银行股份有限公司  1999-11-10\n",
      "1     600004  白云机场      广州白云国际机场股份有限公司  2003-04-28\n",
      "2     600006  东风汽车          东风汽车股份有限公司  1999-07-27\n",
      "3     600007  中国国贸      中国国际贸易中心股份有限公司  1999-03-12\n",
      "4     600008  首创环保    北京首创生态环保集团股份有限公司  2000-04-27\n",
      "...      ...   ...                 ...         ...\n",
      "1691  605580  恒盛能源          恒盛能源股份有限公司  2021-08-19\n",
      "1692  605588  冠石科技        南京冠石科技股份有限公司  2021-08-12\n",
      "1693  605589  圣泉集团        济南圣泉集团股份有限公司  2021-08-10\n",
      "1694  605598  上海港湾  上海港湾基础建设(集团)股份有限公司  2021-09-17\n",
      "1695  605599  菜百股份       北京菜市口百货股份有限公司  2021-09-09\n",
      "\n",
      "[1696 rows x 4 columns]\n"
     ]
    }
   ],
   "source": [
    "shanghai_main_df = ak.stock_info_sh_name_code(symbol=\"主板A股\")\n",
    "print(shanghai_main_df)"
   ]
  },
  {
   "cell_type": "code",
   "execution_count": 73,
   "metadata": {},
   "outputs": [
    {
     "name": "stdout",
     "output_type": "stream",
     "text": [
      "<class 'pandas.core.frame.DataFrame'>\n",
      "RangeIndex: 1696 entries, 0 to 1695\n",
      "Data columns (total 4 columns):\n",
      " #   Column  Non-Null Count  Dtype \n",
      "---  ------  --------------  ----- \n",
      " 0   证券代码    1696 non-null   object\n",
      " 1   证券简称    1696 non-null   object\n",
      " 2   公司全称    1696 non-null   object\n",
      " 3   上市日期    1696 non-null   object\n",
      "dtypes: object(4)\n",
      "memory usage: 53.1+ KB\n"
     ]
    }
   ],
   "source": [
    "shanghai_main_df2 = copy.deepcopy(shanghai_main_df)\n",
    "shanghai_main_df2.info()"
   ]
  },
  {
   "cell_type": "code",
   "execution_count": 74,
   "metadata": {},
   "outputs": [
    {
     "name": "stdout",
     "output_type": "stream",
     "text": [
      "       证券代码  证券简称             公司全称        上市日期\n",
      "0    688001  华兴源创   苏州华兴源创科技股份有限公司  2019-07-22\n",
      "1    688002  睿创微纳   烟台睿创微纳技术股份有限公司  2019-07-22\n",
      "2    688003  天准科技     苏州天准科技股份有限公司  2019-07-22\n",
      "3    688004  博汇科技    北京市博汇科技股份有限公司  2020-06-12\n",
      "4    688005  容百科技  宁波容百新能源科技股份有限公司  2019-07-22\n",
      "..      ...   ...              ...         ...\n",
      "564  688799  华纳药厂    湖南华纳大药厂股份有限公司  2021-07-13\n",
      "565  688800   瑞可达  苏州瑞可达连接系统股份有限公司  2021-07-22\n",
      "566  688819  天能股份     天能电池集团股份有限公司  2021-01-18\n",
      "567  688981  中芯国际   中芯国际集成电路制造有限公司  2020-07-16\n",
      "568  689009  九号公司           九号有限公司  2020-10-29\n",
      "\n",
      "[569 rows x 4 columns]\n"
     ]
    }
   ],
   "source": [
    "shanghai_kc_df = ak.stock_info_sh_name_code(symbol=\"科创板\")\n",
    "print(shanghai_kc_df)"
   ]
  },
  {
   "cell_type": "code",
   "execution_count": 75,
   "metadata": {
    "scrolled": true
   },
   "outputs": [
    {
     "name": "stdout",
     "output_type": "stream",
     "text": [
      "<class 'pandas.core.frame.DataFrame'>\n",
      "RangeIndex: 569 entries, 0 to 568\n",
      "Data columns (total 4 columns):\n",
      " #   Column  Non-Null Count  Dtype \n",
      "---  ------  --------------  ----- \n",
      " 0   证券代码    569 non-null    object\n",
      " 1   证券简称    569 non-null    object\n",
      " 2   公司全称    569 non-null    object\n",
      " 3   上市日期    569 non-null    object\n",
      "dtypes: object(4)\n",
      "memory usage: 17.9+ KB\n"
     ]
    }
   ],
   "source": [
    "shanghai_kc_df2 = copy.deepcopy(shanghai_kc_df)\n",
    "shanghai_kc_df2.info()"
   ]
  },
  {
   "cell_type": "code",
   "execution_count": 80,
   "metadata": {},
   "outputs": [],
   "source": [
    "import pandas as pd\n",
    "import numpy as np"
   ]
  },
  {
   "cell_type": "code",
   "execution_count": 86,
   "metadata": {},
   "outputs": [],
   "source": [
    "shanghai_main_df2[\"板块\"] = [\"主板\" for i in range(len(shanghai_main_df2))]\n",
    "shanghai_kc_df2[\"板块\"] = [\"科创板\" for i in range(len(shanghai_kc_df2))]"
   ]
  },
  {
   "cell_type": "code",
   "execution_count": 87,
   "metadata": {
    "scrolled": true
   },
   "outputs": [
    {
     "name": "stdout",
     "output_type": "stream",
     "text": [
      "<class 'pandas.core.frame.DataFrame'>\n",
      "Int64Index: 2265 entries, 0 to 568\n",
      "Data columns (total 5 columns):\n",
      " #   Column  Non-Null Count  Dtype \n",
      "---  ------  --------------  ----- \n",
      " 0   证券代码    2265 non-null   object\n",
      " 1   证券简称    2265 non-null   object\n",
      " 2   公司全称    2265 non-null   object\n",
      " 3   上市日期    2265 non-null   object\n",
      " 4   板块      2265 non-null   object\n",
      "dtypes: object(5)\n",
      "memory usage: 106.2+ KB\n"
     ]
    }
   ],
   "source": [
    "shanghai_df = pd.concat([shanghai_main_df2, shanghai_kc_df2], axis = 0)\n",
    "shanghai_df.info()"
   ]
  },
  {
   "cell_type": "code",
   "execution_count": 88,
   "metadata": {
    "scrolled": true
   },
   "outputs": [
    {
     "data": {
      "text/html": [
       "<div>\n",
       "<style scoped>\n",
       "    .dataframe tbody tr th:only-of-type {\n",
       "        vertical-align: middle;\n",
       "    }\n",
       "\n",
       "    .dataframe tbody tr th {\n",
       "        vertical-align: top;\n",
       "    }\n",
       "\n",
       "    .dataframe thead th {\n",
       "        text-align: right;\n",
       "    }\n",
       "</style>\n",
       "<table border=\"1\" class=\"dataframe\">\n",
       "  <thead>\n",
       "    <tr style=\"text-align: right;\">\n",
       "      <th></th>\n",
       "      <th>证券代码</th>\n",
       "      <th>证券简称</th>\n",
       "      <th>公司全称</th>\n",
       "      <th>上市日期</th>\n",
       "      <th>板块</th>\n",
       "    </tr>\n",
       "  </thead>\n",
       "  <tbody>\n",
       "    <tr>\n",
       "      <th>0</th>\n",
       "      <td>600000</td>\n",
       "      <td>浦发银行</td>\n",
       "      <td>上海浦东发展银行股份有限公司</td>\n",
       "      <td>1999-11-10</td>\n",
       "      <td>主板</td>\n",
       "    </tr>\n",
       "    <tr>\n",
       "      <th>1</th>\n",
       "      <td>600004</td>\n",
       "      <td>白云机场</td>\n",
       "      <td>广州白云国际机场股份有限公司</td>\n",
       "      <td>2003-04-28</td>\n",
       "      <td>主板</td>\n",
       "    </tr>\n",
       "    <tr>\n",
       "      <th>2</th>\n",
       "      <td>600006</td>\n",
       "      <td>东风汽车</td>\n",
       "      <td>东风汽车股份有限公司</td>\n",
       "      <td>1999-07-27</td>\n",
       "      <td>主板</td>\n",
       "    </tr>\n",
       "    <tr>\n",
       "      <th>3</th>\n",
       "      <td>600007</td>\n",
       "      <td>中国国贸</td>\n",
       "      <td>中国国际贸易中心股份有限公司</td>\n",
       "      <td>1999-03-12</td>\n",
       "      <td>主板</td>\n",
       "    </tr>\n",
       "    <tr>\n",
       "      <th>4</th>\n",
       "      <td>600008</td>\n",
       "      <td>首创环保</td>\n",
       "      <td>北京首创生态环保集团股份有限公司</td>\n",
       "      <td>2000-04-27</td>\n",
       "      <td>主板</td>\n",
       "    </tr>\n",
       "  </tbody>\n",
       "</table>\n",
       "</div>"
      ],
      "text/plain": [
       "     证券代码  证券简称              公司全称        上市日期  板块\n",
       "0  600000  浦发银行    上海浦东发展银行股份有限公司  1999-11-10  主板\n",
       "1  600004  白云机场    广州白云国际机场股份有限公司  2003-04-28  主板\n",
       "2  600006  东风汽车        东风汽车股份有限公司  1999-07-27  主板\n",
       "3  600007  中国国贸    中国国际贸易中心股份有限公司  1999-03-12  主板\n",
       "4  600008  首创环保  北京首创生态环保集团股份有限公司  2000-04-27  主板"
      ]
     },
     "execution_count": 88,
     "metadata": {},
     "output_type": "execute_result"
    }
   ],
   "source": [
    "shanghai_df.head()"
   ]
  },
  {
   "cell_type": "code",
   "execution_count": 90,
   "metadata": {
    "scrolled": true
   },
   "outputs": [
    {
     "data": {
      "text/html": [
       "<div>\n",
       "<style scoped>\n",
       "    .dataframe tbody tr th:only-of-type {\n",
       "        vertical-align: middle;\n",
       "    }\n",
       "\n",
       "    .dataframe tbody tr th {\n",
       "        vertical-align: top;\n",
       "    }\n",
       "\n",
       "    .dataframe thead th {\n",
       "        text-align: right;\n",
       "    }\n",
       "</style>\n",
       "<table border=\"1\" class=\"dataframe\">\n",
       "  <thead>\n",
       "    <tr style=\"text-align: right;\">\n",
       "      <th></th>\n",
       "      <th>code</th>\n",
       "      <th>name</th>\n",
       "      <th>full_name</th>\n",
       "      <th>ipo_time</th>\n",
       "      <th>board</th>\n",
       "      <th>city</th>\n",
       "    </tr>\n",
       "  </thead>\n",
       "  <tbody>\n",
       "    <tr>\n",
       "      <th>0</th>\n",
       "      <td>600000</td>\n",
       "      <td>浦发银行</td>\n",
       "      <td>上海浦东发展银行股份有限公司</td>\n",
       "      <td>1999-11-10</td>\n",
       "      <td>主板</td>\n",
       "      <td>上海</td>\n",
       "    </tr>\n",
       "    <tr>\n",
       "      <th>1</th>\n",
       "      <td>600004</td>\n",
       "      <td>白云机场</td>\n",
       "      <td>广州白云国际机场股份有限公司</td>\n",
       "      <td>2003-04-28</td>\n",
       "      <td>主板</td>\n",
       "      <td>上海</td>\n",
       "    </tr>\n",
       "    <tr>\n",
       "      <th>2</th>\n",
       "      <td>600006</td>\n",
       "      <td>东风汽车</td>\n",
       "      <td>东风汽车股份有限公司</td>\n",
       "      <td>1999-07-27</td>\n",
       "      <td>主板</td>\n",
       "      <td>上海</td>\n",
       "    </tr>\n",
       "    <tr>\n",
       "      <th>3</th>\n",
       "      <td>600007</td>\n",
       "      <td>中国国贸</td>\n",
       "      <td>中国国际贸易中心股份有限公司</td>\n",
       "      <td>1999-03-12</td>\n",
       "      <td>主板</td>\n",
       "      <td>上海</td>\n",
       "    </tr>\n",
       "    <tr>\n",
       "      <th>4</th>\n",
       "      <td>600008</td>\n",
       "      <td>首创环保</td>\n",
       "      <td>北京首创生态环保集团股份有限公司</td>\n",
       "      <td>2000-04-27</td>\n",
       "      <td>主板</td>\n",
       "      <td>上海</td>\n",
       "    </tr>\n",
       "  </tbody>\n",
       "</table>\n",
       "</div>"
      ],
      "text/plain": [
       "     code  name         full_name    ipo_time board city\n",
       "0  600000  浦发银行    上海浦东发展银行股份有限公司  1999-11-10    主板   上海\n",
       "1  600004  白云机场    广州白云国际机场股份有限公司  2003-04-28    主板   上海\n",
       "2  600006  东风汽车        东风汽车股份有限公司  1999-07-27    主板   上海\n",
       "3  600007  中国国贸    中国国际贸易中心股份有限公司  1999-03-12    主板   上海\n",
       "4  600008  首创环保  北京首创生态环保集团股份有限公司  2000-04-27    主板   上海"
      ]
     },
     "execution_count": 90,
     "metadata": {},
     "output_type": "execute_result"
    }
   ],
   "source": [
    "shanghai_df.columns = [\"code\",\"name\",\"full_name\", \"ipo_time\",\"board\"]\n",
    "shanghai_df[\"city\"] = [\"上海\"for i in range(len(shanghai_df))]\n",
    "shanghai_df.head()"
   ]
  },
  {
   "cell_type": "code",
   "execution_count": 91,
   "metadata": {},
   "outputs": [],
   "source": [
    "shanghai_stocks = list(shanghai_df[\"code\"])"
   ]
  },
  {
   "cell_type": "code",
   "execution_count": 92,
   "metadata": {
    "scrolled": true
   },
   "outputs": [
    {
     "data": {
      "text/plain": [
       "['600000',\n",
       " '600004',\n",
       " '600006',\n",
       " '600007',\n",
       " '600008',\n",
       " '600009',\n",
       " '600010',\n",
       " '600011',\n",
       " '600012',\n",
       " '600015']"
      ]
     },
     "execution_count": 92,
     "metadata": {},
     "output_type": "execute_result"
    }
   ],
   "source": [
    "shanghai_stocks[:10]"
   ]
  },
  {
   "cell_type": "code",
   "execution_count": 93,
   "metadata": {},
   "outputs": [
    {
     "data": {
      "text/html": [
       "<div>\n",
       "<style scoped>\n",
       "    .dataframe tbody tr th:only-of-type {\n",
       "        vertical-align: middle;\n",
       "    }\n",
       "\n",
       "    .dataframe tbody tr th {\n",
       "        vertical-align: top;\n",
       "    }\n",
       "\n",
       "    .dataframe thead th {\n",
       "        text-align: right;\n",
       "    }\n",
       "</style>\n",
       "<table border=\"1\" class=\"dataframe\">\n",
       "  <thead>\n",
       "    <tr style=\"text-align: right;\">\n",
       "      <th></th>\n",
       "      <th>item</th>\n",
       "      <th>value</th>\n",
       "    </tr>\n",
       "  </thead>\n",
       "  <tbody>\n",
       "    <tr>\n",
       "      <th>0</th>\n",
       "      <td>总市值</td>\n",
       "      <td>214270890990.399994</td>\n",
       "    </tr>\n",
       "    <tr>\n",
       "      <th>1</th>\n",
       "      <td>流通市值</td>\n",
       "      <td>214270890990.399994</td>\n",
       "    </tr>\n",
       "    <tr>\n",
       "      <th>2</th>\n",
       "      <td>行业</td>\n",
       "      <td>银行</td>\n",
       "    </tr>\n",
       "    <tr>\n",
       "      <th>3</th>\n",
       "      <td>上市时间</td>\n",
       "      <td>19991110</td>\n",
       "    </tr>\n",
       "    <tr>\n",
       "      <th>4</th>\n",
       "      <td>股票代码</td>\n",
       "      <td>600000</td>\n",
       "    </tr>\n",
       "    <tr>\n",
       "      <th>5</th>\n",
       "      <td>股票简称</td>\n",
       "      <td>浦发银行</td>\n",
       "    </tr>\n",
       "    <tr>\n",
       "      <th>6</th>\n",
       "      <td>总股本</td>\n",
       "      <td>29352176848.0</td>\n",
       "    </tr>\n",
       "    <tr>\n",
       "      <th>7</th>\n",
       "      <td>流通股</td>\n",
       "      <td>29352176848.0</td>\n",
       "    </tr>\n",
       "  </tbody>\n",
       "</table>\n",
       "</div>"
      ],
      "text/plain": [
       "   item                value\n",
       "0   总市值  214270890990.399994\n",
       "1  流通市值  214270890990.399994\n",
       "2    行业                   银行\n",
       "3  上市时间             19991110\n",
       "4  股票代码               600000\n",
       "5  股票简称                 浦发银行\n",
       "6   总股本        29352176848.0\n",
       "7   流通股        29352176848.0"
      ]
     },
     "execution_count": 93,
     "metadata": {},
     "output_type": "execute_result"
    }
   ],
   "source": [
    "eg = ak.stock_individual_info_em(symbol=\"600000\")\n",
    "eg"
   ]
  },
  {
   "cell_type": "code",
   "execution_count": 94,
   "metadata": {},
   "outputs": [],
   "source": [
    "shanghai_sum_share = []\n",
    "shanghai_fluent_share = []\n",
    "shanghai_industry = []"
   ]
  },
  {
   "cell_type": "code",
   "execution_count": 95,
   "metadata": {},
   "outputs": [
    {
     "data": {
      "text/plain": [
       "'银行'"
      ]
     },
     "execution_count": 95,
     "metadata": {},
     "output_type": "execute_result"
    }
   ],
   "source": [
    "eg[\"value\"][2]"
   ]
  },
  {
   "cell_type": "code",
   "execution_count": 97,
   "metadata": {},
   "outputs": [
    {
     "data": {
      "text/plain": [
       "29352176848.0"
      ]
     },
     "execution_count": 97,
     "metadata": {},
     "output_type": "execute_result"
    }
   ],
   "source": [
    "eg[\"value\"][6]"
   ]
  },
  {
   "cell_type": "code",
   "execution_count": 98,
   "metadata": {},
   "outputs": [],
   "source": [
    "# 上证的总股本,行业,需要通过东方财富的接口拿\n",
    "for stock in shanghai_stocks:\n",
    "    temp = ak.stock_individual_info_em(symbol=stock)\n",
    "    shanghai_industry.append(temp[\"value\"][2])\n",
    "    shanghai_sum_share.append(temp[\"value\"][6])\n",
    "    shanghai_fluent_share.append(temp[\"value\"][7])"
   ]
  },
  {
   "cell_type": "code",
   "execution_count": 101,
   "metadata": {
    "scrolled": true
   },
   "outputs": [
    {
     "data": {
      "text/plain": [
       "[29352176848.0,\n",
       " 2366718283.0,\n",
       " 2000000000.0,\n",
       " 1007282534.0,\n",
       " 7340590677.0,\n",
       " 1926958448.0,\n",
       " 31497121187.0,\n",
       " 10997709919.0,\n",
       " 1165600000.0,\n",
       " 15387223983.0]"
      ]
     },
     "execution_count": 101,
     "metadata": {},
     "output_type": "execute_result"
    }
   ],
   "source": [
    "shanghai_fluent_share[:10]"
   ]
  },
  {
   "cell_type": "code",
   "execution_count": 103,
   "metadata": {},
   "outputs": [
    {
     "data": {
      "text/html": [
       "<div>\n",
       "<style scoped>\n",
       "    .dataframe tbody tr th:only-of-type {\n",
       "        vertical-align: middle;\n",
       "    }\n",
       "\n",
       "    .dataframe tbody tr th {\n",
       "        vertical-align: top;\n",
       "    }\n",
       "\n",
       "    .dataframe thead th {\n",
       "        text-align: right;\n",
       "    }\n",
       "</style>\n",
       "<table border=\"1\" class=\"dataframe\">\n",
       "  <thead>\n",
       "    <tr style=\"text-align: right;\">\n",
       "      <th></th>\n",
       "      <th>code</th>\n",
       "      <th>name</th>\n",
       "      <th>full_name</th>\n",
       "      <th>ipo_time</th>\n",
       "      <th>board</th>\n",
       "      <th>city</th>\n",
       "      <th>industry</th>\n",
       "      <th>sum_share</th>\n",
       "      <th>fluent_share</th>\n",
       "    </tr>\n",
       "  </thead>\n",
       "  <tbody>\n",
       "    <tr>\n",
       "      <th>0</th>\n",
       "      <td>600000</td>\n",
       "      <td>浦发银行</td>\n",
       "      <td>上海浦东发展银行股份有限公司</td>\n",
       "      <td>1999-11-10</td>\n",
       "      <td>主板</td>\n",
       "      <td>上海</td>\n",
       "      <td>银行</td>\n",
       "      <td>2.935218e+10</td>\n",
       "      <td>2.935218e+10</td>\n",
       "    </tr>\n",
       "    <tr>\n",
       "      <th>1</th>\n",
       "      <td>600004</td>\n",
       "      <td>白云机场</td>\n",
       "      <td>广州白云国际机场股份有限公司</td>\n",
       "      <td>2003-04-28</td>\n",
       "      <td>主板</td>\n",
       "      <td>上海</td>\n",
       "      <td>航空机场</td>\n",
       "      <td>2.366718e+09</td>\n",
       "      <td>2.366718e+09</td>\n",
       "    </tr>\n",
       "    <tr>\n",
       "      <th>2</th>\n",
       "      <td>600006</td>\n",
       "      <td>东风汽车</td>\n",
       "      <td>东风汽车股份有限公司</td>\n",
       "      <td>1999-07-27</td>\n",
       "      <td>主板</td>\n",
       "      <td>上海</td>\n",
       "      <td>汽车整车</td>\n",
       "      <td>2.000000e+09</td>\n",
       "      <td>2.000000e+09</td>\n",
       "    </tr>\n",
       "  </tbody>\n",
       "</table>\n",
       "</div>"
      ],
      "text/plain": [
       "     code  name       full_name    ipo_time board city industry     sum_share  \\\n",
       "0  600000  浦发银行  上海浦东发展银行股份有限公司  1999-11-10    主板   上海       银行  2.935218e+10   \n",
       "1  600004  白云机场  广州白云国际机场股份有限公司  2003-04-28    主板   上海     航空机场  2.366718e+09   \n",
       "2  600006  东风汽车      东风汽车股份有限公司  1999-07-27    主板   上海     汽车整车  2.000000e+09   \n",
       "\n",
       "   fluent_share  \n",
       "0  2.935218e+10  \n",
       "1  2.366718e+09  \n",
       "2  2.000000e+09  "
      ]
     },
     "execution_count": 103,
     "metadata": {},
     "output_type": "execute_result"
    }
   ],
   "source": [
    "shanghai_df[\"industry\"] = shanghai_industry\n",
    "shanghai_df[\"sum_share\"] = shanghai_sum_share\n",
    "shanghai_df[\"fluent_share\"] = shanghai_fluent_share\n",
    "shanghai_df.head(3)"
   ]
  },
  {
   "cell_type": "code",
   "execution_count": 108,
   "metadata": {},
   "outputs": [],
   "source": [
    "shanghai_df[\"sum_share\"] = shanghai_df[\"sum_share\"]/100000000\n",
    "shanghai_df[\"fluent_share\"] = shanghai_df[\"fluent_share\"]/100000000"
   ]
  },
  {
   "cell_type": "code",
   "execution_count": 109,
   "metadata": {},
   "outputs": [
    {
     "data": {
      "text/html": [
       "<div>\n",
       "<style scoped>\n",
       "    .dataframe tbody tr th:only-of-type {\n",
       "        vertical-align: middle;\n",
       "    }\n",
       "\n",
       "    .dataframe tbody tr th {\n",
       "        vertical-align: top;\n",
       "    }\n",
       "\n",
       "    .dataframe thead th {\n",
       "        text-align: right;\n",
       "    }\n",
       "</style>\n",
       "<table border=\"1\" class=\"dataframe\">\n",
       "  <thead>\n",
       "    <tr style=\"text-align: right;\">\n",
       "      <th></th>\n",
       "      <th>code</th>\n",
       "      <th>name</th>\n",
       "      <th>full_name</th>\n",
       "      <th>ipo_time</th>\n",
       "      <th>board</th>\n",
       "      <th>city</th>\n",
       "      <th>industry</th>\n",
       "      <th>sum_share</th>\n",
       "      <th>fluent_share</th>\n",
       "    </tr>\n",
       "  </thead>\n",
       "  <tbody>\n",
       "    <tr>\n",
       "      <th>0</th>\n",
       "      <td>600000</td>\n",
       "      <td>浦发银行</td>\n",
       "      <td>上海浦东发展银行股份有限公司</td>\n",
       "      <td>1999-11-10</td>\n",
       "      <td>主板</td>\n",
       "      <td>上海</td>\n",
       "      <td>银行</td>\n",
       "      <td>293.521768</td>\n",
       "      <td>293.521768</td>\n",
       "    </tr>\n",
       "    <tr>\n",
       "      <th>1</th>\n",
       "      <td>600004</td>\n",
       "      <td>白云机场</td>\n",
       "      <td>广州白云国际机场股份有限公司</td>\n",
       "      <td>2003-04-28</td>\n",
       "      <td>主板</td>\n",
       "      <td>上海</td>\n",
       "      <td>航空机场</td>\n",
       "      <td>23.667183</td>\n",
       "      <td>23.667183</td>\n",
       "    </tr>\n",
       "    <tr>\n",
       "      <th>2</th>\n",
       "      <td>600006</td>\n",
       "      <td>东风汽车</td>\n",
       "      <td>东风汽车股份有限公司</td>\n",
       "      <td>1999-07-27</td>\n",
       "      <td>主板</td>\n",
       "      <td>上海</td>\n",
       "      <td>汽车整车</td>\n",
       "      <td>20.000000</td>\n",
       "      <td>20.000000</td>\n",
       "    </tr>\n",
       "    <tr>\n",
       "      <th>3</th>\n",
       "      <td>600007</td>\n",
       "      <td>中国国贸</td>\n",
       "      <td>中国国际贸易中心股份有限公司</td>\n",
       "      <td>1999-03-12</td>\n",
       "      <td>主板</td>\n",
       "      <td>上海</td>\n",
       "      <td>房地产开发</td>\n",
       "      <td>10.072825</td>\n",
       "      <td>10.072825</td>\n",
       "    </tr>\n",
       "    <tr>\n",
       "      <th>4</th>\n",
       "      <td>600008</td>\n",
       "      <td>首创环保</td>\n",
       "      <td>北京首创生态环保集团股份有限公司</td>\n",
       "      <td>2000-04-27</td>\n",
       "      <td>主板</td>\n",
       "      <td>上海</td>\n",
       "      <td>公用事业</td>\n",
       "      <td>73.405907</td>\n",
       "      <td>73.405907</td>\n",
       "    </tr>\n",
       "  </tbody>\n",
       "</table>\n",
       "</div>"
      ],
      "text/plain": [
       "     code  name         full_name    ipo_time board city industry   sum_share  \\\n",
       "0  600000  浦发银行    上海浦东发展银行股份有限公司  1999-11-10    主板   上海       银行  293.521768   \n",
       "1  600004  白云机场    广州白云国际机场股份有限公司  2003-04-28    主板   上海     航空机场   23.667183   \n",
       "2  600006  东风汽车        东风汽车股份有限公司  1999-07-27    主板   上海     汽车整车   20.000000   \n",
       "3  600007  中国国贸    中国国际贸易中心股份有限公司  1999-03-12    主板   上海    房地产开发   10.072825   \n",
       "4  600008  首创环保  北京首创生态环保集团股份有限公司  2000-04-27    主板   上海     公用事业   73.405907   \n",
       "\n",
       "   fluent_share  \n",
       "0    293.521768  \n",
       "1     23.667183  \n",
       "2     20.000000  \n",
       "3     10.072825  \n",
       "4     73.405907  "
      ]
     },
     "execution_count": 109,
     "metadata": {},
     "output_type": "execute_result"
    }
   ],
   "source": [
    "shanghai_df.head()"
   ]
  },
  {
   "cell_type": "code",
   "execution_count": 104,
   "metadata": {},
   "outputs": [
    {
     "data": {
      "text/plain": [
       "Index(['code', 'name', 'full_name', 'ipo_time', 'board', 'city', 'industry',\n",
       "       'sum_share', 'fluent_share'],\n",
       "      dtype='object')"
      ]
     },
     "execution_count": 104,
     "metadata": {},
     "output_type": "execute_result"
    }
   ],
   "source": [
    "shanghai_df.columns"
   ]
  },
  {
   "cell_type": "code",
   "execution_count": 110,
   "metadata": {},
   "outputs": [],
   "source": [
    "shanghai_df2 = shanghai_df[[\"board\", \"code\", \"name\", \"ipo_time\", \"sum_share\", \"fluent_share\", \"industry\", \"city\"]]"
   ]
  },
  {
   "cell_type": "code",
   "execution_count": 111,
   "metadata": {
    "scrolled": true
   },
   "outputs": [
    {
     "data": {
      "text/html": [
       "<div>\n",
       "<style scoped>\n",
       "    .dataframe tbody tr th:only-of-type {\n",
       "        vertical-align: middle;\n",
       "    }\n",
       "\n",
       "    .dataframe tbody tr th {\n",
       "        vertical-align: top;\n",
       "    }\n",
       "\n",
       "    .dataframe thead th {\n",
       "        text-align: right;\n",
       "    }\n",
       "</style>\n",
       "<table border=\"1\" class=\"dataframe\">\n",
       "  <thead>\n",
       "    <tr style=\"text-align: right;\">\n",
       "      <th></th>\n",
       "      <th>board</th>\n",
       "      <th>code</th>\n",
       "      <th>name</th>\n",
       "      <th>ipo_time</th>\n",
       "      <th>sum_share</th>\n",
       "      <th>fluent_share</th>\n",
       "      <th>industry</th>\n",
       "      <th>city</th>\n",
       "    </tr>\n",
       "  </thead>\n",
       "  <tbody>\n",
       "    <tr>\n",
       "      <th>0</th>\n",
       "      <td>主板</td>\n",
       "      <td>600000</td>\n",
       "      <td>浦发银行</td>\n",
       "      <td>1999-11-10</td>\n",
       "      <td>293.521768</td>\n",
       "      <td>293.521768</td>\n",
       "      <td>银行</td>\n",
       "      <td>上海</td>\n",
       "    </tr>\n",
       "    <tr>\n",
       "      <th>1</th>\n",
       "      <td>主板</td>\n",
       "      <td>600004</td>\n",
       "      <td>白云机场</td>\n",
       "      <td>2003-04-28</td>\n",
       "      <td>23.667183</td>\n",
       "      <td>23.667183</td>\n",
       "      <td>航空机场</td>\n",
       "      <td>上海</td>\n",
       "    </tr>\n",
       "    <tr>\n",
       "      <th>2</th>\n",
       "      <td>主板</td>\n",
       "      <td>600006</td>\n",
       "      <td>东风汽车</td>\n",
       "      <td>1999-07-27</td>\n",
       "      <td>20.000000</td>\n",
       "      <td>20.000000</td>\n",
       "      <td>汽车整车</td>\n",
       "      <td>上海</td>\n",
       "    </tr>\n",
       "    <tr>\n",
       "      <th>3</th>\n",
       "      <td>主板</td>\n",
       "      <td>600007</td>\n",
       "      <td>中国国贸</td>\n",
       "      <td>1999-03-12</td>\n",
       "      <td>10.072825</td>\n",
       "      <td>10.072825</td>\n",
       "      <td>房地产开发</td>\n",
       "      <td>上海</td>\n",
       "    </tr>\n",
       "    <tr>\n",
       "      <th>4</th>\n",
       "      <td>主板</td>\n",
       "      <td>600008</td>\n",
       "      <td>首创环保</td>\n",
       "      <td>2000-04-27</td>\n",
       "      <td>73.405907</td>\n",
       "      <td>73.405907</td>\n",
       "      <td>公用事业</td>\n",
       "      <td>上海</td>\n",
       "    </tr>\n",
       "  </tbody>\n",
       "</table>\n",
       "</div>"
      ],
      "text/plain": [
       "  board    code  name    ipo_time   sum_share  fluent_share industry city\n",
       "0    主板  600000  浦发银行  1999-11-10  293.521768    293.521768       银行   上海\n",
       "1    主板  600004  白云机场  2003-04-28   23.667183     23.667183     航空机场   上海\n",
       "2    主板  600006  东风汽车  1999-07-27   20.000000     20.000000     汽车整车   上海\n",
       "3    主板  600007  中国国贸  1999-03-12   10.072825     10.072825    房地产开发   上海\n",
       "4    主板  600008  首创环保  2000-04-27   73.405907     73.405907     公用事业   上海"
      ]
     },
     "execution_count": 111,
     "metadata": {},
     "output_type": "execute_result"
    }
   ],
   "source": [
    "shanghai_df2.head()"
   ]
  },
  {
   "cell_type": "code",
   "execution_count": null,
   "metadata": {},
   "outputs": [],
   "source": []
  },
  {
   "cell_type": "code",
   "execution_count": null,
   "metadata": {},
   "outputs": [],
   "source": []
  },
  {
   "cell_type": "code",
   "execution_count": null,
   "metadata": {},
   "outputs": [],
   "source": []
  },
  {
   "cell_type": "code",
   "execution_count": 1,
   "metadata": {},
   "outputs": [
    {
     "name": "stderr",
     "output_type": "stream",
     "text": [
      "C:\\Users\\yangsy-c\\Anaconda3\\lib\\site-packages\\akshare\\__init__.py:2470: UserWarning: 为了支持更多特性，AKShare 将于 2023-07-01 停止对 Python 3.7 及以下版本的支持，请尽快升级 Python 版本\n",
      "  \"为了支持更多特性，AKShare 将于 2023-07-01 停止对 Python 3.7 及以下版本的支持，请尽快升级 Python 版本\"\n"
     ]
    }
   ],
   "source": [
    "import akshare as ak\n",
    "import pandas as pd\n",
    "import numpy as np"
   ]
  },
  {
   "cell_type": "code",
   "execution_count": 2,
   "metadata": {},
   "outputs": [],
   "source": [
    "\n",
    "# 深证的\n",
    "shenzhen_df = ak.stock_info_sz_name_code(symbol=\"A股列表\")\n",
    "shenzhen_df.columns = [\"board\", \"code\", \"name\", \"ipo_time\", \"sum_share\", \"fluent_share\", \"industry\"]\n",
    "shenzhen_df[\"fluent_share\"] = shenzhen_df[\"fluent_share\"].apply(lambda x: x.replace(\",\", '')).astype(float)\n",
    "shenzhen_df[\"sum_share\"] = shenzhen_df[\"sum_share\"].apply(lambda x: x.replace(\",\", '')).astype(float)\n",
    "shenzhen_df[\"sum_share\"] = shenzhen_df[\"sum_share\"] / 100000000\n",
    "shenzhen_df[\"fluent_share\"] = shenzhen_df[\"fluent_share\"] / 100000000\n",
    "\n",
    "shenzhen_df[\"industry\"] = shenzhen_df[\"industry\"].apply(lambda x: x[2:])\n",
    "shenzhen_df[\"city\"] = [\"深圳\" for i in range(len(shenzhen_df))]"
   ]
  },
  {
   "cell_type": "code",
   "execution_count": 3,
   "metadata": {},
   "outputs": [
    {
     "data": {
      "text/html": [
       "<div>\n",
       "<style scoped>\n",
       "    .dataframe tbody tr th:only-of-type {\n",
       "        vertical-align: middle;\n",
       "    }\n",
       "\n",
       "    .dataframe tbody tr th {\n",
       "        vertical-align: top;\n",
       "    }\n",
       "\n",
       "    .dataframe thead th {\n",
       "        text-align: right;\n",
       "    }\n",
       "</style>\n",
       "<table border=\"1\" class=\"dataframe\">\n",
       "  <thead>\n",
       "    <tr style=\"text-align: right;\">\n",
       "      <th></th>\n",
       "      <th>board</th>\n",
       "      <th>code</th>\n",
       "      <th>name</th>\n",
       "      <th>ipo_time</th>\n",
       "      <th>sum_share</th>\n",
       "      <th>fluent_share</th>\n",
       "      <th>industry</th>\n",
       "      <th>city</th>\n",
       "    </tr>\n",
       "  </thead>\n",
       "  <tbody>\n",
       "    <tr>\n",
       "      <th>0</th>\n",
       "      <td>主板</td>\n",
       "      <td>000001</td>\n",
       "      <td>平安银行</td>\n",
       "      <td>1991-04-03</td>\n",
       "      <td>194.059182</td>\n",
       "      <td>194.055134</td>\n",
       "      <td>金融业</td>\n",
       "      <td>深圳</td>\n",
       "    </tr>\n",
       "    <tr>\n",
       "      <th>1</th>\n",
       "      <td>主板</td>\n",
       "      <td>000002</td>\n",
       "      <td>万  科Ａ</td>\n",
       "      <td>1991-01-29</td>\n",
       "      <td>97.241965</td>\n",
       "      <td>97.169359</td>\n",
       "      <td>房地产</td>\n",
       "      <td>深圳</td>\n",
       "    </tr>\n",
       "    <tr>\n",
       "      <th>2</th>\n",
       "      <td>主板</td>\n",
       "      <td>000004</td>\n",
       "      <td>国华网安</td>\n",
       "      <td>1990-12-01</td>\n",
       "      <td>1.323803</td>\n",
       "      <td>1.262881</td>\n",
       "      <td>信息技术</td>\n",
       "      <td>深圳</td>\n",
       "    </tr>\n",
       "    <tr>\n",
       "      <th>3</th>\n",
       "      <td>主板</td>\n",
       "      <td>000005</td>\n",
       "      <td>ST星源</td>\n",
       "      <td>1990-12-10</td>\n",
       "      <td>10.585368</td>\n",
       "      <td>10.578757</td>\n",
       "      <td>公共环保</td>\n",
       "      <td>深圳</td>\n",
       "    </tr>\n",
       "    <tr>\n",
       "      <th>4</th>\n",
       "      <td>主板</td>\n",
       "      <td>000006</td>\n",
       "      <td>深振业Ａ</td>\n",
       "      <td>1992-04-27</td>\n",
       "      <td>13.499950</td>\n",
       "      <td>13.499874</td>\n",
       "      <td>房地产</td>\n",
       "      <td>深圳</td>\n",
       "    </tr>\n",
       "  </tbody>\n",
       "</table>\n",
       "</div>"
      ],
      "text/plain": [
       "  board    code   name    ipo_time   sum_share  fluent_share industry city\n",
       "0    主板  000001   平安银行  1991-04-03  194.059182    194.055134      金融业   深圳\n",
       "1    主板  000002  万  科Ａ  1991-01-29   97.241965     97.169359      房地产   深圳\n",
       "2    主板  000004   国华网安  1990-12-01    1.323803      1.262881     信息技术   深圳\n",
       "3    主板  000005   ST星源  1990-12-10   10.585368     10.578757     公共环保   深圳\n",
       "4    主板  000006   深振业Ａ  1992-04-27   13.499950     13.499874      房地产   深圳"
      ]
     },
     "execution_count": 3,
     "metadata": {},
     "output_type": "execute_result"
    }
   ],
   "source": [
    "shenzhen_df.head()"
   ]
  },
  {
   "cell_type": "code",
   "execution_count": 5,
   "metadata": {},
   "outputs": [],
   "source": [
    "# 上证的,主板和科创板分开\n",
    "shanghai_main_df = ak.stock_info_sh_name_code(symbol=\"主板A股\")\n",
    "shanghai_kc_df = ak.stock_info_sh_name_code(symbol=\"科创板\")\n",
    "shanghai_main_df[\"板块\"] = [\"主板\" for i in range(len(shanghai_main_df))]\n",
    "shanghai_kc_df[\"板块\"] = [\"科创板\" for i in range(len(shanghai_kc_df))]\n",
    "\n",
    "# 拼接\n",
    "shanghai_df = pd.concat([shanghai_main_df, shanghai_kc_df], axis=0)\n",
    "shanghai_df.columns = [\"code\", \"name\", \"full_name\", \"ipo_time\", \"board\"]\n",
    "shanghai_df[\"city\"] = [\"上海\" for i in range(len(shanghai_df))]\n",
    "\n",
    "# 上证的总股本,行业,需要通过东方财富的接口拿\n",
    "shanghai_stocks = list(shanghai_df[\"code\"])\n",
    "shanghai_sum_share = []\n",
    "shanghai_fluent_share = []\n",
    "shanghai_industry = []\n",
    "for stock in shanghai_stocks:\n",
    "    temp = ak.stock_individual_info_em(symbol=stock)\n",
    "    shanghai_industry.append(temp[\"value\"][2])\n",
    "    shanghai_sum_share.append(temp[\"value\"][6])\n",
    "    shanghai_fluent_share.append(temp[\"value\"][7])\n",
    "\n",
    "# 拿到之后拼接处理\n",
    "shanghai_df[\"industry\"] = shanghai_industry\n",
    "shanghai_df[\"sum_share\"] = shanghai_sum_share\n",
    "shanghai_df[\"fluent_share\"] = shanghai_fluent_share\n",
    "shanghai_df[\"sum_share\"] = shanghai_df[\"sum_share\"] / 100000000\n",
    "shanghai_df[\"fluent_share\"] = shanghai_df[\"fluent_share\"] / 100000000\n",
    "\n",
    "shanghai_df_res = shanghai_df[[\"board\", \"code\", \"name\", \"ipo_time\", \"sum_share\", \"fluent_share\", \"industry\", \"city\"]]"
   ]
  },
  {
   "cell_type": "code",
   "execution_count": 6,
   "metadata": {
    "scrolled": true
   },
   "outputs": [
    {
     "data": {
      "text/html": [
       "<div>\n",
       "<style scoped>\n",
       "    .dataframe tbody tr th:only-of-type {\n",
       "        vertical-align: middle;\n",
       "    }\n",
       "\n",
       "    .dataframe tbody tr th {\n",
       "        vertical-align: top;\n",
       "    }\n",
       "\n",
       "    .dataframe thead th {\n",
       "        text-align: right;\n",
       "    }\n",
       "</style>\n",
       "<table border=\"1\" class=\"dataframe\">\n",
       "  <thead>\n",
       "    <tr style=\"text-align: right;\">\n",
       "      <th></th>\n",
       "      <th>board</th>\n",
       "      <th>code</th>\n",
       "      <th>name</th>\n",
       "      <th>ipo_time</th>\n",
       "      <th>sum_share</th>\n",
       "      <th>fluent_share</th>\n",
       "      <th>industry</th>\n",
       "      <th>city</th>\n",
       "    </tr>\n",
       "  </thead>\n",
       "  <tbody>\n",
       "    <tr>\n",
       "      <th>0</th>\n",
       "      <td>主板</td>\n",
       "      <td>600000</td>\n",
       "      <td>浦发银行</td>\n",
       "      <td>1999-11-10</td>\n",
       "      <td>293.521768</td>\n",
       "      <td>293.521768</td>\n",
       "      <td>银行</td>\n",
       "      <td>上海</td>\n",
       "    </tr>\n",
       "    <tr>\n",
       "      <th>1</th>\n",
       "      <td>主板</td>\n",
       "      <td>600004</td>\n",
       "      <td>白云机场</td>\n",
       "      <td>2003-04-28</td>\n",
       "      <td>23.667183</td>\n",
       "      <td>23.667183</td>\n",
       "      <td>航空机场</td>\n",
       "      <td>上海</td>\n",
       "    </tr>\n",
       "    <tr>\n",
       "      <th>2</th>\n",
       "      <td>主板</td>\n",
       "      <td>600006</td>\n",
       "      <td>东风汽车</td>\n",
       "      <td>1999-07-27</td>\n",
       "      <td>20.000000</td>\n",
       "      <td>20.000000</td>\n",
       "      <td>汽车整车</td>\n",
       "      <td>上海</td>\n",
       "    </tr>\n",
       "    <tr>\n",
       "      <th>3</th>\n",
       "      <td>主板</td>\n",
       "      <td>600007</td>\n",
       "      <td>中国国贸</td>\n",
       "      <td>1999-03-12</td>\n",
       "      <td>10.072825</td>\n",
       "      <td>10.072825</td>\n",
       "      <td>房地产开发</td>\n",
       "      <td>上海</td>\n",
       "    </tr>\n",
       "    <tr>\n",
       "      <th>4</th>\n",
       "      <td>主板</td>\n",
       "      <td>600008</td>\n",
       "      <td>首创环保</td>\n",
       "      <td>2000-04-27</td>\n",
       "      <td>73.405907</td>\n",
       "      <td>73.405907</td>\n",
       "      <td>公用事业</td>\n",
       "      <td>上海</td>\n",
       "    </tr>\n",
       "  </tbody>\n",
       "</table>\n",
       "</div>"
      ],
      "text/plain": [
       "  board    code  name    ipo_time   sum_share  fluent_share industry city\n",
       "0    主板  600000  浦发银行  1999-11-10  293.521768    293.521768       银行   上海\n",
       "1    主板  600004  白云机场  2003-04-28   23.667183     23.667183     航空机场   上海\n",
       "2    主板  600006  东风汽车  1999-07-27   20.000000     20.000000     汽车整车   上海\n",
       "3    主板  600007  中国国贸  1999-03-12   10.072825     10.072825    房地产开发   上海\n",
       "4    主板  600008  首创环保  2000-04-27   73.405907     73.405907     公用事业   上海"
      ]
     },
     "execution_count": 6,
     "metadata": {},
     "output_type": "execute_result"
    }
   ],
   "source": [
    "shanghai_df_res.head()"
   ]
  },
  {
   "cell_type": "code",
   "execution_count": 7,
   "metadata": {},
   "outputs": [],
   "source": [
    "shanghai_df_res = shanghai_df[[\"board\", \"code\", \"name\", \"ipo_time\", \"sum_share\", \"fluent_share\", \"industry\", \"city\"]]\n",
    "\n",
    "df = pd.concat([shenzhen_df, shanghai_df_res], axis=0)"
   ]
  },
  {
   "cell_type": "code",
   "execution_count": 8,
   "metadata": {
    "scrolled": true
   },
   "outputs": [
    {
     "name": "stdout",
     "output_type": "stream",
     "text": [
      "<class 'pandas.core.frame.DataFrame'>\n",
      "Int64Index: 5107 entries, 0 to 568\n",
      "Data columns (total 8 columns):\n",
      " #   Column        Non-Null Count  Dtype  \n",
      "---  ------        --------------  -----  \n",
      " 0   board         5107 non-null   object \n",
      " 1   code          5107 non-null   object \n",
      " 2   name          5107 non-null   object \n",
      " 3   ipo_time      5107 non-null   object \n",
      " 4   sum_share     5107 non-null   float64\n",
      " 5   fluent_share  5107 non-null   float64\n",
      " 6   industry      5107 non-null   object \n",
      " 7   city          5107 non-null   object \n",
      "dtypes: float64(2), object(6)\n",
      "memory usage: 359.1+ KB\n"
     ]
    }
   ],
   "source": [
    "df.info()"
   ]
  },
  {
   "cell_type": "code",
   "execution_count": 9,
   "metadata": {
    "scrolled": true
   },
   "outputs": [
    {
     "data": {
      "text/html": [
       "<div>\n",
       "<style scoped>\n",
       "    .dataframe tbody tr th:only-of-type {\n",
       "        vertical-align: middle;\n",
       "    }\n",
       "\n",
       "    .dataframe tbody tr th {\n",
       "        vertical-align: top;\n",
       "    }\n",
       "\n",
       "    .dataframe thead th {\n",
       "        text-align: right;\n",
       "    }\n",
       "</style>\n",
       "<table border=\"1\" class=\"dataframe\">\n",
       "  <thead>\n",
       "    <tr style=\"text-align: right;\">\n",
       "      <th></th>\n",
       "      <th>board</th>\n",
       "      <th>code</th>\n",
       "      <th>name</th>\n",
       "      <th>ipo_time</th>\n",
       "      <th>sum_share</th>\n",
       "      <th>fluent_share</th>\n",
       "      <th>industry</th>\n",
       "      <th>city</th>\n",
       "    </tr>\n",
       "  </thead>\n",
       "  <tbody>\n",
       "    <tr>\n",
       "      <th>0</th>\n",
       "      <td>主板</td>\n",
       "      <td>000001</td>\n",
       "      <td>平安银行</td>\n",
       "      <td>1991-04-03</td>\n",
       "      <td>194.059182</td>\n",
       "      <td>194.055134</td>\n",
       "      <td>金融业</td>\n",
       "      <td>深圳</td>\n",
       "    </tr>\n",
       "    <tr>\n",
       "      <th>1</th>\n",
       "      <td>主板</td>\n",
       "      <td>000002</td>\n",
       "      <td>万  科Ａ</td>\n",
       "      <td>1991-01-29</td>\n",
       "      <td>97.241965</td>\n",
       "      <td>97.169359</td>\n",
       "      <td>房地产</td>\n",
       "      <td>深圳</td>\n",
       "    </tr>\n",
       "    <tr>\n",
       "      <th>2</th>\n",
       "      <td>主板</td>\n",
       "      <td>000004</td>\n",
       "      <td>国华网安</td>\n",
       "      <td>1990-12-01</td>\n",
       "      <td>1.323803</td>\n",
       "      <td>1.262881</td>\n",
       "      <td>信息技术</td>\n",
       "      <td>深圳</td>\n",
       "    </tr>\n",
       "    <tr>\n",
       "      <th>3</th>\n",
       "      <td>主板</td>\n",
       "      <td>000005</td>\n",
       "      <td>ST星源</td>\n",
       "      <td>1990-12-10</td>\n",
       "      <td>10.585368</td>\n",
       "      <td>10.578757</td>\n",
       "      <td>公共环保</td>\n",
       "      <td>深圳</td>\n",
       "    </tr>\n",
       "    <tr>\n",
       "      <th>4</th>\n",
       "      <td>主板</td>\n",
       "      <td>000006</td>\n",
       "      <td>深振业Ａ</td>\n",
       "      <td>1992-04-27</td>\n",
       "      <td>13.499950</td>\n",
       "      <td>13.499874</td>\n",
       "      <td>房地产</td>\n",
       "      <td>深圳</td>\n",
       "    </tr>\n",
       "  </tbody>\n",
       "</table>\n",
       "</div>"
      ],
      "text/plain": [
       "  board    code   name    ipo_time   sum_share  fluent_share industry city\n",
       "0    主板  000001   平安银行  1991-04-03  194.059182    194.055134      金融业   深圳\n",
       "1    主板  000002  万  科Ａ  1991-01-29   97.241965     97.169359      房地产   深圳\n",
       "2    主板  000004   国华网安  1990-12-01    1.323803      1.262881     信息技术   深圳\n",
       "3    主板  000005   ST星源  1990-12-10   10.585368     10.578757     公共环保   深圳\n",
       "4    主板  000006   深振业Ａ  1992-04-27   13.499950     13.499874      房地产   深圳"
      ]
     },
     "execution_count": 9,
     "metadata": {},
     "output_type": "execute_result"
    }
   ],
   "source": [
    "df.head()"
   ]
  },
  {
   "cell_type": "code",
   "execution_count": null,
   "metadata": {},
   "outputs": [],
   "source": [
    "import akshare as ak\n",
    "import pandas as pd\n",
    "import numpy as np\n",
    "import random,time\n",
    "\n",
    "def getStocksInfo():\n",
    "    # 深证的\n",
    "    shenzhen_df = ak.stock_info_sz_name_code(symbol=\"A股列表\")\n",
    "    shenzhen_df.columns = [\"board\", \"code\", \"name\", \"ipo_time\", \"sum_share\", \"fluent_share\", \"industry\"]\n",
    "    shenzhen_df[\"fluent_share\"] = shenzhen_df[\"fluent_share\"].apply(lambda x: x.replace(\",\", '')).astype(float)\n",
    "    shenzhen_df[\"sum_share\"] = shenzhen_df[\"sum_share\"].apply(lambda x: x.replace(\",\", '')).astype(float)\n",
    "    shenzhen_df[\"sum_share\"] = shenzhen_df[\"sum_share\"] / 100000000\n",
    "    shenzhen_df[\"fluent_share\"] = shenzhen_df[\"fluent_share\"] / 100000000\n",
    "\n",
    "    shenzhen_df[\"industry\"] = shenzhen_df[\"industry\"].apply(lambda x: x[2:])\n",
    "    shenzhen_df[\"city\"] = [\"深圳\" for i in range(len(shenzhen_df))]\n",
    "\n",
    "    # 上证的,主板和科创板分开\n",
    "    shanghai_main_df = ak.stock_info_sh_name_code(symbol=\"主板A股\")\n",
    "    shanghai_kc_df = ak.stock_info_sh_name_code(symbol=\"科创板\")\n",
    "    shanghai_main_df[\"板块\"] = [\"主板\" for i in range(len(shanghai_main_df))]\n",
    "    shanghai_kc_df[\"板块\"] = [\"科创板\" for i in range(len(shanghai_kc_df))]\n",
    "\n",
    "    # 拼接\n",
    "    shanghai_df = pd.concat([shanghai_main_df, shanghai_kc_df], axis=0)\n",
    "\n",
    "    shanghai_df.columns = [\"code\", \"name\", \"full_name\", \"ipo_time\", \"board\"]\n",
    "    shanghai_df[\"city\"] = [\"上海\" for i in range(len(shanghai_df))]\n",
    "\n",
    "    # 上证的总股本,行业,需要通过东方财富的接口拿\n",
    "    shanghai_stocks = list(shanghai_df[\"code\"])\n",
    "    shanghai_sum_share = []\n",
    "    shanghai_fluent_share = []\n",
    "    shanghai_industry = []\n",
    "\n",
    "    for stock in shanghai_stocks:\n",
    "        sleeptime=random.randint(1, 100)\n",
    "        time.sleep(sleeptime/1000)\n",
    "        temp = ak.stock_individual_info_em(symbol=stock)\n",
    "        shanghai_industry.append(temp[\"value\"][2])\n",
    "        shanghai_sum_share.append(temp[\"value\"][6])\n",
    "        shanghai_fluent_share.append(temp[\"value\"][7])\n",
    "\n",
    "    # 拿到之后拼接处理\n",
    "    shanghai_df[\"industry\"] = shanghai_industry\n",
    "    shanghai_df[\"sum_share\"] = shanghai_sum_share\n",
    "    shanghai_df[\"fluent_share\"] = shanghai_fluent_share\n",
    "    shanghai_df[\"sum_share\"] = shanghai_df[\"sum_share\"] / 100000000\n",
    "    shanghai_df[\"fluent_share\"] = shanghai_df[\"fluent_share\"] / 100000000\n",
    "\n",
    "    shanghai_df_res = shanghai_df[[\"board\", \"code\", \"name\", \"ipo_time\", \"sum_share\", \"fluent_share\", \"industry\", \"city\"]]\n",
    "\n",
    "    df = pd.concat([shenzhen_df, shanghai_df_res], axis=0)\n",
    "    df = [[\"code\", \"name\", \"ipo_time\", \"sum_share\", \"fluent_share\", \"industry\", \"city\", \"board\"]]\n",
    "    return df\n"
   ]
  },
  {
   "cell_type": "code",
   "execution_count": null,
   "metadata": {},
   "outputs": [],
   "source": [
    "df = getStocksInfo()"
   ]
  },
  {
   "cell_type": "code",
   "execution_count": null,
   "metadata": {},
   "outputs": [],
   "source": []
  },
  {
   "cell_type": "code",
   "execution_count": null,
   "metadata": {},
   "outputs": [],
   "source": []
  },
  {
   "cell_type": "code",
   "execution_count": null,
   "metadata": {},
   "outputs": [],
   "source": []
  },
  {
   "cell_type": "code",
   "execution_count": 1,
   "metadata": {},
   "outputs": [
    {
     "name": "stderr",
     "output_type": "stream",
     "text": [
      "C:\\Users\\yangsy-c\\Anaconda3\\lib\\site-packages\\akshare\\__init__.py:2470: UserWarning: 为了支持更多特性，AKShare 将于 2023-07-01 停止对 Python 3.7 及以下版本的支持，请尽快升级 Python 版本\n",
      "  \"为了支持更多特性，AKShare 将于 2023-07-01 停止对 Python 3.7 及以下版本的支持，请尽快升级 Python 版本\"\n"
     ]
    }
   ],
   "source": [
    "import time\n",
    "import random\n",
    "\n",
    "import akshare as ak\n",
    "import pandas as pd\n",
    "import numpy as np"
   ]
  },
  {
   "cell_type": "code",
   "execution_count": 2,
   "metadata": {},
   "outputs": [],
   "source": [
    "def getShenzhen():\n",
    "    # 深证的\n",
    "    shenzhen_df = ak.stock_info_sz_name_code(symbol=\"A股列表\")\n",
    "    shenzhen_df.columns = [\"board\", \"code\", \"name\", \"ipo_time\", \"sum_share\", \"fluent_share\", \"industry\"]\n",
    "    shenzhen_df[\"fluent_share\"] = shenzhen_df[\"fluent_share\"].apply(lambda x: x.replace(\",\", '')).astype(float)\n",
    "    shenzhen_df[\"sum_share\"] = shenzhen_df[\"sum_share\"].apply(lambda x: x.replace(\",\", '')).astype(float)\n",
    "    shenzhen_df[\"sum_share\"] = shenzhen_df[\"sum_share\"] / 100000000\n",
    "    shenzhen_df[\"fluent_share\"] = shenzhen_df[\"fluent_share\"] / 100000000\n",
    "\n",
    "    shenzhen_df[\"industry\"] = shenzhen_df[\"industry\"].apply(lambda x: x[2:])\n",
    "    shenzhen_df[\"city\"] = [\"深圳\" for i in range(len(shenzhen_df))]\n",
    "    return shenzhen_df"
   ]
  },
  {
   "cell_type": "code",
   "execution_count": 3,
   "metadata": {},
   "outputs": [],
   "source": [
    "shenzhen_df = getShenzhen()"
   ]
  },
  {
   "cell_type": "code",
   "execution_count": 4,
   "metadata": {
    "scrolled": true
   },
   "outputs": [
    {
     "data": {
      "text/html": [
       "<div>\n",
       "<style scoped>\n",
       "    .dataframe tbody tr th:only-of-type {\n",
       "        vertical-align: middle;\n",
       "    }\n",
       "\n",
       "    .dataframe tbody tr th {\n",
       "        vertical-align: top;\n",
       "    }\n",
       "\n",
       "    .dataframe thead th {\n",
       "        text-align: right;\n",
       "    }\n",
       "</style>\n",
       "<table border=\"1\" class=\"dataframe\">\n",
       "  <thead>\n",
       "    <tr style=\"text-align: right;\">\n",
       "      <th></th>\n",
       "      <th>board</th>\n",
       "      <th>code</th>\n",
       "      <th>name</th>\n",
       "      <th>ipo_time</th>\n",
       "      <th>sum_share</th>\n",
       "      <th>fluent_share</th>\n",
       "      <th>industry</th>\n",
       "      <th>city</th>\n",
       "    </tr>\n",
       "  </thead>\n",
       "  <tbody>\n",
       "    <tr>\n",
       "      <th>0</th>\n",
       "      <td>主板</td>\n",
       "      <td>000001</td>\n",
       "      <td>平安银行</td>\n",
       "      <td>1991-04-03</td>\n",
       "      <td>194.059182</td>\n",
       "      <td>194.055134</td>\n",
       "      <td>金融业</td>\n",
       "      <td>深圳</td>\n",
       "    </tr>\n",
       "    <tr>\n",
       "      <th>1</th>\n",
       "      <td>主板</td>\n",
       "      <td>000002</td>\n",
       "      <td>万  科Ａ</td>\n",
       "      <td>1991-01-29</td>\n",
       "      <td>97.241965</td>\n",
       "      <td>97.169359</td>\n",
       "      <td>房地产</td>\n",
       "      <td>深圳</td>\n",
       "    </tr>\n",
       "    <tr>\n",
       "      <th>2</th>\n",
       "      <td>主板</td>\n",
       "      <td>000004</td>\n",
       "      <td>国华网安</td>\n",
       "      <td>1990-12-01</td>\n",
       "      <td>1.323803</td>\n",
       "      <td>1.262881</td>\n",
       "      <td>信息技术</td>\n",
       "      <td>深圳</td>\n",
       "    </tr>\n",
       "    <tr>\n",
       "      <th>3</th>\n",
       "      <td>主板</td>\n",
       "      <td>000005</td>\n",
       "      <td>ST星源</td>\n",
       "      <td>1990-12-10</td>\n",
       "      <td>10.585368</td>\n",
       "      <td>10.578757</td>\n",
       "      <td>公共环保</td>\n",
       "      <td>深圳</td>\n",
       "    </tr>\n",
       "    <tr>\n",
       "      <th>4</th>\n",
       "      <td>主板</td>\n",
       "      <td>000006</td>\n",
       "      <td>深振业Ａ</td>\n",
       "      <td>1992-04-27</td>\n",
       "      <td>13.499950</td>\n",
       "      <td>13.499874</td>\n",
       "      <td>房地产</td>\n",
       "      <td>深圳</td>\n",
       "    </tr>\n",
       "  </tbody>\n",
       "</table>\n",
       "</div>"
      ],
      "text/plain": [
       "  board    code   name    ipo_time   sum_share  fluent_share industry city\n",
       "0    主板  000001   平安银行  1991-04-03  194.059182    194.055134      金融业   深圳\n",
       "1    主板  000002  万  科Ａ  1991-01-29   97.241965     97.169359      房地产   深圳\n",
       "2    主板  000004   国华网安  1990-12-01    1.323803      1.262881     信息技术   深圳\n",
       "3    主板  000005   ST星源  1990-12-10   10.585368     10.578757     公共环保   深圳\n",
       "4    主板  000006   深振业Ａ  1992-04-27   13.499950     13.499874      房地产   深圳"
      ]
     },
     "execution_count": 4,
     "metadata": {},
     "output_type": "execute_result"
    }
   ],
   "source": [
    "shenzhen_df.head()"
   ]
  },
  {
   "cell_type": "code",
   "execution_count": 6,
   "metadata": {
    "scrolled": false
   },
   "outputs": [
    {
     "data": {
      "text/html": [
       "<div>\n",
       "<style scoped>\n",
       "    .dataframe tbody tr th:only-of-type {\n",
       "        vertical-align: middle;\n",
       "    }\n",
       "\n",
       "    .dataframe tbody tr th {\n",
       "        vertical-align: top;\n",
       "    }\n",
       "\n",
       "    .dataframe thead th {\n",
       "        text-align: right;\n",
       "    }\n",
       "</style>\n",
       "<table border=\"1\" class=\"dataframe\">\n",
       "  <thead>\n",
       "    <tr style=\"text-align: right;\">\n",
       "      <th></th>\n",
       "      <th>board</th>\n",
       "      <th>code</th>\n",
       "      <th>name</th>\n",
       "      <th>ipo_time</th>\n",
       "      <th>sum_share</th>\n",
       "      <th>fluent_share</th>\n",
       "      <th>industry</th>\n",
       "      <th>city</th>\n",
       "    </tr>\n",
       "  </thead>\n",
       "  <tbody>\n",
       "    <tr>\n",
       "      <th>513</th>\n",
       "      <td>主板</td>\n",
       "      <td>001379</td>\n",
       "      <td>腾达科技</td>\n",
       "      <td>2024-01-19</td>\n",
       "      <td>2.000000</td>\n",
       "      <td>0.489981</td>\n",
       "      <td>制造业</td>\n",
       "      <td>深圳</td>\n",
       "    </tr>\n",
       "    <tr>\n",
       "      <th>515</th>\n",
       "      <td>主板</td>\n",
       "      <td>001387</td>\n",
       "      <td>雪祺电气</td>\n",
       "      <td>2024-01-11</td>\n",
       "      <td>1.367600</td>\n",
       "      <td>0.335056</td>\n",
       "      <td>制造业</td>\n",
       "      <td>深圳</td>\n",
       "    </tr>\n",
       "    <tr>\n",
       "      <th>2811</th>\n",
       "      <td>创业板</td>\n",
       "      <td>301502</td>\n",
       "      <td>华阳智能</td>\n",
       "      <td>2024-02-02</td>\n",
       "      <td>0.570835</td>\n",
       "      <td>0.135321</td>\n",
       "      <td>制造业</td>\n",
       "      <td>深圳</td>\n",
       "    </tr>\n",
       "    <tr>\n",
       "      <th>2837</th>\n",
       "      <td>创业板</td>\n",
       "      <td>301567</td>\n",
       "      <td>贝隆精密</td>\n",
       "      <td>2024-01-16</td>\n",
       "      <td>0.720000</td>\n",
       "      <td>0.180000</td>\n",
       "      <td>制造业</td>\n",
       "      <td>深圳</td>\n",
       "    </tr>\n",
       "    <tr>\n",
       "      <th>2839</th>\n",
       "      <td>创业板</td>\n",
       "      <td>301577</td>\n",
       "      <td>美信科技</td>\n",
       "      <td>2024-01-24</td>\n",
       "      <td>0.442600</td>\n",
       "      <td>0.110951</td>\n",
       "      <td>制造业</td>\n",
       "      <td>深圳</td>\n",
       "    </tr>\n",
       "    <tr>\n",
       "      <th>2841</th>\n",
       "      <td>创业板</td>\n",
       "      <td>301589</td>\n",
       "      <td>C诺瓦星云</td>\n",
       "      <td>2024-02-08</td>\n",
       "      <td>0.513600</td>\n",
       "      <td>0.077021</td>\n",
       "      <td>制造业</td>\n",
       "      <td>深圳</td>\n",
       "    </tr>\n",
       "  </tbody>\n",
       "</table>\n",
       "</div>"
      ],
      "text/plain": [
       "     board    code   name    ipo_time  sum_share  fluent_share industry city\n",
       "513     主板  001379   腾达科技  2024-01-19   2.000000      0.489981      制造业   深圳\n",
       "515     主板  001387   雪祺电气  2024-01-11   1.367600      0.335056      制造业   深圳\n",
       "2811   创业板  301502   华阳智能  2024-02-02   0.570835      0.135321      制造业   深圳\n",
       "2837   创业板  301567   贝隆精密  2024-01-16   0.720000      0.180000      制造业   深圳\n",
       "2839   创业板  301577   美信科技  2024-01-24   0.442600      0.110951      制造业   深圳\n",
       "2841   创业板  301589  C诺瓦星云  2024-02-08   0.513600      0.077021      制造业   深圳"
      ]
     },
     "execution_count": 6,
     "metadata": {},
     "output_type": "execute_result"
    }
   ],
   "source": [
    "shenzhen_df[shenzhen_df[\"ipo_time\"]>\"2024-01-01\"]"
   ]
  },
  {
   "cell_type": "code",
   "execution_count": 8,
   "metadata": {},
   "outputs": [],
   "source": [
    "def getShanghai():\n",
    "    # 上证的,主板和科创板分开\n",
    "    shanghai_main_df = ak.stock_info_sh_name_code(symbol=\"主板A股\")\n",
    "    shanghai_kc_df = ak.stock_info_sh_name_code(symbol=\"科创板\")\n",
    "    shanghai_main_df[\"板块\"] = [\"主板\" for i in range(len(shanghai_main_df))]\n",
    "    shanghai_kc_df[\"板块\"] = [\"科创板\" for i in range(len(shanghai_kc_df))]\n",
    "\n",
    "    # 拼接\n",
    "    shanghai_df = pd.concat([shanghai_main_df, shanghai_kc_df], axis=0)\n",
    "\n",
    "    shanghai_df.columns = [\"code\", \"name\", \"full_name\", \"ipo_time\", \"board\"]\n",
    "    shanghai_df[\"city\"] = [\"上海\" for i in range(len(shanghai_df))]\n",
    "    \n",
    "    return shanghai_df"
   ]
  },
  {
   "cell_type": "code",
   "execution_count": 9,
   "metadata": {},
   "outputs": [],
   "source": [
    "shanghai_df = getShanghai()"
   ]
  },
  {
   "cell_type": "code",
   "execution_count": 10,
   "metadata": {},
   "outputs": [
    {
     "data": {
      "text/html": [
       "<div>\n",
       "<style scoped>\n",
       "    .dataframe tbody tr th:only-of-type {\n",
       "        vertical-align: middle;\n",
       "    }\n",
       "\n",
       "    .dataframe tbody tr th {\n",
       "        vertical-align: top;\n",
       "    }\n",
       "\n",
       "    .dataframe thead th {\n",
       "        text-align: right;\n",
       "    }\n",
       "</style>\n",
       "<table border=\"1\" class=\"dataframe\">\n",
       "  <thead>\n",
       "    <tr style=\"text-align: right;\">\n",
       "      <th></th>\n",
       "      <th>code</th>\n",
       "      <th>name</th>\n",
       "      <th>full_name</th>\n",
       "      <th>ipo_time</th>\n",
       "      <th>board</th>\n",
       "      <th>city</th>\n",
       "    </tr>\n",
       "  </thead>\n",
       "  <tbody>\n",
       "    <tr>\n",
       "      <th>0</th>\n",
       "      <td>600000</td>\n",
       "      <td>浦发银行</td>\n",
       "      <td>上海浦东发展银行股份有限公司</td>\n",
       "      <td>1999-11-10</td>\n",
       "      <td>主板</td>\n",
       "      <td>上海</td>\n",
       "    </tr>\n",
       "    <tr>\n",
       "      <th>1</th>\n",
       "      <td>600004</td>\n",
       "      <td>白云机场</td>\n",
       "      <td>广州白云国际机场股份有限公司</td>\n",
       "      <td>2003-04-28</td>\n",
       "      <td>主板</td>\n",
       "      <td>上海</td>\n",
       "    </tr>\n",
       "    <tr>\n",
       "      <th>2</th>\n",
       "      <td>600006</td>\n",
       "      <td>东风汽车</td>\n",
       "      <td>东风汽车股份有限公司</td>\n",
       "      <td>1999-07-27</td>\n",
       "      <td>主板</td>\n",
       "      <td>上海</td>\n",
       "    </tr>\n",
       "    <tr>\n",
       "      <th>3</th>\n",
       "      <td>600007</td>\n",
       "      <td>中国国贸</td>\n",
       "      <td>中国国际贸易中心股份有限公司</td>\n",
       "      <td>1999-03-12</td>\n",
       "      <td>主板</td>\n",
       "      <td>上海</td>\n",
       "    </tr>\n",
       "    <tr>\n",
       "      <th>4</th>\n",
       "      <td>600008</td>\n",
       "      <td>首创环保</td>\n",
       "      <td>北京首创生态环保集团股份有限公司</td>\n",
       "      <td>2000-04-27</td>\n",
       "      <td>主板</td>\n",
       "      <td>上海</td>\n",
       "    </tr>\n",
       "  </tbody>\n",
       "</table>\n",
       "</div>"
      ],
      "text/plain": [
       "     code  name         full_name    ipo_time board city\n",
       "0  600000  浦发银行    上海浦东发展银行股份有限公司  1999-11-10    主板   上海\n",
       "1  600004  白云机场    广州白云国际机场股份有限公司  2003-04-28    主板   上海\n",
       "2  600006  东风汽车        东风汽车股份有限公司  1999-07-27    主板   上海\n",
       "3  600007  中国国贸    中国国际贸易中心股份有限公司  1999-03-12    主板   上海\n",
       "4  600008  首创环保  北京首创生态环保集团股份有限公司  2000-04-27    主板   上海"
      ]
     },
     "execution_count": 10,
     "metadata": {},
     "output_type": "execute_result"
    }
   ],
   "source": [
    "shanghai_df.head()"
   ]
  }
 ],
 "metadata": {
  "kernelspec": {
   "display_name": "Python 3",
   "language": "python",
   "name": "python3"
  },
  "language_info": {
   "codemirror_mode": {
    "name": "ipython",
    "version": 3
   },
   "file_extension": ".py",
   "mimetype": "text/x-python",
   "name": "python",
   "nbconvert_exporter": "python",
   "pygments_lexer": "ipython3",
   "version": "3.7.6"
  }
 },
 "nbformat": 4,
 "nbformat_minor": 4
}
