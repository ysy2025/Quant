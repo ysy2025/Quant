{
 "cells": [
  {
   "cell_type": "code",
   "execution_count": 1,
   "metadata": {},
   "outputs": [
    {
     "name": "stderr",
     "output_type": "stream",
     "text": [
      "C:\\Users\\yangsy-c\\Anaconda3\\lib\\importlib\\_bootstrap.py:219: RuntimeWarning: numpy.ufunc size changed, may indicate binary incompatibility. Expected 192 from C header, got 216 from PyObject\n",
      "  return f(*args, **kwds)\n"
     ]
    }
   ],
   "source": [
    "import pandas as pd\n",
    "import numpy as np\n",
    "import matplotlib.pyplot as plt"
   ]
  },
  {
   "cell_type": "code",
   "execution_count": 4,
   "metadata": {},
   "outputs": [
    {
     "name": "stdout",
     "output_type": "stream",
     "text": [
      "login success!\n",
      "login respond error_code:0\n",
      "login respond  error_msg:success\n",
      "<class 'pandas.core.frame.DataFrame'>\n",
      "RangeIndex: 360 entries, 0 to 359\n",
      "Data columns (total 7 columns):\n",
      " #   Column  Non-Null Count  Dtype \n",
      "---  ------  --------------  ----- \n",
      " 0   date    360 non-null    object\n",
      " 1   code    360 non-null    object\n",
      " 2   open    360 non-null    object\n",
      " 3   high    360 non-null    object\n",
      " 4   low     360 non-null    object\n",
      " 5   close   360 non-null    object\n",
      " 6   volume  360 non-null    object\n",
      "dtypes: object(7)\n",
      "memory usage: 19.8+ KB\n",
      "None\n"
     ]
    }
   ],
   "source": [
    "import baostock as bs\n",
    "#### 登陆系统 ####\n",
    "lg = bs.login()\n",
    "# 显示登陆返回信息\n",
    "print('login respond error_code:' + lg.error_code)\n",
    "print('login respond  error_msg:' + lg.error_msg)\n",
    "\n",
    "# 获取茅台的收盘价\n",
    "maotai = bs.query_history_k_data_plus(\"sz.300750\", \"date,code,open,high,low,close,volume\", start_date='2020-01-01',\n",
    "                                      end_date='2021-06-29', frequency=\"d\", adjustflag=\"3\")\n",
    "data_list = []\n",
    "while (maotai.error_code == '0') & maotai.next():\n",
    "    # 获取一条记录，将记录合并在一起\n",
    "    data_list.append(maotai.get_row_data())\n",
    "mt = pd.DataFrame(data_list, columns=maotai.fields)\n",
    "print(mt.info())"
   ]
  },
  {
   "cell_type": "code",
   "execution_count": 5,
   "metadata": {
    "scrolled": true
   },
   "outputs": [
    {
     "data": {
      "text/html": [
       "<div>\n",
       "<style scoped>\n",
       "    .dataframe tbody tr th:only-of-type {\n",
       "        vertical-align: middle;\n",
       "    }\n",
       "\n",
       "    .dataframe tbody tr th {\n",
       "        vertical-align: top;\n",
       "    }\n",
       "\n",
       "    .dataframe thead th {\n",
       "        text-align: right;\n",
       "    }\n",
       "</style>\n",
       "<table border=\"1\" class=\"dataframe\">\n",
       "  <thead>\n",
       "    <tr style=\"text-align: right;\">\n",
       "      <th></th>\n",
       "      <th>date</th>\n",
       "      <th>code</th>\n",
       "      <th>open</th>\n",
       "      <th>high</th>\n",
       "      <th>low</th>\n",
       "      <th>close</th>\n",
       "      <th>volume</th>\n",
       "    </tr>\n",
       "  </thead>\n",
       "  <tbody>\n",
       "    <tr>\n",
       "      <th>0</th>\n",
       "      <td>2020-01-02</td>\n",
       "      <td>sz.300750</td>\n",
       "      <td>107.2100</td>\n",
       "      <td>108.8500</td>\n",
       "      <td>105.7000</td>\n",
       "      <td>107.5200</td>\n",
       "      <td>20611589</td>\n",
       "    </tr>\n",
       "    <tr>\n",
       "      <th>1</th>\n",
       "      <td>2020-01-03</td>\n",
       "      <td>sz.300750</td>\n",
       "      <td>107.5200</td>\n",
       "      <td>110.1900</td>\n",
       "      <td>105.9700</td>\n",
       "      <td>109.5500</td>\n",
       "      <td>18084178</td>\n",
       "    </tr>\n",
       "    <tr>\n",
       "      <th>2</th>\n",
       "      <td>2020-01-06</td>\n",
       "      <td>sz.300750</td>\n",
       "      <td>111.3000</td>\n",
       "      <td>114.5000</td>\n",
       "      <td>107.8000</td>\n",
       "      <td>109.0900</td>\n",
       "      <td>26500200</td>\n",
       "    </tr>\n",
       "    <tr>\n",
       "      <th>3</th>\n",
       "      <td>2020-01-07</td>\n",
       "      <td>sz.300750</td>\n",
       "      <td>109.0100</td>\n",
       "      <td>109.6400</td>\n",
       "      <td>107.4100</td>\n",
       "      <td>108.5000</td>\n",
       "      <td>13507544</td>\n",
       "    </tr>\n",
       "    <tr>\n",
       "      <th>4</th>\n",
       "      <td>2020-01-08</td>\n",
       "      <td>sz.300750</td>\n",
       "      <td>109.0100</td>\n",
       "      <td>111.5000</td>\n",
       "      <td>107.1000</td>\n",
       "      <td>109.6000</td>\n",
       "      <td>19224068</td>\n",
       "    </tr>\n",
       "  </tbody>\n",
       "</table>\n",
       "</div>"
      ],
      "text/plain": [
       "         date       code      open      high       low     close    volume\n",
       "0  2020-01-02  sz.300750  107.2100  108.8500  105.7000  107.5200  20611589\n",
       "1  2020-01-03  sz.300750  107.5200  110.1900  105.9700  109.5500  18084178\n",
       "2  2020-01-06  sz.300750  111.3000  114.5000  107.8000  109.0900  26500200\n",
       "3  2020-01-07  sz.300750  109.0100  109.6400  107.4100  108.5000  13507544\n",
       "4  2020-01-08  sz.300750  109.0100  111.5000  107.1000  109.6000  19224068"
      ]
     },
     "execution_count": 5,
     "metadata": {},
     "output_type": "execute_result"
    }
   ],
   "source": [
    "mt.head(5)"
   ]
  },
  {
   "cell_type": "code",
   "execution_count": 15,
   "metadata": {},
   "outputs": [
    {
     "data": {
      "text/plain": [
       "Index(['date', 'code', 'open', 'high', 'low', 'close', 'volume'], dtype='object')"
      ]
     },
     "execution_count": 15,
     "metadata": {},
     "output_type": "execute_result"
    }
   ],
   "source": [
    "mt.columns"
   ]
  },
  {
   "cell_type": "code",
   "execution_count": 22,
   "metadata": {},
   "outputs": [],
   "source": [
    "mt['date'] = mt['date'].astype('string')\n",
    "mt['code'] = mt['code'].astype('string')"
   ]
  },
  {
   "cell_type": "code",
   "execution_count": 21,
   "metadata": {},
   "outputs": [],
   "source": [
    "for each in ['open', 'high', 'low', 'close', 'volume']:\n",
    "    mt[each] = mt[each].astype('float')"
   ]
  },
  {
   "cell_type": "code",
   "execution_count": 23,
   "metadata": {},
   "outputs": [
    {
     "name": "stdout",
     "output_type": "stream",
     "text": [
      "<class 'pandas.core.frame.DataFrame'>\n",
      "RangeIndex: 360 entries, 0 to 359\n",
      "Data columns (total 7 columns):\n",
      " #   Column  Non-Null Count  Dtype  \n",
      "---  ------  --------------  -----  \n",
      " 0   date    360 non-null    string \n",
      " 1   code    360 non-null    string \n",
      " 2   open    360 non-null    float64\n",
      " 3   high    360 non-null    float64\n",
      " 4   low     360 non-null    float64\n",
      " 5   close   360 non-null    float64\n",
      " 6   volume  360 non-null    float64\n",
      "dtypes: float64(5), string(2)\n",
      "memory usage: 19.8 KB\n"
     ]
    }
   ],
   "source": [
    "mt.info()"
   ]
  },
  {
   "cell_type": "code",
   "execution_count": 32,
   "metadata": {
    "scrolled": true
   },
   "outputs": [
    {
     "data": {
      "text/plain": [
       "[<matplotlib.lines.Line2D at 0x2181c25a248>]"
      ]
     },
     "execution_count": 32,
     "metadata": {},
     "output_type": "execute_result"
    },
    {
     "data": {
      "image/png": "[encoded data removed]",
      "text/plain": [
       "<Figure size 1080x504 with 1 Axes>"
      ]
     },
     "metadata": {},
     "output_type": "display_data"
    }
   ],
   "source": [
    "%matplotlib inline\n",
    "plt.style.use('Solarize_Light2')\n",
    "plt.figure(figsize=(15,7))\n",
    "plt.plot(range(len(mt['close'].to_list())), mt['close'])"
   ]
  },
  {
   "cell_type": "code",
   "execution_count": 27,
   "metadata": {},
   "outputs": [
    {
     "name": "stdout",
     "output_type": "stream",
     "text": [
      "Help on package matplotlib.style in matplotlib:\n",
      "\n",
      "NAME\n",
      "    matplotlib.style\n",
      "\n",
      "PACKAGE CONTENTS\n",
      "    core\n",
      "\n",
      "DATA\n",
      "    available = ['bmh', 'classic', 'dark_background', 'fast', 'fivethirtye...\n",
      "    library = {'Solarize_Light2': RcParams({'axes.axisbelow': True,\n",
      "          ...\n",
      "\n",
      "FILE\n",
      "    c:\\users\\yangsy-c\\anaconda3\\lib\\site-packages\\matplotlib\\style\\__init__.py\n",
      "\n",
      "\n"
     ]
    }
   ],
   "source": [
    "help(plt.style)"
   ]
  },
  {
   "cell_type": "code",
   "execution_count": 36,
   "metadata": {
    "scrolled": true
   },
   "outputs": [
    {
     "data": {
      "image/png": "[encoded data removed]",
      "text/plain": [
       "<Figure size 432x288 with 2 Axes>"
      ]
     },
     "metadata": {},
     "output_type": "display_data"
    }
   ],
   "source": [
    "plt.figure()\n",
    "plt.subplot(211)\n",
    "plt.plot(range(len(mt['close'].to_list())), mt['close'], color='tab:blue', marker='o')\n",
    "plt.subplot(212)\n",
    "plt.plot(range(len(mt['close'].to_list())), mt['volume'], color='black')\n",
    "plt.show()"
   ]
  },
  {
   "cell_type": "code",
   "execution_count": 37,
   "metadata": {},
   "outputs": [
    {
     "data": {
      "text/html": [
       "<div>\n",
       "<style scoped>\n",
       "    .dataframe tbody tr th:only-of-type {\n",
       "        vertical-align: middle;\n",
       "    }\n",
       "\n",
       "    .dataframe tbody tr th {\n",
       "        vertical-align: top;\n",
       "    }\n",
       "\n",
       "    .dataframe thead th {\n",
       "        text-align: right;\n",
       "    }\n",
       "</style>\n",
       "<table border=\"1\" class=\"dataframe\">\n",
       "  <thead>\n",
       "    <tr style=\"text-align: right;\">\n",
       "      <th></th>\n",
       "      <th>open</th>\n",
       "      <th>high</th>\n",
       "      <th>low</th>\n",
       "      <th>close</th>\n",
       "      <th>volume</th>\n",
       "    </tr>\n",
       "  </thead>\n",
       "  <tbody>\n",
       "    <tr>\n",
       "      <th>count</th>\n",
       "      <td>360.000000</td>\n",
       "      <td>360.000000</td>\n",
       "      <td>360.000000</td>\n",
       "      <td>360.000000</td>\n",
       "      <td>3.600000e+02</td>\n",
       "    </tr>\n",
       "    <tr>\n",
       "      <th>mean</th>\n",
       "      <td>246.218083</td>\n",
       "      <td>252.210972</td>\n",
       "      <td>240.299306</td>\n",
       "      <td>246.645556</td>\n",
       "      <td>1.928764e+07</td>\n",
       "    </tr>\n",
       "    <tr>\n",
       "      <th>std</th>\n",
       "      <td>101.751506</td>\n",
       "      <td>104.341998</td>\n",
       "      <td>99.003173</td>\n",
       "      <td>102.195425</td>\n",
       "      <td>8.834766e+06</td>\n",
       "    </tr>\n",
       "    <tr>\n",
       "      <th>min</th>\n",
       "      <td>107.210000</td>\n",
       "      <td>108.850000</td>\n",
       "      <td>105.010000</td>\n",
       "      <td>107.480000</td>\n",
       "      <td>6.801208e+06</td>\n",
       "    </tr>\n",
       "    <tr>\n",
       "      <th>25%</th>\n",
       "      <td>154.400000</td>\n",
       "      <td>159.285000</td>\n",
       "      <td>150.640000</td>\n",
       "      <td>153.770000</td>\n",
       "      <td>1.298541e+07</td>\n",
       "    </tr>\n",
       "    <tr>\n",
       "      <th>50%</th>\n",
       "      <td>214.150000</td>\n",
       "      <td>220.635000</td>\n",
       "      <td>209.455000</td>\n",
       "      <td>214.925000</td>\n",
       "      <td>1.705230e+07</td>\n",
       "    </tr>\n",
       "    <tr>\n",
       "      <th>75%</th>\n",
       "      <td>335.000000</td>\n",
       "      <td>343.582500</td>\n",
       "      <td>327.230000</td>\n",
       "      <td>336.100000</td>\n",
       "      <td>2.295266e+07</td>\n",
       "    </tr>\n",
       "    <tr>\n",
       "      <th>max</th>\n",
       "      <td>513.650000</td>\n",
       "      <td>519.600000</td>\n",
       "      <td>504.220000</td>\n",
       "      <td>508.510000</td>\n",
       "      <td>5.791899e+07</td>\n",
       "    </tr>\n",
       "  </tbody>\n",
       "</table>\n",
       "</div>"
      ],
      "text/plain": [
       "             open        high         low       close        volume\n",
       "count  360.000000  360.000000  360.000000  360.000000  3.600000e+02\n",
       "mean   246.218083  252.210972  240.299306  246.645556  1.928764e+07\n",
       "std    101.751506  104.341998   99.003173  102.195425  8.834766e+06\n",
       "min    107.210000  108.850000  105.010000  107.480000  6.801208e+06\n",
       "25%    154.400000  159.285000  150.640000  153.770000  1.298541e+07\n",
       "50%    214.150000  220.635000  209.455000  214.925000  1.705230e+07\n",
       "75%    335.000000  343.582500  327.230000  336.100000  2.295266e+07\n",
       "max    513.650000  519.600000  504.220000  508.510000  5.791899e+07"
      ]
     },
     "execution_count": 37,
     "metadata": {},
     "output_type": "execute_result"
    }
   ],
   "source": [
    "mt.describe()"
   ]
  },
  {
   "cell_type": "code",
   "execution_count": 45,
   "metadata": {},
   "outputs": [
    {
     "data": {
      "text/plain": [
       "0     107.21\n",
       "1     107.52\n",
       "2     111.30\n",
       "3     109.01\n",
       "4     109.01\n",
       "5     112.00\n",
       "6     114.20\n",
       "7     116.00\n",
       "8     119.51\n",
       "9     115.70\n",
       "10    116.00\n",
       "Name: open, dtype: float64"
      ]
     },
     "execution_count": 45,
     "metadata": {},
     "output_type": "execute_result"
    }
   ],
   "source": [
    "mt.loc[:10, 'open']"
   ]
  },
  {
   "cell_type": "code",
   "execution_count": 42,
   "metadata": {
    "scrolled": true
   },
   "outputs": [
    {
     "data": {
      "text/plain": [
       "0    2020-01-02\n",
       "1    2020-01-03\n",
       "2    2020-01-06\n",
       "3    2020-01-07\n",
       "4    2020-01-08\n",
       "Name: date, dtype: string"
      ]
     },
     "execution_count": 42,
     "metadata": {},
     "output_type": "execute_result"
    }
   ],
   "source": [
    "mt['date'].head()"
   ]
  },
  {
   "cell_type": "code",
   "execution_count": 46,
   "metadata": {
    "scrolled": true
   },
   "outputs": [
    {
     "data": {
      "text/html": [
       "<div>\n",
       "<style scoped>\n",
       "    .dataframe tbody tr th:only-of-type {\n",
       "        vertical-align: middle;\n",
       "    }\n",
       "\n",
       "    .dataframe tbody tr th {\n",
       "        vertical-align: top;\n",
       "    }\n",
       "\n",
       "    .dataframe thead th {\n",
       "        text-align: right;\n",
       "    }\n",
       "</style>\n",
       "<table border=\"1\" class=\"dataframe\">\n",
       "  <thead>\n",
       "    <tr style=\"text-align: right;\">\n",
       "      <th></th>\n",
       "      <th>date</th>\n",
       "      <th>code</th>\n",
       "      <th>open</th>\n",
       "      <th>high</th>\n",
       "      <th>low</th>\n",
       "      <th>close</th>\n",
       "      <th>volume</th>\n",
       "    </tr>\n",
       "  </thead>\n",
       "  <tbody>\n",
       "    <tr>\n",
       "      <th>0</th>\n",
       "      <td>2020-01-02</td>\n",
       "      <td>sz.300750</td>\n",
       "      <td>107.21</td>\n",
       "      <td>108.85</td>\n",
       "      <td>105.70</td>\n",
       "      <td>107.52</td>\n",
       "      <td>20611589.0</td>\n",
       "    </tr>\n",
       "    <tr>\n",
       "      <th>1</th>\n",
       "      <td>2020-01-03</td>\n",
       "      <td>sz.300750</td>\n",
       "      <td>107.52</td>\n",
       "      <td>110.19</td>\n",
       "      <td>105.97</td>\n",
       "      <td>109.55</td>\n",
       "      <td>18084178.0</td>\n",
       "    </tr>\n",
       "    <tr>\n",
       "      <th>2</th>\n",
       "      <td>2020-01-06</td>\n",
       "      <td>sz.300750</td>\n",
       "      <td>111.30</td>\n",
       "      <td>114.50</td>\n",
       "      <td>107.80</td>\n",
       "      <td>109.09</td>\n",
       "      <td>26500200.0</td>\n",
       "    </tr>\n",
       "    <tr>\n",
       "      <th>3</th>\n",
       "      <td>2020-01-07</td>\n",
       "      <td>sz.300750</td>\n",
       "      <td>109.01</td>\n",
       "      <td>109.64</td>\n",
       "      <td>107.41</td>\n",
       "      <td>108.50</td>\n",
       "      <td>13507544.0</td>\n",
       "    </tr>\n",
       "    <tr>\n",
       "      <th>4</th>\n",
       "      <td>2020-01-08</td>\n",
       "      <td>sz.300750</td>\n",
       "      <td>109.01</td>\n",
       "      <td>111.50</td>\n",
       "      <td>107.10</td>\n",
       "      <td>109.60</td>\n",
       "      <td>19224068.0</td>\n",
       "    </tr>\n",
       "    <tr>\n",
       "      <th>5</th>\n",
       "      <td>2020-01-09</td>\n",
       "      <td>sz.300750</td>\n",
       "      <td>112.00</td>\n",
       "      <td>115.50</td>\n",
       "      <td>110.01</td>\n",
       "      <td>115.00</td>\n",
       "      <td>20164351.0</td>\n",
       "    </tr>\n",
       "    <tr>\n",
       "      <th>6</th>\n",
       "      <td>2020-01-10</td>\n",
       "      <td>sz.300750</td>\n",
       "      <td>114.20</td>\n",
       "      <td>114.20</td>\n",
       "      <td>111.68</td>\n",
       "      <td>113.31</td>\n",
       "      <td>14428007.0</td>\n",
       "    </tr>\n",
       "    <tr>\n",
       "      <th>7</th>\n",
       "      <td>2020-01-13</td>\n",
       "      <td>sz.300750</td>\n",
       "      <td>116.00</td>\n",
       "      <td>118.48</td>\n",
       "      <td>114.20</td>\n",
       "      <td>116.90</td>\n",
       "      <td>21597445.0</td>\n",
       "    </tr>\n",
       "    <tr>\n",
       "      <th>8</th>\n",
       "      <td>2020-01-14</td>\n",
       "      <td>sz.300750</td>\n",
       "      <td>119.51</td>\n",
       "      <td>120.75</td>\n",
       "      <td>115.18</td>\n",
       "      <td>115.70</td>\n",
       "      <td>21768473.0</td>\n",
       "    </tr>\n",
       "    <tr>\n",
       "      <th>9</th>\n",
       "      <td>2020-01-15</td>\n",
       "      <td>sz.300750</td>\n",
       "      <td>115.70</td>\n",
       "      <td>117.58</td>\n",
       "      <td>112.21</td>\n",
       "      <td>115.30</td>\n",
       "      <td>17758720.0</td>\n",
       "    </tr>\n",
       "  </tbody>\n",
       "</table>\n",
       "</div>"
      ],
      "text/plain": [
       "         date       code    open    high     low   close      volume\n",
       "0  2020-01-02  sz.300750  107.21  108.85  105.70  107.52  20611589.0\n",
       "1  2020-01-03  sz.300750  107.52  110.19  105.97  109.55  18084178.0\n",
       "2  2020-01-06  sz.300750  111.30  114.50  107.80  109.09  26500200.0\n",
       "3  2020-01-07  sz.300750  109.01  109.64  107.41  108.50  13507544.0\n",
       "4  2020-01-08  sz.300750  109.01  111.50  107.10  109.60  19224068.0\n",
       "5  2020-01-09  sz.300750  112.00  115.50  110.01  115.00  20164351.0\n",
       "6  2020-01-10  sz.300750  114.20  114.20  111.68  113.31  14428007.0\n",
       "7  2020-01-13  sz.300750  116.00  118.48  114.20  116.90  21597445.0\n",
       "8  2020-01-14  sz.300750  119.51  120.75  115.18  115.70  21768473.0\n",
       "9  2020-01-15  sz.300750  115.70  117.58  112.21  115.30  17758720.0"
      ]
     },
     "execution_count": 46,
     "metadata": {},
     "output_type": "execute_result"
    }
   ],
   "source": [
    "mt.iloc[:10, :10]"
   ]
  },
  {
   "cell_type": "code",
   "execution_count": null,
   "metadata": {},
   "outputs": [],
   "source": [
    "\"\"\"\n",
    "loc是切割,先行后列\n",
    "iloc也是切割,先行后列,用数字就可以了\n",
    "\"\"\""
   ]
  }
 ],
 "metadata": {
  "kernelspec": {
   "display_name": "Python 3",
   "language": "python",
   "name": "python3"
  },
  "language_info": {
   "codemirror_mode": {
    "name": "ipython",
    "version": 3
   },
   "file_extension": ".py",
   "mimetype": "text/x-python",
   "name": "python",
   "nbconvert_exporter": "python",
   "pygments_lexer": "ipython3",
   "version": "3.7.6"
  }
 },
 "nbformat": 4,
 "nbformat_minor": 4
}
