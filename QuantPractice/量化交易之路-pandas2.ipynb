{
 "cells": [
  {
   "cell_type": "code",
   "execution_count": 1,
   "metadata": {},
   "outputs": [],
   "source": [
    "import pandas as pd\n",
    "import numpy as np\n",
    "import matplotlib.pyplot as plt"
   ]
  },
  {
   "cell_type": "code",
   "execution_count": 3,
   "metadata": {},
   "outputs": [
    {
     "name": "stdout",
     "output_type": "stream",
     "text": [
      "login success!\n",
      "login respond error_code:0\n",
      "login respond  error_msg:success\n",
      "<class 'pandas.core.frame.DataFrame'>\n",
      "RangeIndex: 360 entries, 0 to 359\n",
      "Data columns (total 7 columns):\n",
      " #   Column  Non-Null Count  Dtype \n",
      "---  ------  --------------  ----- \n",
      " 0   date    360 non-null    object\n",
      " 1   code    360 non-null    object\n",
      " 2   open    360 non-null    object\n",
      " 3   high    360 non-null    object\n",
      " 4   low     360 non-null    object\n",
      " 5   close   360 non-null    object\n",
      " 6   volume  360 non-null    object\n",
      "dtypes: object(7)\n",
      "memory usage: 19.8+ KB\n",
      "None\n"
     ]
    }
   ],
   "source": [
    "import baostock as bs\n",
    "#### 登陆系统 ####\n",
    "lg = bs.login()\n",
    "# 显示登陆返回信息\n",
    "print('login respond error_code:' + lg.error_code)\n",
    "print('login respond  error_msg:' + lg.error_msg)\n",
    "\n",
    "# 获取茅台的收盘价\n",
    "maotai = bs.query_history_k_data_plus(\"sz.300750\", \"date,code,open,high,low,close,volume\", start_date='2020-01-01',\n",
    "                                      end_date='2021-06-29', frequency=\"d\", adjustflag=\"3\")\n",
    "data_list = []\n",
    "while (maotai.error_code == '0') & maotai.next():\n",
    "    # 获取一条记录，将记录合并在一起\n",
    "    data_list.append(maotai.get_row_data())\n",
    "mt = pd.DataFrame(data_list, columns=maotai.fields)\n",
    "print(mt.info())"
   ]
  },
  {
   "cell_type": "code",
   "execution_count": 4,
   "metadata": {
    "scrolled": true
   },
   "outputs": [
    {
     "data": {
      "text/html": [
       "<div>\n",
       "<style scoped>\n",
       "    .dataframe tbody tr th:only-of-type {\n",
       "        vertical-align: middle;\n",
       "    }\n",
       "\n",
       "    .dataframe tbody tr th {\n",
       "        vertical-align: top;\n",
       "    }\n",
       "\n",
       "    .dataframe thead th {\n",
       "        text-align: right;\n",
       "    }\n",
       "</style>\n",
       "<table border=\"1\" class=\"dataframe\">\n",
       "  <thead>\n",
       "    <tr style=\"text-align: right;\">\n",
       "      <th></th>\n",
       "      <th>date</th>\n",
       "      <th>code</th>\n",
       "      <th>open</th>\n",
       "      <th>high</th>\n",
       "      <th>low</th>\n",
       "      <th>close</th>\n",
       "      <th>volume</th>\n",
       "    </tr>\n",
       "  </thead>\n",
       "  <tbody>\n",
       "    <tr>\n",
       "      <th>0</th>\n",
       "      <td>2020-01-02</td>\n",
       "      <td>sz.300750</td>\n",
       "      <td>107.2100</td>\n",
       "      <td>108.8500</td>\n",
       "      <td>105.7000</td>\n",
       "      <td>107.5200</td>\n",
       "      <td>20611589</td>\n",
       "    </tr>\n",
       "    <tr>\n",
       "      <th>1</th>\n",
       "      <td>2020-01-03</td>\n",
       "      <td>sz.300750</td>\n",
       "      <td>107.5200</td>\n",
       "      <td>110.1900</td>\n",
       "      <td>105.9700</td>\n",
       "      <td>109.5500</td>\n",
       "      <td>18084178</td>\n",
       "    </tr>\n",
       "    <tr>\n",
       "      <th>2</th>\n",
       "      <td>2020-01-06</td>\n",
       "      <td>sz.300750</td>\n",
       "      <td>111.3000</td>\n",
       "      <td>114.5000</td>\n",
       "      <td>107.8000</td>\n",
       "      <td>109.0900</td>\n",
       "      <td>26500200</td>\n",
       "    </tr>\n",
       "    <tr>\n",
       "      <th>3</th>\n",
       "      <td>2020-01-07</td>\n",
       "      <td>sz.300750</td>\n",
       "      <td>109.0100</td>\n",
       "      <td>109.6400</td>\n",
       "      <td>107.4100</td>\n",
       "      <td>108.5000</td>\n",
       "      <td>13507544</td>\n",
       "    </tr>\n",
       "    <tr>\n",
       "      <th>4</th>\n",
       "      <td>2020-01-08</td>\n",
       "      <td>sz.300750</td>\n",
       "      <td>109.0100</td>\n",
       "      <td>111.5000</td>\n",
       "      <td>107.1000</td>\n",
       "      <td>109.6000</td>\n",
       "      <td>19224068</td>\n",
       "    </tr>\n",
       "  </tbody>\n",
       "</table>\n",
       "</div>"
      ],
      "text/plain": [
       "         date       code      open      high       low     close    volume\n",
       "0  2020-01-02  sz.300750  107.2100  108.8500  105.7000  107.5200  20611589\n",
       "1  2020-01-03  sz.300750  107.5200  110.1900  105.9700  109.5500  18084178\n",
       "2  2020-01-06  sz.300750  111.3000  114.5000  107.8000  109.0900  26500200\n",
       "3  2020-01-07  sz.300750  109.0100  109.6400  107.4100  108.5000  13507544\n",
       "4  2020-01-08  sz.300750  109.0100  111.5000  107.1000  109.6000  19224068"
      ]
     },
     "execution_count": 4,
     "metadata": {},
     "output_type": "execute_result"
    }
   ],
   "source": [
    "mt.head(5)"
   ]
  },
  {
   "cell_type": "code",
   "execution_count": 5,
   "metadata": {},
   "outputs": [
    {
     "data": {
      "text/plain": [
       "Index(['date', 'code', 'open', 'high', 'low', 'close', 'volume'], dtype='object')"
      ]
     },
     "execution_count": 5,
     "metadata": {},
     "output_type": "execute_result"
    }
   ],
   "source": [
    "mt.columns"
   ]
  },
  {
   "cell_type": "code",
   "execution_count": 6,
   "metadata": {},
   "outputs": [],
   "source": [
    "mt['date'] = mt['date'].astype('string')\n",
    "mt['code'] = mt['code'].astype('string')"
   ]
  },
  {
   "cell_type": "code",
   "execution_count": 7,
   "metadata": {},
   "outputs": [],
   "source": [
    "for each in ['open', 'high', 'low', 'close', 'volume']:\n",
    "    mt[each] = mt[each].astype('float')"
   ]
  },
  {
   "cell_type": "code",
   "execution_count": 8,
   "metadata": {},
   "outputs": [
    {
     "name": "stdout",
     "output_type": "stream",
     "text": [
      "<class 'pandas.core.frame.DataFrame'>\n",
      "RangeIndex: 360 entries, 0 to 359\n",
      "Data columns (total 7 columns):\n",
      " #   Column  Non-Null Count  Dtype  \n",
      "---  ------  --------------  -----  \n",
      " 0   date    360 non-null    string \n",
      " 1   code    360 non-null    string \n",
      " 2   open    360 non-null    float64\n",
      " 3   high    360 non-null    float64\n",
      " 4   low     360 non-null    float64\n",
      " 5   close   360 non-null    float64\n",
      " 6   volume  360 non-null    float64\n",
      "dtypes: float64(5), string(2)\n",
      "memory usage: 19.8 KB\n"
     ]
    }
   ],
   "source": [
    "mt.info()"
   ]
  },
  {
   "cell_type": "code",
   "execution_count": 9,
   "metadata": {
    "scrolled": true
   },
   "outputs": [
    {
     "data": {
      "text/plain": [
       "[<matplotlib.lines.Line2D at 0x1b0212acaf0>]"
      ]
     },
     "execution_count": 9,
     "metadata": {},
     "output_type": "execute_result"
    },
    {
     "data": {
      "image/png": "[encoded data removed]",
      "text/plain": [
       "<Figure size 1080x504 with 1 Axes>"
      ]
     },
     "metadata": {},
     "output_type": "display_data"
    }
   ],
   "source": [
    "%matplotlib inline\n",
    "plt.style.use('Solarize_Light2')\n",
    "plt.figure(figsize=(15,7))\n",
    "plt.plot(range(len(mt['close'].to_list())), mt['close'])"
   ]
  },
  {
   "cell_type": "code",
   "execution_count": 10,
   "metadata": {},
   "outputs": [
    {
     "name": "stdout",
     "output_type": "stream",
     "text": [
      "Help on package matplotlib.style in matplotlib:\n",
      "\n",
      "NAME\n",
      "    matplotlib.style\n",
      "\n",
      "PACKAGE CONTENTS\n",
      "    core\n",
      "\n",
      "DATA\n",
      "    available = ['Solarize_Light2', '_classic_test_patch', 'bmh', 'classic...\n",
      "    library = {'Solarize_Light2': RcParams({'axes.axisbelow': True,\n",
      "          ...\n",
      "\n",
      "FILE\n",
      "    c:\\users\\chelle\\anaconda3\\lib\\site-packages\\matplotlib\\style\\__init__.py\n",
      "\n",
      "\n"
     ]
    }
   ],
   "source": [
    "help(plt.style)"
   ]
  },
  {
   "cell_type": "code",
   "execution_count": 11,
   "metadata": {
    "scrolled": true
   },
   "outputs": [
    {
     "data": {
      "image/png": "[encoded data removed]",
      "text/plain": [
       "<Figure size 432x288 with 2 Axes>"
      ]
     },
     "metadata": {},
     "output_type": "display_data"
    }
   ],
   "source": [
    "plt.figure()\n",
    "plt.subplot(211)\n",
    "plt.plot(range(len(mt['close'].to_list())), mt['close'], color='tab:blue', marker='o')\n",
    "plt.subplot(212)\n",
    "plt.plot(range(len(mt['close'].to_list())), mt['volume'], color='black')\n",
    "plt.show()"
   ]
  },
  {
   "cell_type": "code",
   "execution_count": 37,
   "metadata": {},
   "outputs": [
    {
     "data": {
      "text/html": [
       "<div>\n",
       "<style scoped>\n",
       "    .dataframe tbody tr th:only-of-type {\n",
       "        vertical-align: middle;\n",
       "    }\n",
       "\n",
       "    .dataframe tbody tr th {\n",
       "        vertical-align: top;\n",
       "    }\n",
       "\n",
       "    .dataframe thead th {\n",
       "        text-align: right;\n",
       "    }\n",
       "</style>\n",
       "<table border=\"1\" class=\"dataframe\">\n",
       "  <thead>\n",
       "    <tr style=\"text-align: right;\">\n",
       "      <th></th>\n",
       "      <th>open</th>\n",
       "      <th>high</th>\n",
       "      <th>low</th>\n",
       "      <th>close</th>\n",
       "      <th>volume</th>\n",
       "    </tr>\n",
       "  </thead>\n",
       "  <tbody>\n",
       "    <tr>\n",
       "      <th>count</th>\n",
       "      <td>360.000000</td>\n",
       "      <td>360.000000</td>\n",
       "      <td>360.000000</td>\n",
       "      <td>360.000000</td>\n",
       "      <td>3.600000e+02</td>\n",
       "    </tr>\n",
       "    <tr>\n",
       "      <th>mean</th>\n",
       "      <td>246.218083</td>\n",
       "      <td>252.210972</td>\n",
       "      <td>240.299306</td>\n",
       "      <td>246.645556</td>\n",
       "      <td>1.928764e+07</td>\n",
       "    </tr>\n",
       "    <tr>\n",
       "      <th>std</th>\n",
       "      <td>101.751506</td>\n",
       "      <td>104.341998</td>\n",
       "      <td>99.003173</td>\n",
       "      <td>102.195425</td>\n",
       "      <td>8.834766e+06</td>\n",
       "    </tr>\n",
       "    <tr>\n",
       "      <th>min</th>\n",
       "      <td>107.210000</td>\n",
       "      <td>108.850000</td>\n",
       "      <td>105.010000</td>\n",
       "      <td>107.480000</td>\n",
       "      <td>6.801208e+06</td>\n",
       "    </tr>\n",
       "    <tr>\n",
       "      <th>25%</th>\n",
       "      <td>154.400000</td>\n",
       "      <td>159.285000</td>\n",
       "      <td>150.640000</td>\n",
       "      <td>153.770000</td>\n",
       "      <td>1.298541e+07</td>\n",
       "    </tr>\n",
       "    <tr>\n",
       "      <th>50%</th>\n",
       "      <td>214.150000</td>\n",
       "      <td>220.635000</td>\n",
       "      <td>209.455000</td>\n",
       "      <td>214.925000</td>\n",
       "      <td>1.705230e+07</td>\n",
       "    </tr>\n",
       "    <tr>\n",
       "      <th>75%</th>\n",
       "      <td>335.000000</td>\n",
       "      <td>343.582500</td>\n",
       "      <td>327.230000</td>\n",
       "      <td>336.100000</td>\n",
       "      <td>2.295266e+07</td>\n",
       "    </tr>\n",
       "    <tr>\n",
       "      <th>max</th>\n",
       "      <td>513.650000</td>\n",
       "      <td>519.600000</td>\n",
       "      <td>504.220000</td>\n",
       "      <td>508.510000</td>\n",
       "      <td>5.791899e+07</td>\n",
       "    </tr>\n",
       "  </tbody>\n",
       "</table>\n",
       "</div>"
      ],
      "text/plain": [
       "             open        high         low       close        volume\n",
       "count  360.000000  360.000000  360.000000  360.000000  3.600000e+02\n",
       "mean   246.218083  252.210972  240.299306  246.645556  1.928764e+07\n",
       "std    101.751506  104.341998   99.003173  102.195425  8.834766e+06\n",
       "min    107.210000  108.850000  105.010000  107.480000  6.801208e+06\n",
       "25%    154.400000  159.285000  150.640000  153.770000  1.298541e+07\n",
       "50%    214.150000  220.635000  209.455000  214.925000  1.705230e+07\n",
       "75%    335.000000  343.582500  327.230000  336.100000  2.295266e+07\n",
       "max    513.650000  519.600000  504.220000  508.510000  5.791899e+07"
      ]
     },
     "execution_count": 37,
     "metadata": {},
     "output_type": "execute_result"
    }
   ],
   "source": [
    "mt.describe()"
   ]
  },
  {
   "cell_type": "code",
   "execution_count": 45,
   "metadata": {},
   "outputs": [
    {
     "data": {
      "text/plain": [
       "0     107.21\n",
       "1     107.52\n",
       "2     111.30\n",
       "3     109.01\n",
       "4     109.01\n",
       "5     112.00\n",
       "6     114.20\n",
       "7     116.00\n",
       "8     119.51\n",
       "9     115.70\n",
       "10    116.00\n",
       "Name: open, dtype: float64"
      ]
     },
     "execution_count": 45,
     "metadata": {},
     "output_type": "execute_result"
    }
   ],
   "source": [
    "mt.loc[:10, 'open']"
   ]
  },
  {
   "cell_type": "code",
   "execution_count": 42,
   "metadata": {
    "scrolled": true
   },
   "outputs": [
    {
     "data": {
      "text/plain": [
       "0    2020-01-02\n",
       "1    2020-01-03\n",
       "2    2020-01-06\n",
       "3    2020-01-07\n",
       "4    2020-01-08\n",
       "Name: date, dtype: string"
      ]
     },
     "execution_count": 42,
     "metadata": {},
     "output_type": "execute_result"
    }
   ],
   "source": [
    "mt['date'].head()"
   ]
  },
  {
   "cell_type": "code",
   "execution_count": 46,
   "metadata": {
    "scrolled": true
   },
   "outputs": [
    {
     "data": {
      "text/html": [
       "<div>\n",
       "<style scoped>\n",
       "    .dataframe tbody tr th:only-of-type {\n",
       "        vertical-align: middle;\n",
       "    }\n",
       "\n",
       "    .dataframe tbody tr th {\n",
       "        vertical-align: top;\n",
       "    }\n",
       "\n",
       "    .dataframe thead th {\n",
       "        text-align: right;\n",
       "    }\n",
       "</style>\n",
       "<table border=\"1\" class=\"dataframe\">\n",
       "  <thead>\n",
       "    <tr style=\"text-align: right;\">\n",
       "      <th></th>\n",
       "      <th>date</th>\n",
       "      <th>code</th>\n",
       "      <th>open</th>\n",
       "      <th>high</th>\n",
       "      <th>low</th>\n",
       "      <th>close</th>\n",
       "      <th>volume</th>\n",
       "    </tr>\n",
       "  </thead>\n",
       "  <tbody>\n",
       "    <tr>\n",
       "      <th>0</th>\n",
       "      <td>2020-01-02</td>\n",
       "      <td>sz.300750</td>\n",
       "      <td>107.21</td>\n",
       "      <td>108.85</td>\n",
       "      <td>105.70</td>\n",
       "      <td>107.52</td>\n",
       "      <td>20611589.0</td>\n",
       "    </tr>\n",
       "    <tr>\n",
       "      <th>1</th>\n",
       "      <td>2020-01-03</td>\n",
       "      <td>sz.300750</td>\n",
       "      <td>107.52</td>\n",
       "      <td>110.19</td>\n",
       "      <td>105.97</td>\n",
       "      <td>109.55</td>\n",
       "      <td>18084178.0</td>\n",
       "    </tr>\n",
       "    <tr>\n",
       "      <th>2</th>\n",
       "      <td>2020-01-06</td>\n",
       "      <td>sz.300750</td>\n",
       "      <td>111.30</td>\n",
       "      <td>114.50</td>\n",
       "      <td>107.80</td>\n",
       "      <td>109.09</td>\n",
       "      <td>26500200.0</td>\n",
       "    </tr>\n",
       "    <tr>\n",
       "      <th>3</th>\n",
       "      <td>2020-01-07</td>\n",
       "      <td>sz.300750</td>\n",
       "      <td>109.01</td>\n",
       "      <td>109.64</td>\n",
       "      <td>107.41</td>\n",
       "      <td>108.50</td>\n",
       "      <td>13507544.0</td>\n",
       "    </tr>\n",
       "    <tr>\n",
       "      <th>4</th>\n",
       "      <td>2020-01-08</td>\n",
       "      <td>sz.300750</td>\n",
       "      <td>109.01</td>\n",
       "      <td>111.50</td>\n",
       "      <td>107.10</td>\n",
       "      <td>109.60</td>\n",
       "      <td>19224068.0</td>\n",
       "    </tr>\n",
       "    <tr>\n",
       "      <th>5</th>\n",
       "      <td>2020-01-09</td>\n",
       "      <td>sz.300750</td>\n",
       "      <td>112.00</td>\n",
       "      <td>115.50</td>\n",
       "      <td>110.01</td>\n",
       "      <td>115.00</td>\n",
       "      <td>20164351.0</td>\n",
       "    </tr>\n",
       "    <tr>\n",
       "      <th>6</th>\n",
       "      <td>2020-01-10</td>\n",
       "      <td>sz.300750</td>\n",
       "      <td>114.20</td>\n",
       "      <td>114.20</td>\n",
       "      <td>111.68</td>\n",
       "      <td>113.31</td>\n",
       "      <td>14428007.0</td>\n",
       "    </tr>\n",
       "    <tr>\n",
       "      <th>7</th>\n",
       "      <td>2020-01-13</td>\n",
       "      <td>sz.300750</td>\n",
       "      <td>116.00</td>\n",
       "      <td>118.48</td>\n",
       "      <td>114.20</td>\n",
       "      <td>116.90</td>\n",
       "      <td>21597445.0</td>\n",
       "    </tr>\n",
       "    <tr>\n",
       "      <th>8</th>\n",
       "      <td>2020-01-14</td>\n",
       "      <td>sz.300750</td>\n",
       "      <td>119.51</td>\n",
       "      <td>120.75</td>\n",
       "      <td>115.18</td>\n",
       "      <td>115.70</td>\n",
       "      <td>21768473.0</td>\n",
       "    </tr>\n",
       "    <tr>\n",
       "      <th>9</th>\n",
       "      <td>2020-01-15</td>\n",
       "      <td>sz.300750</td>\n",
       "      <td>115.70</td>\n",
       "      <td>117.58</td>\n",
       "      <td>112.21</td>\n",
       "      <td>115.30</td>\n",
       "      <td>17758720.0</td>\n",
       "    </tr>\n",
       "  </tbody>\n",
       "</table>\n",
       "</div>"
      ],
      "text/plain": [
       "         date       code    open    high     low   close      volume\n",
       "0  2020-01-02  sz.300750  107.21  108.85  105.70  107.52  20611589.0\n",
       "1  2020-01-03  sz.300750  107.52  110.19  105.97  109.55  18084178.0\n",
       "2  2020-01-06  sz.300750  111.30  114.50  107.80  109.09  26500200.0\n",
       "3  2020-01-07  sz.300750  109.01  109.64  107.41  108.50  13507544.0\n",
       "4  2020-01-08  sz.300750  109.01  111.50  107.10  109.60  19224068.0\n",
       "5  2020-01-09  sz.300750  112.00  115.50  110.01  115.00  20164351.0\n",
       "6  2020-01-10  sz.300750  114.20  114.20  111.68  113.31  14428007.0\n",
       "7  2020-01-13  sz.300750  116.00  118.48  114.20  116.90  21597445.0\n",
       "8  2020-01-14  sz.300750  119.51  120.75  115.18  115.70  21768473.0\n",
       "9  2020-01-15  sz.300750  115.70  117.58  112.21  115.30  17758720.0"
      ]
     },
     "execution_count": 46,
     "metadata": {},
     "output_type": "execute_result"
    }
   ],
   "source": [
    "mt.iloc[:10, :10]"
   ]
  },
  {
   "cell_type": "code",
   "execution_count": null,
   "metadata": {},
   "outputs": [],
   "source": [
    "\"\"\"\n",
    "loc是切割,先行后列\n",
    "iloc也是切割,先行后列,用数字就可以了\n",
    "\"\"\""
   ]
  },
  {
   "cell_type": "code",
   "execution_count": 12,
   "metadata": {
    "scrolled": true
   },
   "outputs": [
    {
     "name": "stdout",
     "output_type": "stream",
     "text": [
      "<class 'pandas.core.frame.DataFrame'>\n",
      "RangeIndex: 360 entries, 0 to 359\n",
      "Data columns (total 9 columns):\n",
      " #   Column  Non-Null Count  Dtype \n",
      "---  ------  --------------  ----- \n",
      " 0   date    360 non-null    object\n",
      " 1   code    360 non-null    object\n",
      " 2   open    360 non-null    object\n",
      " 3   high    360 non-null    object\n",
      " 4   low     360 non-null    object\n",
      " 5   close   360 non-null    object\n",
      " 6   volume  360 non-null    object\n",
      " 7   amount  360 non-null    object\n",
      " 8   pctChg  360 non-null    object\n",
      "dtypes: object(9)\n",
      "memory usage: 25.4+ KB\n",
      "None\n"
     ]
    }
   ],
   "source": [
    "# 获取京东方的收盘价\n",
    "maotai = bs.query_history_k_data_plus(\"sz.000725\", \"date,code,open,high,low,close,volume, amount, pctChg\", start_date='2020-01-01',\n",
    "                                      end_date='2021-06-29', frequency=\"d\", adjustflag=\"3\")\n",
    "data_list = []\n",
    "while (maotai.error_code == '0') & maotai.next():\n",
    "    # 获取一条记录，将记录合并在一起\n",
    "    data_list.append(maotai.get_row_data())\n",
    "mt = pd.DataFrame(data_list, columns=maotai.fields)\n",
    "print(mt.info())"
   ]
  },
  {
   "cell_type": "code",
   "execution_count": 15,
   "metadata": {},
   "outputs": [
    {
     "data": {
      "text/plain": [
       "Index(['date', 'code', 'open', 'high', 'low', 'close', 'volume', 'amount',\n",
       "       'pctChg'],\n",
       "      dtype='object')"
      ]
     },
     "execution_count": 15,
     "metadata": {},
     "output_type": "execute_result"
    }
   ],
   "source": [
    "# mt[np.abs(float(mt.pctChg))>0.08][10]\n",
    "mt.columns"
   ]
  },
  {
   "cell_type": "code",
   "execution_count": 16,
   "metadata": {},
   "outputs": [
    {
     "name": "stdout",
     "output_type": "stream",
     "text": [
      "         date       code  open  high   low  close        volume        amount  \\\n",
      "0  2020-01-02  sz.000725  4.57  4.67  4.55   4.61  8.103196e+08  3.740719e+09   \n",
      "1  2020-01-03  sz.000725  4.62  4.76  4.59   4.73  9.945406e+08  4.667172e+09   \n",
      "2  2020-01-06  sz.000725  4.67  4.80  4.63   4.71  9.472785e+08  4.471328e+09   \n",
      "3  2020-01-07  sz.000725  4.73  4.77  4.65   4.68  6.537647e+08  3.072429e+09   \n",
      "4  2020-01-08  sz.000725  4.82  5.13  4.79   4.96  2.182749e+09  1.075777e+10   \n",
      "\n",
      "   pctChg  \n",
      "0  1.5419  \n",
      "1  2.6030  \n",
      "2 -0.4228  \n",
      "3 -0.6369  \n",
      "4  5.9829  \n"
     ]
    }
   ],
   "source": [
    "mt['date'] = mt['date'].astype('string')\n",
    "mt['code'] = mt['code'].astype('string')\n",
    "for each in ['open', 'high', 'low', 'close', 'volume', 'amount', 'pctChg']:\n",
    "    mt[each] = mt[each].astype(\"float\")\n",
    "print(mt.head(5))"
   ]
  },
  {
   "cell_type": "code",
   "execution_count": 20,
   "metadata": {
    "scrolled": true
   },
   "outputs": [
    {
     "data": {
      "text/html": [
       "<div>\n",
       "<style scoped>\n",
       "    .dataframe tbody tr th:only-of-type {\n",
       "        vertical-align: middle;\n",
       "    }\n",
       "\n",
       "    .dataframe tbody tr th {\n",
       "        vertical-align: top;\n",
       "    }\n",
       "\n",
       "    .dataframe thead th {\n",
       "        text-align: right;\n",
       "    }\n",
       "</style>\n",
       "<table border=\"1\" class=\"dataframe\">\n",
       "  <thead>\n",
       "    <tr style=\"text-align: right;\">\n",
       "      <th></th>\n",
       "      <th>date</th>\n",
       "      <th>code</th>\n",
       "      <th>open</th>\n",
       "      <th>high</th>\n",
       "      <th>low</th>\n",
       "      <th>close</th>\n",
       "      <th>volume</th>\n",
       "      <th>amount</th>\n",
       "      <th>pctChg</th>\n",
       "    </tr>\n",
       "  </thead>\n",
       "  <tbody>\n",
       "    <tr>\n",
       "      <th>16</th>\n",
       "      <td>2020-02-03</td>\n",
       "      <td>sz.000725</td>\n",
       "      <td>4.25</td>\n",
       "      <td>4.25</td>\n",
       "      <td>4.25</td>\n",
       "      <td>4.25</td>\n",
       "      <td>1.544089e+08</td>\n",
       "      <td>6.562378e+08</td>\n",
       "      <td>-9.9576</td>\n",
       "    </tr>\n",
       "    <tr>\n",
       "      <th>98</th>\n",
       "      <td>2020-06-02</td>\n",
       "      <td>sz.000725</td>\n",
       "      <td>3.96</td>\n",
       "      <td>4.32</td>\n",
       "      <td>3.94</td>\n",
       "      <td>4.25</td>\n",
       "      <td>2.236568e+09</td>\n",
       "      <td>9.292990e+09</td>\n",
       "      <td>8.1425</td>\n",
       "    </tr>\n",
       "    <tr>\n",
       "      <th>102</th>\n",
       "      <td>2020-06-08</td>\n",
       "      <td>sz.000725</td>\n",
       "      <td>4.47</td>\n",
       "      <td>4.77</td>\n",
       "      <td>4.46</td>\n",
       "      <td>4.74</td>\n",
       "      <td>2.426071e+09</td>\n",
       "      <td>1.139189e+10</td>\n",
       "      <td>9.2166</td>\n",
       "    </tr>\n",
       "    <tr>\n",
       "      <th>249</th>\n",
       "      <td>2021-01-12</td>\n",
       "      <td>sz.000725</td>\n",
       "      <td>6.58</td>\n",
       "      <td>7.00</td>\n",
       "      <td>6.31</td>\n",
       "      <td>6.96</td>\n",
       "      <td>1.922723e+09</td>\n",
       "      <td>1.284518e+10</td>\n",
       "      <td>8.9202</td>\n",
       "    </tr>\n",
       "  </tbody>\n",
       "</table>\n",
       "</div>"
      ],
      "text/plain": [
       "           date       code  open  high   low  close        volume  \\\n",
       "16   2020-02-03  sz.000725  4.25  4.25  4.25   4.25  1.544089e+08   \n",
       "98   2020-06-02  sz.000725  3.96  4.32  3.94   4.25  2.236568e+09   \n",
       "102  2020-06-08  sz.000725  4.47  4.77  4.46   4.74  2.426071e+09   \n",
       "249  2021-01-12  sz.000725  6.58  7.00  6.31   6.96  1.922723e+09   \n",
       "\n",
       "           amount  pctChg  \n",
       "16   6.562378e+08 -9.9576  \n",
       "98   9.292990e+09  8.1425  \n",
       "102  1.139189e+10  9.2166  \n",
       "249  1.284518e+10  8.9202  "
      ]
     },
     "execution_count": 20,
     "metadata": {},
     "output_type": "execute_result"
    }
   ],
   "source": [
    "mt2 = mt[np.abs(mt.pctChg)>8]\n",
    "mt2.head(5)"
   ]
  },
  {
   "cell_type": "code",
   "execution_count": 25,
   "metadata": {},
   "outputs": [
    {
     "data": {
      "text/plain": [
       "938840819.2638888"
      ]
     },
     "execution_count": 25,
     "metadata": {},
     "output_type": "execute_result"
    }
   ],
   "source": [
    "mt.volume.mean()"
   ]
  },
  {
   "cell_type": "code",
   "execution_count": 31,
   "metadata": {},
   "outputs": [
    {
     "data": {
      "text/html": [
       "<div>\n",
       "<style scoped>\n",
       "    .dataframe tbody tr th:only-of-type {\n",
       "        vertical-align: middle;\n",
       "    }\n",
       "\n",
       "    .dataframe tbody tr th {\n",
       "        vertical-align: top;\n",
       "    }\n",
       "\n",
       "    .dataframe thead th {\n",
       "        text-align: right;\n",
       "    }\n",
       "</style>\n",
       "<table border=\"1\" class=\"dataframe\">\n",
       "  <thead>\n",
       "    <tr style=\"text-align: right;\">\n",
       "      <th></th>\n",
       "      <th>date</th>\n",
       "      <th>code</th>\n",
       "      <th>open</th>\n",
       "      <th>high</th>\n",
       "      <th>low</th>\n",
       "      <th>close</th>\n",
       "      <th>volume</th>\n",
       "      <th>amount</th>\n",
       "      <th>pctChg</th>\n",
       "    </tr>\n",
       "  </thead>\n",
       "  <tbody>\n",
       "    <tr>\n",
       "      <th>16</th>\n",
       "      <td>2020-02-03</td>\n",
       "      <td>sz.000725</td>\n",
       "      <td>4.25</td>\n",
       "      <td>4.25</td>\n",
       "      <td>4.25</td>\n",
       "      <td>4.25</td>\n",
       "      <td>1.544089e+08</td>\n",
       "      <td>6.562378e+08</td>\n",
       "      <td>-9.9576</td>\n",
       "    </tr>\n",
       "    <tr>\n",
       "      <th>98</th>\n",
       "      <td>2020-06-02</td>\n",
       "      <td>sz.000725</td>\n",
       "      <td>3.96</td>\n",
       "      <td>4.32</td>\n",
       "      <td>3.94</td>\n",
       "      <td>4.25</td>\n",
       "      <td>2.236568e+09</td>\n",
       "      <td>9.292990e+09</td>\n",
       "      <td>8.1425</td>\n",
       "    </tr>\n",
       "    <tr>\n",
       "      <th>102</th>\n",
       "      <td>2020-06-08</td>\n",
       "      <td>sz.000725</td>\n",
       "      <td>4.47</td>\n",
       "      <td>4.77</td>\n",
       "      <td>4.46</td>\n",
       "      <td>4.74</td>\n",
       "      <td>2.426071e+09</td>\n",
       "      <td>1.139189e+10</td>\n",
       "      <td>9.2166</td>\n",
       "    </tr>\n",
       "    <tr>\n",
       "      <th>249</th>\n",
       "      <td>2021-01-12</td>\n",
       "      <td>sz.000725</td>\n",
       "      <td>6.58</td>\n",
       "      <td>7.00</td>\n",
       "      <td>6.31</td>\n",
       "      <td>6.96</td>\n",
       "      <td>1.922723e+09</td>\n",
       "      <td>1.284518e+10</td>\n",
       "      <td>8.9202</td>\n",
       "    </tr>\n",
       "  </tbody>\n",
       "</table>\n",
       "</div>"
      ],
      "text/plain": [
       "           date       code  open  high   low  close        volume  \\\n",
       "16   2020-02-03  sz.000725  4.25  4.25  4.25   4.25  1.544089e+08   \n",
       "98   2020-06-02  sz.000725  3.96  4.32  3.94   4.25  2.236568e+09   \n",
       "102  2020-06-08  sz.000725  4.47  4.77  4.46   4.74  2.426071e+09   \n",
       "249  2021-01-12  sz.000725  6.58  7.00  6.31   6.96  1.922723e+09   \n",
       "\n",
       "           amount  pctChg  \n",
       "16   6.562378e+08 -9.9576  \n",
       "98   9.292990e+09  8.1425  \n",
       "102  1.139189e+10  9.2166  \n",
       "249  1.284518e+10  8.9202  "
      ]
     },
     "execution_count": 31,
     "metadata": {},
     "output_type": "execute_result"
    }
   ],
   "source": [
    "mt[np.abs(mt.pctChg) > 8]"
   ]
  },
  {
   "cell_type": "code",
   "execution_count": 33,
   "metadata": {},
   "outputs": [],
   "source": [
    "#放量大涨\n",
    "# mt3 = [(np.abs(mt.pctChg) > 8) & (mt.volume > 2.5 * mt.volume.mean())]\n",
    "mt3 = mt[(np.abs(mt.pctChg) > 8) & (mt.volume > 0.5 * mt.volume.mean())]"
   ]
  },
  {
   "cell_type": "code",
   "execution_count": 34,
   "metadata": {
    "scrolled": false
   },
   "outputs": [
    {
     "data": {
      "text/html": [
       "<div>\n",
       "<style scoped>\n",
       "    .dataframe tbody tr th:only-of-type {\n",
       "        vertical-align: middle;\n",
       "    }\n",
       "\n",
       "    .dataframe tbody tr th {\n",
       "        vertical-align: top;\n",
       "    }\n",
       "\n",
       "    .dataframe thead th {\n",
       "        text-align: right;\n",
       "    }\n",
       "</style>\n",
       "<table border=\"1\" class=\"dataframe\">\n",
       "  <thead>\n",
       "    <tr style=\"text-align: right;\">\n",
       "      <th></th>\n",
       "      <th>date</th>\n",
       "      <th>code</th>\n",
       "      <th>open</th>\n",
       "      <th>high</th>\n",
       "      <th>low</th>\n",
       "      <th>close</th>\n",
       "      <th>volume</th>\n",
       "      <th>amount</th>\n",
       "      <th>pctChg</th>\n",
       "    </tr>\n",
       "  </thead>\n",
       "  <tbody>\n",
       "    <tr>\n",
       "      <th>98</th>\n",
       "      <td>2020-06-02</td>\n",
       "      <td>sz.000725</td>\n",
       "      <td>3.96</td>\n",
       "      <td>4.32</td>\n",
       "      <td>3.94</td>\n",
       "      <td>4.25</td>\n",
       "      <td>2.236568e+09</td>\n",
       "      <td>9.292990e+09</td>\n",
       "      <td>8.1425</td>\n",
       "    </tr>\n",
       "    <tr>\n",
       "      <th>102</th>\n",
       "      <td>2020-06-08</td>\n",
       "      <td>sz.000725</td>\n",
       "      <td>4.47</td>\n",
       "      <td>4.77</td>\n",
       "      <td>4.46</td>\n",
       "      <td>4.74</td>\n",
       "      <td>2.426071e+09</td>\n",
       "      <td>1.139189e+10</td>\n",
       "      <td>9.2166</td>\n",
       "    </tr>\n",
       "    <tr>\n",
       "      <th>249</th>\n",
       "      <td>2021-01-12</td>\n",
       "      <td>sz.000725</td>\n",
       "      <td>6.58</td>\n",
       "      <td>7.00</td>\n",
       "      <td>6.31</td>\n",
       "      <td>6.96</td>\n",
       "      <td>1.922723e+09</td>\n",
       "      <td>1.284518e+10</td>\n",
       "      <td>8.9202</td>\n",
       "    </tr>\n",
       "  </tbody>\n",
       "</table>\n",
       "</div>"
      ],
      "text/plain": [
       "           date       code  open  high   low  close        volume  \\\n",
       "98   2020-06-02  sz.000725  3.96  4.32  3.94   4.25  2.236568e+09   \n",
       "102  2020-06-08  sz.000725  4.47  4.77  4.46   4.74  2.426071e+09   \n",
       "249  2021-01-12  sz.000725  6.58  7.00  6.31   6.96  1.922723e+09   \n",
       "\n",
       "           amount  pctChg  \n",
       "98   9.292990e+09  8.1425  \n",
       "102  1.139189e+10  9.2166  \n",
       "249  1.284518e+10  8.9202  "
      ]
     },
     "execution_count": 34,
     "metadata": {},
     "output_type": "execute_result"
    }
   ],
   "source": [
    "mt3"
   ]
  },
  {
   "cell_type": "code",
   "execution_count": 36,
   "metadata": {},
   "outputs": [
    {
     "name": "stdout",
     "output_type": "stream",
     "text": [
      "Help on method sort_index in module pandas.core.frame:\n",
      "\n",
      "sort_index(axis=0, level=None, ascending=True, inplace=False, kind='quicksort', na_position='last', sort_remaining=True, ignore_index: bool = False) method of pandas.core.frame.DataFrame instance\n",
      "    Sort object by labels (along an axis).\n",
      "    \n",
      "    Parameters\n",
      "    ----------\n",
      "    axis : {0 or 'index', 1 or 'columns'}, default 0\n",
      "        The axis along which to sort.  The value 0 identifies the rows,\n",
      "        and 1 identifies the columns.\n",
      "    level : int or level name or list of ints or list of level names\n",
      "        If not None, sort on values in specified index level(s).\n",
      "    ascending : bool, default True\n",
      "        Sort ascending vs. descending.\n",
      "    inplace : bool, default False\n",
      "        If True, perform operation in-place.\n",
      "    kind : {'quicksort', 'mergesort', 'heapsort'}, default 'quicksort'\n",
      "        Choice of sorting algorithm. See also ndarray.np.sort for more\n",
      "        information.  `mergesort` is the only stable algorithm. For\n",
      "        DataFrames, this option is only applied when sorting on a single\n",
      "        column or label.\n",
      "    na_position : {'first', 'last'}, default 'last'\n",
      "        Puts NaNs at the beginning if `first`; `last` puts NaNs at the end.\n",
      "        Not implemented for MultiIndex.\n",
      "    sort_remaining : bool, default True\n",
      "        If True and sorting by level and index is multilevel, sort by other\n",
      "        levels too (in order) after sorting by specified level.\n",
      "    ignore_index : bool, default False\n",
      "        If True, the resulting axis will be labeled 0, 1, …, n - 1.\n",
      "    \n",
      "        .. versionadded:: 1.0.0\n",
      "    \n",
      "    Returns\n",
      "    -------\n",
      "    sorted_obj : DataFrame or None\n",
      "        DataFrame with sorted index if inplace=False, None otherwise.\n",
      "\n"
     ]
    }
   ],
   "source": [
    "help(mt.sort_index)"
   ]
  },
  {
   "cell_type": "code",
   "execution_count": 38,
   "metadata": {
    "scrolled": true
   },
   "outputs": [
    {
     "data": {
      "text/html": [
       "<div>\n",
       "<style scoped>\n",
       "    .dataframe tbody tr th:only-of-type {\n",
       "        vertical-align: middle;\n",
       "    }\n",
       "\n",
       "    .dataframe tbody tr th {\n",
       "        vertical-align: top;\n",
       "    }\n",
       "\n",
       "    .dataframe thead th {\n",
       "        text-align: right;\n",
       "    }\n",
       "</style>\n",
       "<table border=\"1\" class=\"dataframe\">\n",
       "  <thead>\n",
       "    <tr style=\"text-align: right;\">\n",
       "      <th></th>\n",
       "      <th>date</th>\n",
       "      <th>code</th>\n",
       "      <th>open</th>\n",
       "      <th>high</th>\n",
       "      <th>low</th>\n",
       "      <th>close</th>\n",
       "      <th>volume</th>\n",
       "      <th>amount</th>\n",
       "      <th>pctChg</th>\n",
       "    </tr>\n",
       "  </thead>\n",
       "  <tbody>\n",
       "    <tr>\n",
       "      <th>102</th>\n",
       "      <td>2020-06-08</td>\n",
       "      <td>sz.000725</td>\n",
       "      <td>4.47</td>\n",
       "      <td>4.77</td>\n",
       "      <td>4.46</td>\n",
       "      <td>4.74</td>\n",
       "      <td>2.426071e+09</td>\n",
       "      <td>1.139189e+10</td>\n",
       "      <td>9.2166</td>\n",
       "    </tr>\n",
       "    <tr>\n",
       "      <th>249</th>\n",
       "      <td>2021-01-12</td>\n",
       "      <td>sz.000725</td>\n",
       "      <td>6.58</td>\n",
       "      <td>7.00</td>\n",
       "      <td>6.31</td>\n",
       "      <td>6.96</td>\n",
       "      <td>1.922723e+09</td>\n",
       "      <td>1.284518e+10</td>\n",
       "      <td>8.9202</td>\n",
       "    </tr>\n",
       "    <tr>\n",
       "      <th>98</th>\n",
       "      <td>2020-06-02</td>\n",
       "      <td>sz.000725</td>\n",
       "      <td>3.96</td>\n",
       "      <td>4.32</td>\n",
       "      <td>3.94</td>\n",
       "      <td>4.25</td>\n",
       "      <td>2.236568e+09</td>\n",
       "      <td>9.292990e+09</td>\n",
       "      <td>8.1425</td>\n",
       "    </tr>\n",
       "    <tr>\n",
       "      <th>29</th>\n",
       "      <td>2020-02-20</td>\n",
       "      <td>sz.000725</td>\n",
       "      <td>5.01</td>\n",
       "      <td>5.40</td>\n",
       "      <td>4.96</td>\n",
       "      <td>5.34</td>\n",
       "      <td>2.017216e+09</td>\n",
       "      <td>1.045704e+10</td>\n",
       "      <td>7.6613</td>\n",
       "    </tr>\n",
       "    <tr>\n",
       "      <th>31</th>\n",
       "      <td>2020-02-24</td>\n",
       "      <td>sz.000725</td>\n",
       "      <td>5.49</td>\n",
       "      <td>5.77</td>\n",
       "      <td>5.42</td>\n",
       "      <td>5.75</td>\n",
       "      <td>1.960349e+09</td>\n",
       "      <td>1.097800e+10</td>\n",
       "      <td>7.4766</td>\n",
       "    </tr>\n",
       "  </tbody>\n",
       "</table>\n",
       "</div>"
      ],
      "text/plain": [
       "           date       code  open  high   low  close        volume  \\\n",
       "102  2020-06-08  sz.000725  4.47  4.77  4.46   4.74  2.426071e+09   \n",
       "249  2021-01-12  sz.000725  6.58  7.00  6.31   6.96  1.922723e+09   \n",
       "98   2020-06-02  sz.000725  3.96  4.32  3.94   4.25  2.236568e+09   \n",
       "29   2020-02-20  sz.000725  5.01  5.40  4.96   5.34  2.017216e+09   \n",
       "31   2020-02-24  sz.000725  5.49  5.77  5.42   5.75  1.960349e+09   \n",
       "\n",
       "           amount  pctChg  \n",
       "102  1.139189e+10  9.2166  \n",
       "249  1.284518e+10  8.9202  \n",
       "98   9.292990e+09  8.1425  \n",
       "29   1.045704e+10  7.6613  \n",
       "31   1.097800e+10  7.4766  "
      ]
     },
     "execution_count": 38,
     "metadata": {},
     "output_type": "execute_result"
    }
   ],
   "source": [
    "mt.sort_values(by='pctChg',ascending=False)[:5]"
   ]
  },
  {
   "cell_type": "code",
   "execution_count": 39,
   "metadata": {
    "scrolled": true
   },
   "outputs": [
    {
     "data": {
      "text/plain": [
       "0    4.61\n",
       "1    4.73\n",
       "2    4.71\n",
       "Name: close, dtype: float64"
      ]
     },
     "execution_count": 39,
     "metadata": {},
     "output_type": "execute_result"
    }
   ],
   "source": [
    "# 数据转换处理\n",
    "mt.close[:3]"
   ]
  },
  {
   "cell_type": "code",
   "execution_count": 40,
   "metadata": {
    "scrolled": true
   },
   "outputs": [
    {
     "data": {
      "text/plain": [
       "0         NaN\n",
       "1    0.026030\n",
       "2   -0.004228\n",
       "Name: close, dtype: float64"
      ]
     },
     "execution_count": 40,
     "metadata": {},
     "output_type": "execute_result"
    }
   ],
   "source": [
    "mt.close.pct_change()[:3]"
   ]
  },
  {
   "cell_type": "code",
   "execution_count": 42,
   "metadata": {},
   "outputs": [],
   "source": [
    "mt2 = mt\n",
    "mt2['pct_change'] = mt2.close.pct_change()"
   ]
  },
  {
   "cell_type": "code",
   "execution_count": 43,
   "metadata": {
    "scrolled": true
   },
   "outputs": [
    {
     "data": {
      "text/html": [
       "<div>\n",
       "<style scoped>\n",
       "    .dataframe tbody tr th:only-of-type {\n",
       "        vertical-align: middle;\n",
       "    }\n",
       "\n",
       "    .dataframe tbody tr th {\n",
       "        vertical-align: top;\n",
       "    }\n",
       "\n",
       "    .dataframe thead th {\n",
       "        text-align: right;\n",
       "    }\n",
       "</style>\n",
       "<table border=\"1\" class=\"dataframe\">\n",
       "  <thead>\n",
       "    <tr style=\"text-align: right;\">\n",
       "      <th></th>\n",
       "      <th>date</th>\n",
       "      <th>code</th>\n",
       "      <th>open</th>\n",
       "      <th>high</th>\n",
       "      <th>low</th>\n",
       "      <th>close</th>\n",
       "      <th>volume</th>\n",
       "      <th>amount</th>\n",
       "      <th>pctChg</th>\n",
       "      <th>pct_change</th>\n",
       "    </tr>\n",
       "  </thead>\n",
       "  <tbody>\n",
       "    <tr>\n",
       "      <th>0</th>\n",
       "      <td>2020-01-02</td>\n",
       "      <td>sz.000725</td>\n",
       "      <td>4.57</td>\n",
       "      <td>4.67</td>\n",
       "      <td>4.55</td>\n",
       "      <td>4.61</td>\n",
       "      <td>8.103196e+08</td>\n",
       "      <td>3.740719e+09</td>\n",
       "      <td>1.5419</td>\n",
       "      <td>NaN</td>\n",
       "    </tr>\n",
       "    <tr>\n",
       "      <th>1</th>\n",
       "      <td>2020-01-03</td>\n",
       "      <td>sz.000725</td>\n",
       "      <td>4.62</td>\n",
       "      <td>4.76</td>\n",
       "      <td>4.59</td>\n",
       "      <td>4.73</td>\n",
       "      <td>9.945406e+08</td>\n",
       "      <td>4.667172e+09</td>\n",
       "      <td>2.6030</td>\n",
       "      <td>0.026030</td>\n",
       "    </tr>\n",
       "    <tr>\n",
       "      <th>2</th>\n",
       "      <td>2020-01-06</td>\n",
       "      <td>sz.000725</td>\n",
       "      <td>4.67</td>\n",
       "      <td>4.80</td>\n",
       "      <td>4.63</td>\n",
       "      <td>4.71</td>\n",
       "      <td>9.472785e+08</td>\n",
       "      <td>4.471328e+09</td>\n",
       "      <td>-0.4228</td>\n",
       "      <td>-0.004228</td>\n",
       "    </tr>\n",
       "    <tr>\n",
       "      <th>3</th>\n",
       "      <td>2020-01-07</td>\n",
       "      <td>sz.000725</td>\n",
       "      <td>4.73</td>\n",
       "      <td>4.77</td>\n",
       "      <td>4.65</td>\n",
       "      <td>4.68</td>\n",
       "      <td>6.537647e+08</td>\n",
       "      <td>3.072429e+09</td>\n",
       "      <td>-0.6369</td>\n",
       "      <td>-0.006369</td>\n",
       "    </tr>\n",
       "    <tr>\n",
       "      <th>4</th>\n",
       "      <td>2020-01-08</td>\n",
       "      <td>sz.000725</td>\n",
       "      <td>4.82</td>\n",
       "      <td>5.13</td>\n",
       "      <td>4.79</td>\n",
       "      <td>4.96</td>\n",
       "      <td>2.182749e+09</td>\n",
       "      <td>1.075777e+10</td>\n",
       "      <td>5.9829</td>\n",
       "      <td>0.059829</td>\n",
       "    </tr>\n",
       "  </tbody>\n",
       "</table>\n",
       "</div>"
      ],
      "text/plain": [
       "         date       code  open  high   low  close        volume        amount  \\\n",
       "0  2020-01-02  sz.000725  4.57  4.67  4.55   4.61  8.103196e+08  3.740719e+09   \n",
       "1  2020-01-03  sz.000725  4.62  4.76  4.59   4.73  9.945406e+08  4.667172e+09   \n",
       "2  2020-01-06  sz.000725  4.67  4.80  4.63   4.71  9.472785e+08  4.471328e+09   \n",
       "3  2020-01-07  sz.000725  4.73  4.77  4.65   4.68  6.537647e+08  3.072429e+09   \n",
       "4  2020-01-08  sz.000725  4.82  5.13  4.79   4.96  2.182749e+09  1.075777e+10   \n",
       "\n",
       "   pctChg  pct_change  \n",
       "0  1.5419         NaN  \n",
       "1  2.6030    0.026030  \n",
       "2 -0.4228   -0.004228  \n",
       "3 -0.6369   -0.006369  \n",
       "4  5.9829    0.059829  "
      ]
     },
     "execution_count": 43,
     "metadata": {},
     "output_type": "execute_result"
    }
   ],
   "source": [
    "mt2.head(5)"
   ]
  },
  {
   "cell_type": "code",
   "execution_count": 45,
   "metadata": {},
   "outputs": [
    {
     "data": {
      "text/plain": [
       "355    0.003155\n",
       "356    0.004717\n",
       "357    0.000000\n",
       "358   -0.009390\n",
       "359   -0.022117\n",
       "Name: pct_change, dtype: float64"
      ]
     },
     "execution_count": 45,
     "metadata": {},
     "output_type": "execute_result"
    }
   ],
   "source": [
    "mt2['pct_change'].tail(5)"
   ]
  }
 ],
 "metadata": {
  "kernelspec": {
   "display_name": "Python 3",
   "language": "python",
   "name": "python3"
  },
  "language_info": {
   "codemirror_mode": {
    "name": "ipython",
    "version": 3
   },
   "file_extension": ".py",
   "mimetype": "text/x-python",
   "name": "python",
   "nbconvert_exporter": "python",
   "pygments_lexer": "ipython3",
   "version": "3.8.3"
  }
 },
 "nbformat": 4,
 "nbformat_minor": 4
}
